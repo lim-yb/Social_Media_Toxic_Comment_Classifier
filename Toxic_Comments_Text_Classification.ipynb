{
  "nbformat": 4,
  "nbformat_minor": 0,
  "metadata": {
    "accelerator": "GPU",
    "colab": {
      "provenance": [],
      "collapsed_sections": [
        "qmrlptGf_A8P",
        "4GYrI-UEAHA8",
        "UzLNEq7e_9mC",
        "3jGQtCqT-3gM",
        "WHlDT-6vBITP"
      ],
      "toc_visible": true,
      "machine_shape": "hm"
    },
    "kernelspec": {
      "display_name": "Python 3",
      "name": "python3"
    },
    "widgets": {
      "application/vnd.jupyter.widget-state+json": {
        "b63191fe3dec428ca9406ef5c3bf0f1f": {
          "model_module": "@jupyter-widgets/controls",
          "model_name": "HBoxModel",
          "state": {
            "_view_name": "HBoxView",
            "_dom_classes": [],
            "_model_name": "HBoxModel",
            "_view_module": "@jupyter-widgets/controls",
            "_model_module_version": "1.5.0",
            "_view_count": null,
            "_view_module_version": "1.5.0",
            "box_style": "",
            "layout": "IPY_MODEL_7dcc92a2b68d4f858ed8872ca375798c",
            "_model_module": "@jupyter-widgets/controls",
            "children": [
              "IPY_MODEL_5c1918e8b93a4269b08697bc0c27c529",
              "IPY_MODEL_0f30c979a950429ebda1fd8042ae5110"
            ]
          },
          "model_module_version": "1.5.0"
        },
        "7dcc92a2b68d4f858ed8872ca375798c": {
          "model_module": "@jupyter-widgets/base",
          "model_name": "LayoutModel",
          "state": {
            "_view_name": "LayoutView",
            "grid_template_rows": null,
            "right": null,
            "justify_content": null,
            "_view_module": "@jupyter-widgets/base",
            "overflow": null,
            "_model_module_version": "1.2.0",
            "_view_count": null,
            "flex_flow": null,
            "width": null,
            "min_width": null,
            "border": null,
            "align_items": null,
            "bottom": null,
            "_model_module": "@jupyter-widgets/base",
            "top": null,
            "grid_column": null,
            "overflow_y": null,
            "overflow_x": null,
            "grid_auto_flow": null,
            "grid_area": null,
            "grid_template_columns": null,
            "flex": null,
            "_model_name": "LayoutModel",
            "justify_items": null,
            "grid_row": null,
            "max_height": null,
            "align_content": null,
            "visibility": null,
            "align_self": null,
            "height": null,
            "min_height": null,
            "padding": null,
            "grid_auto_rows": null,
            "grid_gap": null,
            "max_width": null,
            "order": null,
            "_view_module_version": "1.2.0",
            "grid_template_areas": null,
            "object_position": null,
            "object_fit": null,
            "grid_auto_columns": null,
            "margin": null,
            "display": null,
            "left": null
          },
          "model_module_version": "1.2.0"
        },
        "5c1918e8b93a4269b08697bc0c27c529": {
          "model_module": "@jupyter-widgets/controls",
          "model_name": "FloatProgressModel",
          "state": {
            "_view_name": "ProgressView",
            "style": "IPY_MODEL_d7349f1e507746259b627ff65442ff16",
            "_dom_classes": [],
            "description": "Downloading: 100%",
            "_model_name": "FloatProgressModel",
            "bar_style": "success",
            "max": 231508,
            "_view_module": "@jupyter-widgets/controls",
            "_model_module_version": "1.5.0",
            "value": 231508,
            "_view_count": null,
            "_view_module_version": "1.5.0",
            "orientation": "horizontal",
            "min": 0,
            "description_tooltip": null,
            "_model_module": "@jupyter-widgets/controls",
            "layout": "IPY_MODEL_1ba28c1d5459444ba0f29f3a8f99993f"
          },
          "model_module_version": "1.5.0"
        },
        "0f30c979a950429ebda1fd8042ae5110": {
          "model_module": "@jupyter-widgets/controls",
          "model_name": "HTMLModel",
          "state": {
            "_view_name": "HTMLView",
            "style": "IPY_MODEL_b8a53589620741e1af4924eb16c5724a",
            "_dom_classes": [],
            "description": "",
            "_model_name": "HTMLModel",
            "placeholder": "​",
            "_view_module": "@jupyter-widgets/controls",
            "_model_module_version": "1.5.0",
            "value": " 232k/232k [00:01&lt;00:00, 162kB/s]",
            "_view_count": null,
            "_view_module_version": "1.5.0",
            "description_tooltip": null,
            "_model_module": "@jupyter-widgets/controls",
            "layout": "IPY_MODEL_65a187a8285149f38bef2446846608ba"
          },
          "model_module_version": "1.5.0"
        },
        "d7349f1e507746259b627ff65442ff16": {
          "model_module": "@jupyter-widgets/controls",
          "model_name": "ProgressStyleModel",
          "state": {
            "_view_name": "StyleView",
            "_model_name": "ProgressStyleModel",
            "description_width": "initial",
            "_view_module": "@jupyter-widgets/base",
            "_model_module_version": "1.5.0",
            "_view_count": null,
            "_view_module_version": "1.2.0",
            "bar_color": null,
            "_model_module": "@jupyter-widgets/controls"
          },
          "model_module_version": "1.5.0"
        },
        "1ba28c1d5459444ba0f29f3a8f99993f": {
          "model_module": "@jupyter-widgets/base",
          "model_name": "LayoutModel",
          "state": {
            "_view_name": "LayoutView",
            "grid_template_rows": null,
            "right": null,
            "justify_content": null,
            "_view_module": "@jupyter-widgets/base",
            "overflow": null,
            "_model_module_version": "1.2.0",
            "_view_count": null,
            "flex_flow": null,
            "width": null,
            "min_width": null,
            "border": null,
            "align_items": null,
            "bottom": null,
            "_model_module": "@jupyter-widgets/base",
            "top": null,
            "grid_column": null,
            "overflow_y": null,
            "overflow_x": null,
            "grid_auto_flow": null,
            "grid_area": null,
            "grid_template_columns": null,
            "flex": null,
            "_model_name": "LayoutModel",
            "justify_items": null,
            "grid_row": null,
            "max_height": null,
            "align_content": null,
            "visibility": null,
            "align_self": null,
            "height": null,
            "min_height": null,
            "padding": null,
            "grid_auto_rows": null,
            "grid_gap": null,
            "max_width": null,
            "order": null,
            "_view_module_version": "1.2.0",
            "grid_template_areas": null,
            "object_position": null,
            "object_fit": null,
            "grid_auto_columns": null,
            "margin": null,
            "display": null,
            "left": null
          },
          "model_module_version": "1.2.0"
        },
        "b8a53589620741e1af4924eb16c5724a": {
          "model_module": "@jupyter-widgets/controls",
          "model_name": "DescriptionStyleModel",
          "state": {
            "_view_name": "StyleView",
            "_model_name": "DescriptionStyleModel",
            "description_width": "",
            "_view_module": "@jupyter-widgets/base",
            "_model_module_version": "1.5.0",
            "_view_count": null,
            "_view_module_version": "1.2.0",
            "_model_module": "@jupyter-widgets/controls"
          },
          "model_module_version": "1.5.0"
        },
        "65a187a8285149f38bef2446846608ba": {
          "model_module": "@jupyter-widgets/base",
          "model_name": "LayoutModel",
          "state": {
            "_view_name": "LayoutView",
            "grid_template_rows": null,
            "right": null,
            "justify_content": null,
            "_view_module": "@jupyter-widgets/base",
            "overflow": null,
            "_model_module_version": "1.2.0",
            "_view_count": null,
            "flex_flow": null,
            "width": null,
            "min_width": null,
            "border": null,
            "align_items": null,
            "bottom": null,
            "_model_module": "@jupyter-widgets/base",
            "top": null,
            "grid_column": null,
            "overflow_y": null,
            "overflow_x": null,
            "grid_auto_flow": null,
            "grid_area": null,
            "grid_template_columns": null,
            "flex": null,
            "_model_name": "LayoutModel",
            "justify_items": null,
            "grid_row": null,
            "max_height": null,
            "align_content": null,
            "visibility": null,
            "align_self": null,
            "height": null,
            "min_height": null,
            "padding": null,
            "grid_auto_rows": null,
            "grid_gap": null,
            "max_width": null,
            "order": null,
            "_view_module_version": "1.2.0",
            "grid_template_areas": null,
            "object_position": null,
            "object_fit": null,
            "grid_auto_columns": null,
            "margin": null,
            "display": null,
            "left": null
          },
          "model_module_version": "1.2.0"
        },
        "5fa510289fd347a09ca11f19723a5c30": {
          "model_module": "@jupyter-widgets/controls",
          "model_name": "HBoxModel",
          "state": {
            "_view_name": "HBoxView",
            "_dom_classes": [],
            "_model_name": "HBoxModel",
            "_view_module": "@jupyter-widgets/controls",
            "_model_module_version": "1.5.0",
            "_view_count": null,
            "_view_module_version": "1.5.0",
            "box_style": "",
            "layout": "IPY_MODEL_493ed943d7774b54a2ed5055c35982f8",
            "_model_module": "@jupyter-widgets/controls",
            "children": [
              "IPY_MODEL_340922a9022042d9bc6b910e77568077",
              "IPY_MODEL_a17b944eb2314fcfb8fb65d1ffc0e98f"
            ]
          },
          "model_module_version": "1.5.0"
        },
        "493ed943d7774b54a2ed5055c35982f8": {
          "model_module": "@jupyter-widgets/base",
          "model_name": "LayoutModel",
          "state": {
            "_view_name": "LayoutView",
            "grid_template_rows": null,
            "right": null,
            "justify_content": null,
            "_view_module": "@jupyter-widgets/base",
            "overflow": null,
            "_model_module_version": "1.2.0",
            "_view_count": null,
            "flex_flow": null,
            "width": null,
            "min_width": null,
            "border": null,
            "align_items": null,
            "bottom": null,
            "_model_module": "@jupyter-widgets/base",
            "top": null,
            "grid_column": null,
            "overflow_y": null,
            "overflow_x": null,
            "grid_auto_flow": null,
            "grid_area": null,
            "grid_template_columns": null,
            "flex": null,
            "_model_name": "LayoutModel",
            "justify_items": null,
            "grid_row": null,
            "max_height": null,
            "align_content": null,
            "visibility": null,
            "align_self": null,
            "height": null,
            "min_height": null,
            "padding": null,
            "grid_auto_rows": null,
            "grid_gap": null,
            "max_width": null,
            "order": null,
            "_view_module_version": "1.2.0",
            "grid_template_areas": null,
            "object_position": null,
            "object_fit": null,
            "grid_auto_columns": null,
            "margin": null,
            "display": null,
            "left": null
          },
          "model_module_version": "1.2.0"
        },
        "340922a9022042d9bc6b910e77568077": {
          "model_module": "@jupyter-widgets/controls",
          "model_name": "FloatProgressModel",
          "state": {
            "_view_name": "ProgressView",
            "style": "IPY_MODEL_89691f2d374642b796a000e3bae4e314",
            "_dom_classes": [],
            "description": "Downloading: 100%",
            "_model_name": "FloatProgressModel",
            "bar_style": "success",
            "max": 28,
            "_view_module": "@jupyter-widgets/controls",
            "_model_module_version": "1.5.0",
            "value": 28,
            "_view_count": null,
            "_view_module_version": "1.5.0",
            "orientation": "horizontal",
            "min": 0,
            "description_tooltip": null,
            "_model_module": "@jupyter-widgets/controls",
            "layout": "IPY_MODEL_7b704d6bd4cf42b79354c7fdbfa5a074"
          },
          "model_module_version": "1.5.0"
        },
        "a17b944eb2314fcfb8fb65d1ffc0e98f": {
          "model_module": "@jupyter-widgets/controls",
          "model_name": "HTMLModel",
          "state": {
            "_view_name": "HTMLView",
            "style": "IPY_MODEL_15d0e1ba67ac4b8ba2352135d05e78e8",
            "_dom_classes": [],
            "description": "",
            "_model_name": "HTMLModel",
            "placeholder": "​",
            "_view_module": "@jupyter-widgets/controls",
            "_model_module_version": "1.5.0",
            "value": " 28.0/28.0 [00:01&lt;00:00, 27.6B/s]",
            "_view_count": null,
            "_view_module_version": "1.5.0",
            "description_tooltip": null,
            "_model_module": "@jupyter-widgets/controls",
            "layout": "IPY_MODEL_b779233f90834fa2b8326192f19f112a"
          },
          "model_module_version": "1.5.0"
        },
        "89691f2d374642b796a000e3bae4e314": {
          "model_module": "@jupyter-widgets/controls",
          "model_name": "ProgressStyleModel",
          "state": {
            "_view_name": "StyleView",
            "_model_name": "ProgressStyleModel",
            "description_width": "initial",
            "_view_module": "@jupyter-widgets/base",
            "_model_module_version": "1.5.0",
            "_view_count": null,
            "_view_module_version": "1.2.0",
            "bar_color": null,
            "_model_module": "@jupyter-widgets/controls"
          },
          "model_module_version": "1.5.0"
        },
        "7b704d6bd4cf42b79354c7fdbfa5a074": {
          "model_module": "@jupyter-widgets/base",
          "model_name": "LayoutModel",
          "state": {
            "_view_name": "LayoutView",
            "grid_template_rows": null,
            "right": null,
            "justify_content": null,
            "_view_module": "@jupyter-widgets/base",
            "overflow": null,
            "_model_module_version": "1.2.0",
            "_view_count": null,
            "flex_flow": null,
            "width": null,
            "min_width": null,
            "border": null,
            "align_items": null,
            "bottom": null,
            "_model_module": "@jupyter-widgets/base",
            "top": null,
            "grid_column": null,
            "overflow_y": null,
            "overflow_x": null,
            "grid_auto_flow": null,
            "grid_area": null,
            "grid_template_columns": null,
            "flex": null,
            "_model_name": "LayoutModel",
            "justify_items": null,
            "grid_row": null,
            "max_height": null,
            "align_content": null,
            "visibility": null,
            "align_self": null,
            "height": null,
            "min_height": null,
            "padding": null,
            "grid_auto_rows": null,
            "grid_gap": null,
            "max_width": null,
            "order": null,
            "_view_module_version": "1.2.0",
            "grid_template_areas": null,
            "object_position": null,
            "object_fit": null,
            "grid_auto_columns": null,
            "margin": null,
            "display": null,
            "left": null
          },
          "model_module_version": "1.2.0"
        },
        "15d0e1ba67ac4b8ba2352135d05e78e8": {
          "model_module": "@jupyter-widgets/controls",
          "model_name": "DescriptionStyleModel",
          "state": {
            "_view_name": "StyleView",
            "_model_name": "DescriptionStyleModel",
            "description_width": "",
            "_view_module": "@jupyter-widgets/base",
            "_model_module_version": "1.5.0",
            "_view_count": null,
            "_view_module_version": "1.2.0",
            "_model_module": "@jupyter-widgets/controls"
          },
          "model_module_version": "1.5.0"
        },
        "b779233f90834fa2b8326192f19f112a": {
          "model_module": "@jupyter-widgets/base",
          "model_name": "LayoutModel",
          "state": {
            "_view_name": "LayoutView",
            "grid_template_rows": null,
            "right": null,
            "justify_content": null,
            "_view_module": "@jupyter-widgets/base",
            "overflow": null,
            "_model_module_version": "1.2.0",
            "_view_count": null,
            "flex_flow": null,
            "width": null,
            "min_width": null,
            "border": null,
            "align_items": null,
            "bottom": null,
            "_model_module": "@jupyter-widgets/base",
            "top": null,
            "grid_column": null,
            "overflow_y": null,
            "overflow_x": null,
            "grid_auto_flow": null,
            "grid_area": null,
            "grid_template_columns": null,
            "flex": null,
            "_model_name": "LayoutModel",
            "justify_items": null,
            "grid_row": null,
            "max_height": null,
            "align_content": null,
            "visibility": null,
            "align_self": null,
            "height": null,
            "min_height": null,
            "padding": null,
            "grid_auto_rows": null,
            "grid_gap": null,
            "max_width": null,
            "order": null,
            "_view_module_version": "1.2.0",
            "grid_template_areas": null,
            "object_position": null,
            "object_fit": null,
            "grid_auto_columns": null,
            "margin": null,
            "display": null,
            "left": null
          },
          "model_module_version": "1.2.0"
        },
        "382ac59280a04399b669ffd873bb99d2": {
          "model_module": "@jupyter-widgets/controls",
          "model_name": "HBoxModel",
          "state": {
            "_view_name": "HBoxView",
            "_dom_classes": [],
            "_model_name": "HBoxModel",
            "_view_module": "@jupyter-widgets/controls",
            "_model_module_version": "1.5.0",
            "_view_count": null,
            "_view_module_version": "1.5.0",
            "box_style": "",
            "layout": "IPY_MODEL_a58c9ad308164ca9b688ff0399335629",
            "_model_module": "@jupyter-widgets/controls",
            "children": [
              "IPY_MODEL_0544d10cec65486cb69221e73027a835",
              "IPY_MODEL_fad0b263a02345a6895017a7df2fcb34"
            ]
          },
          "model_module_version": "1.5.0"
        },
        "a58c9ad308164ca9b688ff0399335629": {
          "model_module": "@jupyter-widgets/base",
          "model_name": "LayoutModel",
          "state": {
            "_view_name": "LayoutView",
            "grid_template_rows": null,
            "right": null,
            "justify_content": null,
            "_view_module": "@jupyter-widgets/base",
            "overflow": null,
            "_model_module_version": "1.2.0",
            "_view_count": null,
            "flex_flow": null,
            "width": null,
            "min_width": null,
            "border": null,
            "align_items": null,
            "bottom": null,
            "_model_module": "@jupyter-widgets/base",
            "top": null,
            "grid_column": null,
            "overflow_y": null,
            "overflow_x": null,
            "grid_auto_flow": null,
            "grid_area": null,
            "grid_template_columns": null,
            "flex": null,
            "_model_name": "LayoutModel",
            "justify_items": null,
            "grid_row": null,
            "max_height": null,
            "align_content": null,
            "visibility": null,
            "align_self": null,
            "height": null,
            "min_height": null,
            "padding": null,
            "grid_auto_rows": null,
            "grid_gap": null,
            "max_width": null,
            "order": null,
            "_view_module_version": "1.2.0",
            "grid_template_areas": null,
            "object_position": null,
            "object_fit": null,
            "grid_auto_columns": null,
            "margin": null,
            "display": null,
            "left": null
          },
          "model_module_version": "1.2.0"
        },
        "0544d10cec65486cb69221e73027a835": {
          "model_module": "@jupyter-widgets/controls",
          "model_name": "FloatProgressModel",
          "state": {
            "_view_name": "ProgressView",
            "style": "IPY_MODEL_88be0d40b36c4f11b79b9fdbd102f7ab",
            "_dom_classes": [],
            "description": "Downloading: 100%",
            "_model_name": "FloatProgressModel",
            "bar_style": "success",
            "max": 466062,
            "_view_module": "@jupyter-widgets/controls",
            "_model_module_version": "1.5.0",
            "value": 466062,
            "_view_count": null,
            "_view_module_version": "1.5.0",
            "orientation": "horizontal",
            "min": 0,
            "description_tooltip": null,
            "_model_module": "@jupyter-widgets/controls",
            "layout": "IPY_MODEL_39171b335d1a422791c473820934c384"
          },
          "model_module_version": "1.5.0"
        },
        "fad0b263a02345a6895017a7df2fcb34": {
          "model_module": "@jupyter-widgets/controls",
          "model_name": "HTMLModel",
          "state": {
            "_view_name": "HTMLView",
            "style": "IPY_MODEL_5d2840bdf5034517b20a55415ad37f54",
            "_dom_classes": [],
            "description": "",
            "_model_name": "HTMLModel",
            "placeholder": "​",
            "_view_module": "@jupyter-widgets/controls",
            "_model_module_version": "1.5.0",
            "value": " 466k/466k [00:00&lt;00:00, 1.06MB/s]",
            "_view_count": null,
            "_view_module_version": "1.5.0",
            "description_tooltip": null,
            "_model_module": "@jupyter-widgets/controls",
            "layout": "IPY_MODEL_e2b772f0dfb549528785599d20f900f7"
          },
          "model_module_version": "1.5.0"
        },
        "88be0d40b36c4f11b79b9fdbd102f7ab": {
          "model_module": "@jupyter-widgets/controls",
          "model_name": "ProgressStyleModel",
          "state": {
            "_view_name": "StyleView",
            "_model_name": "ProgressStyleModel",
            "description_width": "initial",
            "_view_module": "@jupyter-widgets/base",
            "_model_module_version": "1.5.0",
            "_view_count": null,
            "_view_module_version": "1.2.0",
            "bar_color": null,
            "_model_module": "@jupyter-widgets/controls"
          },
          "model_module_version": "1.5.0"
        },
        "39171b335d1a422791c473820934c384": {
          "model_module": "@jupyter-widgets/base",
          "model_name": "LayoutModel",
          "state": {
            "_view_name": "LayoutView",
            "grid_template_rows": null,
            "right": null,
            "justify_content": null,
            "_view_module": "@jupyter-widgets/base",
            "overflow": null,
            "_model_module_version": "1.2.0",
            "_view_count": null,
            "flex_flow": null,
            "width": null,
            "min_width": null,
            "border": null,
            "align_items": null,
            "bottom": null,
            "_model_module": "@jupyter-widgets/base",
            "top": null,
            "grid_column": null,
            "overflow_y": null,
            "overflow_x": null,
            "grid_auto_flow": null,
            "grid_area": null,
            "grid_template_columns": null,
            "flex": null,
            "_model_name": "LayoutModel",
            "justify_items": null,
            "grid_row": null,
            "max_height": null,
            "align_content": null,
            "visibility": null,
            "align_self": null,
            "height": null,
            "min_height": null,
            "padding": null,
            "grid_auto_rows": null,
            "grid_gap": null,
            "max_width": null,
            "order": null,
            "_view_module_version": "1.2.0",
            "grid_template_areas": null,
            "object_position": null,
            "object_fit": null,
            "grid_auto_columns": null,
            "margin": null,
            "display": null,
            "left": null
          },
          "model_module_version": "1.2.0"
        },
        "5d2840bdf5034517b20a55415ad37f54": {
          "model_module": "@jupyter-widgets/controls",
          "model_name": "DescriptionStyleModel",
          "state": {
            "_view_name": "StyleView",
            "_model_name": "DescriptionStyleModel",
            "description_width": "",
            "_view_module": "@jupyter-widgets/base",
            "_model_module_version": "1.5.0",
            "_view_count": null,
            "_view_module_version": "1.2.0",
            "_model_module": "@jupyter-widgets/controls"
          },
          "model_module_version": "1.5.0"
        },
        "e2b772f0dfb549528785599d20f900f7": {
          "model_module": "@jupyter-widgets/base",
          "model_name": "LayoutModel",
          "state": {
            "_view_name": "LayoutView",
            "grid_template_rows": null,
            "right": null,
            "justify_content": null,
            "_view_module": "@jupyter-widgets/base",
            "overflow": null,
            "_model_module_version": "1.2.0",
            "_view_count": null,
            "flex_flow": null,
            "width": null,
            "min_width": null,
            "border": null,
            "align_items": null,
            "bottom": null,
            "_model_module": "@jupyter-widgets/base",
            "top": null,
            "grid_column": null,
            "overflow_y": null,
            "overflow_x": null,
            "grid_auto_flow": null,
            "grid_area": null,
            "grid_template_columns": null,
            "flex": null,
            "_model_name": "LayoutModel",
            "justify_items": null,
            "grid_row": null,
            "max_height": null,
            "align_content": null,
            "visibility": null,
            "align_self": null,
            "height": null,
            "min_height": null,
            "padding": null,
            "grid_auto_rows": null,
            "grid_gap": null,
            "max_width": null,
            "order": null,
            "_view_module_version": "1.2.0",
            "grid_template_areas": null,
            "object_position": null,
            "object_fit": null,
            "grid_auto_columns": null,
            "margin": null,
            "display": null,
            "left": null
          },
          "model_module_version": "1.2.0"
        },
        "9795f1353cd04e09b8f7e6af2f30fc53": {
          "model_module": "@jupyter-widgets/controls",
          "model_name": "HBoxModel",
          "state": {
            "_view_name": "HBoxView",
            "_dom_classes": [],
            "_model_name": "HBoxModel",
            "_view_module": "@jupyter-widgets/controls",
            "_model_module_version": "1.5.0",
            "_view_count": null,
            "_view_module_version": "1.5.0",
            "box_style": "",
            "layout": "IPY_MODEL_c205d17c8d2f4d968c87c0c20ccf6322",
            "_model_module": "@jupyter-widgets/controls",
            "children": [
              "IPY_MODEL_b4a5fd5f79f64a93a79fd8003c8b0912",
              "IPY_MODEL_79ee0be3c67a416fb3a4f4fcf1cd8430"
            ]
          },
          "model_module_version": "1.5.0"
        },
        "c205d17c8d2f4d968c87c0c20ccf6322": {
          "model_module": "@jupyter-widgets/base",
          "model_name": "LayoutModel",
          "state": {
            "_view_name": "LayoutView",
            "grid_template_rows": null,
            "right": null,
            "justify_content": null,
            "_view_module": "@jupyter-widgets/base",
            "overflow": null,
            "_model_module_version": "1.2.0",
            "_view_count": null,
            "flex_flow": null,
            "width": null,
            "min_width": null,
            "border": null,
            "align_items": null,
            "bottom": null,
            "_model_module": "@jupyter-widgets/base",
            "top": null,
            "grid_column": null,
            "overflow_y": null,
            "overflow_x": null,
            "grid_auto_flow": null,
            "grid_area": null,
            "grid_template_columns": null,
            "flex": null,
            "_model_name": "LayoutModel",
            "justify_items": null,
            "grid_row": null,
            "max_height": null,
            "align_content": null,
            "visibility": null,
            "align_self": null,
            "height": null,
            "min_height": null,
            "padding": null,
            "grid_auto_rows": null,
            "grid_gap": null,
            "max_width": null,
            "order": null,
            "_view_module_version": "1.2.0",
            "grid_template_areas": null,
            "object_position": null,
            "object_fit": null,
            "grid_auto_columns": null,
            "margin": null,
            "display": null,
            "left": null
          },
          "model_module_version": "1.2.0"
        },
        "b4a5fd5f79f64a93a79fd8003c8b0912": {
          "model_module": "@jupyter-widgets/controls",
          "model_name": "FloatProgressModel",
          "state": {
            "_view_name": "ProgressView",
            "style": "IPY_MODEL_4dc5a44379ea4ac880ca68ec26597536",
            "_dom_classes": [],
            "description": "Downloading: 100%",
            "_model_name": "FloatProgressModel",
            "bar_style": "success",
            "max": 442,
            "_view_module": "@jupyter-widgets/controls",
            "_model_module_version": "1.5.0",
            "value": 442,
            "_view_count": null,
            "_view_module_version": "1.5.0",
            "orientation": "horizontal",
            "min": 0,
            "description_tooltip": null,
            "_model_module": "@jupyter-widgets/controls",
            "layout": "IPY_MODEL_201a837adf4b49ac92fbb07a81317421"
          },
          "model_module_version": "1.5.0"
        },
        "79ee0be3c67a416fb3a4f4fcf1cd8430": {
          "model_module": "@jupyter-widgets/controls",
          "model_name": "HTMLModel",
          "state": {
            "_view_name": "HTMLView",
            "style": "IPY_MODEL_ae7fc07a52bf40b695481dcaaf9e4b37",
            "_dom_classes": [],
            "description": "",
            "_model_name": "HTMLModel",
            "placeholder": "​",
            "_view_module": "@jupyter-widgets/controls",
            "_model_module_version": "1.5.0",
            "value": " 442/442 [00:00&lt;00:00, 506B/s]",
            "_view_count": null,
            "_view_module_version": "1.5.0",
            "description_tooltip": null,
            "_model_module": "@jupyter-widgets/controls",
            "layout": "IPY_MODEL_9f7a5c9d8fdf47be9b69e3f5b779111b"
          },
          "model_module_version": "1.5.0"
        },
        "4dc5a44379ea4ac880ca68ec26597536": {
          "model_module": "@jupyter-widgets/controls",
          "model_name": "ProgressStyleModel",
          "state": {
            "_view_name": "StyleView",
            "_model_name": "ProgressStyleModel",
            "description_width": "initial",
            "_view_module": "@jupyter-widgets/base",
            "_model_module_version": "1.5.0",
            "_view_count": null,
            "_view_module_version": "1.2.0",
            "bar_color": null,
            "_model_module": "@jupyter-widgets/controls"
          },
          "model_module_version": "1.5.0"
        },
        "201a837adf4b49ac92fbb07a81317421": {
          "model_module": "@jupyter-widgets/base",
          "model_name": "LayoutModel",
          "state": {
            "_view_name": "LayoutView",
            "grid_template_rows": null,
            "right": null,
            "justify_content": null,
            "_view_module": "@jupyter-widgets/base",
            "overflow": null,
            "_model_module_version": "1.2.0",
            "_view_count": null,
            "flex_flow": null,
            "width": null,
            "min_width": null,
            "border": null,
            "align_items": null,
            "bottom": null,
            "_model_module": "@jupyter-widgets/base",
            "top": null,
            "grid_column": null,
            "overflow_y": null,
            "overflow_x": null,
            "grid_auto_flow": null,
            "grid_area": null,
            "grid_template_columns": null,
            "flex": null,
            "_model_name": "LayoutModel",
            "justify_items": null,
            "grid_row": null,
            "max_height": null,
            "align_content": null,
            "visibility": null,
            "align_self": null,
            "height": null,
            "min_height": null,
            "padding": null,
            "grid_auto_rows": null,
            "grid_gap": null,
            "max_width": null,
            "order": null,
            "_view_module_version": "1.2.0",
            "grid_template_areas": null,
            "object_position": null,
            "object_fit": null,
            "grid_auto_columns": null,
            "margin": null,
            "display": null,
            "left": null
          },
          "model_module_version": "1.2.0"
        },
        "ae7fc07a52bf40b695481dcaaf9e4b37": {
          "model_module": "@jupyter-widgets/controls",
          "model_name": "DescriptionStyleModel",
          "state": {
            "_view_name": "StyleView",
            "_model_name": "DescriptionStyleModel",
            "description_width": "",
            "_view_module": "@jupyter-widgets/base",
            "_model_module_version": "1.5.0",
            "_view_count": null,
            "_view_module_version": "1.2.0",
            "_model_module": "@jupyter-widgets/controls"
          },
          "model_module_version": "1.5.0"
        },
        "9f7a5c9d8fdf47be9b69e3f5b779111b": {
          "model_module": "@jupyter-widgets/base",
          "model_name": "LayoutModel",
          "state": {
            "_view_name": "LayoutView",
            "grid_template_rows": null,
            "right": null,
            "justify_content": null,
            "_view_module": "@jupyter-widgets/base",
            "overflow": null,
            "_model_module_version": "1.2.0",
            "_view_count": null,
            "flex_flow": null,
            "width": null,
            "min_width": null,
            "border": null,
            "align_items": null,
            "bottom": null,
            "_model_module": "@jupyter-widgets/base",
            "top": null,
            "grid_column": null,
            "overflow_y": null,
            "overflow_x": null,
            "grid_auto_flow": null,
            "grid_area": null,
            "grid_template_columns": null,
            "flex": null,
            "_model_name": "LayoutModel",
            "justify_items": null,
            "grid_row": null,
            "max_height": null,
            "align_content": null,
            "visibility": null,
            "align_self": null,
            "height": null,
            "min_height": null,
            "padding": null,
            "grid_auto_rows": null,
            "grid_gap": null,
            "max_width": null,
            "order": null,
            "_view_module_version": "1.2.0",
            "grid_template_areas": null,
            "object_position": null,
            "object_fit": null,
            "grid_auto_columns": null,
            "margin": null,
            "display": null,
            "left": null
          },
          "model_module_version": "1.2.0"
        },
        "d5fb28832bad43f5af18272f6060cb7c": {
          "model_module": "@jupyter-widgets/controls",
          "model_name": "HBoxModel",
          "state": {
            "_view_name": "HBoxView",
            "_dom_classes": [],
            "_model_name": "HBoxModel",
            "_view_module": "@jupyter-widgets/controls",
            "_model_module_version": "1.5.0",
            "_view_count": null,
            "_view_module_version": "1.5.0",
            "box_style": "",
            "layout": "IPY_MODEL_6cda8bad79bf44318894bab1f0c0e09e",
            "_model_module": "@jupyter-widgets/controls",
            "children": [
              "IPY_MODEL_f941de859901461eb40bf8a0c9168206",
              "IPY_MODEL_cdac258dfb704716b035b059ba1db1d3"
            ]
          },
          "model_module_version": "1.5.0"
        },
        "6cda8bad79bf44318894bab1f0c0e09e": {
          "model_module": "@jupyter-widgets/base",
          "model_name": "LayoutModel",
          "state": {
            "_view_name": "LayoutView",
            "grid_template_rows": null,
            "right": null,
            "justify_content": null,
            "_view_module": "@jupyter-widgets/base",
            "overflow": null,
            "_model_module_version": "1.2.0",
            "_view_count": null,
            "flex_flow": null,
            "width": null,
            "min_width": null,
            "border": null,
            "align_items": null,
            "bottom": null,
            "_model_module": "@jupyter-widgets/base",
            "top": null,
            "grid_column": null,
            "overflow_y": null,
            "overflow_x": null,
            "grid_auto_flow": null,
            "grid_area": null,
            "grid_template_columns": null,
            "flex": null,
            "_model_name": "LayoutModel",
            "justify_items": null,
            "grid_row": null,
            "max_height": null,
            "align_content": null,
            "visibility": null,
            "align_self": null,
            "height": null,
            "min_height": null,
            "padding": null,
            "grid_auto_rows": null,
            "grid_gap": null,
            "max_width": null,
            "order": null,
            "_view_module_version": "1.2.0",
            "grid_template_areas": null,
            "object_position": null,
            "object_fit": null,
            "grid_auto_columns": null,
            "margin": null,
            "display": null,
            "left": null
          },
          "model_module_version": "1.2.0"
        },
        "f941de859901461eb40bf8a0c9168206": {
          "model_module": "@jupyter-widgets/controls",
          "model_name": "FloatProgressModel",
          "state": {
            "_view_name": "ProgressView",
            "style": "IPY_MODEL_7788b0842f1b4324be7dbab0464b6b7c",
            "_dom_classes": [],
            "description": "Downloading: 100%",
            "_model_name": "FloatProgressModel",
            "bar_style": "success",
            "max": 267967963,
            "_view_module": "@jupyter-widgets/controls",
            "_model_module_version": "1.5.0",
            "value": 267967963,
            "_view_count": null,
            "_view_module_version": "1.5.0",
            "orientation": "horizontal",
            "min": 0,
            "description_tooltip": null,
            "_model_module": "@jupyter-widgets/controls",
            "layout": "IPY_MODEL_52d339f603b943cf890b0dc0e6c4d6f7"
          },
          "model_module_version": "1.5.0"
        },
        "cdac258dfb704716b035b059ba1db1d3": {
          "model_module": "@jupyter-widgets/controls",
          "model_name": "HTMLModel",
          "state": {
            "_view_name": "HTMLView",
            "style": "IPY_MODEL_75288c03448340f39ada360d4da477d7",
            "_dom_classes": [],
            "description": "",
            "_model_name": "HTMLModel",
            "placeholder": "​",
            "_view_module": "@jupyter-widgets/controls",
            "_model_module_version": "1.5.0",
            "value": " 268M/268M [01:22&lt;00:00, 3.26MB/s]",
            "_view_count": null,
            "_view_module_version": "1.5.0",
            "description_tooltip": null,
            "_model_module": "@jupyter-widgets/controls",
            "layout": "IPY_MODEL_6947db9654f04d74a4cf33928d27a212"
          },
          "model_module_version": "1.5.0"
        },
        "7788b0842f1b4324be7dbab0464b6b7c": {
          "model_module": "@jupyter-widgets/controls",
          "model_name": "ProgressStyleModel",
          "state": {
            "_view_name": "StyleView",
            "_model_name": "ProgressStyleModel",
            "description_width": "initial",
            "_view_module": "@jupyter-widgets/base",
            "_model_module_version": "1.5.0",
            "_view_count": null,
            "_view_module_version": "1.2.0",
            "bar_color": null,
            "_model_module": "@jupyter-widgets/controls"
          },
          "model_module_version": "1.5.0"
        },
        "52d339f603b943cf890b0dc0e6c4d6f7": {
          "model_module": "@jupyter-widgets/base",
          "model_name": "LayoutModel",
          "state": {
            "_view_name": "LayoutView",
            "grid_template_rows": null,
            "right": null,
            "justify_content": null,
            "_view_module": "@jupyter-widgets/base",
            "overflow": null,
            "_model_module_version": "1.2.0",
            "_view_count": null,
            "flex_flow": null,
            "width": null,
            "min_width": null,
            "border": null,
            "align_items": null,
            "bottom": null,
            "_model_module": "@jupyter-widgets/base",
            "top": null,
            "grid_column": null,
            "overflow_y": null,
            "overflow_x": null,
            "grid_auto_flow": null,
            "grid_area": null,
            "grid_template_columns": null,
            "flex": null,
            "_model_name": "LayoutModel",
            "justify_items": null,
            "grid_row": null,
            "max_height": null,
            "align_content": null,
            "visibility": null,
            "align_self": null,
            "height": null,
            "min_height": null,
            "padding": null,
            "grid_auto_rows": null,
            "grid_gap": null,
            "max_width": null,
            "order": null,
            "_view_module_version": "1.2.0",
            "grid_template_areas": null,
            "object_position": null,
            "object_fit": null,
            "grid_auto_columns": null,
            "margin": null,
            "display": null,
            "left": null
          },
          "model_module_version": "1.2.0"
        },
        "75288c03448340f39ada360d4da477d7": {
          "model_module": "@jupyter-widgets/controls",
          "model_name": "DescriptionStyleModel",
          "state": {
            "_view_name": "StyleView",
            "_model_name": "DescriptionStyleModel",
            "description_width": "",
            "_view_module": "@jupyter-widgets/base",
            "_model_module_version": "1.5.0",
            "_view_count": null,
            "_view_module_version": "1.2.0",
            "_model_module": "@jupyter-widgets/controls"
          },
          "model_module_version": "1.5.0"
        },
        "6947db9654f04d74a4cf33928d27a212": {
          "model_module": "@jupyter-widgets/base",
          "model_name": "LayoutModel",
          "state": {
            "_view_name": "LayoutView",
            "grid_template_rows": null,
            "right": null,
            "justify_content": null,
            "_view_module": "@jupyter-widgets/base",
            "overflow": null,
            "_model_module_version": "1.2.0",
            "_view_count": null,
            "flex_flow": null,
            "width": null,
            "min_width": null,
            "border": null,
            "align_items": null,
            "bottom": null,
            "_model_module": "@jupyter-widgets/base",
            "top": null,
            "grid_column": null,
            "overflow_y": null,
            "overflow_x": null,
            "grid_auto_flow": null,
            "grid_area": null,
            "grid_template_columns": null,
            "flex": null,
            "_model_name": "LayoutModel",
            "justify_items": null,
            "grid_row": null,
            "max_height": null,
            "align_content": null,
            "visibility": null,
            "align_self": null,
            "height": null,
            "min_height": null,
            "padding": null,
            "grid_auto_rows": null,
            "grid_gap": null,
            "max_width": null,
            "order": null,
            "_view_module_version": "1.2.0",
            "grid_template_areas": null,
            "object_position": null,
            "object_fit": null,
            "grid_auto_columns": null,
            "margin": null,
            "display": null,
            "left": null
          },
          "model_module_version": "1.2.0"
        }
      }
    }
  },
  "cells": [
    {
      "cell_type": "markdown",
      "source": [
        "# **Social Media Toxic Comments Text Classifier**\n",
        "\n",
        "**Project Description:**        \n",
        "> To give social media users the power to filter and hide cyberbullying comments. In this project, we hope to demonstrate the use of NLP and Machine Learning to identify the comments which are cyberbullying / toxic in nature so that they can be filtered from social media platforms. \n",
        "\n",
        "As a Proof-of-Concept, we will be using different Word Embeddings and Machine Learning models to classify social media comments into toxic or non-toxic in nature, and compare and identify the best model for the task.\n",
        "\n",
        "**Contributers:** \n",
        "*   Bansal Priyakankshi\n",
        "*   Ee Jing Shi Jolynn\n",
        "*   Lim Kok Leong\n",
        "*   Lim Yu Bin\n",
        "*   Saroop Chand Audeshwar Raj Adityaraj\n",
        "\n",
        "**Last Updated On:** 06 Feb 2023"
      ],
      "metadata": {
        "id": "IqcCIy7pMer7"
      }
    },
    {
      "cell_type": "markdown",
      "metadata": {
        "id": "tre3ies29Cpr"
      },
      "source": [
        "# **Table of Content**\n",
        "\n",
        "\n",
        "1.  Importing Cleaned & Processed Data (for immediate modelling)\n",
        "2.  Modelling\n",
        "3.  Testing Models on YouTube Comments\n",
        "3.  Data Exploration, Cleaning, Processing & Exporting of Files (Not required to Run)\n",
        "4.  Data Preparation for Visualisation (Not required to Run)\n",
        "5.  Web-scraping for YouTube Comments Dataset (Not required to Run)\n",
        "\n",
        "\n",
        "\n"
      ]
    },
    {
      "cell_type": "markdown",
      "metadata": {
        "id": "qmrlptGf_A8P"
      },
      "source": [
        "#  **Upload Datasets into MyDrive**\n",
        "\n",
        "Please upload the following dataset into your Google MyDrive and mount your Google Drive by running the code below\n",
        "\n",
        "(Note: If you put the datasets in a specific folder in MyDrive, please change the working directory (dir) in the code below, the datasets should show up in the output after running the code)\n",
        "\n",
        "\n",
        "*   X_train.pickle\n",
        "*   X_val.pickle\n",
        "*   y_train.pickle\n",
        "*   y_val.pickle\n",
        "*   toxicity_parsed_dataset.csv\n",
        "*   ytcomments.csv\n",
        "\n"
      ]
    },
    {
      "cell_type": "code",
      "metadata": {
        "colab": {
          "base_uri": "https://localhost:8080/"
        },
        "id": "mAgM_rdFQWar",
        "outputId": "a735aa6e-3ce4-402f-d2b7-5ca9d2cdc38c"
      },
      "source": [
        "# Mount your Google Drive\n",
        "\n",
        "import os\n",
        "from google.colab import drive\n",
        "drive.mount('/content/drive')\n",
        "dir = \"/content/drive/My Drive/Data\"\n",
        "!ls \"/content/drive/My Drive/Data\""
      ],
      "execution_count": null,
      "outputs": [
        {
          "output_type": "stream",
          "text": [
            "Mounted at /content/drive\n",
            "batch_10_vectorised.pickle  batch_6_vectorised.pickle\n",
            "batch_1_vectorised.pickle   batch_7_vectorised.pickle\n",
            "batch_2_vectorised.pickle   batch_8_vectorised.pickle\n",
            "batch_3_vectorised.pickle   batch_9_vectorised.pickle\n",
            "batch_4_vectorised.pickle   toxicity_parsed_dataset.csv\n",
            "batch_5_vectorised.pickle   ytcomments.csv\n"
          ],
          "name": "stdout"
        }
      ]
    },
    {
      "cell_type": "markdown",
      "metadata": {
        "id": "b_CahyNP-KHn"
      },
      "source": [
        "# **1. Importing Cleaned & Processed Data (for immediate modelling)**"
      ]
    },
    {
      "cell_type": "markdown",
      "metadata": {
        "id": "4GYrI-UEAHA8"
      },
      "source": [
        "## Install & Import Libraries"
      ]
    },
    {
      "cell_type": "code",
      "metadata": {
        "colab": {
          "base_uri": "https://localhost:8080/"
        },
        "id": "I1Y9j8FGp5_j",
        "outputId": "aa92ac4d-9aee-44a4-c4b3-658544d3f839"
      },
      "source": [
        "# Check GPU\n",
        "!nvidia-smi"
      ],
      "execution_count": null,
      "outputs": [
        {
          "output_type": "stream",
          "text": [
            "Mon May 31 04:10:16 2021       \n",
            "+-----------------------------------------------------------------------------+\n",
            "| NVIDIA-SMI 465.19.01    Driver Version: 460.32.03    CUDA Version: 11.2     |\n",
            "|-------------------------------+----------------------+----------------------+\n",
            "| GPU  Name        Persistence-M| Bus-Id        Disp.A | Volatile Uncorr. ECC |\n",
            "| Fan  Temp  Perf  Pwr:Usage/Cap|         Memory-Usage | GPU-Util  Compute M. |\n",
            "|                               |                      |               MIG M. |\n",
            "|===============================+======================+======================|\n",
            "|   0  Tesla T4            Off  | 00000000:00:04.0 Off |                    0 |\n",
            "| N/A   65C    P8    11W /  70W |      0MiB / 15109MiB |      0%      Default |\n",
            "|                               |                      |                  N/A |\n",
            "+-------------------------------+----------------------+----------------------+\n",
            "                                                                               \n",
            "+-----------------------------------------------------------------------------+\n",
            "| Processes:                                                                  |\n",
            "|  GPU   GI   CI        PID   Type   Process name                  GPU Memory |\n",
            "|        ID   ID                                                   Usage      |\n",
            "|=============================================================================|\n",
            "|  No running processes found                                                 |\n",
            "+-----------------------------------------------------------------------------+\n"
          ],
          "name": "stdout"
        }
      ]
    },
    {
      "cell_type": "code",
      "metadata": {
        "colab": {
          "base_uri": "https://localhost:8080/"
        },
        "id": "Xlb6i-1dTwxC",
        "outputId": "4a32323c-ec33-44ba-f02f-c85e63aa3dce"
      },
      "source": [
        "!pip install transformers"
      ],
      "execution_count": null,
      "outputs": [
        {
          "output_type": "stream",
          "text": [
            "Collecting transformers\n",
            "\u001b[?25l  Downloading https://files.pythonhosted.org/packages/d5/43/cfe4ee779bbd6a678ac6a97c5a5cdeb03c35f9eaebbb9720b036680f9a2d/transformers-4.6.1-py3-none-any.whl (2.2MB)\n",
            "\u001b[K     |████████████████████████████████| 2.3MB 29.3MB/s \n",
            "\u001b[?25hCollecting tokenizers<0.11,>=0.10.1\n",
            "\u001b[?25l  Downloading https://files.pythonhosted.org/packages/d4/e2/df3543e8ffdab68f5acc73f613de9c2b155ac47f162e725dcac87c521c11/tokenizers-0.10.3-cp37-cp37m-manylinux_2_5_x86_64.manylinux1_x86_64.manylinux_2_12_x86_64.manylinux2010_x86_64.whl (3.3MB)\n",
            "\u001b[K     |████████████████████████████████| 3.3MB 46.1MB/s \n",
            "\u001b[?25hRequirement already satisfied: importlib-metadata; python_version < \"3.8\" in /usr/local/lib/python3.7/dist-packages (from transformers) (4.0.1)\n",
            "Requirement already satisfied: tqdm>=4.27 in /usr/local/lib/python3.7/dist-packages (from transformers) (4.41.1)\n",
            "Requirement already satisfied: requests in /usr/local/lib/python3.7/dist-packages (from transformers) (2.23.0)\n",
            "Requirement already satisfied: regex!=2019.12.17 in /usr/local/lib/python3.7/dist-packages (from transformers) (2019.12.20)\n",
            "Requirement already satisfied: numpy>=1.17 in /usr/local/lib/python3.7/dist-packages (from transformers) (1.19.5)\n",
            "Requirement already satisfied: packaging in /usr/local/lib/python3.7/dist-packages (from transformers) (20.9)\n",
            "Requirement already satisfied: filelock in /usr/local/lib/python3.7/dist-packages (from transformers) (3.0.12)\n",
            "Collecting huggingface-hub==0.0.8\n",
            "  Downloading https://files.pythonhosted.org/packages/a1/88/7b1e45720ecf59c6c6737ff332f41c955963090a18e72acbcbeac6b25e86/huggingface_hub-0.0.8-py3-none-any.whl\n",
            "Collecting sacremoses\n",
            "\u001b[?25l  Downloading https://files.pythonhosted.org/packages/75/ee/67241dc87f266093c533a2d4d3d69438e57d7a90abb216fa076e7d475d4a/sacremoses-0.0.45-py3-none-any.whl (895kB)\n",
            "\u001b[K     |████████████████████████████████| 901kB 38.3MB/s \n",
            "\u001b[?25hRequirement already satisfied: typing-extensions>=3.6.4; python_version < \"3.8\" in /usr/local/lib/python3.7/dist-packages (from importlib-metadata; python_version < \"3.8\"->transformers) (3.7.4.3)\n",
            "Requirement already satisfied: zipp>=0.5 in /usr/local/lib/python3.7/dist-packages (from importlib-metadata; python_version < \"3.8\"->transformers) (3.4.1)\n",
            "Requirement already satisfied: certifi>=2017.4.17 in /usr/local/lib/python3.7/dist-packages (from requests->transformers) (2020.12.5)\n",
            "Requirement already satisfied: urllib3!=1.25.0,!=1.25.1,<1.26,>=1.21.1 in /usr/local/lib/python3.7/dist-packages (from requests->transformers) (1.24.3)\n",
            "Requirement already satisfied: chardet<4,>=3.0.2 in /usr/local/lib/python3.7/dist-packages (from requests->transformers) (3.0.4)\n",
            "Requirement already satisfied: idna<3,>=2.5 in /usr/local/lib/python3.7/dist-packages (from requests->transformers) (2.10)\n",
            "Requirement already satisfied: pyparsing>=2.0.2 in /usr/local/lib/python3.7/dist-packages (from packaging->transformers) (2.4.7)\n",
            "Requirement already satisfied: six in /usr/local/lib/python3.7/dist-packages (from sacremoses->transformers) (1.15.0)\n",
            "Requirement already satisfied: click in /usr/local/lib/python3.7/dist-packages (from sacremoses->transformers) (7.1.2)\n",
            "Requirement already satisfied: joblib in /usr/local/lib/python3.7/dist-packages (from sacremoses->transformers) (1.0.1)\n",
            "Installing collected packages: tokenizers, huggingface-hub, sacremoses, transformers\n",
            "Successfully installed huggingface-hub-0.0.8 sacremoses-0.0.45 tokenizers-0.10.3 transformers-4.6.1\n"
          ],
          "name": "stdout"
        }
      ]
    },
    {
      "cell_type": "code",
      "metadata": {
        "colab": {
          "base_uri": "https://localhost:8080/",
          "height": 487
        },
        "id": "hNLdUs-DTtlU",
        "outputId": "c860833f-f707-4983-d0d3-b8a0b5b17ca8"
      },
      "source": [
        "import pandas as pd\n",
        "import numpy as np\n",
        "import csv\n",
        "import logging\n",
        "from numpy import random\n",
        "import gensim\n",
        "import nltk\n",
        "nltk.download('stopwords')\n",
        "from nltk.corpus import stopwords\n",
        "import re\n",
        "from bs4 import BeautifulSoup\n",
        "from typing import Any, Dict, List, Callable, Optional, Tuple, Union\n",
        "import json\n",
        "import torch\n",
        "import transformers\n",
        "from transformers import BertModel, BertTokenizer, DistilBertModel, DistilBertTokenizer\n",
        "from torch.utils.data import Dataset, DataLoader\n",
        "from torch import optim, nn\n",
        "from sklearn import metrics as sk_metrics\n",
        "from sklearn import metrics\n",
        "from sklearn.model_selection import train_test_split\n",
        "from sklearn.feature_extraction.text import CountVectorizer, TfidfVectorizer\n",
        "from sklearn.metrics import accuracy_score, confusion_matrix, classification_report\n",
        "from sklearn.base import BaseEstimator, TransformerMixin\n",
        "from sklearn.linear_model import LogisticRegression, SGDClassifier\n",
        "from sklearn import svm\n",
        "from sklearn.pipeline import FeatureUnion, Pipeline\n",
        "from sklearn.utils.multiclass import unique_labels\n",
        "from keras.utils import to_categorical\n",
        "from keras.models import Sequential\n",
        "from keras.layers import Dense, LSTM, Embedding, Input\n",
        "from keras.layers import Conv1D, MaxPooling1D, GlobalMaxPool1D\n",
        "import tensorflow as tf\n",
        "from tensorflow.keras.preprocessing import text, sequence\n",
        "from tensorflow.keras.layers import Dense, Dropout, Activation\n",
        "from tensorflow.keras.layers import Conv1D, GlobalMaxPooling1D, MaxPooling1D\n",
        "import keras\n",
        "import xgboost\n",
        "import dill\n",
        "import os\n",
        "import pickle\n",
        "import joblib\n",
        "from google.colab import files\n",
        "import seaborn as sns\n",
        "import matplotlib.pyplot as plt\n",
        "sns.set()\n",
        "%matplotlib inline\n",
        "\n",
        "# Suppress scientific notation\n",
        "pd.options.display.float_format = '{:.2f}'.format"
      ],
      "execution_count": null,
      "outputs": [
        {
          "output_type": "stream",
          "text": [
            "[nltk_data] Downloading package stopwords to /root/nltk_data...\n",
            "[nltk_data]   Unzipping corpora/stopwords.zip.\n"
          ],
          "name": "stdout"
        },
        {
          "output_type": "error",
          "ename": "ImportError",
          "evalue": "ignored",
          "traceback": [
            "\u001b[0;31m---------------------------------------------------------------------------\u001b[0m",
            "\u001b[0;31mImportError\u001b[0m                               Traceback (most recent call last)",
            "\u001b[0;32m<ipython-input-3-c99ca8128062>\u001b[0m in \u001b[0;36m<module>\u001b[0;34m()\u001b[0m\n\u001b[1;32m     27\u001b[0m \u001b[0;32mfrom\u001b[0m \u001b[0msklearn\u001b[0m\u001b[0;34m.\u001b[0m\u001b[0mpipeline\u001b[0m \u001b[0;32mimport\u001b[0m \u001b[0mFeatureUnion\u001b[0m\u001b[0;34m,\u001b[0m \u001b[0mPipeline\u001b[0m\u001b[0;34m\u001b[0m\u001b[0;34m\u001b[0m\u001b[0m\n\u001b[1;32m     28\u001b[0m \u001b[0;32mfrom\u001b[0m \u001b[0msklearn\u001b[0m\u001b[0;34m.\u001b[0m\u001b[0mutils\u001b[0m\u001b[0;34m.\u001b[0m\u001b[0mmulticlass\u001b[0m \u001b[0;32mimport\u001b[0m \u001b[0munique_labels\u001b[0m\u001b[0;34m\u001b[0m\u001b[0;34m\u001b[0m\u001b[0m\n\u001b[0;32m---> 29\u001b[0;31m \u001b[0;32mfrom\u001b[0m \u001b[0mkeras\u001b[0m\u001b[0;34m.\u001b[0m\u001b[0mutils\u001b[0m \u001b[0;32mimport\u001b[0m \u001b[0mto_categorical\u001b[0m\u001b[0;34m\u001b[0m\u001b[0;34m\u001b[0m\u001b[0m\n\u001b[0m\u001b[1;32m     30\u001b[0m \u001b[0;32mfrom\u001b[0m \u001b[0mkeras\u001b[0m\u001b[0;34m.\u001b[0m\u001b[0mmodels\u001b[0m \u001b[0;32mimport\u001b[0m \u001b[0mSequential\u001b[0m\u001b[0;34m\u001b[0m\u001b[0;34m\u001b[0m\u001b[0m\n\u001b[1;32m     31\u001b[0m \u001b[0;32mfrom\u001b[0m \u001b[0mkeras\u001b[0m\u001b[0;34m.\u001b[0m\u001b[0mlayers\u001b[0m \u001b[0;32mimport\u001b[0m \u001b[0mDense\u001b[0m\u001b[0;34m,\u001b[0m \u001b[0mLSTM\u001b[0m\u001b[0;34m,\u001b[0m \u001b[0mEmbedding\u001b[0m\u001b[0;34m,\u001b[0m \u001b[0mInput\u001b[0m\u001b[0;34m\u001b[0m\u001b[0;34m\u001b[0m\u001b[0m\n",
            "\u001b[0;31mImportError\u001b[0m: cannot import name 'to_categorical' from 'keras.utils' (/usr/local/lib/python3.7/dist-packages/keras/utils/__init__.py)",
            "",
            "\u001b[0;31m---------------------------------------------------------------------------\u001b[0;32m\nNOTE: If your import is failing due to a missing package, you can\nmanually install dependencies using either !pip or !apt.\n\nTo view examples of installing some common dependencies, click the\n\"Open Examples\" button below.\n\u001b[0;31m---------------------------------------------------------------------------\u001b[0m\n"
          ]
        }
      ]
    },
    {
      "cell_type": "markdown",
      "metadata": {
        "id": "UzLNEq7e_9mC"
      },
      "source": [
        "## Define Functions"
      ]
    },
    {
      "cell_type": "code",
      "metadata": {
        "id": "ZPiKaCQCUCGv"
      },
      "source": [
        "def split_random(train: float, val: float, test: float) -> str:\n",
        "    if train + val + test != 1.0:\n",
        "        raise ValueError(\"train + val + test  must equal 1\")\n",
        "    rand_num = np.random.rand()\n",
        "    \n",
        "    if rand_num  <= train:\n",
        "        return \"train\"\n",
        "    elif rand_num <= train + val:\n",
        "        return \"val\"\n",
        "    else:\n",
        "        return \"test\"\n",
        "    \n",
        "class BertTransformer(BaseEstimator, TransformerMixin):\n",
        "    def __init__(\n",
        "        self,\n",
        "        bert_tokenizer,\n",
        "        bert_model,\n",
        "        max_length: int = 60,\n",
        "        embedding_func: Optional[Callable[[torch.Tensor], torch.Tensor]] = None,\n",
        "    ):\n",
        "        self.tokenizer = bert_tokenizer\n",
        "        self.model = bert_model\n",
        "        self.model.eval()\n",
        "        self.max_length = max_length\n",
        "        self.embedding_func = embedding_func\n",
        "\n",
        "        if self.embedding_func is None:\n",
        "            self.embedding_func = lambda x: x[0][:, 0, :].squeeze()\n",
        "\n",
        "    def _tokenize(self, text: str) -> Tuple[torch.Tensor, torch.Tensor]:\n",
        "        # Tokenize the text with the provided tokenizer\n",
        "        tokenized_text = self.tokenizer.encode_plus(\n",
        "            text, add_special_tokens=True, max_length=self.max_length,truncation=True\n",
        "        )[\"input_ids\"]\n",
        "        \n",
        "        # padding\n",
        "        padded_text = tokenized_text + [0]*(self.max_length-len(tokenized_text))\n",
        "\n",
        "        # Create an attention mask telling BERT to use all words and ignore padded values\n",
        "        attention_mask = np.where(np.array(padded_text) != 0, 1, 0)\n",
        "\n",
        "        # bert takes in a batch so we need to unsqueeze the rows\n",
        "        return (\n",
        "            torch.tensor(padded_text).unsqueeze(0),\n",
        "            torch.tensor(attention_mask).unsqueeze(0),\n",
        "        )\n",
        "\n",
        "    def _tokenize_and_predict(self, text: str) -> torch.Tensor:\n",
        "        tokenized, attention_mask = self._tokenize(text)\n",
        "\n",
        "        embeddings = self.model(tokenized, attention_mask)\n",
        "        return self.embedding_func(embeddings)\n",
        "\n",
        "    def transform(self, text: List[str]):\n",
        "        if isinstance(text, pd.Series):\n",
        "            text = text.tolist()\n",
        "\n",
        "        with torch.no_grad():\n",
        "            return torch.stack([self._tokenize_and_predict(string) for string in text])\n",
        "\n",
        "    def fit(self, X, y=None):\n",
        "        \"\"\"No fitting necessary so we just return ourselves\"\"\"\n",
        "        return self\n",
        "    \n",
        "def calculate_classification_metrics(\n",
        "    y_true: np.array,\n",
        "    y_pred: np.array,\n",
        "    average: Optional[str] = None,\n",
        "    return_df: bool = True,\n",
        ") -> Union[Dict[str, float], pd.DataFrame]:\n",
        "    \"\"\"Computes f1, precision, recall, precision, kappa, accuracy, and support\n",
        "\n",
        "    Args:\n",
        "        y_true: The true labels\n",
        "        y_pred: The predicted labels\n",
        "        average: How to average multiclass results\n",
        "\n",
        "    Returns:\n",
        "        Either a dataframe of the performance metrics or a single dictionary\n",
        "    \"\"\"\n",
        "    labels = unique_labels(y_true, y_pred)\n",
        "\n",
        "    # get results\n",
        "    precision, recall, f_score, support = sk_metrics.precision_recall_fscore_support(\n",
        "        y_true, y_pred, labels=labels, average=average\n",
        "    )\n",
        "\n",
        "    kappa = sk_metrics.cohen_kappa_score(y_true, y_pred, labels=labels)\n",
        "    accuracy = sk_metrics.accuracy_score(y_true, y_pred)\n",
        "\n",
        "    # create a pandas DataFrame\n",
        "    if return_df:\n",
        "        results = pd.DataFrame(\n",
        "            {\n",
        "                \"class\": labels,\n",
        "                \"f_score\": f_score,\n",
        "                \"precision\": precision,\n",
        "                \"recall\": recall,\n",
        "                \"support\": support,\n",
        "                \"kappa\": kappa,\n",
        "                \"accuracy\": accuracy,\n",
        "            }\n",
        "        )\n",
        "    else:\n",
        "        results = {\n",
        "            \"f1\": f_score,\n",
        "            \"precision\": precision,\n",
        "            \"recall\": recall,\n",
        "            \"kappa\": kappa,\n",
        "            \"accuracy\": accuracy,\n",
        "        }\n",
        "\n",
        "    return results\n",
        "\n",
        "def preparation(data, col_name = 'Text'):\n",
        "  data=data.drop_duplicates(subset=[col_name])\n",
        "  data[col_name]=data[col_name].replace(r'(?P<url>https?://[^\\s]+)','', regex=True)\n",
        "  data.dropna(subset=[col_name], inplace=True)\n",
        "  return data\n",
        "\n",
        "def save_pkl_pickle(path, vectorizer, vectorizer_filename):\n",
        "    #pickle.dump(model, open(path + model_filename + \".pickle\", 'wb'))\n",
        "    pickle.dump(vectorizer, open(path + \"/\" + vectorizer_filename + \".pickle\", \"wb\"))\n",
        "    print (\"====done saving into pickle using Pickle!====\")"
      ],
      "execution_count": null,
      "outputs": []
    },
    {
      "cell_type": "code",
      "metadata": {
        "id": "bPM3a4JwULYh"
      },
      "source": [
        "figure_8_classes = [0,1]"
      ],
      "execution_count": null,
      "outputs": []
    },
    {
      "cell_type": "markdown",
      "metadata": {
        "id": "WqgCexL4Iich"
      },
      "source": [
        "## Importing Datasets\n",
        "\n",
        "*   X is the BERT word embeddings of the \"Text\" column in pre-processed Toxicity Dataset\n",
        "*   Y is the \"oh_label\" column in the pre-processed Toxicity Dataset\n",
        "*   df is the original Toxicity Dataset\n",
        "*   yt is the YouTube Comments Dataset\n",
        "\n",
        "(Note: If you put the datasets in a specific folder in MyDrive, please change the working directory in the code below, the datasets shape should show up in the output after running the code)\n",
        "\n"
      ]
    },
    {
      "cell_type": "code",
      "metadata": {
        "colab": {
          "base_uri": "https://localhost:8080/",
          "height": 122
        },
        "id": "AF_qv6szIiQg",
        "outputId": "bbda853c-3367-49a3-8c72-a5a3c2bee3d3"
      },
      "source": [
        "# Load X_train, X_val, y_train, y_val data\n",
        "X_train = pickle.load(open(dir + \"/X_train.pickle\",'rb'))\n",
        "X_val = pickle.load(open(dir + \"/X_val.pickle\",'rb'))\n",
        "y_train = pickle.load(open(dir + \"/y_train.pickle\",'rb'))\n",
        "y_val = pickle.load(open(dir + \"/y_val.pickle\",'rb'))\n",
        "df = pd.read_csv(dir + '/toxicity_parsed_dataset.csv')\n",
        "yt = pd.read_csv(dir + '/ytcomments.csv')\n",
        "\n",
        "\n",
        "display(X_train.shape)\n",
        "display(X_val.shape)\n",
        "display(y_train.shape)\n",
        "display(y_val.shape)\n",
        "display(df.shape)\n",
        "display(yt.shape)"
      ],
      "execution_count": null,
      "outputs": [
        {
          "output_type": "display_data",
          "data": {
            "text/plain": [
              "torch.Size([95632, 768])"
            ]
          },
          "metadata": {
            "tags": []
          }
        },
        {
          "output_type": "display_data",
          "data": {
            "text/plain": [
              "torch.Size([63756, 768])"
            ]
          },
          "metadata": {
            "tags": []
          }
        },
        {
          "output_type": "display_data",
          "data": {
            "text/plain": [
              "(95632,)"
            ]
          },
          "metadata": {
            "tags": []
          }
        },
        {
          "output_type": "display_data",
          "data": {
            "text/plain": [
              "(63756,)"
            ]
          },
          "metadata": {
            "tags": []
          }
        },
        {
          "output_type": "display_data",
          "data": {
            "text/plain": [
              "(159686, 5)"
            ]
          },
          "metadata": {
            "tags": []
          }
        },
        {
          "output_type": "display_data",
          "data": {
            "text/plain": [
              "(488, 3)"
            ]
          },
          "metadata": {
            "tags": []
          }
        }
      ]
    },
    {
      "cell_type": "markdown",
      "metadata": {
        "id": "32U_1y_NDVTv"
      },
      "source": [
        "# **2. Modelling**\n",
        "\n",
        "\n",
        "*   With BERT Embedding (Our Team's Models)\n",
        "*   Perspective Replica with GloVe Embedding (Baseline)\n",
        "\n"
      ]
    },
    {
      "cell_type": "markdown",
      "metadata": {
        "id": "w-dBkN1GPDa4"
      },
      "source": [
        "## Model 1: BERT + Logistic Regression (logreg)"
      ]
    },
    {
      "cell_type": "code",
      "metadata": {
        "colab": {
          "base_uri": "https://localhost:8080/",
          "height": 758
        },
        "id": "KAajgvZaPIHi",
        "outputId": "e893b83c-ea7a-4dd5-829f-fd827b5d0b4c"
      },
      "source": [
        "# Model 1: Logistic Regression (logreg)\n",
        "\n",
        "my_tags = [\"non-toxic\", \"toxic\"]\n",
        "\n",
        "logreg = LogisticRegression(n_jobs=1, solver = \"liblinear\", C=100)\n",
        "logreg.fit(X_train, y_train)\n",
        "\n",
        "print(\"==== Train Results ====\")\n",
        "log_pred_train = logreg.predict(X_train)\n",
        "print(\"                     \")\n",
        "print(classification_report(y_train, log_pred_train,target_names=my_tags))\n",
        "print(\"                            \")\n",
        "print(\"==== Train Confusion Matrix ====\")\n",
        "log_cmtx_train = pd.DataFrame(\n",
        "    confusion_matrix(y_train, log_pred_train, labels = [0,1]), \n",
        "    index=['Actual: Non-Toxic', 'Actual: Toxic'], \n",
        "    columns=['Predicted: Non-Toxic', 'Predicted: Toxic'])\n",
        "display(log_cmtx_train)\n",
        "print('Accuracy %s' % accuracy_score(log_pred_train, y_train))\n",
        "print(\"AUC: \" , metrics.roc_auc_score(y_train, log_pred_train))\n",
        "\n",
        "\n",
        "print(\"                            \")\n",
        "print(\"                            \")\n",
        "\n",
        "print(\"==== Validation Results ====\")\n",
        "log_pred = logreg.predict(X_val)\n",
        "print(\"                     \")\n",
        "print(classification_report(y_val, log_pred,target_names=my_tags))\n",
        "print(\"                            \")\n",
        "print(\"==== Validation Confusion Matrix ====\")\n",
        "log_cmtx = pd.DataFrame(\n",
        "    confusion_matrix(y_val, log_pred, labels = [0,1]), \n",
        "    index=['Actual: Non-Toxic', 'Actual: Toxic'], \n",
        "    columns=['Predicted: Non-Toxic', 'Predicted: Toxic'])\n",
        "display(log_cmtx)\n",
        "print('Accuracy %s' % accuracy_score(log_pred, y_val))\n",
        "print(\"AUC: \" , metrics.roc_auc_score(y_val, log_pred))\n"
      ],
      "execution_count": null,
      "outputs": [
        {
          "output_type": "stream",
          "text": [
            "==== Train Results ====\n",
            "                     \n",
            "              precision    recall  f1-score   support\n",
            "\n",
            "   non-toxic       0.97      0.99      0.98     86410\n",
            "       toxic       0.84      0.68      0.75      9222\n",
            "\n",
            "    accuracy                           0.96     95632\n",
            "   macro avg       0.90      0.83      0.86     95632\n",
            "weighted avg       0.95      0.96      0.95     95632\n",
            "\n",
            "                            \n",
            "==== Train Confusion Matrix ====\n"
          ],
          "name": "stdout"
        },
        {
          "output_type": "display_data",
          "data": {
            "text/html": [
              "<div>\n",
              "<style scoped>\n",
              "    .dataframe tbody tr th:only-of-type {\n",
              "        vertical-align: middle;\n",
              "    }\n",
              "\n",
              "    .dataframe tbody tr th {\n",
              "        vertical-align: top;\n",
              "    }\n",
              "\n",
              "    .dataframe thead th {\n",
              "        text-align: right;\n",
              "    }\n",
              "</style>\n",
              "<table border=\"1\" class=\"dataframe\">\n",
              "  <thead>\n",
              "    <tr style=\"text-align: right;\">\n",
              "      <th></th>\n",
              "      <th>Predicted: Non-Toxic</th>\n",
              "      <th>Predicted: Toxic</th>\n",
              "    </tr>\n",
              "  </thead>\n",
              "  <tbody>\n",
              "    <tr>\n",
              "      <th>Actual: Non-Toxic</th>\n",
              "      <td>85245</td>\n",
              "      <td>1165</td>\n",
              "    </tr>\n",
              "    <tr>\n",
              "      <th>Actual: Toxic</th>\n",
              "      <td>2992</td>\n",
              "      <td>6230</td>\n",
              "    </tr>\n",
              "  </tbody>\n",
              "</table>\n",
              "</div>"
            ],
            "text/plain": [
              "                   Predicted: Non-Toxic  Predicted: Toxic\n",
              "Actual: Non-Toxic                 85245              1165\n",
              "Actual: Toxic                      2992              6230"
            ]
          },
          "metadata": {
            "tags": []
          }
        },
        {
          "output_type": "stream",
          "text": [
            "Accuracy 0.9565312865986281\n",
            "AUC:  0.8310381056695834\n",
            "                            \n",
            "                            \n",
            "==== Validation Results ====\n",
            "                     \n",
            "              precision    recall  f1-score   support\n",
            "\n",
            "   non-toxic       0.97      0.98      0.97     57631\n",
            "       toxic       0.82      0.66      0.73      6125\n",
            "\n",
            "    accuracy                           0.95     63756\n",
            "   macro avg       0.89      0.82      0.85     63756\n",
            "weighted avg       0.95      0.95      0.95     63756\n",
            "\n",
            "                            \n",
            "==== Validation Confusion Matrix ====\n"
          ],
          "name": "stdout"
        },
        {
          "output_type": "display_data",
          "data": {
            "text/html": [
              "<div>\n",
              "<style scoped>\n",
              "    .dataframe tbody tr th:only-of-type {\n",
              "        vertical-align: middle;\n",
              "    }\n",
              "\n",
              "    .dataframe tbody tr th {\n",
              "        vertical-align: top;\n",
              "    }\n",
              "\n",
              "    .dataframe thead th {\n",
              "        text-align: right;\n",
              "    }\n",
              "</style>\n",
              "<table border=\"1\" class=\"dataframe\">\n",
              "  <thead>\n",
              "    <tr style=\"text-align: right;\">\n",
              "      <th></th>\n",
              "      <th>Predicted: Non-Toxic</th>\n",
              "      <th>Predicted: Toxic</th>\n",
              "    </tr>\n",
              "  </thead>\n",
              "  <tbody>\n",
              "    <tr>\n",
              "      <th>Actual: Non-Toxic</th>\n",
              "      <td>56725</td>\n",
              "      <td>906</td>\n",
              "    </tr>\n",
              "    <tr>\n",
              "      <th>Actual: Toxic</th>\n",
              "      <td>2054</td>\n",
              "      <td>4071</td>\n",
              "    </tr>\n",
              "  </tbody>\n",
              "</table>\n",
              "</div>"
            ],
            "text/plain": [
              "                   Predicted: Non-Toxic  Predicted: Toxic\n",
              "Actual: Non-Toxic                 56725               906\n",
              "Actual: Toxic                      2054              4071"
            ]
          },
          "metadata": {
            "tags": []
          }
        },
        {
          "output_type": "stream",
          "text": [
            "Accuracy 0.953572997051258\n",
            "AUC:  0.8244661776771925\n"
          ],
          "name": "stdout"
        }
      ]
    },
    {
      "cell_type": "markdown",
      "metadata": {
        "id": "sV3zTLvKO_ge"
      },
      "source": [
        "## Model 2: BERT + Linear SVM - SGDClassifier (sgd) "
      ]
    },
    {
      "cell_type": "code",
      "metadata": {
        "colab": {
          "base_uri": "https://localhost:8080/",
          "height": 758
        },
        "id": "MUWQGvzHVGd0",
        "outputId": "310fce0f-68e0-41e1-dd1f-3cc470046d22"
      },
      "source": [
        "# Model 2: Linear SVM - SGDClassifier (sgd) \n",
        "my_tags = [\"non-toxic\", \"toxic\"]\n",
        "\n",
        "# SGD Model(Linear SVM)\n",
        "sgd = Pipeline([\n",
        "                ('clf', SGDClassifier(loss='hinge', penalty='l2', alpha=0.0001, random_state=0)),\n",
        "               ])\n",
        "sgd.fit(X_train, y_train)\n",
        "\n",
        "print(\"==== Train Results ====\")\n",
        "sgd_pred_train = sgd.predict(X_train)\n",
        "print(\"                            \")\n",
        "print(classification_report(y_train, sgd_pred_train,target_names=my_tags))\n",
        "print(\"                            \")\n",
        "print(\"==== Train Confusion Matrix ====\")\n",
        "sgd_cmtx_train = pd.DataFrame(\n",
        "    confusion_matrix(y_train, sgd_pred_train, labels = [0,1]), \n",
        "    index=['Actual: Non-Toxic', 'Actual: Toxic'], \n",
        "    columns=['Predicted: Non-Toxic', 'Predicted: Toxic'])\n",
        "display(sgd_cmtx_train)\n",
        "print('Accuracy: %.3f' % accuracy_score(sgd_pred_train, y_train))\n",
        "print(\"AUC: \" , metrics.roc_auc_score(y_train, sgd_pred_train))\n",
        "\n",
        "\n",
        "\n",
        "print(\"                            \")\n",
        "print(\"                            \")\n",
        "\n",
        "print(\"==== Validation Results ====\")\n",
        "sgd_pred = sgd.predict(X_val)\n",
        "print(\"                            \")\n",
        "print(classification_report(y_val, sgd_pred,target_names=my_tags))\n",
        "print(\"                            \")\n",
        "print(\"==== Validation Confusion Matrix ====\")\n",
        "sgd_cmtx = pd.DataFrame(\n",
        "    confusion_matrix(y_val, sgd_pred, labels = [0,1]), \n",
        "    index=['Actual: Non-Toxic', 'Actual: Toxic'], \n",
        "    columns=['Predicted: Non-Toxic', 'Predicted: Toxic'])\n",
        "display(sgd_cmtx)\n",
        "print('Accuracy: %.3f' % accuracy_score(sgd_pred, y_val))\n",
        "print(\"AUC: \" , metrics.roc_auc_score(y_val, sgd_pred))\n"
      ],
      "execution_count": null,
      "outputs": [
        {
          "output_type": "stream",
          "text": [
            "==== Train Results ====\n",
            "                            \n",
            "              precision    recall  f1-score   support\n",
            "\n",
            "   non-toxic       0.97      0.98      0.97     86410\n",
            "       toxic       0.79      0.71      0.75      9222\n",
            "\n",
            "    accuracy                           0.95     95632\n",
            "   macro avg       0.88      0.85      0.86     95632\n",
            "weighted avg       0.95      0.95      0.95     95632\n",
            "\n",
            "                            \n",
            "==== Train Confusion Matrix ====\n"
          ],
          "name": "stdout"
        },
        {
          "output_type": "display_data",
          "data": {
            "text/html": [
              "<div>\n",
              "<style scoped>\n",
              "    .dataframe tbody tr th:only-of-type {\n",
              "        vertical-align: middle;\n",
              "    }\n",
              "\n",
              "    .dataframe tbody tr th {\n",
              "        vertical-align: top;\n",
              "    }\n",
              "\n",
              "    .dataframe thead th {\n",
              "        text-align: right;\n",
              "    }\n",
              "</style>\n",
              "<table border=\"1\" class=\"dataframe\">\n",
              "  <thead>\n",
              "    <tr style=\"text-align: right;\">\n",
              "      <th></th>\n",
              "      <th>Predicted: Non-Toxic</th>\n",
              "      <th>Predicted: Toxic</th>\n",
              "    </tr>\n",
              "  </thead>\n",
              "  <tbody>\n",
              "    <tr>\n",
              "      <th>Actual: Non-Toxic</th>\n",
              "      <td>84708</td>\n",
              "      <td>1702</td>\n",
              "    </tr>\n",
              "    <tr>\n",
              "      <th>Actual: Toxic</th>\n",
              "      <td>2663</td>\n",
              "      <td>6559</td>\n",
              "    </tr>\n",
              "  </tbody>\n",
              "</table>\n",
              "</div>"
            ],
            "text/plain": [
              "                   Predicted: Non-Toxic  Predicted: Toxic\n",
              "Actual: Non-Toxic                 84708              1702\n",
              "Actual: Toxic                      2663              6559"
            ]
          },
          "metadata": {
            "tags": []
          }
        },
        {
          "output_type": "stream",
          "text": [
            "Accuracy: 0.954\n",
            "AUC:  0.8457686056430923\n",
            "                            \n",
            "                            \n",
            "==== Validation Results ====\n",
            "                            \n",
            "              precision    recall  f1-score   support\n",
            "\n",
            "   non-toxic       0.97      0.98      0.97     57631\n",
            "       toxic       0.77      0.70      0.74      6125\n",
            "\n",
            "    accuracy                           0.95     63756\n",
            "   macro avg       0.87      0.84      0.86     63756\n",
            "weighted avg       0.95      0.95      0.95     63756\n",
            "\n",
            "                            \n",
            "==== Validation Confusion Matrix ====\n"
          ],
          "name": "stdout"
        },
        {
          "output_type": "display_data",
          "data": {
            "text/html": [
              "<div>\n",
              "<style scoped>\n",
              "    .dataframe tbody tr th:only-of-type {\n",
              "        vertical-align: middle;\n",
              "    }\n",
              "\n",
              "    .dataframe tbody tr th {\n",
              "        vertical-align: top;\n",
              "    }\n",
              "\n",
              "    .dataframe thead th {\n",
              "        text-align: right;\n",
              "    }\n",
              "</style>\n",
              "<table border=\"1\" class=\"dataframe\">\n",
              "  <thead>\n",
              "    <tr style=\"text-align: right;\">\n",
              "      <th></th>\n",
              "      <th>Predicted: Non-Toxic</th>\n",
              "      <th>Predicted: Toxic</th>\n",
              "    </tr>\n",
              "  </thead>\n",
              "  <tbody>\n",
              "    <tr>\n",
              "      <th>Actual: Non-Toxic</th>\n",
              "      <td>56369</td>\n",
              "      <td>1262</td>\n",
              "    </tr>\n",
              "    <tr>\n",
              "      <th>Actual: Toxic</th>\n",
              "      <td>1818</td>\n",
              "      <td>4307</td>\n",
              "    </tr>\n",
              "  </tbody>\n",
              "</table>\n",
              "</div>"
            ],
            "text/plain": [
              "                   Predicted: Non-Toxic  Predicted: Toxic\n",
              "Actual: Non-Toxic                 56369              1262\n",
              "Actual: Toxic                      1818              4307"
            ]
          },
          "metadata": {
            "tags": []
          }
        },
        {
          "output_type": "stream",
          "text": [
            "Accuracy: 0.952\n",
            "AUC:  0.8406428682975681\n"
          ],
          "name": "stdout"
        }
      ]
    },
    {
      "cell_type": "markdown",
      "metadata": {
        "id": "WWvAKTABRIaz"
      },
      "source": [
        "## Model 3: BERT + XGBoost (xg)"
      ]
    },
    {
      "cell_type": "code",
      "metadata": {
        "colab": {
          "base_uri": "https://localhost:8080/",
          "height": 758
        },
        "id": "3_xA7h6tRHwB",
        "outputId": "d76c124a-f94b-49ec-bdf0-2f6c6d9f4943"
      },
      "source": [
        "# Model 3: XGBoost (xg)\n",
        "my_tags = [\"non-toxic\", \"toxic\"]\n",
        "\n",
        "xg = xgboost.XGBClassifier(max_depth = 5)\n",
        "xg.fit(X_train,y_train)\n",
        "\n",
        "print(\"==== Train Results ====\")\n",
        "xg_pred_train = xg.predict(X_train)\n",
        "print(\"                            \")\n",
        "print(classification_report(y_train, xg_pred_train,target_names=my_tags))\n",
        "print(\"                            \")\n",
        "print(\"==== Train Confusion Matrix ====\")\n",
        "xg_cmtx_train = pd.DataFrame(\n",
        "    confusion_matrix(y_train, xg_pred_train, labels = [0,1]), \n",
        "    index=['Actual: Non-Toxic', 'Actual: Toxic'], \n",
        "    columns=['Predicted: Non-Toxic', 'Predicted: Toxic'])\n",
        "display(xg_cmtx_train)\n",
        "print('Accuracy: %.3f' % accuracy_score(xg_pred_train, y_train))\n",
        "print(\"AUC: \" , metrics.roc_auc_score(y_train, xg_pred_train))\n",
        "\n",
        "\n",
        "\n",
        "print(\"                            \")\n",
        "print(\"                            \")\n",
        "\n",
        "print(\"==== Validation Results ====\")\n",
        "xg_pred = xg.predict(X_val)\n",
        "print(\"                            \")\n",
        "print(classification_report(y_val, xg_pred,target_names=my_tags))\n",
        "print(\"                            \")\n",
        "print(\"==== Validation Confusion Matrix ====\")\n",
        "xg_cmtx = pd.DataFrame(\n",
        "    confusion_matrix(y_val, xg_pred, labels = [0,1]), \n",
        "    index=['Actual: Non-Toxic', 'Actual: Toxic'], \n",
        "    columns=['Predicted: Non-Toxic', 'Predicted: Toxic'])\n",
        "display(xg_cmtx)\n",
        "print('Accuracy: %.3f' % accuracy_score(xg_pred, y_val))\n",
        "print(\"AUC: \" , metrics.roc_auc_score(y_val, xg_pred))\n"
      ],
      "execution_count": null,
      "outputs": [
        {
          "output_type": "stream",
          "text": [
            "==== Train Results ====\n",
            "                            \n",
            "              precision    recall  f1-score   support\n",
            "\n",
            "   non-toxic       0.97      0.99      0.98     86410\n",
            "       toxic       0.89      0.67      0.77      9222\n",
            "\n",
            "    accuracy                           0.96     95632\n",
            "   macro avg       0.93      0.83      0.87     95632\n",
            "weighted avg       0.96      0.96      0.96     95632\n",
            "\n",
            "                            \n",
            "==== Train Confusion Matrix ====\n"
          ],
          "name": "stdout"
        },
        {
          "output_type": "display_data",
          "data": {
            "text/html": [
              "<div>\n",
              "<style scoped>\n",
              "    .dataframe tbody tr th:only-of-type {\n",
              "        vertical-align: middle;\n",
              "    }\n",
              "\n",
              "    .dataframe tbody tr th {\n",
              "        vertical-align: top;\n",
              "    }\n",
              "\n",
              "    .dataframe thead th {\n",
              "        text-align: right;\n",
              "    }\n",
              "</style>\n",
              "<table border=\"1\" class=\"dataframe\">\n",
              "  <thead>\n",
              "    <tr style=\"text-align: right;\">\n",
              "      <th></th>\n",
              "      <th>Predicted: Non-Toxic</th>\n",
              "      <th>Predicted: Toxic</th>\n",
              "    </tr>\n",
              "  </thead>\n",
              "  <tbody>\n",
              "    <tr>\n",
              "      <th>Actual: Non-Toxic</th>\n",
              "      <td>85618</td>\n",
              "      <td>792</td>\n",
              "    </tr>\n",
              "    <tr>\n",
              "      <th>Actual: Toxic</th>\n",
              "      <td>3008</td>\n",
              "      <td>6214</td>\n",
              "    </tr>\n",
              "  </tbody>\n",
              "</table>\n",
              "</div>"
            ],
            "text/plain": [
              "                   Predicted: Non-Toxic  Predicted: Toxic\n",
              "Actual: Non-Toxic                 85618               792\n",
              "Actual: Toxic                      3008              6214"
            ]
          },
          "metadata": {
            "tags": []
          }
        },
        {
          "output_type": "stream",
          "text": [
            "Accuracy: 0.960\n",
            "AUC:  0.8323289298965096\n",
            "                            \n",
            "                            \n",
            "==== Validation Results ====\n",
            "                            \n",
            "              precision    recall  f1-score   support\n",
            "\n",
            "   non-toxic       0.96      0.99      0.97     57631\n",
            "       toxic       0.82      0.60      0.69      6125\n",
            "\n",
            "    accuracy                           0.95     63756\n",
            "   macro avg       0.89      0.79      0.83     63756\n",
            "weighted avg       0.95      0.95      0.95     63756\n",
            "\n",
            "                            \n",
            "==== Validation Confusion Matrix ====\n"
          ],
          "name": "stdout"
        },
        {
          "output_type": "display_data",
          "data": {
            "text/html": [
              "<div>\n",
              "<style scoped>\n",
              "    .dataframe tbody tr th:only-of-type {\n",
              "        vertical-align: middle;\n",
              "    }\n",
              "\n",
              "    .dataframe tbody tr th {\n",
              "        vertical-align: top;\n",
              "    }\n",
              "\n",
              "    .dataframe thead th {\n",
              "        text-align: right;\n",
              "    }\n",
              "</style>\n",
              "<table border=\"1\" class=\"dataframe\">\n",
              "  <thead>\n",
              "    <tr style=\"text-align: right;\">\n",
              "      <th></th>\n",
              "      <th>Predicted: Non-Toxic</th>\n",
              "      <th>Predicted: Toxic</th>\n",
              "    </tr>\n",
              "  </thead>\n",
              "  <tbody>\n",
              "    <tr>\n",
              "      <th>Actual: Non-Toxic</th>\n",
              "      <td>56820</td>\n",
              "      <td>811</td>\n",
              "    </tr>\n",
              "    <tr>\n",
              "      <th>Actual: Toxic</th>\n",
              "      <td>2450</td>\n",
              "      <td>3675</td>\n",
              "    </tr>\n",
              "  </tbody>\n",
              "</table>\n",
              "</div>"
            ],
            "text/plain": [
              "                   Predicted: Non-Toxic  Predicted: Toxic\n",
              "Actual: Non-Toxic                 56820               811\n",
              "Actual: Toxic                      2450              3675"
            ]
          },
          "metadata": {
            "tags": []
          }
        },
        {
          "output_type": "stream",
          "text": [
            "Accuracy: 0.949\n",
            "AUC:  0.7929638562579168\n"
          ],
          "name": "stdout"
        }
      ]
    },
    {
      "cell_type": "markdown",
      "metadata": {
        "id": "J1W8tQH0ZLNe"
      },
      "source": [
        "## Model 4: BERT + RNN - LSTM (lstm)"
      ]
    },
    {
      "cell_type": "code",
      "metadata": {
        "colab": {
          "base_uri": "https://localhost:8080/"
        },
        "id": "SHUIWZLKZK7O",
        "outputId": "f8e8a7e1-bd12-451a-df1f-580bb49a791f"
      },
      "source": [
        "# Model 4: RNN - LSTM (lstm)\n",
        "\n",
        "# Reshape input data to fit LSTM model input\n",
        "X_train = X_train.reshape(-1, 768, 1)\n",
        "X_val = X_val.reshape(-1, 768, 1)\n",
        "\n",
        "\n",
        "# Creating a callback to reduce learning rate over time and stopping early\n",
        "reduce_lr = keras.callbacks.ReduceLROnPlateau(monitor='val_loss', factor=0.5, patience=2, verbose=1, mode='auto', cooldown=0, min_lr=0.00001)\n",
        "early = keras.callbacks.EarlyStopping(monitor='val_loss', min_delta=0, patience=5, verbose=1, mode='auto',restore_best_weights = True)\n",
        "\n",
        "lstm = Sequential()\n",
        "lstm.add(LSTM(units = 64, dropout = 0.2,return_sequences=True))\n",
        "lstm.add(LSTM(units = 64, dropout = 0.2))\n",
        "lstm.add(Dense(units = 1, activation = 'sigmoid'))\n",
        "\n",
        "lstm.compile(loss = \"binary_crossentropy\", optimizer = \"adam\", metrics = [\"AUC\", \"accuracy\"])\n",
        "lstm.fit(np.array(X_train), np.array(y_train), batch_size = 32, epochs = 8,\n",
        "         validation_data = (np.array(X_val), np.array(y_val)),\n",
        "         callbacks = [reduce_lr, early])"
      ],
      "execution_count": null,
      "outputs": [
        {
          "output_type": "stream",
          "text": [
            "Epoch 1/8\n",
            "2989/2989 [==============================] - 243s 71ms/step - loss: 0.3272 - auc: 0.5196 - accuracy: 0.9006 - val_loss: 0.3157 - val_auc: 0.6105 - val_accuracy: 0.9039\n",
            "Epoch 2/8\n",
            "2989/2989 [==============================] - 210s 70ms/step - loss: 0.3115 - auc: 0.5623 - accuracy: 0.9051 - val_loss: 0.3108 - val_auc: 0.6599 - val_accuracy: 0.9039\n",
            "Epoch 3/8\n",
            "2989/2989 [==============================] - 210s 70ms/step - loss: 0.3107 - auc: 0.5907 - accuracy: 0.9045 - val_loss: 0.3091 - val_auc: 0.7255 - val_accuracy: 0.9039\n",
            "Epoch 4/8\n",
            "2989/2989 [==============================] - 210s 70ms/step - loss: 0.2846 - auc: 0.7120 - accuracy: 0.9063 - val_loss: 0.2661 - val_auc: 0.8533 - val_accuracy: 0.9073\n",
            "Epoch 5/8\n",
            "2989/2989 [==============================] - 211s 70ms/step - loss: 0.2504 - auc: 0.8123 - accuracy: 0.9125 - val_loss: 0.2289 - val_auc: 0.8873 - val_accuracy: 0.9113\n",
            "Epoch 6/8\n",
            "2989/2989 [==============================] - 211s 70ms/step - loss: 0.2274 - auc: 0.8485 - accuracy: 0.9190 - val_loss: 0.2172 - val_auc: 0.9005 - val_accuracy: 0.9221\n",
            "Epoch 7/8\n",
            "2989/2989 [==============================] - 210s 70ms/step - loss: 0.2243 - auc: 0.8580 - accuracy: 0.9195 - val_loss: 0.1927 - val_auc: 0.9097 - val_accuracy: 0.9310\n",
            "Epoch 8/8\n",
            "2989/2989 [==============================] - 211s 70ms/step - loss: 0.2136 - auc: 0.8741 - accuracy: 0.9219 - val_loss: 0.1912 - val_auc: 0.9206 - val_accuracy: 0.9291\n"
          ],
          "name": "stdout"
        },
        {
          "output_type": "execute_result",
          "data": {
            "text/plain": [
              "<tensorflow.python.keras.callbacks.History at 0x7ff22606a3d0>"
            ]
          },
          "metadata": {
            "tags": []
          },
          "execution_count": 34
        }
      ]
    },
    {
      "cell_type": "code",
      "metadata": {
        "id": "573QQVw5-q-l",
        "colab": {
          "base_uri": "https://localhost:8080/",
          "height": 793
        },
        "outputId": "982c8a85-336b-4d49-a704-86ee0b52bfd2"
      },
      "source": [
        "# Model 4: RNN - LSTM (lstm)\n",
        "X_train = X_train.reshape(-1, 768, 1)\n",
        "X_val = X_val.reshape(-1, 768, 1)\n",
        "\n",
        "my_tags = [\"non-toxic\", \"toxic\"]\n",
        "\n",
        "print(\"==== Train Results ====\")\n",
        "lstm_pred_train = lstm.predict(np.array(X_train))\n",
        "lstm_predict_train = (lstm_pred_train > 0.5)\n",
        "lstm_predict_train = lstm_predict_train*1 #convert to 0,1 instead of True False\n",
        "print(\"                            \")\n",
        "print(classification_report(np.array(y_train), lstm_predict_train,target_names=my_tags))\n",
        "print(\"                            \")\n",
        "print(\"==== Train Confusion Matrix ====\")\n",
        "\n",
        "lstm_cmtx_train = pd.DataFrame(confusion_matrix(y_train, lstm_predict_train, labels = [0,1]),\n",
        "                                index=['Actual: Non-Toxic', 'Actual: Toxic'], \n",
        "                                columns=['Predicted: Non-Toxic', 'Predicted: Toxic'])\n",
        "display(lstm_cmtx_train)\n",
        "lstm_scores_train = lstm.evaluate(np.array(X_train),np.array(y_train),batch_size = 32)\n",
        "print(\"Accuracy: %.3f%%\" % (lstm_scores_train[2]*100))\n",
        "print(\"AUC: \" , metrics.roc_auc_score(np.array(y_train), lstm_pred_train))\n",
        "\n",
        "\n",
        "\n",
        "print(\"                            \")\n",
        "print(\"                            \")\n",
        "print(\"==== Validation Results ====\")\n",
        "lstm_pred = lstm.predict(np.array(X_val))\n",
        "lstm_predict = (lstm_pred > 0.5)\n",
        "lstm_predict = lstm_predict*1 #convert to 0,1 instead of True False\n",
        "print(\"                            \")\n",
        "print(classification_report(np.array(y_val), lstm_predict, target_names=my_tags))\n",
        "print(\"                            \")\n",
        "print(\"==== Validation Confusion Matrix ====\")\n",
        "\n",
        "lstm_cmtx = pd.DataFrame(confusion_matrix(np.array(y_val), lstm_predict, labels = [0,1]),\n",
        "                                index=['Actual: Non-Toxic', 'Actual: Toxic'], \n",
        "                                columns=['Predicted: Non-Toxic', 'Predicted: Toxic'])\n",
        "display(lstm_cmtx)\n",
        "lstm_scores = lstm.evaluate(np.array(X_val), np.array(y_val),batch_size = 32)\n",
        "print(\"Accuracy: %.3f%%\" % (lstm_scores[2]*100))\n",
        "print(\"AUC: \" , metrics.roc_auc_score(np.array(y_val), lstm_pred))\n"
      ],
      "execution_count": null,
      "outputs": [
        {
          "output_type": "stream",
          "text": [
            "==== Train Results ====\n",
            "                            \n",
            "              precision    recall  f1-score   support\n",
            "\n",
            "   non-toxic       0.93      1.00      0.96     86410\n",
            "       toxic       0.92      0.29      0.44      9222\n",
            "\n",
            "    accuracy                           0.93     95632\n",
            "   macro avg       0.92      0.64      0.70     95632\n",
            "weighted avg       0.93      0.93      0.91     95632\n",
            "\n",
            "                            \n",
            "==== Train Confusion Matrix ====\n"
          ],
          "name": "stdout"
        },
        {
          "output_type": "display_data",
          "data": {
            "text/html": [
              "<div>\n",
              "<style scoped>\n",
              "    .dataframe tbody tr th:only-of-type {\n",
              "        vertical-align: middle;\n",
              "    }\n",
              "\n",
              "    .dataframe tbody tr th {\n",
              "        vertical-align: top;\n",
              "    }\n",
              "\n",
              "    .dataframe thead th {\n",
              "        text-align: right;\n",
              "    }\n",
              "</style>\n",
              "<table border=\"1\" class=\"dataframe\">\n",
              "  <thead>\n",
              "    <tr style=\"text-align: right;\">\n",
              "      <th></th>\n",
              "      <th>Predicted: Non-Toxic</th>\n",
              "      <th>Predicted: Toxic</th>\n",
              "    </tr>\n",
              "  </thead>\n",
              "  <tbody>\n",
              "    <tr>\n",
              "      <th>Actual: Non-Toxic</th>\n",
              "      <td>86168</td>\n",
              "      <td>242</td>\n",
              "    </tr>\n",
              "    <tr>\n",
              "      <th>Actual: Toxic</th>\n",
              "      <td>6538</td>\n",
              "      <td>2684</td>\n",
              "    </tr>\n",
              "  </tbody>\n",
              "</table>\n",
              "</div>"
            ],
            "text/plain": [
              "                   Predicted: Non-Toxic  Predicted: Toxic\n",
              "Actual: Non-Toxic                 86168               242\n",
              "Actual: Toxic                      6538              2684"
            ]
          },
          "metadata": {
            "tags": []
          }
        },
        {
          "output_type": "stream",
          "text": [
            "2989/2989 [==============================] - 73s 25ms/step - loss: 0.1914 - auc: 0.9221 - accuracy: 0.9291\n",
            "Accuracy: 92.910%\n",
            "AUC:  0.9236359740225614\n",
            "                            \n",
            "                            \n",
            "==== Validation Results ====\n",
            "                            \n",
            "              precision    recall  f1-score   support\n",
            "\n",
            "   non-toxic       0.93      1.00      0.96     57631\n",
            "       toxic       0.92      0.29      0.44      6125\n",
            "\n",
            "    accuracy                           0.93     63756\n",
            "   macro avg       0.92      0.64      0.70     63756\n",
            "weighted avg       0.93      0.93      0.91     63756\n",
            "\n",
            "                            \n",
            "==== Validation Confusion Matrix ====\n"
          ],
          "name": "stdout"
        },
        {
          "output_type": "display_data",
          "data": {
            "text/html": [
              "<div>\n",
              "<style scoped>\n",
              "    .dataframe tbody tr th:only-of-type {\n",
              "        vertical-align: middle;\n",
              "    }\n",
              "\n",
              "    .dataframe tbody tr th {\n",
              "        vertical-align: top;\n",
              "    }\n",
              "\n",
              "    .dataframe thead th {\n",
              "        text-align: right;\n",
              "    }\n",
              "</style>\n",
              "<table border=\"1\" class=\"dataframe\">\n",
              "  <thead>\n",
              "    <tr style=\"text-align: right;\">\n",
              "      <th></th>\n",
              "      <th>Predicted: Non-Toxic</th>\n",
              "      <th>Predicted: Toxic</th>\n",
              "    </tr>\n",
              "  </thead>\n",
              "  <tbody>\n",
              "    <tr>\n",
              "      <th>Actual: Non-Toxic</th>\n",
              "      <td>57470</td>\n",
              "      <td>161</td>\n",
              "    </tr>\n",
              "    <tr>\n",
              "      <th>Actual: Toxic</th>\n",
              "      <td>4358</td>\n",
              "      <td>1767</td>\n",
              "    </tr>\n",
              "  </tbody>\n",
              "</table>\n",
              "</div>"
            ],
            "text/plain": [
              "                   Predicted: Non-Toxic  Predicted: Toxic\n",
              "Actual: Non-Toxic                 57470               161\n",
              "Actual: Toxic                      4358              1767"
            ]
          },
          "metadata": {
            "tags": []
          }
        },
        {
          "output_type": "stream",
          "text": [
            "1993/1993 [==============================] - 49s 25ms/step - loss: 0.1912 - auc: 0.9206 - accuracy: 0.9291\n",
            "Accuracy: 92.912%\n",
            "AUC:  0.9217474226420801\n"
          ],
          "name": "stdout"
        }
      ]
    },
    {
      "cell_type": "markdown",
      "metadata": {
        "id": "QG2nuJ2I8vas"
      },
      "source": [
        "## Model 5: BERT + CNN (cnn)"
      ]
    },
    {
      "cell_type": "code",
      "metadata": {
        "id": "m5v4zXoR8u_Z",
        "colab": {
          "base_uri": "https://localhost:8080/"
        },
        "outputId": "87ee9aca-bf17-46e1-d589-0e21c0627598"
      },
      "source": [
        "# Model 5: CNN (cnn)\n",
        "X_train = X_train.reshape(-1, 768, 1)\n",
        "X_val = X_val.reshape(-1, 768, 1)\n",
        "\n",
        "# Creating a callback to reduce learning rate over time and stopping early\n",
        "reduce_lr = keras.callbacks.ReduceLROnPlateau(monitor='val_loss', factor=0.5, patience=2, verbose=1, mode='auto', cooldown=0, min_lr=0.00001)\n",
        "early = keras.callbacks.EarlyStopping(monitor='val_loss', min_delta=0, patience=5, verbose=1, mode='auto',restore_best_weights = True)\n",
        "\n",
        "cnn = Sequential()\n",
        "cnn.add(Conv1D(filters = 128, kernel_size = 5, activation = \"relu\"))\n",
        "cnn.add(MaxPooling1D(pool_size = 5))\n",
        "cnn.add(Conv1D(filters = 128, kernel_size = 5, activation = \"relu\"))\n",
        "cnn.add(MaxPooling1D(pool_size = 5))\n",
        "cnn.add(Conv1D(filters = 128, kernel_size = 5, activation = \"relu\"))\n",
        "cnn.add(GlobalMaxPool1D())\n",
        "cnn.add(Dense(units = 128, activation = 'relu'))\n",
        "cnn.add(Dense(units = 1, activation = 'sigmoid'))\n",
        "\n",
        "cnn.compile(loss = \"binary_crossentropy\", optimizer = \"adam\", metrics = [\"AUC\", \"accuracy\"])\n",
        "cnn.fit(np.array(X_train), np.array(y_train), batch_size = 32, epochs = 14,\n",
        "         validation_data = (np.array(X_val), np.array(y_val)),\n",
        "         callbacks = [reduce_lr, early])"
      ],
      "execution_count": null,
      "outputs": [
        {
          "output_type": "stream",
          "text": [
            "Epoch 1/14\n",
            "2989/2989 [==============================] - 21s 6ms/step - loss: 0.1942 - auc: 0.8840 - accuracy: 0.9297 - val_loss: 0.1528 - val_auc: 0.9546 - val_accuracy: 0.9417\n",
            "Epoch 2/14\n",
            "2989/2989 [==============================] - 19s 6ms/step - loss: 0.1394 - auc: 0.9512 - accuracy: 0.9477 - val_loss: 0.1395 - val_auc: 0.9551 - val_accuracy: 0.9457\n",
            "Epoch 3/14\n",
            "2989/2989 [==============================] - 19s 6ms/step - loss: 0.1319 - auc: 0.9564 - accuracy: 0.9492 - val_loss: 0.1323 - val_auc: 0.9576 - val_accuracy: 0.9496\n",
            "Epoch 4/14\n",
            "2989/2989 [==============================] - 19s 6ms/step - loss: 0.1348 - auc: 0.9553 - accuracy: 0.9486 - val_loss: 0.1313 - val_auc: 0.9571 - val_accuracy: 0.9501\n",
            "Epoch 5/14\n",
            "2989/2989 [==============================] - 19s 6ms/step - loss: 0.1314 - auc: 0.9573 - accuracy: 0.9504 - val_loss: 0.1318 - val_auc: 0.9574 - val_accuracy: 0.9499\n",
            "Epoch 6/14\n",
            "2989/2989 [==============================] - 19s 6ms/step - loss: 0.1290 - auc: 0.9598 - accuracy: 0.9501 - val_loss: 0.1322 - val_auc: 0.9575 - val_accuracy: 0.9497\n",
            "\n",
            "Epoch 00006: ReduceLROnPlateau reducing learning rate to 0.0005000000237487257.\n",
            "Epoch 7/14\n",
            "2989/2989 [==============================] - 19s 6ms/step - loss: 0.1230 - auc: 0.9626 - accuracy: 0.9528 - val_loss: 0.1382 - val_auc: 0.9607 - val_accuracy: 0.9462\n",
            "Epoch 8/14\n",
            "2989/2989 [==============================] - 19s 6ms/step - loss: 0.1227 - auc: 0.9633 - accuracy: 0.9516 - val_loss: 0.1280 - val_auc: 0.9596 - val_accuracy: 0.9510\n",
            "Epoch 9/14\n",
            "2989/2989 [==============================] - 19s 6ms/step - loss: 0.1201 - auc: 0.9654 - accuracy: 0.9533 - val_loss: 0.1274 - val_auc: 0.9598 - val_accuracy: 0.9512\n",
            "Epoch 10/14\n",
            "2989/2989 [==============================] - 19s 6ms/step - loss: 0.1190 - auc: 0.9670 - accuracy: 0.9533 - val_loss: 0.1264 - val_auc: 0.9605 - val_accuracy: 0.9512\n",
            "Epoch 11/14\n",
            "2989/2989 [==============================] - 19s 6ms/step - loss: 0.1166 - auc: 0.9668 - accuracy: 0.9552 - val_loss: 0.1283 - val_auc: 0.9590 - val_accuracy: 0.9513\n",
            "Epoch 12/14\n",
            "2989/2989 [==============================] - 19s 6ms/step - loss: 0.1186 - auc: 0.9673 - accuracy: 0.9533 - val_loss: 0.1330 - val_auc: 0.9568 - val_accuracy: 0.9513\n",
            "\n",
            "Epoch 00012: ReduceLROnPlateau reducing learning rate to 0.0002500000118743628.\n",
            "Epoch 13/14\n",
            "2989/2989 [==============================] - 19s 6ms/step - loss: 0.1150 - auc: 0.9699 - accuracy: 0.9545 - val_loss: 0.1281 - val_auc: 0.9607 - val_accuracy: 0.9511\n",
            "Epoch 14/14\n",
            "2989/2989 [==============================] - 19s 6ms/step - loss: 0.1140 - auc: 0.9702 - accuracy: 0.9550 - val_loss: 0.1268 - val_auc: 0.9598 - val_accuracy: 0.9516\n",
            "\n",
            "Epoch 00014: ReduceLROnPlateau reducing learning rate to 0.0001250000059371814.\n"
          ],
          "name": "stdout"
        },
        {
          "output_type": "execute_result",
          "data": {
            "text/plain": [
              "<tensorflow.python.keras.callbacks.History at 0x7ff13ef42d90>"
            ]
          },
          "metadata": {
            "tags": []
          },
          "execution_count": 36
        }
      ]
    },
    {
      "cell_type": "code",
      "metadata": {
        "id": "TnI2m2t7SMk0",
        "colab": {
          "base_uri": "https://localhost:8080/",
          "height": 793
        },
        "outputId": "70fa171f-7be5-4274-c480-ce86a27d532b"
      },
      "source": [
        "# Model 5: CNN (cnn)\n",
        "\n",
        "X_train = X_train.reshape(-1, 768, 1)\n",
        "X_val = X_val.reshape(-1, 768, 1)\n",
        "\n",
        "my_tags = [\"non-toxic\", \"toxic\"]\n",
        "\n",
        "print(\"==== Train Results ====\")\n",
        "cnn_pred_train = cnn.predict(np.array(X_train))\n",
        "cnn_predict_train = (cnn_pred_train > 0.5)\n",
        "cnn_predict_train = cnn_predict_train*1 #convert to 0,1 instead of True False\n",
        "print(\"                            \")\n",
        "print(classification_report(np.array(y_train), cnn_predict_train,target_names=my_tags))\n",
        "print(\"                            \")\n",
        "print(\"==== Train Confusion Matrix ====\")\n",
        "\n",
        "cnn_cmtx_train = pd.DataFrame(confusion_matrix(y_train, cnn_predict_train, labels = [0,1]),\n",
        "                                index=['Actual: Non-Toxic', 'Actual: Toxic'], \n",
        "                                columns=['Predicted: Non-Toxic', 'Predicted: Toxic'])\n",
        "display(cnn_cmtx_train)\n",
        "cnn_scores_train = cnn.evaluate(np.array(X_train),np.array(y_train),batch_size = 32)\n",
        "print(\"Accuracy: %.3f%%\" % (cnn_scores_train[2]*100))\n",
        "print(\"AUC: \" , metrics.roc_auc_score(np.array(y_train), cnn_pred_train))\n",
        "\n",
        "\n",
        "\n",
        "print(\"                            \")\n",
        "print(\"                            \")\n",
        "print(\"==== Validation Results ====\")\n",
        "cnn_pred = cnn.predict(np.array(X_val))\n",
        "cnn_predict = (cnn_pred > 0.5)\n",
        "cnn_predict = cnn_predict*1 #convert to 0,1 instead of True False\n",
        "print(\"                            \")\n",
        "print(classification_report(np.array(y_val), cnn_predict, target_names=my_tags))\n",
        "print(\"                            \")\n",
        "print(\"==== Validation Confusion Matrix ====\")\n",
        "\n",
        "cnn_cmtx = pd.DataFrame(confusion_matrix(np.array(y_val),cnn_predict, labels = [0,1]),\n",
        "                                index=['Actual: Non-Toxic', 'Actual: Toxic'], \n",
        "                                columns=['Predicted: Non-Toxic', 'Predicted: Toxic'])\n",
        "display(cnn_cmtx)\n",
        "cnn_scores = cnn.evaluate(np.array(X_val), np.array(y_val),batch_size = 32)\n",
        "print(\"Accuracy: %.3f%%\" % (cnn_scores[2]*100))\n",
        "print(\"AUC: \" , metrics.roc_auc_score(np.array(y_val), cnn_pred))\n"
      ],
      "execution_count": null,
      "outputs": [
        {
          "output_type": "stream",
          "text": [
            "==== Train Results ====\n",
            "                            \n",
            "              precision    recall  f1-score   support\n",
            "\n",
            "   non-toxic       0.96      0.99      0.98     86410\n",
            "       toxic       0.86      0.66      0.74      9222\n",
            "\n",
            "    accuracy                           0.96     95632\n",
            "   macro avg       0.91      0.82      0.86     95632\n",
            "weighted avg       0.95      0.96      0.95     95632\n",
            "\n",
            "                            \n",
            "==== Train Confusion Matrix ====\n"
          ],
          "name": "stdout"
        },
        {
          "output_type": "display_data",
          "data": {
            "text/html": [
              "<div>\n",
              "<style scoped>\n",
              "    .dataframe tbody tr th:only-of-type {\n",
              "        vertical-align: middle;\n",
              "    }\n",
              "\n",
              "    .dataframe tbody tr th {\n",
              "        vertical-align: top;\n",
              "    }\n",
              "\n",
              "    .dataframe thead th {\n",
              "        text-align: right;\n",
              "    }\n",
              "</style>\n",
              "<table border=\"1\" class=\"dataframe\">\n",
              "  <thead>\n",
              "    <tr style=\"text-align: right;\">\n",
              "      <th></th>\n",
              "      <th>Predicted: Non-Toxic</th>\n",
              "      <th>Predicted: Toxic</th>\n",
              "    </tr>\n",
              "  </thead>\n",
              "  <tbody>\n",
              "    <tr>\n",
              "      <th>Actual: Non-Toxic</th>\n",
              "      <td>85418</td>\n",
              "      <td>992</td>\n",
              "    </tr>\n",
              "    <tr>\n",
              "      <th>Actual: Toxic</th>\n",
              "      <td>3178</td>\n",
              "      <td>6044</td>\n",
              "    </tr>\n",
              "  </tbody>\n",
              "</table>\n",
              "</div>"
            ],
            "text/plain": [
              "                   Predicted: Non-Toxic  Predicted: Toxic\n",
              "Actual: Non-Toxic                 85418               992\n",
              "Actual: Toxic                      3178              6044"
            ]
          },
          "metadata": {
            "tags": []
          }
        },
        {
          "output_type": "stream",
          "text": [
            "2989/2989 [==============================] - 8s 3ms/step - loss: 0.1096 - auc: 0.9730 - accuracy: 0.9564\n",
            "Accuracy: 95.640%\n",
            "AUC:  0.97376231033647\n",
            "                            \n",
            "                            \n",
            "==== Validation Results ====\n",
            "                            \n",
            "              precision    recall  f1-score   support\n",
            "\n",
            "   non-toxic       0.96      0.99      0.97     57631\n",
            "       toxic       0.83      0.63      0.71      6125\n",
            "\n",
            "    accuracy                           0.95     63756\n",
            "   macro avg       0.89      0.81      0.84     63756\n",
            "weighted avg       0.95      0.95      0.95     63756\n",
            "\n",
            "                            \n",
            "==== Validation Confusion Matrix ====\n"
          ],
          "name": "stdout"
        },
        {
          "output_type": "display_data",
          "data": {
            "text/html": [
              "<div>\n",
              "<style scoped>\n",
              "    .dataframe tbody tr th:only-of-type {\n",
              "        vertical-align: middle;\n",
              "    }\n",
              "\n",
              "    .dataframe tbody tr th {\n",
              "        vertical-align: top;\n",
              "    }\n",
              "\n",
              "    .dataframe thead th {\n",
              "        text-align: right;\n",
              "    }\n",
              "</style>\n",
              "<table border=\"1\" class=\"dataframe\">\n",
              "  <thead>\n",
              "    <tr style=\"text-align: right;\">\n",
              "      <th></th>\n",
              "      <th>Predicted: Non-Toxic</th>\n",
              "      <th>Predicted: Toxic</th>\n",
              "    </tr>\n",
              "  </thead>\n",
              "  <tbody>\n",
              "    <tr>\n",
              "      <th>Actual: Non-Toxic</th>\n",
              "      <td>56822</td>\n",
              "      <td>809</td>\n",
              "    </tr>\n",
              "    <tr>\n",
              "      <th>Actual: Toxic</th>\n",
              "      <td>2275</td>\n",
              "      <td>3850</td>\n",
              "    </tr>\n",
              "  </tbody>\n",
              "</table>\n",
              "</div>"
            ],
            "text/plain": [
              "                   Predicted: Non-Toxic  Predicted: Toxic\n",
              "Actual: Non-Toxic                 56822               809\n",
              "Actual: Toxic                      2275              3850"
            ]
          },
          "metadata": {
            "tags": []
          }
        },
        {
          "output_type": "stream",
          "text": [
            "1993/1993 [==============================] - 5s 3ms/step - loss: 0.1268 - auc: 0.9598 - accuracy: 0.9516\n",
            "Accuracy: 95.163%\n",
            "AUC:  0.9617544639205302\n"
          ],
          "name": "stdout"
        }
      ]
    },
    {
      "cell_type": "markdown",
      "metadata": {
        "id": "n1JMPluSSwqO"
      },
      "source": [
        "## Model 6 (Baseline): GloVe + CNN (glove_cnn)\n",
        "Replica of Perspective API"
      ]
    },
    {
      "cell_type": "code",
      "metadata": {
        "colab": {
          "base_uri": "https://localhost:8080/",
          "height": 885
        },
        "id": "OK0thb4wx3_f",
        "outputId": "3ff9b0f2-5455-4a35-a1ea-6c1bb48f173d"
      },
      "source": [
        "# First 5 Rows\n",
        "df = pd.read_csv(dir + '/toxicity_parsed_dataset.csv')\n",
        "display(df.head())\n",
        "\n",
        "# Remove columns\n",
        "df=df.drop(['index','ed_label_1','ed_label_0'],axis=1)\n",
        "display(df.head())\n",
        "\n",
        "# Ratio of Toxic:Non-Toxic Labels \n",
        "# 0:    144324\n",
        "# 1:    15362\n",
        "# Total: 159686\n",
        "display(df['oh_label'].value_counts(dropna = False))\n",
        "\n",
        "# Drop NaN\n",
        "df = df.dropna()\n",
        "display(df['oh_label'].value_counts(dropna = False))\n",
        "df_BERT = df.copy()\n",
        "\n",
        "# Remove duplicates, remove hyperlinks, drop NA\n",
        "df_BERT=preparation(df_BERT)\n",
        "\n",
        "#change all to lower case\n",
        "df_BERT['Text'] = df_BERT['Text'].apply(lambda x: \" \".join(x.lower() for x in x.split()))\n",
        "\n",
        "#replace special characters\n",
        "df_BERT['Text'] = df_BERT['Text'].str.replace('[^\\w\\s]','')\n",
        "\n",
        "#remove numbers from text\n",
        "df_BERT['Text'] = df_BERT['Text'].str.replace('\\d+', '')\n",
        "\n",
        "#remove stopwords\n",
        "\n",
        "nltk.download('stopwords')\n",
        "stop = stopwords.words('english')\n",
        "\n",
        "df_BERT['Text'] = df_BERT['Text'].apply(lambda x: \" \".join(x for x in x.split() if x not in stop))\n",
        "display(df_BERT.head())\n",
        "display(df_BERT.shape)"
      ],
      "execution_count": null,
      "outputs": [
        {
          "output_type": "display_data",
          "data": {
            "text/html": [
              "<div>\n",
              "<style scoped>\n",
              "    .dataframe tbody tr th:only-of-type {\n",
              "        vertical-align: middle;\n",
              "    }\n",
              "\n",
              "    .dataframe tbody tr th {\n",
              "        vertical-align: top;\n",
              "    }\n",
              "\n",
              "    .dataframe thead th {\n",
              "        text-align: right;\n",
              "    }\n",
              "</style>\n",
              "<table border=\"1\" class=\"dataframe\">\n",
              "  <thead>\n",
              "    <tr style=\"text-align: right;\">\n",
              "      <th></th>\n",
              "      <th>index</th>\n",
              "      <th>Text</th>\n",
              "      <th>ed_label_0</th>\n",
              "      <th>ed_label_1</th>\n",
              "      <th>oh_label</th>\n",
              "    </tr>\n",
              "  </thead>\n",
              "  <tbody>\n",
              "    <tr>\n",
              "      <th>0</th>\n",
              "      <td>0</td>\n",
              "      <td>This: :One can make an analogy in mathematical...</td>\n",
              "      <td>0.90</td>\n",
              "      <td>0.10</td>\n",
              "      <td>0</td>\n",
              "    </tr>\n",
              "    <tr>\n",
              "      <th>1</th>\n",
              "      <td>1</td>\n",
              "      <td>`  :Clarification for you  (and Zundark's righ...</td>\n",
              "      <td>1.00</td>\n",
              "      <td>0.00</td>\n",
              "      <td>0</td>\n",
              "    </tr>\n",
              "    <tr>\n",
              "      <th>2</th>\n",
              "      <td>2</td>\n",
              "      <td>Elected or Electoral? JHK</td>\n",
              "      <td>1.00</td>\n",
              "      <td>0.00</td>\n",
              "      <td>0</td>\n",
              "    </tr>\n",
              "    <tr>\n",
              "      <th>3</th>\n",
              "      <td>3</td>\n",
              "      <td>`This is such a fun entry.   Devotchka  I once...</td>\n",
              "      <td>1.00</td>\n",
              "      <td>0.00</td>\n",
              "      <td>0</td>\n",
              "    </tr>\n",
              "    <tr>\n",
              "      <th>4</th>\n",
              "      <td>4</td>\n",
              "      <td>Please relate the ozone hole to increases in c...</td>\n",
              "      <td>0.80</td>\n",
              "      <td>0.20</td>\n",
              "      <td>0</td>\n",
              "    </tr>\n",
              "  </tbody>\n",
              "</table>\n",
              "</div>"
            ],
            "text/plain": [
              "   index  ... oh_label\n",
              "0      0  ...        0\n",
              "1      1  ...        0\n",
              "2      2  ...        0\n",
              "3      3  ...        0\n",
              "4      4  ...        0\n",
              "\n",
              "[5 rows x 5 columns]"
            ]
          },
          "metadata": {
            "tags": []
          }
        },
        {
          "output_type": "display_data",
          "data": {
            "text/html": [
              "<div>\n",
              "<style scoped>\n",
              "    .dataframe tbody tr th:only-of-type {\n",
              "        vertical-align: middle;\n",
              "    }\n",
              "\n",
              "    .dataframe tbody tr th {\n",
              "        vertical-align: top;\n",
              "    }\n",
              "\n",
              "    .dataframe thead th {\n",
              "        text-align: right;\n",
              "    }\n",
              "</style>\n",
              "<table border=\"1\" class=\"dataframe\">\n",
              "  <thead>\n",
              "    <tr style=\"text-align: right;\">\n",
              "      <th></th>\n",
              "      <th>Text</th>\n",
              "      <th>oh_label</th>\n",
              "    </tr>\n",
              "  </thead>\n",
              "  <tbody>\n",
              "    <tr>\n",
              "      <th>0</th>\n",
              "      <td>This: :One can make an analogy in mathematical...</td>\n",
              "      <td>0</td>\n",
              "    </tr>\n",
              "    <tr>\n",
              "      <th>1</th>\n",
              "      <td>`  :Clarification for you  (and Zundark's righ...</td>\n",
              "      <td>0</td>\n",
              "    </tr>\n",
              "    <tr>\n",
              "      <th>2</th>\n",
              "      <td>Elected or Electoral? JHK</td>\n",
              "      <td>0</td>\n",
              "    </tr>\n",
              "    <tr>\n",
              "      <th>3</th>\n",
              "      <td>`This is such a fun entry.   Devotchka  I once...</td>\n",
              "      <td>0</td>\n",
              "    </tr>\n",
              "    <tr>\n",
              "      <th>4</th>\n",
              "      <td>Please relate the ozone hole to increases in c...</td>\n",
              "      <td>0</td>\n",
              "    </tr>\n",
              "  </tbody>\n",
              "</table>\n",
              "</div>"
            ],
            "text/plain": [
              "                                                Text  oh_label\n",
              "0  This: :One can make an analogy in mathematical...         0\n",
              "1  `  :Clarification for you  (and Zundark's righ...         0\n",
              "2                          Elected or Electoral? JHK         0\n",
              "3  `This is such a fun entry.   Devotchka  I once...         0\n",
              "4  Please relate the ozone hole to increases in c...         0"
            ]
          },
          "metadata": {
            "tags": []
          }
        },
        {
          "output_type": "display_data",
          "data": {
            "text/plain": [
              "0    144324\n",
              "1     15362\n",
              "Name: oh_label, dtype: int64"
            ]
          },
          "metadata": {
            "tags": []
          }
        },
        {
          "output_type": "display_data",
          "data": {
            "text/plain": [
              "0    144324\n",
              "1     15362\n",
              "Name: oh_label, dtype: int64"
            ]
          },
          "metadata": {
            "tags": []
          }
        },
        {
          "output_type": "stream",
          "text": [
            "/usr/local/lib/python3.7/dist-packages/ipykernel_launcher.py:117: SettingWithCopyWarning: \n",
            "A value is trying to be set on a copy of a slice from a DataFrame.\n",
            "Try using .loc[row_indexer,col_indexer] = value instead\n",
            "\n",
            "See the caveats in the documentation: https://pandas.pydata.org/pandas-docs/stable/user_guide/indexing.html#returning-a-view-versus-a-copy\n",
            "/usr/local/lib/python3.7/dist-packages/ipykernel_launcher.py:118: SettingWithCopyWarning: \n",
            "A value is trying to be set on a copy of a slice from a DataFrame\n",
            "\n",
            "See the caveats in the documentation: https://pandas.pydata.org/pandas-docs/stable/user_guide/indexing.html#returning-a-view-versus-a-copy\n"
          ],
          "name": "stderr"
        },
        {
          "output_type": "stream",
          "text": [
            "[nltk_data] Downloading package stopwords to /root/nltk_data...\n",
            "[nltk_data]   Package stopwords is already up-to-date!\n"
          ],
          "name": "stdout"
        },
        {
          "output_type": "display_data",
          "data": {
            "text/html": [
              "<div>\n",
              "<style scoped>\n",
              "    .dataframe tbody tr th:only-of-type {\n",
              "        vertical-align: middle;\n",
              "    }\n",
              "\n",
              "    .dataframe tbody tr th {\n",
              "        vertical-align: top;\n",
              "    }\n",
              "\n",
              "    .dataframe thead th {\n",
              "        text-align: right;\n",
              "    }\n",
              "</style>\n",
              "<table border=\"1\" class=\"dataframe\">\n",
              "  <thead>\n",
              "    <tr style=\"text-align: right;\">\n",
              "      <th></th>\n",
              "      <th>Text</th>\n",
              "      <th>oh_label</th>\n",
              "    </tr>\n",
              "  </thead>\n",
              "  <tbody>\n",
              "    <tr>\n",
              "      <th>0</th>\n",
              "      <td>one make analogy mathematical terms envisionin...</td>\n",
              "      <td>0</td>\n",
              "    </tr>\n",
              "    <tr>\n",
              "      <th>1</th>\n",
              "      <td>clarification zundarks right checked wikipedia...</td>\n",
              "      <td>0</td>\n",
              "    </tr>\n",
              "    <tr>\n",
              "      <th>2</th>\n",
              "      <td>elected electoral jhk</td>\n",
              "      <td>0</td>\n",
              "    </tr>\n",
              "    <tr>\n",
              "      <th>3</th>\n",
              "      <td>fun entry devotchka coworker korea couldnt tel...</td>\n",
              "      <td>0</td>\n",
              "    </tr>\n",
              "    <tr>\n",
              "      <th>4</th>\n",
              "      <td>please relate ozone hole increases cancer prov...</td>\n",
              "      <td>0</td>\n",
              "    </tr>\n",
              "  </tbody>\n",
              "</table>\n",
              "</div>"
            ],
            "text/plain": [
              "                                                Text  oh_label\n",
              "0  one make analogy mathematical terms envisionin...         0\n",
              "1  clarification zundarks right checked wikipedia...         0\n",
              "2                              elected electoral jhk         0\n",
              "3  fun entry devotchka coworker korea couldnt tel...         0\n",
              "4  please relate ozone hole increases cancer prov...         0"
            ]
          },
          "metadata": {
            "tags": []
          }
        },
        {
          "output_type": "display_data",
          "data": {
            "text/plain": [
              "(159388, 2)"
            ]
          },
          "metadata": {
            "tags": []
          }
        }
      ]
    },
    {
      "cell_type": "code",
      "metadata": {
        "id": "J87ijEjYTOo0"
      },
      "source": [
        "# Set the embedding parameters\n",
        "embedding_dim = 100   # how big is each word vector   \n",
        "max_features = 40000  # how many unique words to use (i.e num rows in embedding vector)\n",
        "max_text_length= 200  # max number of words in a comment to use\n",
        "\n",
        "x_tokenizer=text.Tokenizer(max_features)\n",
        "x_tokenizer.fit_on_texts(list(df_BERT[\"Text\"]))\n",
        "x_tokenized=x_tokenizer.texts_to_sequences(df_BERT[\"Text\"])\n",
        "x_train_val=sequence.pad_sequences(x_tokenized,maxlen=max_text_length)\n",
        "\n",
        "glove_cnn_X_train, glove_cnn_X_val, glove_cnn_y_train, glove_cnn_y_val=train_test_split(x_train_val, df_BERT[\"oh_label\"],test_size=0.4,random_state=0)"
      ],
      "execution_count": null,
      "outputs": []
    },
    {
      "cell_type": "code",
      "metadata": {
        "colab": {
          "base_uri": "https://localhost:8080/"
        },
        "id": "kIxNwO50xpgJ",
        "outputId": "bcd339cc-b97a-486d-afe6-dc8abcd87e30"
      },
      "source": [
        "# Download GloVe Embeddings\n",
        "\n",
        "!wget http://nlp.stanford.edu/data/glove.6B.zip\n",
        "!unzip glove*.zip"
      ],
      "execution_count": null,
      "outputs": [
        {
          "output_type": "stream",
          "text": [
            "--2021-04-04 12:06:44--  http://nlp.stanford.edu/data/glove.6B.zip\n",
            "Resolving nlp.stanford.edu (nlp.stanford.edu)... 171.64.67.140\n",
            "Connecting to nlp.stanford.edu (nlp.stanford.edu)|171.64.67.140|:80... connected.\n",
            "HTTP request sent, awaiting response... 302 Found\n",
            "Location: https://nlp.stanford.edu/data/glove.6B.zip [following]\n",
            "--2021-04-04 12:06:44--  https://nlp.stanford.edu/data/glove.6B.zip\n",
            "Connecting to nlp.stanford.edu (nlp.stanford.edu)|171.64.67.140|:443... connected.\n",
            "HTTP request sent, awaiting response... 301 Moved Permanently\n",
            "Location: http://downloads.cs.stanford.edu/nlp/data/glove.6B.zip [following]\n",
            "--2021-04-04 12:06:44--  http://downloads.cs.stanford.edu/nlp/data/glove.6B.zip\n",
            "Resolving downloads.cs.stanford.edu (downloads.cs.stanford.edu)... 171.64.64.22\n",
            "Connecting to downloads.cs.stanford.edu (downloads.cs.stanford.edu)|171.64.64.22|:80... connected.\n",
            "HTTP request sent, awaiting response... 200 OK\n",
            "Length: 862182613 (822M) [application/zip]\n",
            "Saving to: ‘glove.6B.zip’\n",
            "\n",
            "glove.6B.zip        100%[===================>] 822.24M  5.09MB/s    in 2m 40s  \n",
            "\n",
            "2021-04-04 12:09:24 (5.15 MB/s) - ‘glove.6B.zip’ saved [862182613/862182613]\n",
            "\n",
            "Archive:  glove.6B.zip\n",
            "  inflating: glove.6B.50d.txt        \n",
            "  inflating: glove.6B.100d.txt       \n",
            "  inflating: glove.6B.200d.txt       \n",
            "  inflating: glove.6B.300d.txt       \n"
          ],
          "name": "stdout"
        }
      ]
    },
    {
      "cell_type": "code",
      "metadata": {
        "colab": {
          "base_uri": "https://localhost:8080/"
        },
        "id": "hPIDdlRq2a_2",
        "outputId": "e6d2ba15-72aa-4068-8d1c-26c2101a4134"
      },
      "source": [
        "# Prepare Embedding Matrix with Pre-trained GloVe Embeddings\n",
        "\n",
        "embedding_index=dict()\n",
        "f=open('glove.6B.100d.txt', encoding = \"utf8\")\n",
        "for line in f:\n",
        "    values=line.split()\n",
        "    word=values[0]\n",
        "    coefs=np.asarray(values[1:],dtype='float32') \n",
        "    embedding_index[word]=coefs\n",
        "    \n",
        "f.close()\n",
        "print(f'Found {len(embedding_index)} word vectors')"
      ],
      "execution_count": null,
      "outputs": [
        {
          "output_type": "stream",
          "text": [
            "Found 400000 word vectors\n"
          ],
          "name": "stdout"
        }
      ]
    },
    {
      "cell_type": "code",
      "metadata": {
        "id": "WHmp4svx7BV4"
      },
      "source": [
        "embedding_matrix=np.zeros((max_features,embedding_dim))\n",
        "for word,index in x_tokenizer.word_index.items():\n",
        "    if index>max_features-1:\n",
        "        break\n",
        "    else:\n",
        "        embedding_vector=embedding_index.get(word)\n",
        "        if embedding_vector is not None:\n",
        "            embedding_matrix[index]=embedding_vector"
      ],
      "execution_count": null,
      "outputs": []
    },
    {
      "cell_type": "code",
      "metadata": {
        "colab": {
          "base_uri": "https://localhost:8080/"
        },
        "id": "0Af116qU3AQ-",
        "outputId": "2c75aba6-b278-42f3-a125-25ca427b8dc0"
      },
      "source": [
        "# Model 6: Perspective Replica Glove-CNN (glove_cnn)\n",
        "\n",
        "reduce_lr = keras.callbacks.ReduceLROnPlateau(monitor='val_loss', factor=0.5, patience=2, verbose=1, mode='auto', cooldown=0, min_lr=0.00001)\n",
        "early = keras.callbacks.EarlyStopping(monitor='val_loss', min_delta=0, patience=5, verbose=1, mode='auto',restore_best_weights = True)\n",
        "\n",
        "filters=250\n",
        "kernel_size=3\n",
        "hidden_dims=250\n",
        "\n",
        "glove_cnn =Sequential()\n",
        "glove_cnn.add(Embedding(max_features,\n",
        "                   embedding_dim,\n",
        "                   embeddings_initializer=tf.keras.initializers.Constant(\n",
        "                   embedding_matrix),\n",
        "                   trainable=False))\n",
        "glove_cnn.add(Dropout(0.2))\n",
        "\n",
        "glove_cnn.add(Conv1D(filters,\n",
        "                kernel_size,\n",
        "                padding='valid'))\n",
        "glove_cnn.add(MaxPooling1D())\n",
        "glove_cnn.add(Conv1D(filters,\n",
        "                5,\n",
        "                padding='valid',\n",
        "                activation='relu'))\n",
        "glove_cnn.add(GlobalMaxPooling1D())\n",
        "glove_cnn.add(Dense(hidden_dims,activation='relu'))\n",
        "glove_cnn.add(Dropout(0.2))\n",
        "glove_cnn.add(Dense(1,activation='sigmoid'))\n",
        "#glove_cnn.summary()\n",
        "\n",
        "glove_cnn.compile(loss='binary_crossentropy',\n",
        "             optimizer='adam',\n",
        "             metrics=['AUC', 'accuracy'])\n",
        "\n",
        "batch_size=32\n",
        "epochs=20\n",
        "glove_cnn.fit(np.array(glove_cnn_X_train),np.array(glove_cnn_y_train),\n",
        "         batch_size=batch_size,\n",
        "         epochs=epochs,\n",
        "         validation_data=(np.array(glove_cnn_X_val),np.array(glove_cnn_y_val)), callbacks = [reduce_lr, early])"
      ],
      "execution_count": null,
      "outputs": [
        {
          "output_type": "stream",
          "text": [
            "Epoch 1/20\n",
            "2989/2989 [==============================] - 53s 7ms/step - loss: 0.1816 - auc: 0.9084 - accuracy: 0.9372 - val_loss: 0.1473 - val_auc: 0.9575 - val_accuracy: 0.9510\n",
            "Epoch 2/20\n",
            "2989/2989 [==============================] - 22s 7ms/step - loss: 0.1395 - auc: 0.9497 - accuracy: 0.9490 - val_loss: 0.1288 - val_auc: 0.9584 - val_accuracy: 0.9520\n",
            "Epoch 3/20\n",
            "2989/2989 [==============================] - 22s 7ms/step - loss: 0.1273 - auc: 0.9587 - accuracy: 0.9528 - val_loss: 0.1332 - val_auc: 0.9538 - val_accuracy: 0.9511\n",
            "Epoch 4/20\n",
            "2989/2989 [==============================] - 22s 7ms/step - loss: 0.1240 - auc: 0.9616 - accuracy: 0.9530 - val_loss: 0.1255 - val_auc: 0.9596 - val_accuracy: 0.9535\n",
            "Epoch 5/20\n",
            "2989/2989 [==============================] - 22s 7ms/step - loss: 0.1141 - auc: 0.9679 - accuracy: 0.9572 - val_loss: 0.1351 - val_auc: 0.9533 - val_accuracy: 0.9531\n",
            "Epoch 6/20\n",
            "2989/2989 [==============================] - 22s 7ms/step - loss: 0.1039 - auc: 0.9737 - accuracy: 0.9606 - val_loss: 0.1347 - val_auc: 0.9534 - val_accuracy: 0.9533\n",
            "\n",
            "Epoch 00006: ReduceLROnPlateau reducing learning rate to 0.0005000000237487257.\n",
            "Epoch 7/20\n",
            "2989/2989 [==============================] - 22s 7ms/step - loss: 0.0840 - auc: 0.9833 - accuracy: 0.9676 - val_loss: 0.1511 - val_auc: 0.9443 - val_accuracy: 0.9539\n",
            "Epoch 8/20\n",
            "2989/2989 [==============================] - 22s 7ms/step - loss: 0.0729 - auc: 0.9872 - accuracy: 0.9715 - val_loss: 0.1505 - val_auc: 0.9484 - val_accuracy: 0.9518\n",
            "\n",
            "Epoch 00008: ReduceLROnPlateau reducing learning rate to 0.0002500000118743628.\n",
            "Epoch 9/20\n",
            "2989/2989 [==============================] - 22s 7ms/step - loss: 0.0596 - auc: 0.9923 - accuracy: 0.9766 - val_loss: 0.1681 - val_auc: 0.9402 - val_accuracy: 0.9519\n",
            "Restoring model weights from the end of the best epoch.\n",
            "Epoch 00009: early stopping\n"
          ],
          "name": "stdout"
        },
        {
          "output_type": "execute_result",
          "data": {
            "text/plain": [
              "<tensorflow.python.keras.callbacks.History at 0x7f3070246410>"
            ]
          },
          "metadata": {
            "tags": []
          },
          "execution_count": 37
        }
      ]
    },
    {
      "cell_type": "code",
      "metadata": {
        "colab": {
          "base_uri": "https://localhost:8080/"
        },
        "id": "bvDRRv2y3VB1",
        "outputId": "9aa5faca-7e8d-4043-ee5f-37529b28212b"
      },
      "source": [
        "# Model 6: Perspective Replica Glove-CNN (glove_cnn)\n",
        "\n",
        "my_tags = [\"non-toxic\", \"toxic\"]\n",
        "\n",
        "print(\"==== Train Results ====\")\n",
        "glove_cnn_pred_train = glove_cnn.predict(np.array(glove_cnn_X_train))\n",
        "glove_cnn_predict_train = (glove_cnn_pred_train > 0.5)\n",
        "glove_cnn_predict_train = glove_cnn_predict_train*1 #convert to 0,1 instead of True False\n",
        "print(\"                            \")\n",
        "print(classification_report(np.array(glove_cnn_y_train), glove_cnn_predict_train,target_names=my_tags))\n",
        "print(\"                            \")\n",
        "print(\"==== Train Confusion Matrix ====\")\n",
        "\n",
        "glove_cnn_cmtx_train = pd.DataFrame(confusion_matrix(glove_cnn_y_train, glove_cnn_predict_train, labels = [0,1]),\n",
        "                                index=['Actual: Non-Toxic', 'Actual: Toxic'], \n",
        "                                columns=['Predicted: Non-Toxic', 'Predicted: Toxic'])\n",
        "display(glove_cnn_cmtx_train)\n",
        "glove_cnn_scores_train = glove_cnn.evaluate(np.array(glove_cnn_X_train),np.array(glove_cnn_y_train),batch_size = batch_size)\n",
        "print(\"Accuracy: %.3f%%\" % (glove_cnn_scores_train[2]*100))\n",
        "print(\"AUC: \" , metrics.roc_auc_score(np.array(glove_cnn_y_train), glove_cnn_pred_train))\n",
        "\n",
        "\n",
        "\n",
        "print(\"                            \")\n",
        "print(\"                            \")\n",
        "print(\"==== Validation Results ====\")\n",
        "glove_cnn_pred = glove_cnn.predict(np.array(glove_cnn_X_val))\n",
        "glove_cnn_predict = (glove_cnn_pred > 0.5)\n",
        "glove_cnn_predict = glove_cnn_predict*1 #convert to 0,1 instead of True False\n",
        "print(\"                            \")\n",
        "print(classification_report(np.array(glove_cnn_y_val), glove_cnn_predict, target_names=my_tags))\n",
        "print(\"                            \")\n",
        "print(\"==== Validation Confusion Matrix ====\")\n",
        "\n",
        "glove_cnn_cmtx = pd.DataFrame(confusion_matrix(np.array(glove_cnn_y_val),glove_cnn_predict, labels = [0,1]),\n",
        "                                index=['Actual: Non-Toxic', 'Actual: Toxic'], \n",
        "                                columns=['Predicted: Non-Toxic', 'Predicted: Toxic'])\n",
        "display(glove_cnn_cmtx)\n",
        "glove_cnn_scores = glove_cnn.evaluate(np.array(glove_cnn_X_val), np.array(glove_cnn_y_val),batch_size = batch_size)\n",
        "print(\"Accuracy: %.3f%%\" % (glove_cnn_scores[2]*100))\n",
        "print(\"AUC: \" , metrics.roc_auc_score(np.array(glove_cnn_y_val), glove_cnn_pred))\n"
      ],
      "execution_count": null,
      "outputs": [
        {
          "output_type": "stream",
          "text": [
            "==== Train Results ====\n",
            "                            \n",
            "              precision    recall  f1-score   support\n",
            "\n",
            "   non-toxic       0.97      0.99      0.98     86410\n",
            "       toxic       0.90      0.71      0.80      9222\n",
            "\n",
            "    accuracy                           0.97     95632\n",
            "   macro avg       0.94      0.85      0.89     95632\n",
            "weighted avg       0.96      0.97      0.96     95632\n",
            "\n",
            "                            \n",
            "==== Train Confusion Matrix ====\n"
          ],
          "name": "stdout"
        },
        {
          "output_type": "display_data",
          "data": {
            "text/html": [
              "<div>\n",
              "<style scoped>\n",
              "    .dataframe tbody tr th:only-of-type {\n",
              "        vertical-align: middle;\n",
              "    }\n",
              "\n",
              "    .dataframe tbody tr th {\n",
              "        vertical-align: top;\n",
              "    }\n",
              "\n",
              "    .dataframe thead th {\n",
              "        text-align: right;\n",
              "    }\n",
              "</style>\n",
              "<table border=\"1\" class=\"dataframe\">\n",
              "  <thead>\n",
              "    <tr style=\"text-align: right;\">\n",
              "      <th></th>\n",
              "      <th>Predicted: Non-Toxic</th>\n",
              "      <th>Predicted: Toxic</th>\n",
              "    </tr>\n",
              "  </thead>\n",
              "  <tbody>\n",
              "    <tr>\n",
              "      <th>Actual: Non-Toxic</th>\n",
              "      <td>85711</td>\n",
              "      <td>699</td>\n",
              "    </tr>\n",
              "    <tr>\n",
              "      <th>Actual: Toxic</th>\n",
              "      <td>2637</td>\n",
              "      <td>6585</td>\n",
              "    </tr>\n",
              "  </tbody>\n",
              "</table>\n",
              "</div>"
            ],
            "text/plain": [
              "                   Predicted: Non-Toxic  Predicted: Toxic\n",
              "Actual: Non-Toxic                 85711               699\n",
              "Actual: Toxic                      2637              6585"
            ]
          },
          "metadata": {
            "tags": []
          }
        },
        {
          "output_type": "stream",
          "text": [
            "2989/2989 [==============================] - 10s 3ms/step - loss: 0.0928 - auc: 0.9835 - accuracy: 0.9651\n",
            "Accuracy: 96.512%\n",
            "AUC:  0.9836505890235812\n",
            "                            \n",
            "                            \n",
            "==== Validation Results ====\n",
            "                            \n",
            "              precision    recall  f1-score   support\n",
            "\n",
            "   non-toxic       0.96      0.99      0.97     57631\n",
            "       toxic       0.84      0.64      0.73      6125\n",
            "\n",
            "    accuracy                           0.95     63756\n",
            "   macro avg       0.90      0.81      0.85     63756\n",
            "weighted avg       0.95      0.95      0.95     63756\n",
            "\n",
            "                            \n",
            "==== Validation Confusion Matrix ====\n"
          ],
          "name": "stdout"
        },
        {
          "output_type": "display_data",
          "data": {
            "text/html": [
              "<div>\n",
              "<style scoped>\n",
              "    .dataframe tbody tr th:only-of-type {\n",
              "        vertical-align: middle;\n",
              "    }\n",
              "\n",
              "    .dataframe tbody tr th {\n",
              "        vertical-align: top;\n",
              "    }\n",
              "\n",
              "    .dataframe thead th {\n",
              "        text-align: right;\n",
              "    }\n",
              "</style>\n",
              "<table border=\"1\" class=\"dataframe\">\n",
              "  <thead>\n",
              "    <tr style=\"text-align: right;\">\n",
              "      <th></th>\n",
              "      <th>Predicted: Non-Toxic</th>\n",
              "      <th>Predicted: Toxic</th>\n",
              "    </tr>\n",
              "  </thead>\n",
              "  <tbody>\n",
              "    <tr>\n",
              "      <th>Actual: Non-Toxic</th>\n",
              "      <td>56857</td>\n",
              "      <td>774</td>\n",
              "    </tr>\n",
              "    <tr>\n",
              "      <th>Actual: Toxic</th>\n",
              "      <td>2191</td>\n",
              "      <td>3934</td>\n",
              "    </tr>\n",
              "  </tbody>\n",
              "</table>\n",
              "</div>"
            ],
            "text/plain": [
              "                   Predicted: Non-Toxic  Predicted: Toxic\n",
              "Actual: Non-Toxic                 56857               774\n",
              "Actual: Toxic                      2191              3934"
            ]
          },
          "metadata": {
            "tags": []
          }
        },
        {
          "output_type": "stream",
          "text": [
            "1993/1993 [==============================] - 7s 3ms/step - loss: 0.1255 - auc: 0.9596 - accuracy: 0.9535\n",
            "Accuracy: 95.349%\n",
            "AUC:  0.9611409449067059\n"
          ],
          "name": "stdout"
        }
      ]
    },
    {
      "cell_type": "code",
      "metadata": {
        "colab": {
          "base_uri": "https://localhost:8080/"
        },
        "id": "IrnilHA_R1Sq",
        "outputId": "c94df1e4-b081-4eb0-8cc9-067af3b55980"
      },
      "source": [
        "glove_cnn_scores_train"
      ],
      "execution_count": null,
      "outputs": [
        {
          "output_type": "execute_result",
          "data": {
            "text/plain": [
              "[0.0927647203207016, 0.9835066795349121, 0.9651162624359131]"
            ]
          },
          "metadata": {
            "tags": []
          },
          "execution_count": 39
        }
      ]
    },
    {
      "cell_type": "markdown",
      "metadata": {
        "id": "JbU5VmeYGBDX"
      },
      "source": [
        "# **3. Testing Models on Web-Scraped Youtube Comments**\n",
        "\n"
      ]
    },
    {
      "cell_type": "markdown",
      "metadata": {
        "id": "mTpzZlIMGn0z"
      },
      "source": [
        "## Clean & Vectorise Data"
      ]
    },
    {
      "cell_type": "code",
      "metadata": {
        "colab": {
          "base_uri": "https://localhost:8080/"
        },
        "id": "5WnIMfuRGt2Z",
        "outputId": "adebc031-065b-429c-ef3a-8573076502f5"
      },
      "source": [
        "# Data: yt\n",
        "yt = pd.read_csv(dir + '/ytcomments.csv')\n",
        "\n",
        "# First 5 Rows\n",
        "display(yt.head())\n",
        "\n",
        "# Remove columns\n",
        "yt.drop('Unnamed: 0',axis='columns', inplace=True)\n",
        "display(yt.head())\n",
        "\n",
        "# Ratio of Toxic:Non-Toxic Labels \n",
        "# 0:    373\n",
        "# 1:    115\n",
        "# Total: 488\n",
        "display(yt['cb_label'].value_counts(dropna = False))\n",
        "\n",
        "\n",
        "# Remove duplicates, remove hyperlinks, drop NA\n",
        "yt = preparation(yt, 'comment')\n",
        "\n",
        "#change all to lower case\n",
        "yt['comment'] = yt['comment'].apply(lambda x: \" \".join(x.lower() for x in x.split()))\n",
        "\n",
        "#replace special characters\n",
        "yt['comment'] = yt['comment'].str.replace('[^\\w\\s]','')\n",
        "\n",
        "#remove numbers from text\n",
        "yt['comment'] = yt['comment'].str.replace('\\d+', '')\n",
        "\n",
        "#yt for GloVe embedding\n",
        "#yt_BERT for BERT embedding\n",
        "yt_BERT = yt.copy()\n",
        "\n",
        "#remove stopwords from yt (GloVe embedding) only\n",
        "nltk.download('stopwords')\n",
        "stop = stopwords.words('english')\n",
        "\n",
        "yt['comment'] = yt['comment'].apply(lambda x: \" \".join(x for x in x.split() if x not in stop))\n",
        "display(yt.head())\n",
        "display(yt.shape)"
      ],
      "execution_count": null,
      "outputs": [
        {
          "output_type": "display_data",
          "data": {
            "text/html": [
              "<div>\n",
              "<style scoped>\n",
              "    .dataframe tbody tr th:only-of-type {\n",
              "        vertical-align: middle;\n",
              "    }\n",
              "\n",
              "    .dataframe tbody tr th {\n",
              "        vertical-align: top;\n",
              "    }\n",
              "\n",
              "    .dataframe thead th {\n",
              "        text-align: right;\n",
              "    }\n",
              "</style>\n",
              "<table border=\"1\" class=\"dataframe\">\n",
              "  <thead>\n",
              "    <tr style=\"text-align: right;\">\n",
              "      <th></th>\n",
              "      <th>Unnamed: 0</th>\n",
              "      <th>comment</th>\n",
              "      <th>cb_label</th>\n",
              "    </tr>\n",
              "  </thead>\n",
              "  <tbody>\n",
              "    <tr>\n",
              "      <th>0</th>\n",
              "      <td>2</td>\n",
              "      <td>It must take alot of courage to stand there an...</td>\n",
              "      <td>0</td>\n",
              "    </tr>\n",
              "    <tr>\n",
              "      <th>1</th>\n",
              "      <td>3</td>\n",
              "      <td>Husband : Wat do u want to eat?\\nWife : I got ...</td>\n",
              "      <td>0</td>\n",
              "    </tr>\n",
              "    <tr>\n",
              "      <th>2</th>\n",
              "      <td>4</td>\n",
              "      <td>I cannot tahan that cocky look. How did we end...</td>\n",
              "      <td>1</td>\n",
              "    </tr>\n",
              "    <tr>\n",
              "      <th>3</th>\n",
              "      <td>5</td>\n",
              "      <td>Pritam is like the gf that’s asking CCS “Can I...</td>\n",
              "      <td>0</td>\n",
              "    </tr>\n",
              "    <tr>\n",
              "      <th>4</th>\n",
              "      <td>6</td>\n",
              "      <td>I’m sorry I honestly can’t take someone seriou...</td>\n",
              "      <td>1</td>\n",
              "    </tr>\n",
              "  </tbody>\n",
              "</table>\n",
              "</div>"
            ],
            "text/plain": [
              "   Unnamed: 0                                            comment  cb_label\n",
              "0           2  It must take alot of courage to stand there an...         0\n",
              "1           3  Husband : Wat do u want to eat?\\nWife : I got ...         0\n",
              "2           4  I cannot tahan that cocky look. How did we end...         1\n",
              "3           5  Pritam is like the gf that’s asking CCS “Can I...         0\n",
              "4           6  I’m sorry I honestly can’t take someone seriou...         1"
            ]
          },
          "metadata": {
            "tags": []
          }
        },
        {
          "output_type": "display_data",
          "data": {
            "text/html": [
              "<div>\n",
              "<style scoped>\n",
              "    .dataframe tbody tr th:only-of-type {\n",
              "        vertical-align: middle;\n",
              "    }\n",
              "\n",
              "    .dataframe tbody tr th {\n",
              "        vertical-align: top;\n",
              "    }\n",
              "\n",
              "    .dataframe thead th {\n",
              "        text-align: right;\n",
              "    }\n",
              "</style>\n",
              "<table border=\"1\" class=\"dataframe\">\n",
              "  <thead>\n",
              "    <tr style=\"text-align: right;\">\n",
              "      <th></th>\n",
              "      <th>comment</th>\n",
              "      <th>cb_label</th>\n",
              "    </tr>\n",
              "  </thead>\n",
              "  <tbody>\n",
              "    <tr>\n",
              "      <th>0</th>\n",
              "      <td>It must take alot of courage to stand there an...</td>\n",
              "      <td>0</td>\n",
              "    </tr>\n",
              "    <tr>\n",
              "      <th>1</th>\n",
              "      <td>Husband : Wat do u want to eat?\\nWife : I got ...</td>\n",
              "      <td>0</td>\n",
              "    </tr>\n",
              "    <tr>\n",
              "      <th>2</th>\n",
              "      <td>I cannot tahan that cocky look. How did we end...</td>\n",
              "      <td>1</td>\n",
              "    </tr>\n",
              "    <tr>\n",
              "      <th>3</th>\n",
              "      <td>Pritam is like the gf that’s asking CCS “Can I...</td>\n",
              "      <td>0</td>\n",
              "    </tr>\n",
              "    <tr>\n",
              "      <th>4</th>\n",
              "      <td>I’m sorry I honestly can’t take someone seriou...</td>\n",
              "      <td>1</td>\n",
              "    </tr>\n",
              "  </tbody>\n",
              "</table>\n",
              "</div>"
            ],
            "text/plain": [
              "                                             comment  cb_label\n",
              "0  It must take alot of courage to stand there an...         0\n",
              "1  Husband : Wat do u want to eat?\\nWife : I got ...         0\n",
              "2  I cannot tahan that cocky look. How did we end...         1\n",
              "3  Pritam is like the gf that’s asking CCS “Can I...         0\n",
              "4  I’m sorry I honestly can’t take someone seriou...         1"
            ]
          },
          "metadata": {
            "tags": []
          }
        },
        {
          "output_type": "display_data",
          "data": {
            "text/plain": [
              "0    373\n",
              "1    115\n",
              "Name: cb_label, dtype: int64"
            ]
          },
          "metadata": {
            "tags": []
          }
        },
        {
          "output_type": "stream",
          "text": [
            "[nltk_data] Downloading package stopwords to /root/nltk_data...\n",
            "[nltk_data]   Package stopwords is already up-to-date!\n"
          ],
          "name": "stdout"
        },
        {
          "output_type": "display_data",
          "data": {
            "text/html": [
              "<div>\n",
              "<style scoped>\n",
              "    .dataframe tbody tr th:only-of-type {\n",
              "        vertical-align: middle;\n",
              "    }\n",
              "\n",
              "    .dataframe tbody tr th {\n",
              "        vertical-align: top;\n",
              "    }\n",
              "\n",
              "    .dataframe thead th {\n",
              "        text-align: right;\n",
              "    }\n",
              "</style>\n",
              "<table border=\"1\" class=\"dataframe\">\n",
              "  <thead>\n",
              "    <tr style=\"text-align: right;\">\n",
              "      <th></th>\n",
              "      <th>comment</th>\n",
              "      <th>cb_label</th>\n",
              "    </tr>\n",
              "  </thead>\n",
              "  <tbody>\n",
              "    <tr>\n",
              "      <th>0</th>\n",
              "      <td>must take alot courage stand speak room people...</td>\n",
              "      <td>0</td>\n",
              "    </tr>\n",
              "    <tr>\n",
              "      <th>1</th>\n",
              "      <td>husband wat u want eat wife got nothing hide h...</td>\n",
              "      <td>0</td>\n",
              "    </tr>\n",
              "    <tr>\n",
              "      <th>2</th>\n",
              "      <td>cannot tahan cocky look end lousy personalitie...</td>\n",
              "      <td>1</td>\n",
              "    </tr>\n",
              "    <tr>\n",
              "      <th>3</th>\n",
              "      <td>pritam like gf thats asking ccs see phone ccs ...</td>\n",
              "      <td>0</td>\n",
              "    </tr>\n",
              "    <tr>\n",
              "      <th>4</th>\n",
              "      <td>im sorry honestly cant take someone seriously ...</td>\n",
              "      <td>1</td>\n",
              "    </tr>\n",
              "  </tbody>\n",
              "</table>\n",
              "</div>"
            ],
            "text/plain": [
              "                                             comment  cb_label\n",
              "0  must take alot courage stand speak room people...         0\n",
              "1  husband wat u want eat wife got nothing hide h...         0\n",
              "2  cannot tahan cocky look end lousy personalitie...         1\n",
              "3  pritam like gf thats asking ccs see phone ccs ...         0\n",
              "4  im sorry honestly cant take someone seriously ...         1"
            ]
          },
          "metadata": {
            "tags": []
          }
        },
        {
          "output_type": "display_data",
          "data": {
            "text/plain": [
              "(488, 2)"
            ]
          },
          "metadata": {
            "tags": []
          }
        }
      ]
    },
    {
      "cell_type": "code",
      "metadata": {
        "colab": {
          "base_uri": "https://localhost:8080/"
        },
        "id": "ApK-huJeJT0f",
        "outputId": "d02d2f2e-0034-4f5c-fa66-9ff31e85de33"
      },
      "source": [
        "# Check the max number of words in comments\n",
        "\n",
        "length = yt_BERT['comment'].str.split().str.len().max()\n",
        "print(\"The maximum number of words in yt_BERT comments is : \" +  str(length)) \n",
        "\n",
        "length = yt['comment'].str.split().str.len().max()\n",
        "print(\"The maximum number of words in yt comments is : \" +  str(length)) "
      ],
      "execution_count": null,
      "outputs": [
        {
          "output_type": "stream",
          "text": [
            "The maximum number of words in yt_BERT comments is : 180\n",
            "The maximum number of words in yt comments is : 109\n"
          ],
          "name": "stdout"
        }
      ]
    },
    {
      "cell_type": "markdown",
      "metadata": {
        "id": "mOGErZXiMZUv"
      },
      "source": [
        "## BERT + Logistic Regression on Youtube Data"
      ]
    },
    {
      "cell_type": "code",
      "metadata": {
        "colab": {
          "base_uri": "https://localhost:8080/",
          "height": 264,
          "referenced_widgets": [
            "b63191fe3dec428ca9406ef5c3bf0f1f",
            "7dcc92a2b68d4f858ed8872ca375798c",
            "5c1918e8b93a4269b08697bc0c27c529",
            "0f30c979a950429ebda1fd8042ae5110",
            "d7349f1e507746259b627ff65442ff16",
            "1ba28c1d5459444ba0f29f3a8f99993f",
            "b8a53589620741e1af4924eb16c5724a",
            "65a187a8285149f38bef2446846608ba",
            "5fa510289fd347a09ca11f19723a5c30",
            "493ed943d7774b54a2ed5055c35982f8",
            "340922a9022042d9bc6b910e77568077",
            "a17b944eb2314fcfb8fb65d1ffc0e98f",
            "89691f2d374642b796a000e3bae4e314",
            "7b704d6bd4cf42b79354c7fdbfa5a074",
            "15d0e1ba67ac4b8ba2352135d05e78e8",
            "b779233f90834fa2b8326192f19f112a",
            "382ac59280a04399b669ffd873bb99d2",
            "a58c9ad308164ca9b688ff0399335629",
            "0544d10cec65486cb69221e73027a835",
            "fad0b263a02345a6895017a7df2fcb34",
            "88be0d40b36c4f11b79b9fdbd102f7ab",
            "39171b335d1a422791c473820934c384",
            "5d2840bdf5034517b20a55415ad37f54",
            "e2b772f0dfb549528785599d20f900f7",
            "9795f1353cd04e09b8f7e6af2f30fc53",
            "c205d17c8d2f4d968c87c0c20ccf6322",
            "b4a5fd5f79f64a93a79fd8003c8b0912",
            "79ee0be3c67a416fb3a4f4fcf1cd8430",
            "4dc5a44379ea4ac880ca68ec26597536",
            "201a837adf4b49ac92fbb07a81317421",
            "ae7fc07a52bf40b695481dcaaf9e4b37",
            "9f7a5c9d8fdf47be9b69e3f5b779111b",
            "d5fb28832bad43f5af18272f6060cb7c",
            "6cda8bad79bf44318894bab1f0c0e09e",
            "f941de859901461eb40bf8a0c9168206",
            "cdac258dfb704716b035b059ba1db1d3",
            "7788b0842f1b4324be7dbab0464b6b7c",
            "52d339f603b943cf890b0dc0e6c4d6f7",
            "75288c03448340f39ada360d4da477d7",
            "6947db9654f04d74a4cf33928d27a212"
          ]
        },
        "id": "aEOJ3jqoJDAy",
        "outputId": "db32e5de-5b42-4450-bd35-7090d7fc22b9"
      },
      "source": [
        "# BERT Embedding for yt_BERT\n",
        "# Load DistilBERT word embedding (Smaller version of BERT with relatively the same accuracy)\n",
        "# Set Max_Seq_Length = 180\n",
        "\n",
        "dbt = BertTransformer(DistilBertTokenizer.from_pretrained(\"distilbert-base-uncased\"),\n",
        "                      DistilBertModel.from_pretrained(\"distilbert-base-uncased\"),\n",
        "                      embedding_func=lambda x: x[0][:, 0, :].squeeze(),max_length = 180)\n",
        "\n",
        "yt_BERT_vectorised = dbt.fit_transform(yt_BERT[\"comment\"])\n"
      ],
      "execution_count": null,
      "outputs": [
        {
          "output_type": "display_data",
          "data": {
            "application/vnd.jupyter.widget-view+json": {
              "model_id": "b63191fe3dec428ca9406ef5c3bf0f1f",
              "version_minor": 0,
              "version_major": 2
            },
            "text/plain": [
              "HBox(children=(FloatProgress(value=0.0, description='Downloading', max=231508.0, style=ProgressStyle(descripti…"
            ]
          },
          "metadata": {
            "tags": []
          }
        },
        {
          "output_type": "stream",
          "text": [
            "\n"
          ],
          "name": "stdout"
        },
        {
          "output_type": "display_data",
          "data": {
            "application/vnd.jupyter.widget-view+json": {
              "model_id": "5fa510289fd347a09ca11f19723a5c30",
              "version_minor": 0,
              "version_major": 2
            },
            "text/plain": [
              "HBox(children=(FloatProgress(value=0.0, description='Downloading', max=28.0, style=ProgressStyle(description_w…"
            ]
          },
          "metadata": {
            "tags": []
          }
        },
        {
          "output_type": "stream",
          "text": [
            "\n"
          ],
          "name": "stdout"
        },
        {
          "output_type": "display_data",
          "data": {
            "application/vnd.jupyter.widget-view+json": {
              "model_id": "382ac59280a04399b669ffd873bb99d2",
              "version_minor": 0,
              "version_major": 2
            },
            "text/plain": [
              "HBox(children=(FloatProgress(value=0.0, description='Downloading', max=466062.0, style=ProgressStyle(descripti…"
            ]
          },
          "metadata": {
            "tags": []
          }
        },
        {
          "output_type": "stream",
          "text": [
            "\n"
          ],
          "name": "stdout"
        },
        {
          "output_type": "display_data",
          "data": {
            "application/vnd.jupyter.widget-view+json": {
              "model_id": "9795f1353cd04e09b8f7e6af2f30fc53",
              "version_minor": 0,
              "version_major": 2
            },
            "text/plain": [
              "HBox(children=(FloatProgress(value=0.0, description='Downloading', max=442.0, style=ProgressStyle(description_…"
            ]
          },
          "metadata": {
            "tags": []
          }
        },
        {
          "output_type": "stream",
          "text": [
            "\n"
          ],
          "name": "stdout"
        },
        {
          "output_type": "display_data",
          "data": {
            "application/vnd.jupyter.widget-view+json": {
              "model_id": "d5fb28832bad43f5af18272f6060cb7c",
              "version_minor": 0,
              "version_major": 2
            },
            "text/plain": [
              "HBox(children=(FloatProgress(value=0.0, description='Downloading', max=267967963.0, style=ProgressStyle(descri…"
            ]
          },
          "metadata": {
            "tags": []
          }
        },
        {
          "output_type": "stream",
          "text": [
            "\n"
          ],
          "name": "stdout"
        }
      ]
    },
    {
      "cell_type": "code",
      "metadata": {
        "colab": {
          "base_uri": "https://localhost:8080/",
          "height": 370
        },
        "id": "b-gJXkeoZiGO",
        "outputId": "c03d1ff9-b24e-413a-8615-ef94f32b7ae9"
      },
      "source": [
        "# Classifying using our best proposed Model 1: BERT Log Reg on Youtube data\n",
        "\n",
        "my_tags = [\"non-toxic\", \"toxic\"]\n",
        "\n",
        "print(\"==== Results ====\")\n",
        "log_pred_yt = logreg.predict(yt_BERT_vectorised)\n",
        "print(\"                     \")\n",
        "print(classification_report(np.array(yt_BERT[\"cb_label\"]), log_pred_yt,target_names=my_tags))\n",
        "print(\"                            \")\n",
        "print(\"==== Confusion Matrix ====\")\n",
        "log_cmtx_yt = pd.DataFrame(\n",
        "    confusion_matrix(np.array(yt_BERT[\"cb_label\"]), log_pred_yt, labels = [0,1]), \n",
        "    index=['Actual: Non-Toxic', 'Actual: Toxic'], \n",
        "    columns=['Predicted: Non-Toxic', 'Predicted: Toxic'])\n",
        "display(log_cmtx_yt)\n",
        "print('Accuracy %s' % accuracy_score(log_pred_yt, np.array(yt_BERT[\"cb_label\"])))\n",
        "print(\"AUC: \" , metrics.roc_auc_score(np.array(yt_BERT[\"cb_label\"]), log_pred_yt))"
      ],
      "execution_count": null,
      "outputs": [
        {
          "output_type": "stream",
          "text": [
            "==== Results ====\n",
            "                     \n",
            "              precision    recall  f1-score   support\n",
            "\n",
            "   non-toxic       0.79      0.97      0.87       373\n",
            "       toxic       0.59      0.14      0.23       115\n",
            "\n",
            "    accuracy                           0.77       488\n",
            "   macro avg       0.69      0.55      0.55       488\n",
            "weighted avg       0.74      0.77      0.72       488\n",
            "\n",
            "                            \n",
            "==== Confusion Matrix ====\n"
          ],
          "name": "stdout"
        },
        {
          "output_type": "display_data",
          "data": {
            "text/html": [
              "<div>\n",
              "<style scoped>\n",
              "    .dataframe tbody tr th:only-of-type {\n",
              "        vertical-align: middle;\n",
              "    }\n",
              "\n",
              "    .dataframe tbody tr th {\n",
              "        vertical-align: top;\n",
              "    }\n",
              "\n",
              "    .dataframe thead th {\n",
              "        text-align: right;\n",
              "    }\n",
              "</style>\n",
              "<table border=\"1\" class=\"dataframe\">\n",
              "  <thead>\n",
              "    <tr style=\"text-align: right;\">\n",
              "      <th></th>\n",
              "      <th>Predicted: Non-Toxic</th>\n",
              "      <th>Predicted: Toxic</th>\n",
              "    </tr>\n",
              "  </thead>\n",
              "  <tbody>\n",
              "    <tr>\n",
              "      <th>Actual: Non-Toxic</th>\n",
              "      <td>362</td>\n",
              "      <td>11</td>\n",
              "    </tr>\n",
              "    <tr>\n",
              "      <th>Actual: Toxic</th>\n",
              "      <td>99</td>\n",
              "      <td>16</td>\n",
              "    </tr>\n",
              "  </tbody>\n",
              "</table>\n",
              "</div>"
            ],
            "text/plain": [
              "                   Predicted: Non-Toxic  Predicted: Toxic\n",
              "Actual: Non-Toxic                   362                11\n",
              "Actual: Toxic                        99                16"
            ]
          },
          "metadata": {
            "tags": []
          }
        },
        {
          "output_type": "stream",
          "text": [
            "Accuracy 0.7745901639344263\n",
            "AUC:  0.5548199090803124\n"
          ],
          "name": "stdout"
        }
      ]
    },
    {
      "cell_type": "markdown",
      "metadata": {
        "id": "z_3cGOajOfl7"
      },
      "source": [
        "## GloVe + CNN on Youtube Data"
      ]
    },
    {
      "cell_type": "code",
      "metadata": {
        "id": "ALwWY_L9Oe9j"
      },
      "source": [
        "# Set the embedding parameters\n",
        "embedding_dim = 100   # how big is each word vector   \n",
        "max_features = 40000  # how many unique words to use (i.e num rows in embedding vector)\n",
        "max_text_length= 109  # max number of words in a comment to use\n",
        "\n",
        "x_tokenizer=text.Tokenizer(max_features)\n",
        "x_tokenizer.fit_on_texts(list(yt[\"comment\"]))\n",
        "x_tokenized=x_tokenizer.texts_to_sequences(yt[\"comment\"])\n",
        "x_train_val=sequence.pad_sequences(x_tokenized,maxlen=max_text_length)"
      ],
      "execution_count": null,
      "outputs": []
    },
    {
      "cell_type": "code",
      "metadata": {
        "id": "WQbNyacsPTSy"
      },
      "source": [
        "embedding_matrix=np.zeros((max_features,embedding_dim))\n",
        "for word,index in x_tokenizer.word_index.items():\n",
        "    if index>max_features-1:\n",
        "        break\n",
        "    else:\n",
        "        embedding_vector=embedding_index.get(word)\n",
        "        if embedding_vector is not None:\n",
        "            embedding_matrix[index]=embedding_vector"
      ],
      "execution_count": null,
      "outputs": []
    },
    {
      "cell_type": "code",
      "metadata": {
        "colab": {
          "base_uri": "https://localhost:8080/",
          "height": 388
        },
        "id": "OCqQCiLdPY18",
        "outputId": "3417467e-2361-4e5f-ecac-b87b9b172597"
      },
      "source": [
        "# Classifying using Model 6: Perspective Replica Glove-CNN (glove_cnn) on Youtube data\n",
        "\n",
        "my_tags = [\"non-toxic\", \"toxic\"]\n",
        "\n",
        "print(\"==== Results ====\")\n",
        "glove_cnn_pred_yt = glove_cnn.predict(np.array(x_train_val))\n",
        "glove_cnn_predict_yt = (glove_cnn_pred_yt > 0.5)\n",
        "glove_cnn_predict_yt = glove_cnn_predict_yt*1 #convert to 0,1 instead of True False\n",
        "print(\"                            \")\n",
        "print(classification_report(np.array(yt[\"cb_label\"]), glove_cnn_predict_yt,target_names=my_tags))\n",
        "print(\"                            \")\n",
        "print(\"==== Confusion Matrix ====\")\n",
        "\n",
        "glove_cnn_cmtx_yt = pd.DataFrame(confusion_matrix(yt[\"cb_label\"], glove_cnn_predict_yt, labels = [0,1]),\n",
        "                                index=['Actual: Non-Toxic', 'Actual: Toxic'], \n",
        "                                columns=['Predicted: Non-Toxic', 'Predicted: Toxic'])\n",
        "display(glove_cnn_cmtx_yt)\n",
        "glove_cnn_scores_yt = glove_cnn.evaluate(np.array(x_train_val),np.array(yt[\"cb_label\"]),batch_size = batch_size)\n",
        "print(\"Accuracy: %.3f%%\" % (glove_cnn_scores_yt[2]*100))\n",
        "print(\"AUC: \" , metrics.roc_auc_score(np.array(yt[\"cb_label\"]), glove_cnn_pred_yt))"
      ],
      "execution_count": null,
      "outputs": [
        {
          "output_type": "stream",
          "text": [
            "==== Results ====\n",
            "                            \n",
            "              precision    recall  f1-score   support\n",
            "\n",
            "   non-toxic       0.76      0.97      0.85       373\n",
            "       toxic       0.25      0.03      0.06       115\n",
            "\n",
            "    accuracy                           0.75       488\n",
            "   macro avg       0.51      0.50      0.46       488\n",
            "weighted avg       0.64      0.75      0.67       488\n",
            "\n",
            "                            \n",
            "==== Confusion Matrix ====\n"
          ],
          "name": "stdout"
        },
        {
          "output_type": "display_data",
          "data": {
            "text/html": [
              "<div>\n",
              "<style scoped>\n",
              "    .dataframe tbody tr th:only-of-type {\n",
              "        vertical-align: middle;\n",
              "    }\n",
              "\n",
              "    .dataframe tbody tr th {\n",
              "        vertical-align: top;\n",
              "    }\n",
              "\n",
              "    .dataframe thead th {\n",
              "        text-align: right;\n",
              "    }\n",
              "</style>\n",
              "<table border=\"1\" class=\"dataframe\">\n",
              "  <thead>\n",
              "    <tr style=\"text-align: right;\">\n",
              "      <th></th>\n",
              "      <th>Predicted: Non-Toxic</th>\n",
              "      <th>Predicted: Toxic</th>\n",
              "    </tr>\n",
              "  </thead>\n",
              "  <tbody>\n",
              "    <tr>\n",
              "      <th>Actual: Non-Toxic</th>\n",
              "      <td>361</td>\n",
              "      <td>12</td>\n",
              "    </tr>\n",
              "    <tr>\n",
              "      <th>Actual: Toxic</th>\n",
              "      <td>111</td>\n",
              "      <td>4</td>\n",
              "    </tr>\n",
              "  </tbody>\n",
              "</table>\n",
              "</div>"
            ],
            "text/plain": [
              "                   Predicted: Non-Toxic  Predicted: Toxic\n",
              "Actual: Non-Toxic                   361                12\n",
              "Actual: Toxic                       111                 4"
            ]
          },
          "metadata": {
            "tags": []
          }
        },
        {
          "output_type": "stream",
          "text": [
            "16/16 [==============================] - 0s 3ms/step - loss: 1.1111 - auc: 0.4788 - accuracy: 0.7480\n",
            "Accuracy: 74.795%\n",
            "AUC:  0.4753934024944632\n"
          ],
          "name": "stdout"
        }
      ]
    },
    {
      "cell_type": "markdown",
      "metadata": {
        "id": "yZsQCauDC55g"
      },
      "source": [
        "# **4. Data Exploration, Cleaning, Processing & Exporting of Files** (Not Required to Run)"
      ]
    },
    {
      "cell_type": "markdown",
      "metadata": {
        "id": "OWaJz8ZUDWsI"
      },
      "source": [
        "## Data Exploration"
      ]
    },
    {
      "cell_type": "code",
      "metadata": {
        "id": "ofXVgWyD0TZa",
        "colab": {
          "base_uri": "https://localhost:8080/",
          "height": 462
        },
        "outputId": "1bb5aa28-f2e4-4ea7-9ef7-d1899a410015"
      },
      "source": [
        "# Load dataset\n",
        "#df = pd.read_csv(dir + '/toxicity_parsed_dataset.csv')\n",
        "\n",
        "# First 5 Rows\n",
        "display(df.head())\n",
        "\n",
        "# Remove columns\n",
        "df=df.drop(['index','ed_label_1','ed_label_0'],axis=1)\n",
        "display(df.head())\n",
        "\n",
        "# Ratio of Toxic:Non-Toxic Labels \n",
        "# 0:    144324\n",
        "# 1:    15362\n",
        "# Total: 159686\n",
        "display(df['oh_label'].value_counts(dropna = False))\n",
        "\n",
        "# Drop NaN\n",
        "df = df.dropna()\n",
        "3display(df['oh_label'].value_counts(dropna = False))"
      ],
      "execution_count": null,
      "outputs": [
        {
          "output_type": "display_data",
          "data": {
            "text/html": [
              "<div>\n",
              "<style scoped>\n",
              "    .dataframe tbody tr th:only-of-type {\n",
              "        vertical-align: middle;\n",
              "    }\n",
              "\n",
              "    .dataframe tbody tr th {\n",
              "        vertical-align: top;\n",
              "    }\n",
              "\n",
              "    .dataframe thead th {\n",
              "        text-align: right;\n",
              "    }\n",
              "</style>\n",
              "<table border=\"1\" class=\"dataframe\">\n",
              "  <thead>\n",
              "    <tr style=\"text-align: right;\">\n",
              "      <th></th>\n",
              "      <th>index</th>\n",
              "      <th>Text</th>\n",
              "      <th>ed_label_0</th>\n",
              "      <th>ed_label_1</th>\n",
              "      <th>oh_label</th>\n",
              "    </tr>\n",
              "  </thead>\n",
              "  <tbody>\n",
              "    <tr>\n",
              "      <th>0</th>\n",
              "      <td>0</td>\n",
              "      <td>This: :One can make an analogy in mathematical...</td>\n",
              "      <td>0.90</td>\n",
              "      <td>0.10</td>\n",
              "      <td>0</td>\n",
              "    </tr>\n",
              "    <tr>\n",
              "      <th>1</th>\n",
              "      <td>1</td>\n",
              "      <td>`  :Clarification for you  (and Zundark's righ...</td>\n",
              "      <td>1.00</td>\n",
              "      <td>0.00</td>\n",
              "      <td>0</td>\n",
              "    </tr>\n",
              "    <tr>\n",
              "      <th>2</th>\n",
              "      <td>2</td>\n",
              "      <td>Elected or Electoral? JHK</td>\n",
              "      <td>1.00</td>\n",
              "      <td>0.00</td>\n",
              "      <td>0</td>\n",
              "    </tr>\n",
              "    <tr>\n",
              "      <th>3</th>\n",
              "      <td>3</td>\n",
              "      <td>`This is such a fun entry.   Devotchka  I once...</td>\n",
              "      <td>1.00</td>\n",
              "      <td>0.00</td>\n",
              "      <td>0</td>\n",
              "    </tr>\n",
              "    <tr>\n",
              "      <th>4</th>\n",
              "      <td>4</td>\n",
              "      <td>Please relate the ozone hole to increases in c...</td>\n",
              "      <td>0.80</td>\n",
              "      <td>0.20</td>\n",
              "      <td>0</td>\n",
              "    </tr>\n",
              "  </tbody>\n",
              "</table>\n",
              "</div>"
            ],
            "text/plain": [
              "   index  ... oh_label\n",
              "0      0  ...        0\n",
              "1      1  ...        0\n",
              "2      2  ...        0\n",
              "3      3  ...        0\n",
              "4      4  ...        0\n",
              "\n",
              "[5 rows x 5 columns]"
            ]
          },
          "metadata": {
            "tags": []
          }
        },
        {
          "output_type": "display_data",
          "data": {
            "text/html": [
              "<div>\n",
              "<style scoped>\n",
              "    .dataframe tbody tr th:only-of-type {\n",
              "        vertical-align: middle;\n",
              "    }\n",
              "\n",
              "    .dataframe tbody tr th {\n",
              "        vertical-align: top;\n",
              "    }\n",
              "\n",
              "    .dataframe thead th {\n",
              "        text-align: right;\n",
              "    }\n",
              "</style>\n",
              "<table border=\"1\" class=\"dataframe\">\n",
              "  <thead>\n",
              "    <tr style=\"text-align: right;\">\n",
              "      <th></th>\n",
              "      <th>Text</th>\n",
              "      <th>oh_label</th>\n",
              "    </tr>\n",
              "  </thead>\n",
              "  <tbody>\n",
              "    <tr>\n",
              "      <th>0</th>\n",
              "      <td>This: :One can make an analogy in mathematical...</td>\n",
              "      <td>0</td>\n",
              "    </tr>\n",
              "    <tr>\n",
              "      <th>1</th>\n",
              "      <td>`  :Clarification for you  (and Zundark's righ...</td>\n",
              "      <td>0</td>\n",
              "    </tr>\n",
              "    <tr>\n",
              "      <th>2</th>\n",
              "      <td>Elected or Electoral? JHK</td>\n",
              "      <td>0</td>\n",
              "    </tr>\n",
              "    <tr>\n",
              "      <th>3</th>\n",
              "      <td>`This is such a fun entry.   Devotchka  I once...</td>\n",
              "      <td>0</td>\n",
              "    </tr>\n",
              "    <tr>\n",
              "      <th>4</th>\n",
              "      <td>Please relate the ozone hole to increases in c...</td>\n",
              "      <td>0</td>\n",
              "    </tr>\n",
              "  </tbody>\n",
              "</table>\n",
              "</div>"
            ],
            "text/plain": [
              "                                                Text  oh_label\n",
              "0  This: :One can make an analogy in mathematical...         0\n",
              "1  `  :Clarification for you  (and Zundark's righ...         0\n",
              "2                          Elected or Electoral? JHK         0\n",
              "3  `This is such a fun entry.   Devotchka  I once...         0\n",
              "4  Please relate the ozone hole to increases in c...         0"
            ]
          },
          "metadata": {
            "tags": []
          }
        },
        {
          "output_type": "display_data",
          "data": {
            "text/plain": [
              "0    144324\n",
              "1     15362\n",
              "Name: oh_label, dtype: int64"
            ]
          },
          "metadata": {
            "tags": []
          }
        },
        {
          "output_type": "display_data",
          "data": {
            "text/plain": [
              "0    144324\n",
              "1     15362\n",
              "Name: oh_label, dtype: int64"
            ]
          },
          "metadata": {
            "tags": []
          }
        }
      ]
    },
    {
      "cell_type": "markdown",
      "metadata": {
        "id": "BtlmkE-cCU67"
      },
      "source": [
        "## Data Cleaning"
      ]
    },
    {
      "cell_type": "code",
      "metadata": {
        "colab": {
          "base_uri": "https://localhost:8080/"
        },
        "id": "ZdPgW6YuxywB",
        "outputId": "46241e1d-e24b-4e08-9dea-48b3fb0a15f8"
      },
      "source": [
        "# Remove duplicates, remove hyperlinks, drop NA\n",
        "df=preparation(df)\n",
        "\n",
        "#change all to lower case\n",
        "df['Text'] = df['Text'].apply(lambda x: \" \".join(x.lower() for x in x.split()))\n",
        "\n",
        "#replace special characters\n",
        "df['Text'] = df['Text'].str.replace('[^\\w\\s]','')\n",
        "\n",
        "#remove numbers from text\n",
        "df['Text'] = df['Text'].str.replace('\\d+', '')\n",
        "\n",
        "df_BERT = df.copy()\n",
        "\n",
        "#For GloVe Embedding, remove stopwords\n",
        "\n",
        "#nltk.download('stopwords')\n",
        "#stop = stopwords.words('english')\n",
        "\n",
        "#df['Text'] = df['Text'].apply(lambda x: \" \".join(x for x in x.split() if x not in stop))\n",
        "#display(df.head())\n",
        "#display(df.shape)"
      ],
      "execution_count": null,
      "outputs": [
        {
          "output_type": "stream",
          "text": [
            "/usr/local/lib/python3.7/dist-packages/ipykernel_launcher.py:117: SettingWithCopyWarning: \n",
            "A value is trying to be set on a copy of a slice from a DataFrame.\n",
            "Try using .loc[row_indexer,col_indexer] = value instead\n",
            "\n",
            "See the caveats in the documentation: https://pandas.pydata.org/pandas-docs/stable/user_guide/indexing.html#returning-a-view-versus-a-copy\n",
            "/usr/local/lib/python3.7/dist-packages/ipykernel_launcher.py:118: SettingWithCopyWarning: \n",
            "A value is trying to be set on a copy of a slice from a DataFrame\n",
            "\n",
            "See the caveats in the documentation: https://pandas.pydata.org/pandas-docs/stable/user_guide/indexing.html#returning-a-view-versus-a-copy\n"
          ],
          "name": "stderr"
        }
      ]
    },
    {
      "cell_type": "markdown",
      "metadata": {
        "id": "abEl2DgNCavU"
      },
      "source": [
        "## Data Processing & Exporting - BERT Embedding in Batches"
      ]
    },
    {
      "cell_type": "code",
      "metadata": {
        "id": "0Ode-MRvy4rP"
      },
      "source": [
        "# Split data into chunks to allow emmbedding within the RAM capacity\n",
        "\n",
        "batch_list = np.array_split(df_BERT, 10)"
      ],
      "execution_count": null,
      "outputs": []
    },
    {
      "cell_type": "code",
      "metadata": {
        "colab": {
          "base_uri": "https://localhost:8080/",
          "height": 1000
        },
        "id": "U8iH5Mg4A95D",
        "outputId": "6471f891-2c88-4ae3-fc40-413554c67fba"
      },
      "source": [
        "count = 0\n",
        "for i in batch_list:\n",
        "  count += 1\n",
        "  print(\"====\" + str(count) + \"====\")\n",
        "  print(\"Shape of Batch:\" + str(i.shape))\n",
        "  display(i.head(1))\n",
        "  print(\"Rows with NA:\")\n",
        "  display(i[i.isna().any(axis=1)])\n",
        "  # Download batched data into 10 diff. csv\n",
        "  #i.to_csv('Batch '+ str(count) + '.csv',index=False)\n",
        "  #files.download('Batch '+ str(count) + '.csv')\n"
      ],
      "execution_count": null,
      "outputs": [
        {
          "output_type": "stream",
          "text": [
            "====1====\n",
            "Shape of Batch:(15939, 2)\n"
          ],
          "name": "stdout"
        },
        {
          "output_type": "display_data",
          "data": {
            "text/html": [
              "<div>\n",
              "<style scoped>\n",
              "    .dataframe tbody tr th:only-of-type {\n",
              "        vertical-align: middle;\n",
              "    }\n",
              "\n",
              "    .dataframe tbody tr th {\n",
              "        vertical-align: top;\n",
              "    }\n",
              "\n",
              "    .dataframe thead th {\n",
              "        text-align: right;\n",
              "    }\n",
              "</style>\n",
              "<table border=\"1\" class=\"dataframe\">\n",
              "  <thead>\n",
              "    <tr style=\"text-align: right;\">\n",
              "      <th></th>\n",
              "      <th>Text</th>\n",
              "      <th>oh_label</th>\n",
              "    </tr>\n",
              "  </thead>\n",
              "  <tbody>\n",
              "    <tr>\n",
              "      <th>0</th>\n",
              "      <td>this one can make an analogy in mathematical t...</td>\n",
              "      <td>0</td>\n",
              "    </tr>\n",
              "  </tbody>\n",
              "</table>\n",
              "</div>"
            ],
            "text/plain": [
              "                                                Text  oh_label\n",
              "0  this one can make an analogy in mathematical t...         0"
            ]
          },
          "metadata": {
            "tags": []
          }
        },
        {
          "output_type": "stream",
          "text": [
            "Rows with NA:\n"
          ],
          "name": "stdout"
        },
        {
          "output_type": "display_data",
          "data": {
            "text/html": [
              "<div>\n",
              "<style scoped>\n",
              "    .dataframe tbody tr th:only-of-type {\n",
              "        vertical-align: middle;\n",
              "    }\n",
              "\n",
              "    .dataframe tbody tr th {\n",
              "        vertical-align: top;\n",
              "    }\n",
              "\n",
              "    .dataframe thead th {\n",
              "        text-align: right;\n",
              "    }\n",
              "</style>\n",
              "<table border=\"1\" class=\"dataframe\">\n",
              "  <thead>\n",
              "    <tr style=\"text-align: right;\">\n",
              "      <th></th>\n",
              "      <th>Text</th>\n",
              "      <th>oh_label</th>\n",
              "    </tr>\n",
              "  </thead>\n",
              "  <tbody>\n",
              "  </tbody>\n",
              "</table>\n",
              "</div>"
            ],
            "text/plain": [
              "Empty DataFrame\n",
              "Columns: [Text, oh_label]\n",
              "Index: []"
            ]
          },
          "metadata": {
            "tags": []
          }
        },
        {
          "output_type": "stream",
          "text": [
            "====2====\n",
            "Shape of Batch:(15939, 2)\n"
          ],
          "name": "stdout"
        },
        {
          "output_type": "display_data",
          "data": {
            "text/html": [
              "<div>\n",
              "<style scoped>\n",
              "    .dataframe tbody tr th:only-of-type {\n",
              "        vertical-align: middle;\n",
              "    }\n",
              "\n",
              "    .dataframe tbody tr th {\n",
              "        vertical-align: top;\n",
              "    }\n",
              "\n",
              "    .dataframe thead th {\n",
              "        text-align: right;\n",
              "    }\n",
              "</style>\n",
              "<table border=\"1\" class=\"dataframe\">\n",
              "  <thead>\n",
              "    <tr style=\"text-align: right;\">\n",
              "      <th></th>\n",
              "      <th>Text</th>\n",
              "      <th>oh_label</th>\n",
              "    </tr>\n",
              "  </thead>\n",
              "  <tbody>\n",
              "    <tr>\n",
              "      <th>15975</th>\n",
              "      <td>mainland asia includes the lower basin of ch...</td>\n",
              "      <td>0</td>\n",
              "    </tr>\n",
              "  </tbody>\n",
              "</table>\n",
              "</div>"
            ],
            "text/plain": [
              "                                                    Text  oh_label\n",
              "15975    mainland asia includes the lower basin of ch...         0"
            ]
          },
          "metadata": {
            "tags": []
          }
        },
        {
          "output_type": "stream",
          "text": [
            "Rows with NA:\n"
          ],
          "name": "stdout"
        },
        {
          "output_type": "display_data",
          "data": {
            "text/html": [
              "<div>\n",
              "<style scoped>\n",
              "    .dataframe tbody tr th:only-of-type {\n",
              "        vertical-align: middle;\n",
              "    }\n",
              "\n",
              "    .dataframe tbody tr th {\n",
              "        vertical-align: top;\n",
              "    }\n",
              "\n",
              "    .dataframe thead th {\n",
              "        text-align: right;\n",
              "    }\n",
              "</style>\n",
              "<table border=\"1\" class=\"dataframe\">\n",
              "  <thead>\n",
              "    <tr style=\"text-align: right;\">\n",
              "      <th></th>\n",
              "      <th>Text</th>\n",
              "      <th>oh_label</th>\n",
              "    </tr>\n",
              "  </thead>\n",
              "  <tbody>\n",
              "  </tbody>\n",
              "</table>\n",
              "</div>"
            ],
            "text/plain": [
              "Empty DataFrame\n",
              "Columns: [Text, oh_label]\n",
              "Index: []"
            ]
          },
          "metadata": {
            "tags": []
          }
        },
        {
          "output_type": "stream",
          "text": [
            "====3====\n",
            "Shape of Batch:(15939, 2)\n"
          ],
          "name": "stdout"
        },
        {
          "output_type": "display_data",
          "data": {
            "text/html": [
              "<div>\n",
              "<style scoped>\n",
              "    .dataframe tbody tr th:only-of-type {\n",
              "        vertical-align: middle;\n",
              "    }\n",
              "\n",
              "    .dataframe tbody tr th {\n",
              "        vertical-align: top;\n",
              "    }\n",
              "\n",
              "    .dataframe thead th {\n",
              "        text-align: right;\n",
              "    }\n",
              "</style>\n",
              "<table border=\"1\" class=\"dataframe\">\n",
              "  <thead>\n",
              "    <tr style=\"text-align: right;\">\n",
              "      <th></th>\n",
              "      <th>Text</th>\n",
              "      <th>oh_label</th>\n",
              "    </tr>\n",
              "  </thead>\n",
              "  <tbody>\n",
              "    <tr>\n",
              "      <th>31950</th>\n",
              "      <td>now that it is properly licensed i can put it ...</td>\n",
              "      <td>0</td>\n",
              "    </tr>\n",
              "  </tbody>\n",
              "</table>\n",
              "</div>"
            ],
            "text/plain": [
              "                                                    Text  oh_label\n",
              "31950  now that it is properly licensed i can put it ...         0"
            ]
          },
          "metadata": {
            "tags": []
          }
        },
        {
          "output_type": "stream",
          "text": [
            "Rows with NA:\n"
          ],
          "name": "stdout"
        },
        {
          "output_type": "display_data",
          "data": {
            "text/html": [
              "<div>\n",
              "<style scoped>\n",
              "    .dataframe tbody tr th:only-of-type {\n",
              "        vertical-align: middle;\n",
              "    }\n",
              "\n",
              "    .dataframe tbody tr th {\n",
              "        vertical-align: top;\n",
              "    }\n",
              "\n",
              "    .dataframe thead th {\n",
              "        text-align: right;\n",
              "    }\n",
              "</style>\n",
              "<table border=\"1\" class=\"dataframe\">\n",
              "  <thead>\n",
              "    <tr style=\"text-align: right;\">\n",
              "      <th></th>\n",
              "      <th>Text</th>\n",
              "      <th>oh_label</th>\n",
              "    </tr>\n",
              "  </thead>\n",
              "  <tbody>\n",
              "  </tbody>\n",
              "</table>\n",
              "</div>"
            ],
            "text/plain": [
              "Empty DataFrame\n",
              "Columns: [Text, oh_label]\n",
              "Index: []"
            ]
          },
          "metadata": {
            "tags": []
          }
        },
        {
          "output_type": "stream",
          "text": [
            "====4====\n",
            "Shape of Batch:(15939, 2)\n"
          ],
          "name": "stdout"
        },
        {
          "output_type": "display_data",
          "data": {
            "text/html": [
              "<div>\n",
              "<style scoped>\n",
              "    .dataframe tbody tr th:only-of-type {\n",
              "        vertical-align: middle;\n",
              "    }\n",
              "\n",
              "    .dataframe tbody tr th {\n",
              "        vertical-align: top;\n",
              "    }\n",
              "\n",
              "    .dataframe thead th {\n",
              "        text-align: right;\n",
              "    }\n",
              "</style>\n",
              "<table border=\"1\" class=\"dataframe\">\n",
              "  <thead>\n",
              "    <tr style=\"text-align: right;\">\n",
              "      <th></th>\n",
              "      <th>Text</th>\n",
              "      <th>oh_label</th>\n",
              "    </tr>\n",
              "  </thead>\n",
              "  <tbody>\n",
              "    <tr>\n",
              "      <th>47936</th>\n",
              "      <td>september   please stop if you continue to ...</td>\n",
              "      <td>0</td>\n",
              "    </tr>\n",
              "  </tbody>\n",
              "</table>\n",
              "</div>"
            ],
            "text/plain": [
              "                                                    Text  oh_label\n",
              "47936     september   please stop if you continue to ...         0"
            ]
          },
          "metadata": {
            "tags": []
          }
        },
        {
          "output_type": "stream",
          "text": [
            "Rows with NA:\n"
          ],
          "name": "stdout"
        },
        {
          "output_type": "display_data",
          "data": {
            "text/html": [
              "<div>\n",
              "<style scoped>\n",
              "    .dataframe tbody tr th:only-of-type {\n",
              "        vertical-align: middle;\n",
              "    }\n",
              "\n",
              "    .dataframe tbody tr th {\n",
              "        vertical-align: top;\n",
              "    }\n",
              "\n",
              "    .dataframe thead th {\n",
              "        text-align: right;\n",
              "    }\n",
              "</style>\n",
              "<table border=\"1\" class=\"dataframe\">\n",
              "  <thead>\n",
              "    <tr style=\"text-align: right;\">\n",
              "      <th></th>\n",
              "      <th>Text</th>\n",
              "      <th>oh_label</th>\n",
              "    </tr>\n",
              "  </thead>\n",
              "  <tbody>\n",
              "  </tbody>\n",
              "</table>\n",
              "</div>"
            ],
            "text/plain": [
              "Empty DataFrame\n",
              "Columns: [Text, oh_label]\n",
              "Index: []"
            ]
          },
          "metadata": {
            "tags": []
          }
        },
        {
          "output_type": "stream",
          "text": [
            "====5====\n",
            "Shape of Batch:(15939, 2)\n"
          ],
          "name": "stdout"
        },
        {
          "output_type": "display_data",
          "data": {
            "text/html": [
              "<div>\n",
              "<style scoped>\n",
              "    .dataframe tbody tr th:only-of-type {\n",
              "        vertical-align: middle;\n",
              "    }\n",
              "\n",
              "    .dataframe tbody tr th {\n",
              "        vertical-align: top;\n",
              "    }\n",
              "\n",
              "    .dataframe thead th {\n",
              "        text-align: right;\n",
              "    }\n",
              "</style>\n",
              "<table border=\"1\" class=\"dataframe\">\n",
              "  <thead>\n",
              "    <tr style=\"text-align: right;\">\n",
              "      <th></th>\n",
              "      <th>Text</th>\n",
              "      <th>oh_label</th>\n",
              "    </tr>\n",
              "  </thead>\n",
              "  <tbody>\n",
              "    <tr>\n",
              "      <th>63913</th>\n",
              "      <td>whiteway and southdown  whiteway and southdow...</td>\n",
              "      <td>0</td>\n",
              "    </tr>\n",
              "  </tbody>\n",
              "</table>\n",
              "</div>"
            ],
            "text/plain": [
              "                                                    Text  oh_label\n",
              "63913   whiteway and southdown  whiteway and southdow...         0"
            ]
          },
          "metadata": {
            "tags": []
          }
        },
        {
          "output_type": "stream",
          "text": [
            "Rows with NA:\n"
          ],
          "name": "stdout"
        },
        {
          "output_type": "display_data",
          "data": {
            "text/html": [
              "<div>\n",
              "<style scoped>\n",
              "    .dataframe tbody tr th:only-of-type {\n",
              "        vertical-align: middle;\n",
              "    }\n",
              "\n",
              "    .dataframe tbody tr th {\n",
              "        vertical-align: top;\n",
              "    }\n",
              "\n",
              "    .dataframe thead th {\n",
              "        text-align: right;\n",
              "    }\n",
              "</style>\n",
              "<table border=\"1\" class=\"dataframe\">\n",
              "  <thead>\n",
              "    <tr style=\"text-align: right;\">\n",
              "      <th></th>\n",
              "      <th>Text</th>\n",
              "      <th>oh_label</th>\n",
              "    </tr>\n",
              "  </thead>\n",
              "  <tbody>\n",
              "  </tbody>\n",
              "</table>\n",
              "</div>"
            ],
            "text/plain": [
              "Empty DataFrame\n",
              "Columns: [Text, oh_label]\n",
              "Index: []"
            ]
          },
          "metadata": {
            "tags": []
          }
        },
        {
          "output_type": "stream",
          "text": [
            "====6====\n",
            "Shape of Batch:(15939, 2)\n"
          ],
          "name": "stdout"
        },
        {
          "output_type": "display_data",
          "data": {
            "text/html": [
              "<div>\n",
              "<style scoped>\n",
              "    .dataframe tbody tr th:only-of-type {\n",
              "        vertical-align: middle;\n",
              "    }\n",
              "\n",
              "    .dataframe tbody tr th {\n",
              "        vertical-align: top;\n",
              "    }\n",
              "\n",
              "    .dataframe thead th {\n",
              "        text-align: right;\n",
              "    }\n",
              "</style>\n",
              "<table border=\"1\" class=\"dataframe\">\n",
              "  <thead>\n",
              "    <tr style=\"text-align: right;\">\n",
              "      <th></th>\n",
              "      <th>Text</th>\n",
              "      <th>oh_label</th>\n",
              "    </tr>\n",
              "  </thead>\n",
              "  <tbody>\n",
              "    <tr>\n",
              "      <th>79883</th>\n",
              "      <td>now you need to put an explantion of the tag o...</td>\n",
              "      <td>0</td>\n",
              "    </tr>\n",
              "  </tbody>\n",
              "</table>\n",
              "</div>"
            ],
            "text/plain": [
              "                                                    Text  oh_label\n",
              "79883  now you need to put an explantion of the tag o...         0"
            ]
          },
          "metadata": {
            "tags": []
          }
        },
        {
          "output_type": "stream",
          "text": [
            "Rows with NA:\n"
          ],
          "name": "stdout"
        },
        {
          "output_type": "display_data",
          "data": {
            "text/html": [
              "<div>\n",
              "<style scoped>\n",
              "    .dataframe tbody tr th:only-of-type {\n",
              "        vertical-align: middle;\n",
              "    }\n",
              "\n",
              "    .dataframe tbody tr th {\n",
              "        vertical-align: top;\n",
              "    }\n",
              "\n",
              "    .dataframe thead th {\n",
              "        text-align: right;\n",
              "    }\n",
              "</style>\n",
              "<table border=\"1\" class=\"dataframe\">\n",
              "  <thead>\n",
              "    <tr style=\"text-align: right;\">\n",
              "      <th></th>\n",
              "      <th>Text</th>\n",
              "      <th>oh_label</th>\n",
              "    </tr>\n",
              "  </thead>\n",
              "  <tbody>\n",
              "  </tbody>\n",
              "</table>\n",
              "</div>"
            ],
            "text/plain": [
              "Empty DataFrame\n",
              "Columns: [Text, oh_label]\n",
              "Index: []"
            ]
          },
          "metadata": {
            "tags": []
          }
        },
        {
          "output_type": "stream",
          "text": [
            "====7====\n",
            "Shape of Batch:(15939, 2)\n"
          ],
          "name": "stdout"
        },
        {
          "output_type": "display_data",
          "data": {
            "text/html": [
              "<div>\n",
              "<style scoped>\n",
              "    .dataframe tbody tr th:only-of-type {\n",
              "        vertical-align: middle;\n",
              "    }\n",
              "\n",
              "    .dataframe tbody tr th {\n",
              "        vertical-align: top;\n",
              "    }\n",
              "\n",
              "    .dataframe thead th {\n",
              "        text-align: right;\n",
              "    }\n",
              "</style>\n",
              "<table border=\"1\" class=\"dataframe\">\n",
              "  <thead>\n",
              "    <tr style=\"text-align: right;\">\n",
              "      <th></th>\n",
              "      <th>Text</th>\n",
              "      <th>oh_label</th>\n",
              "    </tr>\n",
              "  </thead>\n",
              "  <tbody>\n",
              "    <tr>\n",
              "      <th>95856</th>\n",
              "      <td>respect has to be earned the opposite of the ...</td>\n",
              "      <td>0</td>\n",
              "    </tr>\n",
              "  </tbody>\n",
              "</table>\n",
              "</div>"
            ],
            "text/plain": [
              "                                                    Text  oh_label\n",
              "95856   respect has to be earned the opposite of the ...         0"
            ]
          },
          "metadata": {
            "tags": []
          }
        },
        {
          "output_type": "stream",
          "text": [
            "Rows with NA:\n"
          ],
          "name": "stdout"
        },
        {
          "output_type": "display_data",
          "data": {
            "text/html": [
              "<div>\n",
              "<style scoped>\n",
              "    .dataframe tbody tr th:only-of-type {\n",
              "        vertical-align: middle;\n",
              "    }\n",
              "\n",
              "    .dataframe tbody tr th {\n",
              "        vertical-align: top;\n",
              "    }\n",
              "\n",
              "    .dataframe thead th {\n",
              "        text-align: right;\n",
              "    }\n",
              "</style>\n",
              "<table border=\"1\" class=\"dataframe\">\n",
              "  <thead>\n",
              "    <tr style=\"text-align: right;\">\n",
              "      <th></th>\n",
              "      <th>Text</th>\n",
              "      <th>oh_label</th>\n",
              "    </tr>\n",
              "  </thead>\n",
              "  <tbody>\n",
              "  </tbody>\n",
              "</table>\n",
              "</div>"
            ],
            "text/plain": [
              "Empty DataFrame\n",
              "Columns: [Text, oh_label]\n",
              "Index: []"
            ]
          },
          "metadata": {
            "tags": []
          }
        },
        {
          "output_type": "stream",
          "text": [
            "====8====\n",
            "Shape of Batch:(15939, 2)\n"
          ],
          "name": "stdout"
        },
        {
          "output_type": "display_data",
          "data": {
            "text/html": [
              "<div>\n",
              "<style scoped>\n",
              "    .dataframe tbody tr th:only-of-type {\n",
              "        vertical-align: middle;\n",
              "    }\n",
              "\n",
              "    .dataframe tbody tr th {\n",
              "        vertical-align: top;\n",
              "    }\n",
              "\n",
              "    .dataframe thead th {\n",
              "        text-align: right;\n",
              "    }\n",
              "</style>\n",
              "<table border=\"1\" class=\"dataframe\">\n",
              "  <thead>\n",
              "    <tr style=\"text-align: right;\">\n",
              "      <th></th>\n",
              "      <th>Text</th>\n",
              "      <th>oh_label</th>\n",
              "    </tr>\n",
              "  </thead>\n",
              "  <tbody>\n",
              "    <tr>\n",
              "      <th>111819</th>\n",
              "      <td>i am the gayest person on earth from boing sai...</td>\n",
              "      <td>1</td>\n",
              "    </tr>\n",
              "  </tbody>\n",
              "</table>\n",
              "</div>"
            ],
            "text/plain": [
              "                                                     Text  oh_label\n",
              "111819  i am the gayest person on earth from boing sai...         1"
            ]
          },
          "metadata": {
            "tags": []
          }
        },
        {
          "output_type": "stream",
          "text": [
            "Rows with NA:\n"
          ],
          "name": "stdout"
        },
        {
          "output_type": "display_data",
          "data": {
            "text/html": [
              "<div>\n",
              "<style scoped>\n",
              "    .dataframe tbody tr th:only-of-type {\n",
              "        vertical-align: middle;\n",
              "    }\n",
              "\n",
              "    .dataframe tbody tr th {\n",
              "        vertical-align: top;\n",
              "    }\n",
              "\n",
              "    .dataframe thead th {\n",
              "        text-align: right;\n",
              "    }\n",
              "</style>\n",
              "<table border=\"1\" class=\"dataframe\">\n",
              "  <thead>\n",
              "    <tr style=\"text-align: right;\">\n",
              "      <th></th>\n",
              "      <th>Text</th>\n",
              "      <th>oh_label</th>\n",
              "    </tr>\n",
              "  </thead>\n",
              "  <tbody>\n",
              "  </tbody>\n",
              "</table>\n",
              "</div>"
            ],
            "text/plain": [
              "Empty DataFrame\n",
              "Columns: [Text, oh_label]\n",
              "Index: []"
            ]
          },
          "metadata": {
            "tags": []
          }
        },
        {
          "output_type": "stream",
          "text": [
            "====9====\n",
            "Shape of Batch:(15938, 2)\n"
          ],
          "name": "stdout"
        },
        {
          "output_type": "display_data",
          "data": {
            "text/html": [
              "<div>\n",
              "<style scoped>\n",
              "    .dataframe tbody tr th:only-of-type {\n",
              "        vertical-align: middle;\n",
              "    }\n",
              "\n",
              "    .dataframe tbody tr th {\n",
              "        vertical-align: top;\n",
              "    }\n",
              "\n",
              "    .dataframe thead th {\n",
              "        text-align: right;\n",
              "    }\n",
              "</style>\n",
              "<table border=\"1\" class=\"dataframe\">\n",
              "  <thead>\n",
              "    <tr style=\"text-align: right;\">\n",
              "      <th></th>\n",
              "      <th>Text</th>\n",
              "      <th>oh_label</th>\n",
              "    </tr>\n",
              "  </thead>\n",
              "  <tbody>\n",
              "    <tr>\n",
              "      <th>127772</th>\n",
              "      <td>yeah just a bunch more whiney suck garbage fr...</td>\n",
              "      <td>1</td>\n",
              "    </tr>\n",
              "  </tbody>\n",
              "</table>\n",
              "</div>"
            ],
            "text/plain": [
              "                                                     Text  oh_label\n",
              "127772   yeah just a bunch more whiney suck garbage fr...         1"
            ]
          },
          "metadata": {
            "tags": []
          }
        },
        {
          "output_type": "stream",
          "text": [
            "Rows with NA:\n"
          ],
          "name": "stdout"
        },
        {
          "output_type": "display_data",
          "data": {
            "text/html": [
              "<div>\n",
              "<style scoped>\n",
              "    .dataframe tbody tr th:only-of-type {\n",
              "        vertical-align: middle;\n",
              "    }\n",
              "\n",
              "    .dataframe tbody tr th {\n",
              "        vertical-align: top;\n",
              "    }\n",
              "\n",
              "    .dataframe thead th {\n",
              "        text-align: right;\n",
              "    }\n",
              "</style>\n",
              "<table border=\"1\" class=\"dataframe\">\n",
              "  <thead>\n",
              "    <tr style=\"text-align: right;\">\n",
              "      <th></th>\n",
              "      <th>Text</th>\n",
              "      <th>oh_label</th>\n",
              "    </tr>\n",
              "  </thead>\n",
              "  <tbody>\n",
              "  </tbody>\n",
              "</table>\n",
              "</div>"
            ],
            "text/plain": [
              "Empty DataFrame\n",
              "Columns: [Text, oh_label]\n",
              "Index: []"
            ]
          },
          "metadata": {
            "tags": []
          }
        },
        {
          "output_type": "stream",
          "text": [
            "====10====\n",
            "Shape of Batch:(15938, 2)\n"
          ],
          "name": "stdout"
        },
        {
          "output_type": "display_data",
          "data": {
            "text/html": [
              "<div>\n",
              "<style scoped>\n",
              "    .dataframe tbody tr th:only-of-type {\n",
              "        vertical-align: middle;\n",
              "    }\n",
              "\n",
              "    .dataframe tbody tr th {\n",
              "        vertical-align: top;\n",
              "    }\n",
              "\n",
              "    .dataframe thead th {\n",
              "        text-align: right;\n",
              "    }\n",
              "</style>\n",
              "<table border=\"1\" class=\"dataframe\">\n",
              "  <thead>\n",
              "    <tr style=\"text-align: right;\">\n",
              "      <th></th>\n",
              "      <th>Text</th>\n",
              "      <th>oh_label</th>\n",
              "    </tr>\n",
              "  </thead>\n",
              "  <tbody>\n",
              "    <tr>\n",
              "      <th>143722</th>\n",
              "      <td>sockpuppets of techastrax  hi i would like to...</td>\n",
              "      <td>0</td>\n",
              "    </tr>\n",
              "  </tbody>\n",
              "</table>\n",
              "</div>"
            ],
            "text/plain": [
              "                                                     Text  oh_label\n",
              "143722   sockpuppets of techastrax  hi i would like to...         0"
            ]
          },
          "metadata": {
            "tags": []
          }
        },
        {
          "output_type": "stream",
          "text": [
            "Rows with NA:\n"
          ],
          "name": "stdout"
        },
        {
          "output_type": "display_data",
          "data": {
            "text/html": [
              "<div>\n",
              "<style scoped>\n",
              "    .dataframe tbody tr th:only-of-type {\n",
              "        vertical-align: middle;\n",
              "    }\n",
              "\n",
              "    .dataframe tbody tr th {\n",
              "        vertical-align: top;\n",
              "    }\n",
              "\n",
              "    .dataframe thead th {\n",
              "        text-align: right;\n",
              "    }\n",
              "</style>\n",
              "<table border=\"1\" class=\"dataframe\">\n",
              "  <thead>\n",
              "    <tr style=\"text-align: right;\">\n",
              "      <th></th>\n",
              "      <th>Text</th>\n",
              "      <th>oh_label</th>\n",
              "    </tr>\n",
              "  </thead>\n",
              "  <tbody>\n",
              "  </tbody>\n",
              "</table>\n",
              "</div>"
            ],
            "text/plain": [
              "Empty DataFrame\n",
              "Columns: [Text, oh_label]\n",
              "Index: []"
            ]
          },
          "metadata": {
            "tags": []
          }
        }
      ]
    },
    {
      "cell_type": "code",
      "metadata": {
        "id": "nSDlETzKUVOM"
      },
      "source": [
        "# Load DistilBERT word embedding (Smaller version of BERT with relatively the same accuracy)\n",
        "# Set Max_Seq_Length = 200\n",
        "\n",
        "dbt = BertTransformer(DistilBertTokenizer.from_pretrained(\"distilbert-base-uncased\"),\n",
        "                      DistilBertModel.from_pretrained(\"distilbert-base-uncased\"),\n",
        "                      embedding_func=lambda x: x[0][:, 0, :].squeeze(),max_length = 200)"
      ],
      "execution_count": null,
      "outputs": []
    },
    {
      "cell_type": "code",
      "metadata": {
        "id": "Akld838W49Qt"
      },
      "source": [
        "batch_list_name = [\"batch_1\", \"batch_2\", \"batch_3\", \"batch_4\", \"batch_5\", \"batch_6\", \"batch_7\", \"batch_8\", \"batch_9\", \"batch_10\"]\n",
        "path = \"/content\""
      ],
      "execution_count": null,
      "outputs": []
    },
    {
      "cell_type": "code",
      "metadata": {
        "colab": {
          "base_uri": "https://localhost:8080/",
          "height": 50
        },
        "id": "6LgQvS9fIoRB",
        "outputId": "95dfcb23-ff54-4325-c84f-5c34cda9992e"
      },
      "source": [
        "from google.colab import files\n",
        "count = 0\n",
        "\n",
        "for i in batch_list:\n",
        "  batch_vectorised = dbt.fit_transform(i[\"Text\"])\n",
        "  save_pkl_pickle(path, batch_vectorised, batch_list_name[count] + \"_vectorised\")\n",
        "  #files.download(batch_list_name[count] + '_vectorised.pickle')\n",
        "  count +=1"
      ],
      "execution_count": null,
      "outputs": [
        {
          "output_type": "stream",
          "text": [
            "====done saving into pickle using Pickle!====\n"
          ],
          "name": "stdout"
        },
        {
          "output_type": "display_data",
          "data": {
            "application/javascript": [
              "\n",
              "    async function download(id, filename, size) {\n",
              "      if (!google.colab.kernel.accessAllowed) {\n",
              "        return;\n",
              "      }\n",
              "      const div = document.createElement('div');\n",
              "      const label = document.createElement('label');\n",
              "      label.textContent = `Downloading \"${filename}\": `;\n",
              "      div.appendChild(label);\n",
              "      const progress = document.createElement('progress');\n",
              "      progress.max = size;\n",
              "      div.appendChild(progress);\n",
              "      document.body.appendChild(div);\n",
              "\n",
              "      const buffers = [];\n",
              "      let downloaded = 0;\n",
              "\n",
              "      const channel = await google.colab.kernel.comms.open(id);\n",
              "      // Send a message to notify the kernel that we're ready.\n",
              "      channel.send({})\n",
              "\n",
              "      for await (const message of channel.messages) {\n",
              "        // Send a message to notify the kernel that we're ready.\n",
              "        channel.send({})\n",
              "        if (message.buffers) {\n",
              "          for (const buffer of message.buffers) {\n",
              "            buffers.push(buffer);\n",
              "            downloaded += buffer.byteLength;\n",
              "            progress.value = downloaded;\n",
              "          }\n",
              "        }\n",
              "      }\n",
              "      const blob = new Blob(buffers, {type: 'application/binary'});\n",
              "      const a = document.createElement('a');\n",
              "      a.href = window.URL.createObjectURL(blob);\n",
              "      a.download = filename;\n",
              "      div.appendChild(a);\n",
              "      a.click();\n",
              "      div.remove();\n",
              "    }\n",
              "  "
            ],
            "text/plain": [
              "<IPython.core.display.Javascript object>"
            ]
          },
          "metadata": {
            "tags": []
          }
        },
        {
          "output_type": "display_data",
          "data": {
            "application/javascript": [
              "download(\"download_be72d4b4-e5e5-455c-8baf-61ef8bf693cf\", \"batch_1_vectorised.pickle\", 48965005)"
            ],
            "text/plain": [
              "<IPython.core.display.Javascript object>"
            ]
          },
          "metadata": {
            "tags": []
          }
        }
      ]
    },
    {
      "cell_type": "markdown",
      "metadata": {
        "id": "3jGQtCqT-3gM"
      },
      "source": [
        "## Import Batch Processed Data"
      ]
    },
    {
      "cell_type": "code",
      "metadata": {
        "colab": {
          "base_uri": "https://localhost:8080/"
        },
        "id": "0AMhsBNB_Hni",
        "outputId": "5ee58692-cc5d-4d47-8ec6-58ce011e4766"
      },
      "source": [
        "# Load dataset\n",
        "df = pd.read_csv(dir + '/toxicity_parsed_dataset.csv')\n",
        "\n",
        "# First 5 Rows\n",
        "display(df.head())\n",
        "\n",
        "# Remove columns\n",
        "df=df.drop(['index','ed_label_1','ed_label_0'],axis=1)\n",
        "display(df.head())\n",
        "\n",
        "# Ratio of Toxic:Non-Toxic Labels \n",
        "# 0:    144324\n",
        "# 1:    15362\n",
        "# Total: 159686\n",
        "display(df['oh_label'].value_counts(dropna = False))\n",
        "\n",
        "# Drop NaN\n",
        "df = df.dropna()\n",
        "display(df['oh_label'].value_counts(dropna = False))\n",
        "df_BERT = df.copy()\n",
        "\n",
        "df_BERT=preparation(df_BERT)\n",
        "\n",
        "#change all to lower case\n",
        "df_BERT['Text'] = df_BERT['Text'].apply(lambda x: \" \".join(x.lower() for x in x.split()))\n",
        "\n",
        "#replace special characters\n",
        "df_BERT['Text'] = df_BERT['Text'].str.replace('[^\\w\\s]','')\n",
        "\n",
        "#remove numbers from text\n",
        "df_BERT['Text'] = df_BERT['Text'].str.replace('\\d+', '')\n",
        "\n",
        "#remove stopwords\n",
        "\n",
        "nltk.download('stopwords')\n",
        "stop = stopwords.words('english')\n",
        "\n",
        "df_BERT['Text'] = df_BERT['Text'].apply(lambda x: \" \".join(x for x in x.split() if x not in stop))\n",
        "\n",
        "display(df_BERT.shape)"
      ],
      "execution_count": null,
      "outputs": [
        {
          "output_type": "display_data",
          "data": {
            "text/html": [
              "<div>\n",
              "<style scoped>\n",
              "    .dataframe tbody tr th:only-of-type {\n",
              "        vertical-align: middle;\n",
              "    }\n",
              "\n",
              "    .dataframe tbody tr th {\n",
              "        vertical-align: top;\n",
              "    }\n",
              "\n",
              "    .dataframe thead th {\n",
              "        text-align: right;\n",
              "    }\n",
              "</style>\n",
              "<table border=\"1\" class=\"dataframe\">\n",
              "  <thead>\n",
              "    <tr style=\"text-align: right;\">\n",
              "      <th></th>\n",
              "      <th>index</th>\n",
              "      <th>Text</th>\n",
              "      <th>ed_label_0</th>\n",
              "      <th>ed_label_1</th>\n",
              "      <th>oh_label</th>\n",
              "    </tr>\n",
              "  </thead>\n",
              "  <tbody>\n",
              "    <tr>\n",
              "      <th>0</th>\n",
              "      <td>0</td>\n",
              "      <td>This: :One can make an analogy in mathematical...</td>\n",
              "      <td>0.90</td>\n",
              "      <td>0.10</td>\n",
              "      <td>0</td>\n",
              "    </tr>\n",
              "    <tr>\n",
              "      <th>1</th>\n",
              "      <td>1</td>\n",
              "      <td>`  :Clarification for you  (and Zundark's righ...</td>\n",
              "      <td>1.00</td>\n",
              "      <td>0.00</td>\n",
              "      <td>0</td>\n",
              "    </tr>\n",
              "    <tr>\n",
              "      <th>2</th>\n",
              "      <td>2</td>\n",
              "      <td>Elected or Electoral? JHK</td>\n",
              "      <td>1.00</td>\n",
              "      <td>0.00</td>\n",
              "      <td>0</td>\n",
              "    </tr>\n",
              "    <tr>\n",
              "      <th>3</th>\n",
              "      <td>3</td>\n",
              "      <td>`This is such a fun entry.   Devotchka  I once...</td>\n",
              "      <td>1.00</td>\n",
              "      <td>0.00</td>\n",
              "      <td>0</td>\n",
              "    </tr>\n",
              "    <tr>\n",
              "      <th>4</th>\n",
              "      <td>4</td>\n",
              "      <td>Please relate the ozone hole to increases in c...</td>\n",
              "      <td>0.80</td>\n",
              "      <td>0.20</td>\n",
              "      <td>0</td>\n",
              "    </tr>\n",
              "  </tbody>\n",
              "</table>\n",
              "</div>"
            ],
            "text/plain": [
              "   index  ... oh_label\n",
              "0      0  ...        0\n",
              "1      1  ...        0\n",
              "2      2  ...        0\n",
              "3      3  ...        0\n",
              "4      4  ...        0\n",
              "\n",
              "[5 rows x 5 columns]"
            ]
          },
          "metadata": {
            "tags": []
          }
        },
        {
          "output_type": "display_data",
          "data": {
            "text/html": [
              "<div>\n",
              "<style scoped>\n",
              "    .dataframe tbody tr th:only-of-type {\n",
              "        vertical-align: middle;\n",
              "    }\n",
              "\n",
              "    .dataframe tbody tr th {\n",
              "        vertical-align: top;\n",
              "    }\n",
              "\n",
              "    .dataframe thead th {\n",
              "        text-align: right;\n",
              "    }\n",
              "</style>\n",
              "<table border=\"1\" class=\"dataframe\">\n",
              "  <thead>\n",
              "    <tr style=\"text-align: right;\">\n",
              "      <th></th>\n",
              "      <th>Text</th>\n",
              "      <th>oh_label</th>\n",
              "    </tr>\n",
              "  </thead>\n",
              "  <tbody>\n",
              "    <tr>\n",
              "      <th>0</th>\n",
              "      <td>This: :One can make an analogy in mathematical...</td>\n",
              "      <td>0</td>\n",
              "    </tr>\n",
              "    <tr>\n",
              "      <th>1</th>\n",
              "      <td>`  :Clarification for you  (and Zundark's righ...</td>\n",
              "      <td>0</td>\n",
              "    </tr>\n",
              "    <tr>\n",
              "      <th>2</th>\n",
              "      <td>Elected or Electoral? JHK</td>\n",
              "      <td>0</td>\n",
              "    </tr>\n",
              "    <tr>\n",
              "      <th>3</th>\n",
              "      <td>`This is such a fun entry.   Devotchka  I once...</td>\n",
              "      <td>0</td>\n",
              "    </tr>\n",
              "    <tr>\n",
              "      <th>4</th>\n",
              "      <td>Please relate the ozone hole to increases in c...</td>\n",
              "      <td>0</td>\n",
              "    </tr>\n",
              "  </tbody>\n",
              "</table>\n",
              "</div>"
            ],
            "text/plain": [
              "                                                Text  oh_label\n",
              "0  This: :One can make an analogy in mathematical...         0\n",
              "1  `  :Clarification for you  (and Zundark's righ...         0\n",
              "2                          Elected or Electoral? JHK         0\n",
              "3  `This is such a fun entry.   Devotchka  I once...         0\n",
              "4  Please relate the ozone hole to increases in c...         0"
            ]
          },
          "metadata": {
            "tags": []
          }
        },
        {
          "output_type": "display_data",
          "data": {
            "text/plain": [
              "0    144324\n",
              "1     15362\n",
              "Name: oh_label, dtype: int64"
            ]
          },
          "metadata": {
            "tags": []
          }
        },
        {
          "output_type": "display_data",
          "data": {
            "text/plain": [
              "0    144324\n",
              "1     15362\n",
              "Name: oh_label, dtype: int64"
            ]
          },
          "metadata": {
            "tags": []
          }
        },
        {
          "output_type": "stream",
          "text": [
            "/usr/local/lib/python3.7/dist-packages/ipykernel_launcher.py:117: SettingWithCopyWarning: \n",
            "A value is trying to be set on a copy of a slice from a DataFrame.\n",
            "Try using .loc[row_indexer,col_indexer] = value instead\n",
            "\n",
            "See the caveats in the documentation: https://pandas.pydata.org/pandas-docs/stable/user_guide/indexing.html#returning-a-view-versus-a-copy\n",
            "/usr/local/lib/python3.7/dist-packages/ipykernel_launcher.py:118: SettingWithCopyWarning: \n",
            "A value is trying to be set on a copy of a slice from a DataFrame\n",
            "\n",
            "See the caveats in the documentation: https://pandas.pydata.org/pandas-docs/stable/user_guide/indexing.html#returning-a-view-versus-a-copy\n"
          ],
          "name": "stderr"
        },
        {
          "output_type": "stream",
          "text": [
            "[nltk_data] Downloading package stopwords to /root/nltk_data...\n",
            "[nltk_data]   Package stopwords is already up-to-date!\n"
          ],
          "name": "stdout"
        },
        {
          "output_type": "display_data",
          "data": {
            "text/plain": [
              "(159388, 2)"
            ]
          },
          "metadata": {
            "tags": []
          }
        }
      ]
    },
    {
      "cell_type": "code",
      "metadata": {
        "colab": {
          "base_uri": "https://localhost:8080/"
        },
        "id": "m8veMhTeC3vW",
        "outputId": "0e25b81a-550a-4089-d2fd-d8e52991cc0c"
      },
      "source": [
        "# Getting Y data\n",
        "Y = df_BERT[\"oh_label\"]\n",
        "Y.head()\n",
        "Y.shape"
      ],
      "execution_count": null,
      "outputs": [
        {
          "output_type": "execute_result",
          "data": {
            "text/plain": [
              "(159388,)"
            ]
          },
          "metadata": {
            "tags": []
          },
          "execution_count": 12
        }
      ]
    },
    {
      "cell_type": "code",
      "metadata": {
        "colab": {
          "base_uri": "https://localhost:8080/"
        },
        "id": "7sykt0UU-2te",
        "outputId": "0a22ce8e-9155-481a-d34f-3cd07c0ee1be"
      },
      "source": [
        "# Load batch data\n",
        "#path = \"/content\" \n",
        "infile = open(dir + \"/batch_1_vectorised.pickle\",'rb')\n",
        "batch_1_vectorised = pickle.load(infile)\n",
        "batch_1_vectorised.shape"
      ],
      "execution_count": null,
      "outputs": [
        {
          "output_type": "execute_result",
          "data": {
            "text/plain": [
              "torch.Size([15939, 768])"
            ]
          },
          "metadata": {
            "tags": []
          },
          "execution_count": 13
        }
      ]
    },
    {
      "cell_type": "code",
      "metadata": {
        "colab": {
          "base_uri": "https://localhost:8080/"
        },
        "id": "QGWTQslW__1P",
        "outputId": "02eee259-77c4-4559-8d0d-cf2164c2cf78"
      },
      "source": [
        "# Load batch data \n",
        "infile = open(dir + \"/batch_2_vectorised.pickle\",'rb')\n",
        "batch_2_vectorised = pickle.load(infile)\n",
        "batch_2_vectorised.shape"
      ],
      "execution_count": null,
      "outputs": [
        {
          "output_type": "execute_result",
          "data": {
            "text/plain": [
              "torch.Size([15939, 768])"
            ]
          },
          "metadata": {
            "tags": []
          },
          "execution_count": 14
        }
      ]
    },
    {
      "cell_type": "code",
      "metadata": {
        "colab": {
          "base_uri": "https://localhost:8080/"
        },
        "id": "tR7ui-CwABv0",
        "outputId": "3dc1e617-fec3-43d0-9cd4-78dcf4b83694"
      },
      "source": [
        "# Load batch data \n",
        "infile = open(dir + \"/batch_3_vectorised.pickle\",'rb')\n",
        "batch_3_vectorised = pickle.load(infile)\n",
        "batch_3_vectorised.shape"
      ],
      "execution_count": null,
      "outputs": [
        {
          "output_type": "execute_result",
          "data": {
            "text/plain": [
              "torch.Size([15939, 768])"
            ]
          },
          "metadata": {
            "tags": []
          },
          "execution_count": 15
        }
      ]
    },
    {
      "cell_type": "code",
      "metadata": {
        "colab": {
          "base_uri": "https://localhost:8080/"
        },
        "id": "cDyw6itZADqr",
        "outputId": "d333ab9b-979e-4d5a-8b4f-e236a36ca96d"
      },
      "source": [
        "# Load batch data \n",
        "infile = open(dir + \"/batch_4_vectorised.pickle\",'rb')\n",
        "batch_4_vectorised = pickle.load(infile)\n",
        "batch_4_vectorised.shape"
      ],
      "execution_count": null,
      "outputs": [
        {
          "output_type": "execute_result",
          "data": {
            "text/plain": [
              "torch.Size([15939, 768])"
            ]
          },
          "metadata": {
            "tags": []
          },
          "execution_count": 16
        }
      ]
    },
    {
      "cell_type": "code",
      "metadata": {
        "colab": {
          "base_uri": "https://localhost:8080/"
        },
        "id": "7sjK9MvQAFk5",
        "outputId": "987da4fc-4fb5-462c-c5e9-b14fde34cd1a"
      },
      "source": [
        "# Load batch data \n",
        "infile = open(dir + \"/batch_5_vectorised.pickle\",'rb')\n",
        "batch_5_vectorised = pickle.load(infile)\n",
        "batch_5_vectorised.shape"
      ],
      "execution_count": null,
      "outputs": [
        {
          "output_type": "execute_result",
          "data": {
            "text/plain": [
              "torch.Size([15939, 768])"
            ]
          },
          "metadata": {
            "tags": []
          },
          "execution_count": 17
        }
      ]
    },
    {
      "cell_type": "code",
      "metadata": {
        "colab": {
          "base_uri": "https://localhost:8080/"
        },
        "id": "zdx5a8wuAHIL",
        "outputId": "d280e408-a0a3-4143-f06f-16ea3f32ed61"
      },
      "source": [
        "# Load batch data \n",
        "infile = open(dir + \"/batch_6_vectorised.pickle\",'rb')\n",
        "batch_6_vectorised = pickle.load(infile)\n",
        "batch_6_vectorised.shape"
      ],
      "execution_count": null,
      "outputs": [
        {
          "output_type": "execute_result",
          "data": {
            "text/plain": [
              "torch.Size([15939, 768])"
            ]
          },
          "metadata": {
            "tags": []
          },
          "execution_count": 18
        }
      ]
    },
    {
      "cell_type": "code",
      "metadata": {
        "colab": {
          "base_uri": "https://localhost:8080/"
        },
        "id": "Ocsi0CfjAI52",
        "outputId": "dcddc08f-e679-4d01-9b9f-8397a9052ea2"
      },
      "source": [
        "# Load batch data \n",
        "infile = open(dir + \"/batch_7_vectorised.pickle\",'rb')\n",
        "batch_7_vectorised = pickle.load(infile)\n",
        "batch_7_vectorised.shape"
      ],
      "execution_count": null,
      "outputs": [
        {
          "output_type": "execute_result",
          "data": {
            "text/plain": [
              "torch.Size([15939, 768])"
            ]
          },
          "metadata": {
            "tags": []
          },
          "execution_count": 19
        }
      ]
    },
    {
      "cell_type": "code",
      "metadata": {
        "colab": {
          "base_uri": "https://localhost:8080/"
        },
        "id": "J_gjeqZjALQv",
        "outputId": "26899258-a8c3-4c06-9647-67df14367613"
      },
      "source": [
        "# Load batch data \n",
        "infile = open(dir + \"/batch_8_vectorised.pickle\",'rb')\n",
        "batch_8_vectorised = pickle.load(infile)\n",
        "batch_8_vectorised.shape"
      ],
      "execution_count": null,
      "outputs": [
        {
          "output_type": "execute_result",
          "data": {
            "text/plain": [
              "torch.Size([15939, 768])"
            ]
          },
          "metadata": {
            "tags": []
          },
          "execution_count": 20
        }
      ]
    },
    {
      "cell_type": "code",
      "metadata": {
        "colab": {
          "base_uri": "https://localhost:8080/"
        },
        "id": "GNDKAxbhANHt",
        "outputId": "26afc44e-9fc8-48dc-e30b-a204cef692c1"
      },
      "source": [
        "# Load batch data \n",
        "infile = open(dir + \"/batch_9_vectorised.pickle\",'rb')\n",
        "batch_9_vectorised = pickle.load(infile)\n",
        "batch_9_vectorised.shape"
      ],
      "execution_count": null,
      "outputs": [
        {
          "output_type": "execute_result",
          "data": {
            "text/plain": [
              "torch.Size([15938, 768])"
            ]
          },
          "metadata": {
            "tags": []
          },
          "execution_count": 21
        }
      ]
    },
    {
      "cell_type": "code",
      "metadata": {
        "colab": {
          "base_uri": "https://localhost:8080/"
        },
        "id": "VzcwJpsxAPsK",
        "outputId": "ccc05ff4-45d1-4eac-8671-828b1fa21622"
      },
      "source": [
        "# Load batch data \n",
        "infile = open(dir + \"/batch_10_vectorised.pickle\",'rb')\n",
        "batch_10_vectorised = pickle.load(infile)\n",
        "batch_10_vectorised.shape"
      ],
      "execution_count": null,
      "outputs": [
        {
          "output_type": "execute_result",
          "data": {
            "text/plain": [
              "torch.Size([15938, 768])"
            ]
          },
          "metadata": {
            "tags": []
          },
          "execution_count": 22
        }
      ]
    },
    {
      "cell_type": "code",
      "metadata": {
        "id": "GAs977ISDD8-",
        "colab": {
          "base_uri": "https://localhost:8080/"
        },
        "outputId": "0e8b6967-d61c-4dea-eb72-83105d3a72df"
      },
      "source": [
        "# Getting X_BERT_vectorised data\n",
        "X_vectorised = torch.cat([batch_1_vectorised, batch_2_vectorised, \n",
        "                          batch_3_vectorised, batch_4_vectorised, \n",
        "                          batch_5_vectorised, batch_6_vectorised, \n",
        "                          batch_7_vectorised, batch_8_vectorised, \n",
        "                          batch_9_vectorised, batch_10_vectorised, ], 0)\n",
        "\n",
        "X_vectorised.shape"
      ],
      "execution_count": null,
      "outputs": [
        {
          "output_type": "execute_result",
          "data": {
            "text/plain": [
              "torch.Size([159388, 768])"
            ]
          },
          "metadata": {
            "tags": []
          },
          "execution_count": 23
        }
      ]
    },
    {
      "cell_type": "markdown",
      "metadata": {
        "id": "WHlDT-6vBITP"
      },
      "source": [
        "## Processing Imported Data"
      ]
    },
    {
      "cell_type": "code",
      "metadata": {
        "id": "ZDUpPi9gF3SD"
      },
      "source": [
        "# Train-test split X_BERT_vectorised and Y\n",
        "X_train, X_val, y_train, y_val = train_test_split(X_vectorised, Y, random_state=0, test_size=0.4)"
      ],
      "execution_count": null,
      "outputs": []
    },
    {
      "cell_type": "code",
      "metadata": {
        "colab": {
          "base_uri": "https://localhost:8080/",
          "height": 86
        },
        "id": "3Q-LXr6nGLw6",
        "outputId": "2f775e58-ad6c-4bfe-b640-9bb7654444db"
      },
      "source": [
        "display(X_train.shape)\n",
        "display(X_val.shape)\n",
        "display(y_train.shape)\n",
        "display(y_val.shape)"
      ],
      "execution_count": null,
      "outputs": [
        {
          "output_type": "display_data",
          "data": {
            "text/plain": [
              "torch.Size([95632, 768])"
            ]
          },
          "metadata": {
            "tags": []
          }
        },
        {
          "output_type": "display_data",
          "data": {
            "text/plain": [
              "torch.Size([63756, 768])"
            ]
          },
          "metadata": {
            "tags": []
          }
        },
        {
          "output_type": "display_data",
          "data": {
            "text/plain": [
              "(95632,)"
            ]
          },
          "metadata": {
            "tags": []
          }
        },
        {
          "output_type": "display_data",
          "data": {
            "text/plain": [
              "(63756,)"
            ]
          },
          "metadata": {
            "tags": []
          }
        }
      ]
    },
    {
      "cell_type": "code",
      "metadata": {
        "colab": {
          "base_uri": "https://localhost:8080/",
          "height": 104
        },
        "id": "SsEtSBp4GsBb",
        "outputId": "01434136-213a-438d-8a68-2e20f00a4334"
      },
      "source": [
        "# Saving X_train, X_val, y_train, y_val \n",
        "# Note: X is BERT word embeddings of text data in toxicity dataset, Y is label\n",
        "path = '/content'\n",
        "save_pkl_pickle(path, X_train, \"X_train\")\n",
        "save_pkl_pickle(path, X_val, \"X_val\")\n",
        "save_pkl_pickle(path, y_train, \"y_train\")\n",
        "save_pkl_pickle(path, y_val, \"y_val\")\n",
        "files.download('X_train.pickle')\n",
        "files.download('X_val.pickle')\n",
        "files.download('y_train.pickle')\n",
        "files.download('y_val.pickle')"
      ],
      "execution_count": null,
      "outputs": [
        {
          "output_type": "stream",
          "text": [
            "====done saving into pickle using Pickle!====\n",
            "====done saving into pickle using Pickle!====\n",
            "====done saving into pickle using Pickle!====\n",
            "====done saving into pickle using Pickle!====\n"
          ],
          "name": "stdout"
        },
        {
          "output_type": "display_data",
          "data": {
            "application/javascript": [
              "\n",
              "    async function download(id, filename, size) {\n",
              "      if (!google.colab.kernel.accessAllowed) {\n",
              "        return;\n",
              "      }\n",
              "      const div = document.createElement('div');\n",
              "      const label = document.createElement('label');\n",
              "      label.textContent = `Downloading \"${filename}\": `;\n",
              "      div.appendChild(label);\n",
              "      const progress = document.createElement('progress');\n",
              "      progress.max = size;\n",
              "      div.appendChild(progress);\n",
              "      document.body.appendChild(div);\n",
              "\n",
              "      const buffers = [];\n",
              "      let downloaded = 0;\n",
              "\n",
              "      const channel = await google.colab.kernel.comms.open(id);\n",
              "      // Send a message to notify the kernel that we're ready.\n",
              "      channel.send({})\n",
              "\n",
              "      for await (const message of channel.messages) {\n",
              "        // Send a message to notify the kernel that we're ready.\n",
              "        channel.send({})\n",
              "        if (message.buffers) {\n",
              "          for (const buffer of message.buffers) {\n",
              "            buffers.push(buffer);\n",
              "            downloaded += buffer.byteLength;\n",
              "            progress.value = downloaded;\n",
              "          }\n",
              "        }\n",
              "      }\n",
              "      const blob = new Blob(buffers, {type: 'application/binary'});\n",
              "      const a = document.createElement('a');\n",
              "      a.href = window.URL.createObjectURL(blob);\n",
              "      a.download = filename;\n",
              "      div.appendChild(a);\n",
              "      a.click();\n",
              "      div.remove();\n",
              "    }\n",
              "  "
            ],
            "text/plain": [
              "<IPython.core.display.Javascript object>"
            ]
          },
          "metadata": {
            "tags": []
          }
        },
        {
          "output_type": "display_data",
          "data": {
            "application/javascript": [
              "download(\"download_db829a06-2870-48aa-baae-b649edd11f55\", \"X_train.pickle\", 293781903)"
            ],
            "text/plain": [
              "<IPython.core.display.Javascript object>"
            ]
          },
          "metadata": {
            "tags": []
          }
        },
        {
          "output_type": "display_data",
          "data": {
            "application/javascript": [
              "\n",
              "    async function download(id, filename, size) {\n",
              "      if (!google.colab.kernel.accessAllowed) {\n",
              "        return;\n",
              "      }\n",
              "      const div = document.createElement('div');\n",
              "      const label = document.createElement('label');\n",
              "      label.textContent = `Downloading \"${filename}\": `;\n",
              "      div.appendChild(label);\n",
              "      const progress = document.createElement('progress');\n",
              "      progress.max = size;\n",
              "      div.appendChild(progress);\n",
              "      document.body.appendChild(div);\n",
              "\n",
              "      const buffers = [];\n",
              "      let downloaded = 0;\n",
              "\n",
              "      const channel = await google.colab.kernel.comms.open(id);\n",
              "      // Send a message to notify the kernel that we're ready.\n",
              "      channel.send({})\n",
              "\n",
              "      for await (const message of channel.messages) {\n",
              "        // Send a message to notify the kernel that we're ready.\n",
              "        channel.send({})\n",
              "        if (message.buffers) {\n",
              "          for (const buffer of message.buffers) {\n",
              "            buffers.push(buffer);\n",
              "            downloaded += buffer.byteLength;\n",
              "            progress.value = downloaded;\n",
              "          }\n",
              "        }\n",
              "      }\n",
              "      const blob = new Blob(buffers, {type: 'application/binary'});\n",
              "      const a = document.createElement('a');\n",
              "      a.href = window.URL.createObjectURL(blob);\n",
              "      a.download = filename;\n",
              "      div.appendChild(a);\n",
              "      a.click();\n",
              "      div.remove();\n",
              "    }\n",
              "  "
            ],
            "text/plain": [
              "<IPython.core.display.Javascript object>"
            ]
          },
          "metadata": {
            "tags": []
          }
        },
        {
          "output_type": "display_data",
          "data": {
            "application/javascript": [
              "download(\"download_838b2c74-6d0d-41ab-af27-6cc10f418269\", \"X_val.pickle\", 195858829)"
            ],
            "text/plain": [
              "<IPython.core.display.Javascript object>"
            ]
          },
          "metadata": {
            "tags": []
          }
        },
        {
          "output_type": "display_data",
          "data": {
            "application/javascript": [
              "\n",
              "    async function download(id, filename, size) {\n",
              "      if (!google.colab.kernel.accessAllowed) {\n",
              "        return;\n",
              "      }\n",
              "      const div = document.createElement('div');\n",
              "      const label = document.createElement('label');\n",
              "      label.textContent = `Downloading \"${filename}\": `;\n",
              "      div.appendChild(label);\n",
              "      const progress = document.createElement('progress');\n",
              "      progress.max = size;\n",
              "      div.appendChild(progress);\n",
              "      document.body.appendChild(div);\n",
              "\n",
              "      const buffers = [];\n",
              "      let downloaded = 0;\n",
              "\n",
              "      const channel = await google.colab.kernel.comms.open(id);\n",
              "      // Send a message to notify the kernel that we're ready.\n",
              "      channel.send({})\n",
              "\n",
              "      for await (const message of channel.messages) {\n",
              "        // Send a message to notify the kernel that we're ready.\n",
              "        channel.send({})\n",
              "        if (message.buffers) {\n",
              "          for (const buffer of message.buffers) {\n",
              "            buffers.push(buffer);\n",
              "            downloaded += buffer.byteLength;\n",
              "            progress.value = downloaded;\n",
              "          }\n",
              "        }\n",
              "      }\n",
              "      const blob = new Blob(buffers, {type: 'application/binary'});\n",
              "      const a = document.createElement('a');\n",
              "      a.href = window.URL.createObjectURL(blob);\n",
              "      a.download = filename;\n",
              "      div.appendChild(a);\n",
              "      a.click();\n",
              "      div.remove();\n",
              "    }\n",
              "  "
            ],
            "text/plain": [
              "<IPython.core.display.Javascript object>"
            ]
          },
          "metadata": {
            "tags": []
          }
        },
        {
          "output_type": "display_data",
          "data": {
            "application/javascript": [
              "download(\"download_1de2b625-37d1-44fc-b652-9d65e06e1c54\", \"y_train.pickle\", 2295868)"
            ],
            "text/plain": [
              "<IPython.core.display.Javascript object>"
            ]
          },
          "metadata": {
            "tags": []
          }
        },
        {
          "output_type": "display_data",
          "data": {
            "application/javascript": [
              "\n",
              "    async function download(id, filename, size) {\n",
              "      if (!google.colab.kernel.accessAllowed) {\n",
              "        return;\n",
              "      }\n",
              "      const div = document.createElement('div');\n",
              "      const label = document.createElement('label');\n",
              "      label.textContent = `Downloading \"${filename}\": `;\n",
              "      div.appendChild(label);\n",
              "      const progress = document.createElement('progress');\n",
              "      progress.max = size;\n",
              "      div.appendChild(progress);\n",
              "      document.body.appendChild(div);\n",
              "\n",
              "      const buffers = [];\n",
              "      let downloaded = 0;\n",
              "\n",
              "      const channel = await google.colab.kernel.comms.open(id);\n",
              "      // Send a message to notify the kernel that we're ready.\n",
              "      channel.send({})\n",
              "\n",
              "      for await (const message of channel.messages) {\n",
              "        // Send a message to notify the kernel that we're ready.\n",
              "        channel.send({})\n",
              "        if (message.buffers) {\n",
              "          for (const buffer of message.buffers) {\n",
              "            buffers.push(buffer);\n",
              "            downloaded += buffer.byteLength;\n",
              "            progress.value = downloaded;\n",
              "          }\n",
              "        }\n",
              "      }\n",
              "      const blob = new Blob(buffers, {type: 'application/binary'});\n",
              "      const a = document.createElement('a');\n",
              "      a.href = window.URL.createObjectURL(blob);\n",
              "      a.download = filename;\n",
              "      div.appendChild(a);\n",
              "      a.click();\n",
              "      div.remove();\n",
              "    }\n",
              "  "
            ],
            "text/plain": [
              "<IPython.core.display.Javascript object>"
            ]
          },
          "metadata": {
            "tags": []
          }
        },
        {
          "output_type": "display_data",
          "data": {
            "application/javascript": [
              "download(\"download_c3413ca6-2004-4022-8f82-40801266ffda\", \"y_val.pickle\", 1530836)"
            ],
            "text/plain": [
              "<IPython.core.display.Javascript object>"
            ]
          },
          "metadata": {
            "tags": []
          }
        }
      ]
    },
    {
      "cell_type": "markdown",
      "metadata": {
        "id": "gxceoPdaCsct"
      },
      "source": [
        "# **5. Data Preparation Visualisation** (Not Required to Run)"
      ]
    },
    {
      "cell_type": "markdown",
      "metadata": {
        "id": "Msolg2ssDFBB"
      },
      "source": [
        "## Preparing Data for Tableau"
      ]
    },
    {
      "cell_type": "code",
      "metadata": {
        "id": "F9C72WumG5FD"
      },
      "source": [
        "import pandas as pd\n",
        "import numpy as np\n",
        "import re\n",
        "import matplotlib.pyplot as plt\n",
        "from sklearn import model_selection, preprocessing, linear_model, naive_bayes, metrics, svm\n",
        "from sklearn.feature_extraction.text import TfidfVectorizer, CountVectorizer\n",
        "from sklearn import decomposition, ensemble\n",
        "import pandas as pd, xgboost, numpy, textblob, string\n",
        "from textblob import TextBlob\n",
        "from keras.preprocessing import text, sequence\n",
        "from keras import layers, models, optimizers"
      ],
      "execution_count": null,
      "outputs": []
    },
    {
      "cell_type": "code",
      "metadata": {
        "id": "0cHHQT-iCroB"
      },
      "source": [
        "data = pd.read_csv('drive/My Drive/Data/toxicity_parsed_dataset.csv')\n",
        "data=data.drop(['index','ed_label_0','ed_label_1'],axis=1)\n",
        "\n",
        "#find the word count and length before cleaning the data\n",
        "data['B4review_len'] = data['Text'].astype(str).apply(len)\n",
        "\n",
        "#find out the number of words in each of the records\n",
        "data['B4word_count'] =data['Text'].apply(lambda x: len(str(x).split()))\n",
        "\n",
        "data=preparation(data)"
      ],
      "execution_count": null,
      "outputs": []
    },
    {
      "cell_type": "markdown",
      "metadata": {
        "id": "3140H5-QEOYh"
      },
      "source": [
        "## Data Cleaning on Toxicity Dataset"
      ]
    },
    {
      "cell_type": "code",
      "metadata": {
        "id": "9QVmLV4aERvu"
      },
      "source": [
        "#change all to lower case\n",
        "data['Text'] = data['Text'].apply(lambda x: \" \".join(x.lower() for x in x.split()))\n",
        "\n",
        "#replace special characters\n",
        "data['Text'] = data['Text'].str.replace('[^\\w\\s]','')\n",
        "\n",
        "#remove numbers from text\n",
        "data['Text'] = data['Text'].str.replace('\\d+', '')\n",
        "\n",
        "#remove stopwords\n",
        "import nltk\n",
        "from nltk.corpus import stopwords\n",
        "nltk.download('stopwords')\n",
        "stop = stopwords.words('english')\n",
        "\n",
        "data['Text'] = data['Text'].apply(lambda x: \" \".join(x for x in x.split() if x not in stop))\n",
        "data.head()\n",
        "\n",
        "#after cleaning the data what is the length \n",
        "#find out the length of the comments\n",
        "data['cleanreview_len'] = data['Text'].astype(str).apply(len)\n",
        "\n",
        "#find out the number of words in each of the records\n",
        "data['cleanword_count'] =data['Text'].apply(lambda x: len(str(x).split()))\n",
        "\n",
        "from google.colab import files\n",
        "data.to_csv('preparedtoxicdata.csv') \n",
        "files.download('preparedtoxicdata.csv')"
      ],
      "execution_count": null,
      "outputs": []
    },
    {
      "cell_type": "markdown",
      "metadata": {
        "id": "rjDd8KXcGB_2"
      },
      "source": [
        "## Data Preparation for N-Gram Analysis"
      ]
    },
    {
      "cell_type": "code",
      "metadata": {
        "id": "4TIaQqol0LaB"
      },
      "source": [
        "data0=data[data['oh_label']==0]\n",
        "data0\n",
        "#data.groupby(['oh_label']).count()"
      ],
      "execution_count": null,
      "outputs": []
    },
    {
      "cell_type": "code",
      "metadata": {
        "id": "ASOgp_F11peO"
      },
      "source": [
        "data1=data[data['oh_label']==1]\n",
        "data1"
      ],
      "execution_count": null,
      "outputs": []
    },
    {
      "cell_type": "code",
      "metadata": {
        "id": "-zUDxIdE2mbb"
      },
      "source": [
        "#to find out the words that are frequently used AFTER REMOVING STOP WORDS\n",
        "def get_top_n_words(corpus, n=None):\n",
        "    vec = CountVectorizer().fit(corpus)\n",
        "    bag_of_words = vec.transform(corpus)\n",
        "    sum_words = bag_of_words.sum(axis=0) \n",
        "    words_freq = [(word, sum_words[0, idx]) for word, idx in vec.vocabulary_.items()]\n",
        "    words_freq =sorted(words_freq, key = lambda x: x[1], reverse=True)\n",
        "    return words_freq[:n]\n",
        "\n",
        "common_words = get_top_n_words(data['Text'], 500)\n",
        "#for word, freq in common_words:\n",
        "#    print(word, freq)\n",
        "common_toxicwords=get_top_n_words(data1['Text'],500)\n",
        "common_nontoxicwords=get_top_n_words(data0['Text'],500)"
      ],
      "execution_count": null,
      "outputs": []
    },
    {
      "cell_type": "code",
      "metadata": {
        "id": "kfq0XqkgwUGY"
      },
      "source": [
        "common_words"
      ],
      "execution_count": null,
      "outputs": []
    },
    {
      "cell_type": "code",
      "metadata": {
        "id": "AxFJAZMdwLvI"
      },
      "source": [
        "common_nontoxicwords=pd.DataFrame(data=common_nontoxicwords)\n",
        "common_nontoxicwords.columns=['nontoxic single words','Nontoxic Freq']"
      ],
      "execution_count": null,
      "outputs": []
    },
    {
      "cell_type": "code",
      "metadata": {
        "id": "RNJNotyT2C-x"
      },
      "source": [
        "common_toxicwords\n",
        "common_toxicwords=pd.DataFrame(data=common_toxicwords)\n",
        "common_toxicwords.columns=['toxic singular words','Freq1']"
      ],
      "execution_count": null,
      "outputs": []
    },
    {
      "cell_type": "code",
      "metadata": {
        "id": "gXFXzr5Pvj2q"
      },
      "source": [
        "common_singularwords=pd.DataFrame(data=common_words)\n",
        "common_singularwords.columns=[\"singular_words\",\"Frequency1\"]"
      ],
      "execution_count": null,
      "outputs": []
    },
    {
      "cell_type": "code",
      "metadata": {
        "id": "tmF6wrC3wPYq"
      },
      "source": [
        "common_singularwords"
      ],
      "execution_count": null,
      "outputs": []
    },
    {
      "cell_type": "code",
      "metadata": {
        "id": "EcgG1nCA83mM"
      },
      "source": [
        "def get_top_n_bigram(corpus, n=None):\n",
        "    vec = CountVectorizer(ngram_range=(2, 2)).fit(corpus)\n",
        "    bag_of_words = vec.transform(corpus)\n",
        "    sum_words = bag_of_words.sum(axis=0) \n",
        "    words_freq = [(word, sum_words[0, idx]) for word, idx in vec.vocabulary_.items()]\n",
        "    words_freq =sorted(words_freq, key = lambda x: x[1], reverse=True)\n",
        "    return words_freq[:n]\n",
        "common_bigrams = get_top_n_bigram(data['Text'], 500)\n",
        "common_toxicbigrams=get_top_n_bigram(data1['Text'],500)\n",
        "common_nontoxicbigram=get_top_n_bigram(data0['Text'],500)\n",
        "#for word, freq in common_words:\n",
        "#    print(word, freq)"
      ],
      "execution_count": null,
      "outputs": []
    },
    {
      "cell_type": "code",
      "metadata": {
        "id": "AHKRnP3awrlo"
      },
      "source": [
        "common_nontoxicbigram=pd.DataFrame(data=common_nontoxicbigram)\n",
        "common_nontoxicbigram.columns=['nontoxic bigram','Nontoxic Freq2']"
      ],
      "execution_count": null,
      "outputs": []
    },
    {
      "cell_type": "code",
      "metadata": {
        "id": "RiMCALql2W6m"
      },
      "source": [
        "common_toxicbigrams\n",
        "common_toxicbigrams=pd.DataFrame(data=common_toxicbigrams)\n",
        "common_toxicbigrams.columns=['toxic bigrams','Freq2']"
      ],
      "execution_count": null,
      "outputs": []
    },
    {
      "cell_type": "code",
      "metadata": {
        "id": "P4JWlkObxYs5"
      },
      "source": [
        "common_bigrams=pd.DataFrame(data=common_bigrams)\n",
        "common_bigrams.columns=[\"common_bigrams\",\"Frequency2\"]"
      ],
      "execution_count": null,
      "outputs": []
    },
    {
      "cell_type": "code",
      "metadata": {
        "id": "kArgyomiybr0"
      },
      "source": [
        "common_bigrams"
      ],
      "execution_count": null,
      "outputs": []
    },
    {
      "cell_type": "code",
      "metadata": {
        "id": "v-ADemB8-dXj"
      },
      "source": [
        "def get_top_n_trigram(corpus, n=None):\n",
        "    vec = CountVectorizer(ngram_range=(3, 3)).fit(corpus)\n",
        "    bag_of_words = vec.transform(corpus)\n",
        "    sum_words = bag_of_words.sum(axis=0) \n",
        "    words_freq = [(word, sum_words[0, idx]) for word, idx in vec.vocabulary_.items()]\n",
        "    words_freq =sorted(words_freq, key = lambda x: x[1], reverse=True)\n",
        "    return words_freq[:n]\n",
        "common_trigrams = get_top_n_trigram(data['Text'], 500)\n",
        "common_toxictrigrams=get_top_n_trigram(data1['Text'],500)\n",
        "common_nontoxictrigrams=get_top_n_trigram(data0['Text'],500)\n",
        "#for word, freq in common_words:\n",
        "#    print(word, freq)"
      ],
      "execution_count": null,
      "outputs": []
    },
    {
      "cell_type": "code",
      "metadata": {
        "colab": {
          "base_uri": "https://localhost:8080/",
          "height": 419
        },
        "id": "tYJdhJ3ixEA0",
        "outputId": "e30b4f5e-3847-4bbc-925d-b79c791faea0"
      },
      "source": [
        "common_nontoxictrigram=pd.DataFrame(data=common_nontoxictrigrams)\n",
        "common_nontoxictrigram.columns=['nontoxic trigram','Nontoxic Freq3']\n",
        "common_nontoxictrigram"
      ],
      "execution_count": null,
      "outputs": [
        {
          "output_type": "execute_result",
          "data": {
            "text/html": [
              "<div>\n",
              "<style scoped>\n",
              "    .dataframe tbody tr th:only-of-type {\n",
              "        vertical-align: middle;\n",
              "    }\n",
              "\n",
              "    .dataframe tbody tr th {\n",
              "        vertical-align: top;\n",
              "    }\n",
              "\n",
              "    .dataframe thead th {\n",
              "        text-align: right;\n",
              "    }\n",
              "</style>\n",
              "<table border=\"1\" class=\"dataframe\">\n",
              "  <thead>\n",
              "    <tr style=\"text-align: right;\">\n",
              "      <th></th>\n",
              "      <th>nontoxic trigram</th>\n",
              "      <th>Nontoxic Freq3</th>\n",
              "    </tr>\n",
              "  </thead>\n",
              "  <tbody>\n",
              "    <tr>\n",
              "      <th>0</th>\n",
              "      <td>criteria speedy deletion</td>\n",
              "      <td>1427</td>\n",
              "    </tr>\n",
              "    <tr>\n",
              "      <th>1</th>\n",
              "      <td>lol lol lol</td>\n",
              "      <td>1264</td>\n",
              "    </tr>\n",
              "    <tr>\n",
              "      <th>2</th>\n",
              "      <td>five pillars wikipedia</td>\n",
              "      <td>1011</td>\n",
              "    </tr>\n",
              "    <tr>\n",
              "      <th>3</th>\n",
              "      <td>four tildes automatically</td>\n",
              "      <td>1006</td>\n",
              "    </tr>\n",
              "    <tr>\n",
              "      <th>4</th>\n",
              "      <td>fish fish fish</td>\n",
              "      <td>998</td>\n",
              "    </tr>\n",
              "    <tr>\n",
              "      <th>...</th>\n",
              "      <td>...</td>\n",
              "      <td>...</td>\n",
              "    </tr>\n",
              "    <tr>\n",
              "      <th>495</th>\n",
              "      <td>currently doesnt specify</td>\n",
              "      <td>151</td>\n",
              "    </tr>\n",
              "    <tr>\n",
              "      <th>496</th>\n",
              "      <td>doesnt specify created</td>\n",
              "      <td>151</td>\n",
              "    </tr>\n",
              "    <tr>\n",
              "      <th>497</th>\n",
              "      <td>release gfdl believe</td>\n",
              "      <td>151</td>\n",
              "    </tr>\n",
              "    <tr>\n",
              "      <th>498</th>\n",
              "      <td>tagged find list</td>\n",
              "      <td>151</td>\n",
              "    </tr>\n",
              "    <tr>\n",
              "      <th>499</th>\n",
              "      <td>decide need help</td>\n",
              "      <td>151</td>\n",
              "    </tr>\n",
              "  </tbody>\n",
              "</table>\n",
              "<p>500 rows × 2 columns</p>\n",
              "</div>"
            ],
            "text/plain": [
              "              nontoxic trigram  Nontoxic Freq3\n",
              "0     criteria speedy deletion            1427\n",
              "1                  lol lol lol            1264\n",
              "2       five pillars wikipedia            1011\n",
              "3    four tildes automatically            1006\n",
              "4               fish fish fish             998\n",
              "..                         ...             ...\n",
              "495   currently doesnt specify             151\n",
              "496     doesnt specify created             151\n",
              "497       release gfdl believe             151\n",
              "498           tagged find list             151\n",
              "499           decide need help             151\n",
              "\n",
              "[500 rows x 2 columns]"
            ]
          },
          "metadata": {
            "tags": []
          },
          "execution_count": 70
        }
      ]
    },
    {
      "cell_type": "code",
      "metadata": {
        "id": "sxMkySaO2n8B"
      },
      "source": [
        "common_toxictrigrams\n",
        "common_toxictrigrams=pd.DataFrame(data=common_toxictrigrams)\n",
        "common_toxictrigrams.columns=['toxic trigrams','Freq3']"
      ],
      "execution_count": null,
      "outputs": []
    },
    {
      "cell_type": "code",
      "metadata": {
        "id": "LLRz4Xotyk0k"
      },
      "source": [
        "common_trigrams=pd.DataFrame(data=common_trigrams)\n",
        "common_trigrams.columns=[\"common_trigrams\",\"Frequency3\"]"
      ],
      "execution_count": null,
      "outputs": []
    },
    {
      "cell_type": "code",
      "metadata": {
        "id": "cyk3Y4okyzN-"
      },
      "source": [
        "common_trigrams"
      ],
      "execution_count": null,
      "outputs": []
    },
    {
      "cell_type": "code",
      "metadata": {
        "id": "oC2NyKHFzgWD"
      },
      "source": [
        "ngram_analysis=pd.concat([common_singularwords, common_bigrams,common_trigrams], axis=1)\n",
        "ngram_analysis"
      ],
      "execution_count": null,
      "outputs": []
    },
    {
      "cell_type": "code",
      "metadata": {
        "colab": {
          "base_uri": "https://localhost:8080/",
          "height": 17
        },
        "id": "4miwh_hS9iTj",
        "outputId": "fb1f613f-c9d1-4ddf-afb4-c0047d9a9373"
      },
      "source": [
        "from google.colab import files\n",
        "ngram_analysis.to_csv('updated_ngram_analysis.csv') \n",
        "files.download('updated_ngram_analysis.csv')"
      ],
      "execution_count": null,
      "outputs": [
        {
          "output_type": "display_data",
          "data": {
            "application/javascript": [
              "\n",
              "    async function download(id, filename, size) {\n",
              "      if (!google.colab.kernel.accessAllowed) {\n",
              "        return;\n",
              "      }\n",
              "      const div = document.createElement('div');\n",
              "      const label = document.createElement('label');\n",
              "      label.textContent = `Downloading \"${filename}\": `;\n",
              "      div.appendChild(label);\n",
              "      const progress = document.createElement('progress');\n",
              "      progress.max = size;\n",
              "      div.appendChild(progress);\n",
              "      document.body.appendChild(div);\n",
              "\n",
              "      const buffers = [];\n",
              "      let downloaded = 0;\n",
              "\n",
              "      const channel = await google.colab.kernel.comms.open(id);\n",
              "      // Send a message to notify the kernel that we're ready.\n",
              "      channel.send({})\n",
              "\n",
              "      for await (const message of channel.messages) {\n",
              "        // Send a message to notify the kernel that we're ready.\n",
              "        channel.send({})\n",
              "        if (message.buffers) {\n",
              "          for (const buffer of message.buffers) {\n",
              "            buffers.push(buffer);\n",
              "            downloaded += buffer.byteLength;\n",
              "            progress.value = downloaded;\n",
              "          }\n",
              "        }\n",
              "      }\n",
              "      const blob = new Blob(buffers, {type: 'application/binary'});\n",
              "      const a = document.createElement('a');\n",
              "      a.href = window.URL.createObjectURL(blob);\n",
              "      a.download = filename;\n",
              "      div.appendChild(a);\n",
              "      a.click();\n",
              "      div.remove();\n",
              "    }\n",
              "  "
            ],
            "text/plain": [
              "<IPython.core.display.Javascript object>"
            ]
          },
          "metadata": {
            "tags": []
          }
        },
        {
          "output_type": "display_data",
          "data": {
            "application/javascript": [
              "download(\"download_889b8b49-dcdd-413e-9776-5e0bc3b08daf\", \"updated_ngram_analysis.csv\", 29383)"
            ],
            "text/plain": [
              "<IPython.core.display.Javascript object>"
            ]
          },
          "metadata": {
            "tags": []
          }
        }
      ]
    },
    {
      "cell_type": "code",
      "metadata": {
        "id": "g1v69gwkwi6H"
      },
      "source": [
        "nontoxicngram_analysis=pd.concat([common_nontoxicwords,common_nontoxicbigram,common_nontoxictrigram],axis=1)\n",
        "nontoxicngram_analysis"
      ],
      "execution_count": null,
      "outputs": []
    },
    {
      "cell_type": "code",
      "metadata": {
        "colab": {
          "base_uri": "https://localhost:8080/",
          "height": 17
        },
        "id": "jL-WdE_10GvC",
        "outputId": "cd8eecec-9657-477f-a1ba-06b6c1400dbf"
      },
      "source": [
        "from google.colab import files\n",
        "nontoxicngram_analysis.to_csv('nontoxicngram_analysis.csv') \n",
        "files.download('nontoxicngram_analysis.csv')"
      ],
      "execution_count": null,
      "outputs": [
        {
          "output_type": "display_data",
          "data": {
            "application/javascript": [
              "\n",
              "    async function download(id, filename, size) {\n",
              "      if (!google.colab.kernel.accessAllowed) {\n",
              "        return;\n",
              "      }\n",
              "      const div = document.createElement('div');\n",
              "      const label = document.createElement('label');\n",
              "      label.textContent = `Downloading \"${filename}\": `;\n",
              "      div.appendChild(label);\n",
              "      const progress = document.createElement('progress');\n",
              "      progress.max = size;\n",
              "      div.appendChild(progress);\n",
              "      document.body.appendChild(div);\n",
              "\n",
              "      const buffers = [];\n",
              "      let downloaded = 0;\n",
              "\n",
              "      const channel = await google.colab.kernel.comms.open(id);\n",
              "      // Send a message to notify the kernel that we're ready.\n",
              "      channel.send({})\n",
              "\n",
              "      for await (const message of channel.messages) {\n",
              "        // Send a message to notify the kernel that we're ready.\n",
              "        channel.send({})\n",
              "        if (message.buffers) {\n",
              "          for (const buffer of message.buffers) {\n",
              "            buffers.push(buffer);\n",
              "            downloaded += buffer.byteLength;\n",
              "            progress.value = downloaded;\n",
              "          }\n",
              "        }\n",
              "      }\n",
              "      const blob = new Blob(buffers, {type: 'application/binary'});\n",
              "      const a = document.createElement('a');\n",
              "      a.href = window.URL.createObjectURL(blob);\n",
              "      a.download = filename;\n",
              "      div.appendChild(a);\n",
              "      a.click();\n",
              "      div.remove();\n",
              "    }\n",
              "  "
            ],
            "text/plain": [
              "<IPython.core.display.Javascript object>"
            ]
          },
          "metadata": {
            "tags": []
          }
        },
        {
          "output_type": "display_data",
          "data": {
            "application/javascript": [
              "download(\"download_19aef6af-ba13-497b-88f4-f06132068378\", \"nontoxicngram_analysis.csv\", 29874)"
            ],
            "text/plain": [
              "<IPython.core.display.Javascript object>"
            ]
          },
          "metadata": {
            "tags": []
          }
        }
      ]
    },
    {
      "cell_type": "code",
      "metadata": {
        "id": "AbDl8nex33hY"
      },
      "source": [
        "toxicngram_analysis=pd.concat([common_toxicwords,common_toxicbigrams,common_toxictrigrams],axis=1)\n",
        "toxicngram_analysis"
      ],
      "execution_count": null,
      "outputs": []
    },
    {
      "cell_type": "code",
      "metadata": {
        "id": "l660qokc9ufN"
      },
      "source": [
        "from google.colab import files\n",
        "toxicngram_analysis.to_csv('toxicngram_analysis.csv') \n",
        "files.download('toxicngram_analysis.csv')"
      ],
      "execution_count": null,
      "outputs": []
    },
    {
      "cell_type": "markdown",
      "metadata": {
        "id": "6rnjIXDSFI2B"
      },
      "source": [
        "## Attempt at finding emojis in text data, no results"
      ]
    },
    {
      "cell_type": "code",
      "metadata": {
        "id": "2AWo0GsYFDvN"
      },
      "source": [
        "import emoji\n",
        "import regex\n",
        "\n",
        "def split_count(text):\n",
        "    emoji_list = []\n",
        "    data = regex.findall(r'\\X', text)\n",
        "    for word in data:\n",
        "        if any(char in emoji.UNICODE_EMOJI for char in word):\n",
        "            emoji_list.append(word)\n",
        "    return emoji_list"
      ],
      "execution_count": null,
      "outputs": []
    },
    {
      "cell_type": "markdown",
      "metadata": {
        "id": "0O1KJEOQFxar"
      },
      "source": [
        "# **5. Web-scraping of YouTube Comments Dataset** (Not required to Run)"
      ]
    },
    {
      "cell_type": "code",
      "metadata": {
        "id": "UvC_Tj22GB7B"
      },
      "source": [
        "import time\n",
        "from selenium import webdriver\n",
        "from selenium.webdriver import Chrome\n",
        "from selenium.webdriver.common.by import By\n",
        "from selenium.webdriver.common.keys import Keys\n",
        "from selenium.webdriver.support.ui import WebDriverWait\n",
        "from selenium.webdriver.support import expected_conditions as EC"
      ],
      "execution_count": null,
      "outputs": []
    },
    {
      "cell_type": "code",
      "metadata": {
        "id": "MDCpABZOGB7C"
      },
      "source": [
        "data = []\n",
        "\n",
        "browser = webdriver.Chrome(\"chromedriver\")\n",
        "wait = WebDriverWait(browser,15)\n",
        "browser.get(\"https://www.youtube.com/watch?v=DSCCnr6yPCU\")\n",
        "\n",
        "\n",
        "for item in range(200): \n",
        "    wait.until(EC.visibility_of_element_located((By.TAG_NAME, \"body\"))).send_keys(Keys.END)\n",
        "    time.sleep(1.5)\n",
        "    \n",
        "for comment in wait.until(EC.presence_of_all_elements_located((By.CSS_SELECTOR, \"#content\"))):\n",
        "    data.append(comment.text)"
      ],
      "execution_count": null,
      "outputs": []
    },
    {
      "cell_type": "code",
      "metadata": {
        "id": "jnOdjYEWGB7C",
        "outputId": "8b0b1c8c-74fe-40eb-9806-24b709a1dcfb"
      },
      "source": [
        "data"
      ],
      "execution_count": null,
      "outputs": [
        {
          "output_type": "execute_result",
          "data": {
            "text/plain": [
              "['SG\\nSKIP NAVIGATION\\nSIGN IN\\n0:00 / 3:01\\nMediacorp is a Singaporean public broadcast service. Wikipedia\\nChan Chun Sing, Pritam Singh spar in Parliament over Singapore\\'s foreign worker policy\\n361,731 views•Jan 7, 2020\\nLIKE\\nDISLIKE\\nSHARE\\nSAVE\\nTODAYonline\\n83.8K subscribers\\nSUBSCRIBE\\nSingapore\\'s oft-debated foreign worker policy sparked an exchange between Trade and Industry Minister Chan Chun Sing and Workers\\' Party chief Pritam Singh in Parliament on Monday (Jan 6). Mr Singh repeatedly asked for a breakdown of the number of new jobs that went to Singaporeans, permanent residents (PRs) and foreigners.\\nRead story here: \\nSHOW MORE\\n921 Comments\\nSORT BY\\nAdd a public comment...\\nMzbros\\n8 months ago\\nIt must take alot of courage to stand there and speak against a room of people which are against your existence in that room.\\n616\\nREPLY\\nView 10 replies\\nShadoStorm\\n8 months ago\\nHusband : Wat do u want to eat?\\nWife : I got nothing to hide.\\nHusband : Wat do u want to eat laa?\\nWife : What is the point of the question? Let me remind you marriage is about teamwork.\\n438\\nREPLY\\nView 19 replies\\nO Peter\\n8 months ago\\nI cannot tahan that cocky look. How did we end up having such lousy personalities in the parliament..\\n201\\nREPLY\\nView 23 replies\\nRachel Chong\\n8 months ago\\nPritam is like the gf that’s asking CCS “Can I see your phone?” \\n\\nCCS “ havent I been a good boyfriend? What’s the point of the question. I buy you dinner leh. Don’t you trust me?” \\nRead more\\n157\\nREPLY\\nView 5 replies\\nGlamdukes\\n8 months ago\\nI’m sorry I honestly can’t take someone seriously with that kind of arrogance and that degree of deflection 😧 it was so hard to watch\\n133\\nREPLY\\nLeelee Chang\\n8 months ago (edited)\\nKudos to Mr Pritam! Kudos to WP! We are fortunate to have WP/opposition in the Parliament! But we need more!\\n191\\nREPLY\\nMiguel Constatine\\n8 months ago\\nBalls to you Chan... Most Singaporeans are working for Grab\\n372\\nREPLY\\nView 25 replies\\nWei Ang\\n8 months ago (edited)\\nJust flaunting his authority. No debate. Terrible people.\\n395\\nREPLY\\nView reply\\nBlaxer\\n10 months ago\\nThis guy lost my respect. Used to think he was a good general during his time in the force. Now, feel really disappointed and embarrassed by him.\\n347\\nREPLY\\nView 6 replies\\nChloe Lim\\n1 year ago (edited)\\nThe government needs to make all data (& supporting data) freely available ahead of parliamentary debates. It does not matter \"what the point is behind every question other members raise\". You are missing the point. It is everyone\\'s right to raise questions and issues. On the other hand, it is every MP\\'s fiduciary duty to answer each question objectively and honestly. That is why sessions are held. If such arrogance continues to manifest in situations as such, it is no wonder that public distrust in the government continues to head north.\\nRead more\\n83\\nREPLY\\nHo Ethan\\n8 months ago\\nI\\'m surprised he was from SAF because the commanders always say \\'ATFQ\\' - Answer The F*cking Question when people start to beat around the bush.\\n36\\nREPLY\\nView 3 replies\\nB\\n8 months ago\\nEven a primary school kid can answer the question.\\n\\nWhy people vote in that class clown. It still beats me ?\\n40\\nREPLY\\nDiskubre Channel PH\\n8 months ago (edited)\\nGo Singh-Gapore!!!\\nChan believes in \"Dont admit no matter your wife caught you in the act cheating\"\\n9\\nREPLY\\nEdward Rodrigues\\n8 months ago\\nHe is very talented!!! At twisting n slithering out of simple questions. N that takes years of practise!\\n147\\nREPLY\\nView 4 replies\\nRusty\\n11 months ago\\nPAP doing best at what their best at, that is to twist and turn and wriggle their way out of answering a simple question.\\n85\\nREPLY\\nKenneth Lim\\n8 months ago\\nThe dodgy indirect way he gave his answer makes it seem like there is something to hide.\\n\\nSeriously, what is so hard to understand? People want to know Singaporeans vs PRs because PRs, if unhappy with SG, can always return to their home countries and with the good exchange rate retire comfortably but Singaporeans cannot because the home country is Singapore itself.\\nRead more\\n23\\nREPLY\\nWhitewash Fatah\\n9 months ago\\nSingapore will be doomed with these kind of people in charge of the country...\\nEven answers to simple questions/requests the govt ministers can\\'t provide and yet declare they\\'ve nothing to hide...\\nKick \\'em out of Parliament this coming GE...\\n194\\nREPLY\\nView 7 replies\\nBeekia Rabbit ASMR\\n1 year ago\\nI ever heard one of the PR said Singaporean who live in HDB is LOW CLASS. He is from Malaysia and he open an optical shop here at CCK mrt station. He forgotten that he is earning Singaporean $$$ so that he can have enough $$$ for his new CONDO.. Such is the kind of people we are welcoming.\\n46\\nREPLY\\nView 4 replies\\nHulkVahkiin\\n8 months ago\\nHe was asked a question and answered by giving an impassionate speech about teamwork....my god..\\n131\\nREPLY\\nView 2 replies\\nTan S\\n8 months ago\\nAfter Heng Swee Keat, Ong Ye Kung should take over. No CCS.\\n13\\nREPLY\\nKi An\\n8 months ago\\n2:13 CCS: \"It\\'s not the data, it is the point of the question.\"\\n\\nIn school, we were always taught to use data and facts when conducting research and analysis. Even primary school students know that one should use data to examine the efficacy of policies. Everyone knows where Pritam Singh is coming from, the only one missing the point here is CCS. Anyway, just seeing how CCS is not willing to produce the data, has already told us whether the PAP is really doing right by Singaporeans.\\nRead more\\n47\\nREPLY\\nMichael Then\\n8 months ago\\nJust look at ccs expression, not likeable at all.  He is a paper general and also a paper minister without any ground experience and now minister for trade industry.\\n46\\nREPLY\\nView reply\\nLeelee Chang\\n8 months ago\\nHuh? What is CCS saying? Of course its important to have the figures! What are the figures? He is bot answering!\\n182\\nREPLY\\nView 2 replies\\nBruce Wee\\n1 year ago\\nChan is like a fox, twisting his way out of the simple question.\\n424\\nREPLY\\nView 10 replies\\nLeohuo8201 Huo\\n1 year ago\\nThe \"insinuation\"? I think that is the sense in the general public when you go to Changi Business Park and even Marina Bay Financial Centre.\\n23\\nREPLY\\nzx zx\\n8 months ago\\nI keep cursing and swearing when I hear CCS\\' reply. \\n\\n\"We have nothing to hide\"... then goes on to hide the numbers by giving a cock and bull response. My eyes are rolling so hard, I\\'m surprised they don\\'t drop out from their sockets.\\n7\\nREPLY\\nView 2 replies\\nNabi Isa\\n3 days ago\\n#yishun\\nREPLY\\nJ\\n8 months ago\\nSun Xue Ling quite chio~\\nREPLY\\nFrustrated English\\n7 months ago (edited)\\nIm from malaysian , i see this for first time , i kind of impress with the calmness on his look , its like a lion talking in peacock manner\\nREPLY\\nView 2 replies\\nOskar Lai\\n8 months ago\\n2 words : Xia Suay.\\nREPLY\\nGordon Ho\\n8 months ago\\nour wages are not going up though, and no, alot of Singaporeans have lost their jobs, even from as early as Jan this year\\n30\\nREPLY\\nLeonard Parlindungan\\n8 months ago\\nCCS graduated from ivy league schools and was a Major General in SAF. No wonder he has such confidence in himself. I guess providing data is beneath him. That is a clerk duty 😳😔\\nREPLY\\nDennis Kee\\n10 months ago\\nAt the beginning, I supposed he is being honest, upright and promoted to what he is now,  unfortunately lately just find him becoming more and more foxy and sneaky, period.\\n13\\nREPLY\\nView 3 replies\\nQuikMath\\n7 months ago\\nIt reminds me of a movie which went like this, “You want the truth?  You can’t handle the Truth!!”\\n1\\nREPLY\\nDesmond Tan\\n1 year ago\\nIm holding a second upper degree holder but im still struggling to find a job and i have to drive grab to survive.  Thanks to our government bringing in all the foreign talenet. Yes i agree every country must bring in foreign talent but there has to be a limit. After lhl open the floodgates now we have chennai business park already. We true Singaporeans are suffering. Please vote for change.\\n148\\nREPLY\\nView 30 replies\\nRoyston Tey\\n8 months ago\\nThat\\'s not good enough for a minimum 1million salary minister...\\n73\\nREPLY\\nXiao Mi\\n1 year ago\\nHar? Li gong simi?\\n3\\nREPLY\\nThang Victor\\n7 months ago\\nThat\\'s why my gifted son sent by the Lord Jesus Christ to my family is in Singapore. Be like Jesus. Be honest. Nobody will blame you. Amen\\nREPLY\\nMr Duck\\n8 months ago\\nCotton Chan you talking this way and still never change next GE you don\\'t hide at ah gong turf I can sure you will be next to out.\\nREPLY\\nasdfkie\\n8 months ago\\ncan you reveal the underemployment figures because I\\'m sure that will be a more telling statistic\\n1\\nREPLY\\nView reply\\nTeck Hu\\n8 months ago\\nCCS, he is good at giving non-answers. I guess he thinks Singaporeans cant handle the real data.\\n40\\nREPLY\\nSUN SUNNY\\n8 months ago\\nCCS DO NOT HAVE THE SAME  ENERGY LEVEL AND POLITICAL ABILITY OF THE 3 LEADER.\\n94\\nREPLY\\nView reply\\nDonqq31\\n8 months ago\\nCCs, Xia suay!\\n2\\nREPLY\\nRazzrul\\n8 months ago\\nJust say the number of how many Singaporeans and PRs are in the PMET🤦🏽\\u200d♂️ why is it so hard.\\n158\\nREPLY\\nView 4 replies\\nAidan Seow\\n8 months ago\\nThen we prefer to get someone else who is more transparency.\\n44\\nREPLY\\nAngel Lynd\\n9 months ago\\nChan, you are diverting the question, typical politician playing politic\\n132\\nREPLY\\nDarkPa1adin\\n9 months ago (edited)\\n0:41\\n0:44\\nREPLY\\nNabi Isa\\n3 days ago\\n#pdrm\\nREPLY\\nNabi Isa\\n3 days ago\\n#syah ibrahim\\nREPLY\\nNabi Isa\\n3 days ago\\n#cnb\\nREPLY\\nRohaizad Wahid\\n8 months ago (edited)\\nGive the data. Else if someone speculated 89% PR, 11% locals, don’t throw POFMA. And let’s not forget your comprises of  YOUR ‘new citizens’\\n14\\nREPLY\\nRajen\\n8 months ago\\nloll\\nREPLY\\nNabi Isa\\n3 days ago\\n#malaysia\\nREPLY\\n感恩我\\n8 months ago\\nPAP引进大量外劳，要本地人跟外劳竞争工作，\\nREPLY\\nSportsTourer\\n8 months ago\\nSheep bah bah bah\\nREPLY\\nSky SoHigh\\n1 year ago\\nHas local unemployment increase?\\nLocal have to resort to doing Grabfood delivery, Grab driver and Taxi to making a living... If you take a look at how many Grabfood delivery riders outside mall waiting for orders and Long queue of taxi at Taxi stand, you will know the answer to your question....\\n20\\nREPLY\\nView 10 replies\\nMahir Rahman\\n6 months ago\\nPritam genuinely wants to introduce social democracy into Singapore in a humble manner while the elites of the dominant party sneer with arrogance.\\nREPLY\\nNo Name\\n1 year ago\\nTill now, any update from mr chan?\\n28\\nREPLY\\nP G\\n6 months ago\\nI wish there is more good speaker like mr. singh in opposition party . 👍👍🔥🔥\\n1\\nREPLY\\nllen Star\\n8 months ago\\nlol.... He didn\\'t even answer the question let alone supported his statements with a data.... That is mere theatrics which Ah Beng also can can do or even better,\\n71\\nREPLY\\nView reply\\nFillinyourname\\n1 year ago\\nI feel like the whole government should be made of PR. Then we reduce their wages.\\n40\\nREPLY\\nCaleb Yoong\\n8 months ago\\nIf you have nothing to hide just publish the detailed data lah\\n44\\nREPLY\\nsabrin daniels\\n8 months ago\\nhahahahaha\\nREPLY\\nNabi Isa\\n3 days ago\\n#imh\\nREPLY\\nG wTO\\n8 months ago\\nThere\\'s an air of arrogance, superiority and authoritative despise when CCS speaks down to the Opposition.. I am not sure if this is the DNA of PAP or just him..\\n7\\nREPLY\\nView reply\\nSIEWTUA SEAH\\n1 year ago\\nThe group doesn’t feel it ,he is a military man by training,he have no problems putting man in harm way because some one will have to die and Ah sing want to know how many will die\\n9\\nREPLY\\nNabi Isa\\n3 days ago\\n#sultan brunei\\nREPLY\\nSoffian\\n8 months ago\\nHis face already shows that hes scared\\n83\\nREPLY\\nQuok Beng Hua\\n9 months ago\\nCurry egg plant..special menu in Paliament\\nREPLY\\nสุวารี สุวารี\\n8 months ago\\nI aspire to be the minister without portfolio in Singapore just sit  back to get pay millions a year just doing nothing , enjoy long sabatical and high year end bonuses by just to say YES to my emperor\\nREPLY\\nMaverick\\n8 months ago\\nIf seng or whatever he is called was writing a thesis, he\\'d definitely fail. He didn\\'t even answer or address the question. Just trying to beat around the bush.\\n13\\nREPLY\\nA C\\n6 months ago\\ndo not merely look out for your own personal interests, but also for the interests of others.\\nREPLY\\nSamuel Tay\\n8 months ago (edited)\\nCome Chennai Business Park on Friday afternoon or everyday at Tampines during lunch time or go to Simei Melville Park, you will roughly know..... it\\'s a lot.\\nSo what is the point of asking?\\nREPLY\\nC T\\n8 months ago\\nYes, unemploymt rate here is v low. BUT, a lot of foreigners got jobs tht Singaporeans can do. Older singaporeans face even bigger challenges whn looking for jobs.\\nREPLY\\nMighty Sheep\\n8 months ago\\nNot all wages going up! My wage has not increase for the past 3 years. Not all companies willing to increase the wages. \\n\\nI am a sad singaporean. :(\\n2\\nREPLY\\nJon Koh\\n8 months ago\\nHey Chan, you are a minister, yet you cant answer to a simple direct question? Keep dodging, this is not the army....where you can abuse your power.\\n17\\nREPLY\\nP G\\n6 months ago\\nSg Politics now slowly getting interesting !💪\\nREPLY\\nBronc\\n1 year ago\\nWages increasing faster than any other country. Cost of living also go up faster then any country. End of the day it comes back to square one.\\n74\\nREPLY\\nView 6 replies\\nRishan\\n8 months ago\\nWhy are you hesitating to give the breakdown of the data requested. Appreciate if you are open with regard to Pritam’s question, as a Singaporean I too would love to know seriously. Thank you!\\nREPLY\\nView 3 replies\\nRay be h\\n1 month ago\\nI know that a Filipino is getting 15k where his job can be easily be done by a local. He is here to play politic and making things difficult for local staff.\\nREPLY\\nAlexander Mathews\\n8 months ago\\nThis ah beng don\\'t understand. Put him in market to sell toilets rolls.\\n145\\nREPLY\\nView 8 replies\\nHong Toh\\n8 months ago\\nThis fellow is super arrogant! Can\\'t even answer question properly, what a disgrace.\\n151\\nREPLY\\nView 6 replies\\nMohamed Zackria Mydin Gani\\n8 months ago\\nDont know how to answe a simple question. Why cant give data mr chan.\\n75\\nREPLY\\nView 2 replies\\nReaganvlp\\n8 months ago\\nThis ccs... terrible for Singaporeans. And the country.\\n131\\nREPLY\\nView reply\\nYK\\n8 months ago\\nNot good enough Chan, not good enough. Why can\\'t u show the hard facts\\n91\\nREPLY\\nView 2 replies\\n122005peachie\\n7 months ago\\nAnd at the end of the day, u guys still voted for “them”...\\n11\\nREPLY\\nView reply\\nKL Rider\\n8 months ago\\nYou call this a spar? In which other country is the opposition this polite?\\n38\\nREPLY\\nView reply\\nTang Tang\\n8 months ago\\nJust give the number, why talk so much without sense\\n14\\nREPLY\\nNedunjelian Narayasamy\\n10 months ago\\nSo intelligent but can\\'t give a straightforward answer to a simple question\\n61\\nREPLY\\nView 2 replies\\nSarinA AR\\n8 months ago\\nJust give data la.. Why hiding it.. This is why la I dislike em...\\n39\\nREPLY\\nSimmons Lack\\n8 months ago\\nCCS, you continue to talk like that, you will alienate more people to the opposition.\\n62\\nREPLY\\nView 3 replies\\nBo Yan\\n10 months ago\\nLiar!!!.. same like the Mask issue.. 🤣🤣🤣🤣\\n19\\nREPLY\\ncapybara tranquil\\n10 months ago\\nCannot simply rely on wages and unemployment rates to determine success of a policy. You need holistic data... cringe.\\n29\\nREPLY\\nOang katun\\n9 months ago\\n...... 😲..... WAH..! LIKE THIS ALSA CAN BECOME MINISTER MEH..? 🐸\\n... SIMPLE QUESTION CANNOT ANSWER.... TURN HERE TURN THERE THEN... BLAKANG PUSING\\nAHH..! 🐍... HAIYA..! JIAK KAT LE..! 🥵........\\n37\\nREPLY\\nvincie0007\\n1 year ago\\nMr xiasuay wants to xiasuay pritam, but he always xiasuay himself first\\n26\\nREPLY\\nView reply\\nK W\\n8 months ago\\nThese people are paid by the taxpayer to act \"drama-mama\" in bad pidgin English? Pathetic!\\n9\\nREPLY\\nIndie Jones\\n8 months ago\\nJust answer Pritam\\'s question lah. Why spin unnecessary ulterior motives behind the question? We local workers also want to know and Pritam is good to put it  forward to you.\\n4\\nREPLY\\ntanjack31\\n8 months ago\\nMan... What a load of crap. When you can\\'t convince, just confuse\\n4\\nREPLY\\nROH G\\n8 months ago\\nListening to CCS\\'s rhetoric on foreign workers literally made me sick. Address the damn question!\\n22\\nREPLY\\nView reply\\nMrsM Muthiah\\n8 months ago\\nBelieve it’s your duty to provide the data when asked especially in parliament sir\\n10\\nREPLY\\nSub×Zero\\n1 year ago (edited)\\nMy workplace got lots of SG Diploma & Degree Holders. I scratched my Head. The job only need minimum of N Level. Like me.\\n8\\nREPLY\\nView 4 replies\\nPotatoNinjaMaster\\n8 months ago\\nThis CCS really is a dog, if there’s nothing to hide then just answer the question. Say grandmother grandfather story for what??\\n14\\nREPLY\\nView reply\\nReon Reon\\n1 year ago (edited)\\nI have the skill to become pap minister. Just learn to not answer the question directly and throw rhetorical statements there after. Any openings?\\n46\\nREPLY\\nView 5 replies\\nRed Bull\\n8 months ago (edited)\\nBefore that Zaqy had given the figure but Pritam insisted on the breakdown. Thus CCS intervened. Click on the link in the description box or below for full story. Can find more details of the figure in MOM website.\\nhttps://www.todayonline.com/singapore/chan-chun-sing-and-pritam-singh-spar-parliament-over-data-distribution-new-jobs-among\\n1\\nREPLY\\njessie james\\n7 months ago\\nShould have more of these type of parliament debates. I love watching british parliament on tv\\nREPLY\\nLawson Lau\\n1 year ago (edited)\\nsuch a simple question yet chan cannot answer, this shows his intelligent and what so secretive about the data???\\n99\\nREPLY\\nView 6 replies\\nC. Wong\\n8 months ago\\nSupport Chan Chun Sing!\\nREPLY\\nCain. D\\n4 months ago (edited)\\nThe way he talk, action, everything makes me vomit blood. Lose already still want to talk. I stop watching halfway. Cannot tahan. Obviously he know nuts about whats happening. Really hope they will be voted out in next election. TCB, CSJ votes in..we singaporean than can have hope.\\nREPLY\\nGravityProductionHouse\\n8 months ago\\nSpar??? The fck..\\nREPLY\\nvembayan selvaraju\\n8 months ago\\nFrom the body language of these two politicians pritam Singh n Chun sing, we can see that they work hard for singaporeans\\nREPLY\\nAhmad Dzahir\\n8 months ago\\nI still remember when Singapore passport holds so much merit, so hard to get for the foreigners. Even to be a pr is so hard. But now, I talked to those who had become one, it\\'s so easy. Guess Singapore passport holds not much value anymore.\\n8\\nREPLY\\nView 3 replies\\nLittle ME\\n9 months ago\\nTo get accuracy data, will help Singaporean get good jobs!\\nREPLY\\nLolaprus\\n8 months ago (edited)\\nI thought his response was quite okay for the situation (clearly he doesn\\'t have the number breakdown for sg and pr) but I don\\'t see any positive comments about him. What will you say if you\\'re in his position? ( without the breakdown, of course)\\n1\\nREPLY\\nView 11 replies\\nEuroAsia One\\n8 months ago\\nSome people you cannot stand their look,  just want to get them 2 tight slaps. I am not saying any one in particular.\\nREPLY\\nRichard Wong\\n9 months ago\\nCotton sheep in cotton clothing is an international joker.\\n27\\nREPLY\\nDragon52\\n8 months ago\\nAnd yet they say WP did not speak out.\\n9\\nREPLY\\nshanke300\\n1 year ago\\nCCS is cunning.\\nHe is not fit to be in politics. \\nSo many military personnel be coming ministers. All groomed to serve the true masters.\\n66\\nREPLY\\nStella T\\n1 year ago (edited)\\nHe didnt answer the question lei.... why make up a long story when all u need is to simply provide a straightforward figure? Cannot convince then confuse isit? 🙊🙊\\n16\\nREPLY\\nttkoh123\\n1 year ago\\nIt is the way they classified \"unemployment\".  example 6 months and above could be classified as \"retired\" or other reasons. Conversely, What is the motive of CCC diversion from simple question on \"distribution\" to \"unemployment\" and disrespectfully question the honorable member\\'s intention. If I am Pritam Singh, I will rise up with a loud voice of objection on the digression and insinuation.\\n4\\nREPLY\\nView reply\\nHowar Jk\\n1 year ago\\nWages are going up yes, how about our daily expense aka the MP’s pay :). Vote wisely we need more opposition\\n33\\nREPLY\\nView 2 replies\\nEffendi Mahmud\\n8 months ago\\nWow.. All lies.. What Pritam shared is the real truth. We need an independent research agent to do an extensive survey on locals not securing good jobs due to discrimination on employment.\\n3\\nREPLY\\nTana Esther\\n8 months ago\\nThank you Mr Chan\\nREPLY\\nAllen Yuen\\n8 months ago\\nmp\\nREPLY\\nng Robert\\n9 months ago\\nMuthu Singapore not Science background diam lar balik sekolah\\nREPLY\\nWei Ting Koh\\n8 months ago\\nIf the issue is not about hiding data, what is also the insinuation that by asking for breakdown between PR and Singaporean, is something sinister? \\nI\\'m curious if the question was ever answered.\\nREPLY\\nGary Goh\\n1 year ago\\nAsk the pr to vote for you loh cb\\n57\\nREPLY\\npermit eyes\\n7 months ago\\nSure or not..especially during coved 19 now???\\nREPLY\\njasri j\\n8 months ago\\nI\\'m a former army regular, now a technician in a Japanese company & has been discriminated against by my Malaysian (now PR) superiors because of my numerous reservist call-ups, & after I ROD, because of my race & religion. I don\\'t blame the racist/ nationalist Malaysians, it\\'s my own government that betrayed me. I don\\'t know how to explain to my kids when they look for jobs that they have to work under foreigners that may despise them for their nationality in their own country\\nRead more\\nREPLY\\nBubbles\\n7 months ago (edited)\\nAccording to CCS - Team Singapore no longer Singaporean only, now comprising Singaporean and PRs and foreign workers.  Very sad sad day for Singaporean.   😢😢😢😞\\nREPLY\\nShiva harsha\\n8 months ago\\nThis question hour, seems like a meditation class. So calm\\nREPLY\\nLeohuo8201 Huo\\n1 year ago\\nDefine \"local\"? Local to me means Singaporean\\'s employment numbers (i.e. those with PINK ICs). If it is a \"resounding NO\", SHOW me the data and the numbers. Don\\'t hide behind the definition of \"local\".\\n31\\nREPLY\\nView reply\\nash unknown\\n8 months ago (edited)\\nHaha reaction. of the lady with green dress\\nREPLY\\nheat miser\\n8 months ago\\nSome ppl here enjoyed whining the \\'same thing\\', like cheering or jeering tgt in a soccer match, anyway is free. But these same kind of ppl reserved praises when benefited from others. So these ppl likely always in denial when being criticised in life.\\nREPLY\\npaulsg993\\n8 months ago\\nDid CCS ever provide the data requested by PS and for which CCS agreed to provide?\\nREPLY\\nR P\\n1 year ago\\nThe foreigner earning the $10k job will get PR status and rise up to manager post and then using his position to recruit more of his hometown relatives \\n(unqualified) to fill up the $7 & $10k job while he takes up the $15k job. This process repeats until the PMET jobs are dominated by these foreigner-turned-PR-citizens while the native trueborn Singaporeans are displaced and forgotten.\\nRead more\\n27\\nREPLY\\nView 3 replies\\nCallMeCheese\\n1 year ago\\nLol ultimately we r working for our own benefit not for Singapore. Then u want our own Singapore citizen to suffer while the country is doing well? U say that because u r not the one doing it. It is us\\n9\\nREPLY\\nBoon Hee Tan\\n8 months ago\\ndo u serve Singaporeans or PR?\\n5\\nREPLY\\nOng Ernie\\n1 year ago\\nYou have not given the numbers! What is wrong?\\n13\\nREPLY\\n民进党立委锺佳鬓\\n8 months ago\\nthat\\'s why ,.lost sengkang in 2020. if the CHAN:-D🐯 continue do like this.. will lost more.\\n9\\nREPLY\\nView reply\\nJing Han\\n8 months ago\\nLol employments rate increased doesnt mean that there are no more homeless and jobless people dying on the streets of SG... average wages increasing can also mean that the highly paid workers are getting paid more at the expense of our average workers... PAP government u need to get more specific stats\\n12\\nREPLY\\nView 3 replies\\nFatah Whitewash\\n8 months ago\\nHe\\'s at the wrong place..\\nShould instead be sent to the battlefield to wave a white flag to surrender the country to the enemy...\\n7\\nREPLY\\no ienk\\n8 months ago\\nNext time anyone ask me a question which i can\\'t give an answer, I will just reply and ask back: \"What is the point behind the questions?\"  Just like how cotton comes from sheep\\nREPLY\\nkanna nayagam\\n8 months ago\\nI don\\'t even understand .. why he wants to see a bunch of excel files where the data from multiple hospital and covid centre will upload to NUS where an automated python script will present the data to live stream  .. Wp is trying to find things to blame on PAP but i guess there is nothing to blame on it .. remember the data is given by hospital and university , it is not pm lee who typing those data in his PC i guess , there is separate division for it i guess ... maybe he can personally visit NUS for the RAW excel sheet .....\\nRead more\\nREPLY\\nAaron Zamorano\\n7 months ago\\nPritam is a tough man,a good brave man\\nREPLY\\nJeff Lim\\n8 months ago (edited)\\nI am eagerly waiting for jamus lim to enter the parliament and speak up against the MPs.\\nREPLY\\nEvan Choo\\n7 months ago\\n\"I don\\'t think we have anything to hide.\"\\n\\nErr Pritam Singh never said anything about lying. Is it you hiding smth that\\'s why so defensive?\\n5\\nREPLY\\nBubbles\\n7 months ago\\n0:46 these kind of cocky look is asking for a punch in the face, follow by showing him the middle finger.\\nREPLY\\nLim Jamy\\n8 months ago\\nHello Mr Chan...go and visit those shipping companies and tell me why in each co they are allowed to employed 90% foreign indians. Its shocking for me to see so many of these companies are hiring more foreign Indians. This is ridiculous when some many locals who are capable to do their jobs being replaced by these foreigners.  And the government are asking us local to upgrade, learn new skills. I can accept it if they take our jobs which we are not capable of doing but no, they are not n yet the government has been trying to drum into our ears that we need to train n upgrade our skills for the new whatever.... dont try to smoke us citizens\\nRead more\\nREPLY\\nedward chua\\n8 months ago\\nHe is just deflecting the question. Just get the numbers as requested. Period.\\n1\\nREPLY\\nYusuf Best\\n8 months ago\\nSo from that day until today, has the numbers been given?\\n1\\nREPLY\\nSeetoh Cw\\n1 year ago\\n4G is really poor debater, is this the type of quality people the SG has? cannot debate, cannot produce statistics, cannot articulate points in a strategic manner.\\n33\\nREPLY\\nView 3 replies\\nGV Suku\\n8 months ago\\nSeriously. Sad la. Where is this going?\\nREPLY\\nHui Low\\n8 months ago\\nTalking in lalaland....Transparency . Thanks\\nREPLY\\nkagura ares\\n7 months ago\\n\"Unemployment at a level other countries think is fRiction\"\\nREPLY\\nCalista Mar\\n8 months ago\\nSo... Where is the data? 😅 Jk\\n1\\nREPLY\\nAnimal Encounter\\n1 year ago\\nSingaporean should see Malaysian parliament spar\\n16\\nREPLY\\nView 4 replies\\nMike Teo\\n8 months ago\\nSo difficult to answer simple question. Alamak\\n1\\nREPLY\\nFalco Kristiano\\n8 months ago\\nThen why covid19 numbers need to breakdown into dorm workers vs locals? Shouldn’t we just show total numbers everyday and cumulative with no breakdown whatsoever? \\nShowing breakdown only when it serves your purpose, and vice versa 🙄🙄\\nREPLY\\nIMww\\n1 year ago\\nI think Singapore is so dirty nowadays also because of the foreign workers .\\nMinister of environment pls take a look at the woodland check point, so many motorists throw the rubbish along the road .\\nSingapore is full of rubbish  especially on Sunday.\\n5\\nREPLY\\nHowar Jk\\n1 year ago\\nThe fall of LKY , the fall of singapore :)  LKY pass to the wrong person, major mistake :)\\n12\\nREPLY\\nUtube1024\\n8 months ago\\nCannot provide the breakdown cause they have many things to hide. That\\'s a fact. Stop your grandmother story.\\n13\\nREPLY\\nSherwin H\\n8 months ago\\nI thjnk CCS needs to improve his emotional  communication/ influence . I understand his point but the delivery was very badly done .\\n1\\nREPLY\\ned\\n6 months ago\\nThis one master level taichi already.\\nREPLY\\nNick Ee\\n11 months ago\\nStill no definition of honesty and transparency\\n1\\nREPLY\\nAng ES\\n8 months ago\\nSimple question need just a simple answer, don\\'t  beat around the bush with beautiful words.\\nREPLY\\nFarrell Wolf\\n8 months ago\\n(During primaryschool math class)\\nMe: Teacher what is 21 x 21?\\nMath Teacher: Are you stupid or what?\\nMe: I don’t know, that’s why i keep asking\\nRead more\\n5\\nREPLY\\nView 2 replies\\nNeo Ren Jie\\n8 months ago\\nThere\\'s no point of the nation thriving if the tradeoff is our personal survival. It matters, a lot.\\n1\\nREPLY\\nZeph Ron\\n9 months ago\\nAsked such a simple question, he didn\\'t need to beat around the bush\\nREPLY\\nMohammed Zafir\\n8 months ago\\nJust answer the goddamn question. As bryan cranston\\'s character said in Argo \"DO YOUR F\\'ING JOB!\"\\nREPLY\\nสุวารี สุวารี\\n8 months ago\\nPlease forgive him as his parents are selling roti prata and satay respectively\\nREPLY\\nburbur407\\n1 year ago (edited)\\n3rd, 4th, 5th generation Singaporeans are being chased away by competitive PRs, it\\'s difficult to compete against the best talents around the world. In the future Singaporeans would consists of mostly PR descendents that arrived during the 2000s. This is expected, because our nation survives on being competitive, the country has no choice but to stay competitive by finding foreign talent. Singapore citizenship will no doubt have a high turnover rate, our country is runned like a business. It\\'s not the government\\'s Fault, this is meritocracy on steroids to achieve perpetual economic progress and prosperity.\\nRead more\\n18\\nREPLY\\nView 6 replies\\nNikhil jamwal Nikhil jamwal\\n5 months ago\\nChan 😂😂😂😂😂\\n1\\nREPLY\\nสุวารี สุวารี\\n8 months ago\\nGo to little India when u are free on weekend and see for yourslf\\nREPLY\\nyy\\n8 months ago\\nLocal PMET share going up from 54 per cent to 57 per cent between 2015 and 2018... so the FT became PRs dragging up the % that\\'s why cannot share data is it?\\nREPLY\\nView reply\\nRknin Rknin\\n8 months ago\\nAiyo dont know say dont know la why go merry go round tbe mulberry bush  my head spinning you know\\nREPLY\\nttkoh123\\n1 year ago\\nBloody CCC should answer straight to the question without diverting to irrelevance as own judge and own jury dictation. What is the purpose of Parliament if member behaves like CCC. It\\'s a total disgrace, if you will to ask me.  CCC should be reported to the Parliament Committees and be barred from Parliament.\\n24\\nREPLY\\nNabi Isa\\n3 days ago\\n#hafeez glamour\\nREPLY\\nseven k\\n8 months ago (edited)\\nMy dream is to become a Singaporean..\\nREPLY\\nView reply\\nNg Chin Cheng\\n8 months ago\\nYes, Our people (action party)are getting good job, but not Singapore born Singaporean!\\nREPLY\\nrende kua\\n8 months ago\\nChan Chun seng betrayed true blue Singaporeans , he should be out this nonsense\\n6\\nREPLY\\nMJvid\\n8 months ago (edited)\\nA minister speaks broken English? Cannot even pronounce QUESTION properly, how to become leader like this. Aiyoh!!!\\n4\\nREPLY\\nDemonthatgotlordkeith\\n1 month ago\\nThere are many reasons why Chan Chun Sink is not currently in the running to be next PM. this video clip is one of them.\\nREPLY\\nGrace A\\n8 months ago\\nTBH - it\\'s really the singaporeans vs the EP foreign workforce.\\n1\\nREPLY\\nCayote Lives\\n6 months ago (edited)\\nThe real question is which genios hired him\\nREPLY\\nSaid Omar\\n8 months ago\\nAll the hammerrrrrr\\nREPLY\\njeremiah ong\\n8 months ago\\nThank you very much minister chan for that absolutely useless dissection. i literally watched this and learnt nothing about the information and the statistics and whats the point of interpreting the data on the peoples behalf to compliment yourself and saying you have nothing to hide\\n4\\nREPLY\\nView reply\\nNaomska\\n8 months ago\\nI\\'m still waiting for the numbers.\\n1\\nREPLY\\nFattboy\\n8 months ago\\nHi, what are the numbers ? \\n\\nOnce upon a time , in the forest lives a ............................\\nRead more\\n1\\nREPLY\\nView reply\\nEd Asy\\n8 months ago\\nSome highlights of our \\'PM candidate\\'\\nREPLY\\nRidz Reen\\n8 months ago\\nHuh??? What\\'s the end result?\\nREPLY\\nkelvinyauyau kelvin\\n1 year ago\\nIn short singapore is for the strong individuals who seek progression and performance based. If you can\\'t compete go somewhere else then.\\n3\\nREPLY\\nView 2 replies\\nGoh Yu Hui\\n7 months ago\\nJust answer his damn question la🤣 why this ccs like to turn here and there\\nREPLY\\nS C\\n8 months ago\\nDid the minister share the data at the end? Just curious ;)\\nREPLY\\nnorhadi abdullah\\n8 months ago\\nDon\\'t compare us with other countries.singaporean for Singapore.\\nREPLY\\nสุวารี สุวารี\\n8 months ago\\nIn PAP all ministers are lowly paid to say yes to the emperor as 1 million salary is far relatively low compared with dish keeper at hawker c at about 800 to a thousand per month\\nREPLY\\nG S Hundal\\n8 months ago\\nI don\\'t know how such dumb ministers are brought into Parliament? WP is asking about Singaporeans and PRs. Simple question. This scholar MP do not understand and above it he is arrogant\\n6\\nREPLY\\nView 2 replies\\nB\\n8 months ago (edited)\\nHow many PR is collecting cardboard?\\n\\nHow many PR is cleaner?\\nREPLY\\nArien_Park\\n8 months ago (edited)\\nThat face is pure arrogance. Can\\'t he just give a straight answer.\\n1\\nREPLY\\nLim Jin\\n8 months ago\\nLol farking jiak liao bee!\\nFeed you this type waste my money la Mr cotton\\n1\\nREPLY\\nMohammad Nasir\\n8 months ago\\nIf he cant and dont wanna answer then say i cannot answer and dun wanna answer. Not beat around the bush.\\nREPLY\\nB\\n8 months ago\\nPritam got 60% voter support.\\n\\nChan Chun Sing got 63% voter support.\\nRead more\\nREPLY\\nAllen Tan\\n8 months ago\\nThe increase in phv n taxi drivers reflects the job availabilities in the market. If given a choice, would local pmets choose a ferrying trade as oppose to a career in their own line of expertise?\\nREPLY\\nView reply\\nLeo Huang\\n7 months ago\\nThey call this spar? In Canada we call this a friendly debate\\nREPLY\\nNabi Isa\\n3 days ago\\n#covid19\\nREPLY\\nhiisoka\\n8 months ago\\na simple yes or no would suffice.\\nREPLY\\nAshin Shah\\n8 months ago\\nYou can’t answer a simple question and yet you  are smirking.. 👉🏼😏\\n1\\nREPLY\\nantonette chan\\n8 months ago\\n...u don\\'t get foreigner to displace a Singaporean...just present the data & Singaporean can see for themselves!!\\nREPLY\\nCardin Puah\\n8 months ago\\nShare le what’s the figure?\\nREPLY\\nTroll Boy\\n8 months ago\\nSingaporeans as in born here or Singaporeans as in gotten their pink ic as new citizens?\\nREPLY\\nMr.Perry\\n8 months ago\\nCotton Chan looks like some evil Disney villain based on his smile\\nREPLY\\nCharmed\\n7 months ago\\nWe support you WP!!!\\n1\\nREPLY\\nAntione W\\n8 months ago\\nNow, that is the root of the problem. CCS didn\\'t know who is doing the voting. Citizen or PR?\\nREPLY\\nkt lim\\n8 months ago\\nLike to twist words maybe he will be Charles Chong n HSk become sick due to too evil\\nREPLY\\nElvin Ching\\n8 months ago\\nOk nice speech now answer the qns\\nREPLY\\nlimos88\\n8 months ago\\nOMG Damn chialat not worthy at all!\\nREPLY\\nZhi Sheng Ong\\n6 months ago\\nWhy can’t he just go straight to the point lmao?\\nREPLY\\nFai Familia\\n8 months ago\\nOk u wait for Jamus i want to see how u gonna twist n turn..\\nREPLY\\nView reply\\nSumathi Subb\\n7 months ago\\nHe never answer Pritam question 😂\\nREPLY\\nLee Beng Ann\\n8 months ago\\nTogether we build Singapore..... how much you accept the Together !!\\nREPLY\\nSarah Stephen\\n8 months ago\\nSoo sad that a minister do not know that he have to answer a question but instead beats around the ..\\nREPLY\\nสุวารี สุวารี\\n8 months ago\\nHe cant give the data to Mr Pritam\\nsingh because he does not have any data\\n1\\nREPLY\\nAudrey Choong\\n8 months ago\\nReally? Are Singaporeans wages going up very fast ? faster than other countries ?  Not living in Singapore, would like to know the work situation back home.\\nREPLY\\nThe Star\\n7 months ago\\nGoing round and round in circle\\nREPLY\\nEvilbarbie Doll\\n8 months ago\\nI just realised CCS looks like William Hung , she bangs she bangs...\\nREPLY\\nseetoh45\\n8 months ago\\nthis kind of response from csc is the reason why pap lost overall % votes in this GE2020. it is this type of arrogance that singaoreans have not much confidence in the 4Gs. thete is a marked diffetence in leadership quality between the 4Gs and the previous gen.\\n1\\nREPLY\\ndeskslee\\n7 months ago\\nSo what is the number?\\n1\\nREPLY\\njeff\\n6 months ago\\nReally? A simple question needs a SIMPLE answer. Don\\'t beat around the bush!\\nREPLY\\nKhairul nizam\\n8 months ago\\nGrab panda and coming soon roo. All aimed by across. Soon we dont even have a job.\\nREPLY\\nSophia Chee\\n6 months ago\\nNot all Singaporean has wages increased. Some foreigners which less experience joined with higher paid especially in IT department.\\nREPLY\\nCai Alan\\n8 months ago\\nWhy NTUC things so expensive. More expensive than sheng siong? Why?\\n1\\nREPLY\\nView reply\\nJ-TRAVEL 4K\\n8 months ago\\nJust answer the questions. Then accountability.\\n1\\nREPLY\\nNabi Isa\\n3 days ago\\n#singapore police force\\nREPLY\\nLow Li Ning\\n7 months ago\\nchan is like dee kosh. Pritam is like the public. hahahahah\\nREPLY\\nfeliscatvs\\n8 months ago\\nI love all the comments below... love you all xoxo\\nREPLY\\nmilflover33\\n7 months ago\\nSingaporean and PR not same hor. So simple.\\nREPLY\\nDoN-Ent\\n8 months ago (edited)\\nWhy can\\'t he just provide the figures. Not answering at all. Definitely is hiding. If u have nothing to hide, just be transparent and show us the figures.\\nREPLY\\nCai Alan\\n8 months ago\\nHe has a lot of things to hide\\n1\\nREPLY\\nHuang Jackson\\n8 months ago\\nSick\\nREPLY\\nB\\n8 months ago\\nParliament is such theatrics\\nREPLY\\n007rainbear\\n8 months ago\\nIs it smoky or do I just feel it’s just loads of smoke from CCS -.-\\n1\\nREPLY\\nZadicus Creighton\\n8 months ago (edited)\\ni just realised pritams voice cracked a bit lmao.\\nREPLY\\nView reply\\nCH Chan\\n8 months ago\\nMajority win..he can just as pritam to stfu and no one will fault him in that \\'house\\'\\nREPLY\\nCai Alan\\n8 months ago\\nccs is trying to evade the question.\\nREPLY\\nQue Haider\\n8 months ago\\nWhat is the Best in ur policy\\nREPLY\\nBoy juice\\n1 year ago\\nPrata lah u\\n2\\nREPLY\\nws004364\\n8 months ago\\ncan\\'t imagine him could be Singapore future PM.\\nREPLY\\nChan Teik Hung\\n6 months ago\\nJust give the number they want exact n. correct numbers there are no numbers that what they asking show the numbers more accurate do not talk n talk\\nREPLY\\nkuaqimai\\n8 months ago\\nDon\\'t know how to answer then talk grandmother story....\\n1\\nREPLY\\nTan David T S\\n8 months ago\\nIs sad that psp is not in parliament\\n2\\nREPLY\\nclzm90\\n8 months ago\\nIt\\'s clear as day that Mr. Chan is avoiding Mr Pritam Singh\\'s request. Instead of acceding to the request which he could, he went on and gave a speech that no one asked for.\\nREPLY\\nTaufiq AR\\n8 months ago\\nNo point going for STEM degrees if foreigners are going to take all the jobs\\n1\\nREPLY\\nTraffic Monsoon Academy\\n8 months ago\\nCCS sounds like the modern day Confucious to me. \\n\\nOnly issue is....\\nRead more\\n1\\nREPLY\\ndagger brag\\n9 months ago\\nWages increase.? Me engineer in 2005=$3200, manager 2010=$3,800... something wrong\\nREPLY\\nสุวารี สุวารี\\n8 months ago\\nIf he is cunning we are gullible\\n1\\nREPLY\\nayu odagiri\\n8 months ago\\nargh i don\\'t understand this \"debate\", maybe i need to retake english again argh lol\\nREPLY\\nVARIVA VARIVA\\n1 year ago\\n👍👍👍Let Chan be HK\\'s next Chief Executive so he can stop the divisiveness, hatred and racism spreading in HK... Singaporeans are lucky to have such a stable well functioning society and political system.\\n2\\nREPLY\\nMaureen Kam\\n8 months ago\\nCCS, please don\\'t evade the question by being ambiguous.\\nREPLY\\nJon888321\\n8 months ago (edited)\\nCCS TCSS. Pritam just asking a simple qn. CCS so evasive. Don\\'t forget KARMA. You are taking Singaporean  taxpayers money, so u shld serve Singaporeans interests first! There can be no meaningful debates if government is unwilling to be transparent with the data!\\n3\\nREPLY\\nSara A\\n8 months ago (edited)\\nIn all these snippets of debates, I realised that the ministers look at the big picture while the opposition members look at protecting the interest of true blue Singaporeans.\\n\\nI\\'m not sure if looking at the big picture to help Singapore prosper as a whole is enough. The overall statistics of unemployment and wage growth look healthy etc but is looking at the overall figures enough?\\nRead more\\nREPLY\\ncoco wang\\n7 months ago\\nLiar.\\nREPLY\\nYonghui Goh\\n8 months ago\\njust answer the question lah\\nREPLY\\nAngela Magnus\\n4 months ago (edited)\\nIt is nice to see an ex non-elite student daring to debate with the arrogant ex RI boy.\\nREPLY\\nrayson cheng\\n8 months ago\\nWhy cannot provide the breakdown if there is nothing to hide in first place? There is nothing wrong in this question...\\nREPLY\\nNoorman AyieFidz\\n8 months ago\\nBooo...\\nREPLY\\nNabi Isa\\n3 days ago\\nJesus nabi isa here need help in Singapore imh\\nREPLY\\nMiguel Manoj\\n8 months ago\\nAre our wages going up? NO!\\n1\\nREPLY\\nBen Chua Digital\\n8 months ago\\nCan\\'t believe this is a potential PM.\\n1\\nREPLY\\nkisiow8\\n8 months ago\\nOppo in Parliament is NOT for PAP MPs to talk down to!\\nREPLY\\nwiseguy Ho\\n8 months ago (edited)\\nEven if local employment has increased and getting better wages (I wonder how that study was made and based on what sort of sample), as analytics go, the number of PMET that has gone to foreigners could indicate a different scenario, so why can\\'t he show that data that he obviously has or he only shows data that supports his stance?\\n1\\nREPLY\\nZannice See\\n9 months ago\\nThe point is you get paid as minister n answerable to us not answerable to rich PR or their relatives.The point is Mr Chan is a Singaporean born under normal or poor  family background should understand us more.\\nREPLY\\nสุวารี สุวารี\\n8 months ago\\nIF you want to become Singaporean you have two alternative 1 prepare 3 million sgd or 2   I will sell u my cirizenship for 20 tbousand if law permits\\nREPLY\\nTan Bee Choo\\n8 months ago\\n反对党的支持者和粉丝，局心不良一面倒在损PAP，当反对党是完美无瑕的圣人，反对党做什么讲什么都是对的，台湾的网军，香港的黄丝，新加坡的什么??????\\nREPLY\\nView reply\\nNin Ja\\n8 months ago\\nAt what cost is the govt willing to build up Team Singapore to compete internationally. Using the unemployment rate is an indirect way of skirting the true underlying concern of Singaporeans getting underemployed.\\n1\\nREPLY\\nKay S\\n8 months ago\\nGeneral has a lot to hide lah...\\nREPLY\\nLee Kok Wei\\n8 months ago\\npap like to do the thinking for the people. like we have no brain like that. just give detail data la. divide or not we can decide.\\nREPLY\\nmdkl _\\n8 months ago\\nThe only Chan I like is Jackie Chan.\\n2\\nREPLY\\nDaily life\\'s\\n8 months ago\\nsingaporeans work so hard also no use.if foreign ppl work hard than, people will realise how good they are\\n1\\nREPLY\\nGilbert Thomas\\n8 months ago\\nNothing to hide, but don\\'t want to show data.\\n1\\nREPLY\\nView reply\\nYu Xin Wei\\n1 year ago\\nAre our wages going up, the answer is yes. WOW! 👏 👏👏\\n1\\nREPLY\\nสุวารี สุวารี\\n8 months ago\\nHis body language gave him up why swallowing saliva\\nREPLY\\n1 2\\n8 months ago\\nschool boy needs to go back to school and stay there.\\n1\\nREPLY\\nShamsuden Kori\\n8 months ago\\nThis WHITE SHIRTS give less to spores n take back 10×MORE... it\\'s time to change enough is enough...\\nREPLY\\nCary Andrae\\n7 months ago\\nI think end of the day, just answer what was asked and not tell some other stories. We can make lots of policies, but if the data do not support the policies, then it simply means the policies are ineffective. Not to say the policies are bad. Because you need to have a reference now. And when policies are implemented, then reviewing the data to see if they were effective in helping those that was meant to help. But if one side does not have a reference point and later you say it helped alot of locals, what can they based on for that statement? None. Only solely relying on his report and no base reference.\\nRead more\\nREPLY\\nfarhan m\\n7 months ago\\nLol.. HE DIDN\\'T ANSWER THE QUESTION. HE EVADE THE WHOLE QUESTION. IT\\'S A SIMPLE DAMN QUESTION MAN! LOLLLLLLLL. OMG such incompetence!\\n\\nIt\\'s like saying...\\nRead more\\nREPLY\\nellotte lim\\n8 months ago (edited)\\ni don\\'t think we have anything to haig! As locer unemployment increase wif all dis efforts, the answer is a rezounding no.\\n1\\nREPLY\\nสุวารี สุวารี\\n8 months ago\\nTalented people wont join the army as regular soldiers as the pasture is greener outside\\nREPLY\\nG.O.A.T\\n8 months ago\\nI will get u d numbers.... Lololol\\nREPLY\\nNor Azrizal Rahimy\\n4 months ago\\n0:50 who\\'s that woman? Anyone can tell her name?\\nREPLY\\nNabi Isa\\n3 days ago\\n#ministry of law\\nREPLY\\nDankestMemes\\n8 months ago\\nMinister Chan rekted this dude\\nREPLY\\nTheresa Chua\\n8 months ago (edited)\\nIt’s called siam tactic 😂 army taught him well & there’ll be more of such evasive answers to justify their needs for PR & abortion which had been legalised since 1969. We wouldn’t have so many issues which COVID 19 had exposed if govt in the 1st place had carefully deliberated over the pros & cons b4 implementing any policy. If anyone scrutinise past policies closely, they’ll surely know many were implemented without wisdom nor foresight.\\nRead more\\nREPLY\\nLam Par\\n5 months ago\\nForeign workers are always  the first group of people get the beating from Singaporean MP.  Sad!\\n1\\nREPLY\\n123arcadia\\n5 months ago\\nThe lady in green is gorgeous!\\nREPLY\\nTorr HTHC\\n8 months ago\\nThe way the question was answered did not give full confidence that he is taking care of Singaporeans. PR are not Singaporeans unless you already have plans in place to convert them. Then what happens to those who are displaced? Drive grab or do foodpanda? Well those are also jobs.\\nREPLY\\nsahari Hussin\\n8 months ago\\nCCS, is outrages bad ........ Once the opostion win ,see if u can talk and talk or not.\\n1\\nREPLY\\nCai Alan\\n8 months ago\\nCcs is hiding, really seah suay\\nREPLY\\nfool4thot\\n8 months ago\\nCcs still didn\\'t answer the question... What\\'s the point behind the answer?\\nREPLY\\nHanafi Hameed\\n8 months ago\\nIt is quality of job is made available to Singaporean is the crux of the question.\\nREPLY\\nHuI s\\n8 months ago\\nHis body language is belittling. Anyway he did not address the question and what are the figures?\\nREPLY\\nNabi Isa\\n3 days ago\\n#heart attack\\nREPLY\\nhuat goh\\n6 months ago\\nthen just split them how many are for PR and how many are for singaporean just give data\\nREPLY\\nEugene Ho\\n8 months ago\\nCcs very adversarial...saw his other interviews, loads of evasive rhetorics & tactics,doesn\\'t answer straight to the point and there\\'s a self impt air...thats the problem with most of these who went through army for too long, they all have this air of superiority in them..he shd be speaker of parliament or retire, should earn enough by now as a minister while tcj takes his position as dpm next time..\\nREPLY\\nK W\\n8 months ago\\nWhere is the data?\\nREPLY\\nRichie Li\\n7 months ago\\nCCS so proud of himself......so rude and pay no respect to normal human being........\\nREPLY\\nCayote Lives\\n8 months ago\\nIts not about overall unemployment rate .its about out future which  jobs are given to locals and foreigners. Its for the present and future\\nREPLY\\nNabi Isa\\n3 days ago\\nInstitute menthal hospital\\nREPLY\\nView 2 replies\\nNabi Isa\\n3 days ago\\n#mayweather\\nREPLY\\nSurendra Yadav\\n6 months ago\\nSingapore is a good country.\\nREPLY\\nMark Koh\\n1 month ago\\nAnswer to the question please\\nREPLY\\nTitan World\\n8 months ago\\nCocky without answering.\\nREPLY\\nLeelee Chang\\n8 months ago (edited)\\nHow can we continue to support ppl like CCS? And paying hlm hpw much?\\n1\\nREPLY\\nMalibu Bramacari\\n8 months ago\\nIs this a \\'sparring \\' debate btwen  Mr sighn & Mr Chan, i dnt thnk so.\\nREPLY\\nสุวารี สุวารี\\n8 months ago\\nHonesty I dont even have o level if the law permits I would like to purchase your 2 class upper honour in order to stand for GE if successful I will take any golden opportunities to bombard those so called educated barbarians in parliament\\nREPLY\\nJay Jay\\n8 months ago\\nJust give the figures. Simple.\\nREPLY\\njoeNjudy whoknows\\n8 months ago\\nJust show the figures la.....we ourselves also can evaluate. Yes, unemployment among singaporeans are down but most are working in the line like \"grab\"....they cannot get the field that they want because companies are hiring foreigners...\\nREPLY\\nAyew Kidding Me\\n8 months ago\\nAsk for  question 1, you give answer for question 10 lmao\\nREPLY\\nView 2 replies\\nK W\\n8 months ago\\nWhere\\'s the data?\\nREPLY\\nCaleb Yoong\\n8 months ago\\nis friction...\\nREPLY\\nN Leo\\n8 months ago\\nNot answering a simple question\\n2\\nREPLY\\nGuru Aathikesavan\\n7 months ago\\nPritam Singh asked a simple question and he couldn\\'t even give a straight answer. Smiling in a sarcastic fashion and acting like a clown, this fool doesn\\'t know what he\\'s doing.\\nREPLY\\nNabi Isa\\n3 days ago\\n#worldwide\\nREPLY\\nBoring Videos\\n9 months ago\\nCotton Chan\\n1\\nREPLY\\nQue Haider\\n8 months ago\\nJust andwer what good job are u sure\\nREPLY\\nNabi Isa\\n3 days ago\\n#singapore\\nREPLY\\nSi Dunue\\n8 months ago\\nOkay, I\\'m not saying I disagree with your point CCS, so... where are the figures? Why does this video end here?\\nREPLY\\nView reply\\nhuat goh\\n6 months ago\\nwe want data e want data\\nREPLY\\nAlna Lim\\n8 months ago\\nBaa baa black sheep have you any wool? Yes sir yes sir three bags fools. I got to make mask for Singaporean....\\nREPLY\\nBe Objective\\n8 months ago\\nWhat’s the point of electing you? Singaporeans are always very cautious, about this constant divide: PAP vs Opposition, and would like to remind that the ultimate completeness, comes from Team Singapore, comprising of PAP and the oppositions, each getting their portion of “sufficient” seats.\\nREPLY\\nNicholas Ho\\n8 months ago (edited)\\nSo what is the data? So nothing was answered correct?\\nREPLY\\nDana\\n8 months ago\\nall that talk but still never give the numbers\\nREPLY\\nNabi Isa\\n3 days ago\\n#president\\nREPLY\\nGoodvibes 2020\\n8 months ago\\nYou question you answer.\\nREPLY\\nสุวารี สุวารี\\n8 months ago\\nYou dont have anything to hide because you have already hidden everything\\nREPLY\\nView 2 replies\\nRichie Li\\n7 months ago\\nthat is why CCS is so disliked by many people...... so unprofessional\\nREPLY\\nBrock Abaddy\\n8 months ago\\nJust answer the freaking question!\\nREPLY\\nOlive Lim\\n8 months ago\\nGovt is mitigating and regulating on foreign passes. It is NOT a zero sum game. \\neventually some of these foreign workers take roots here, just like our predecessors. We need population to become a first world economy. A vibrant and open economy.\\nREPLY\\nAli Saifudin\\n8 months ago\\nStooopid!!your salary increase ah!!others still not benefitting !!\\n1\\nREPLY\\nสุวารี สุวารี\\n8 months ago\\nHe should go for America got talent if he is deemed talented and win a million dollar US dollar for himself as minister salary are too low for survival\\nREPLY\\nantonette chan\\n8 months ago\\n......that\\'s why lost Sengkang...not Singapore first!!\\n1\\nREPLY\\nkok zi\\n8 months ago\\nI think primary student can understand what does it meant by data....is it so difficult to tell the amount of population between Singaporean and RP? Do Singaporean have the right to know? I think there is nothing behind the question. Maybe the opposition party has more innovative ideas to help the Country. Relex\\nREPLY\\nTheHenry9797\\n7 months ago\\nlook at Ccs, he is so arrogant...  now even MAS is giving this info.\\nREPLY\\npaige vanzant\\n8 months ago\\nwho is that green shirt girl sitting behind?\\nREPLY\\nSteffyduffyy Tan\\n8 months ago\\nquantity of jobs for singaporeans isnt quality of jobs going to singaporeans Mr Chan\\nREPLY\\nView reply\\nThe Maths Geek\\n8 months ago\\nccs is like this because hes from pap and  pritam is from workers party.\\nREPLY\\nmicalhing\\n6 months ago\\nWho\\'s the lady mp in green behind?\\nREPLY\\nView 3 replies\\nHeng Leong Lim\\n8 months ago\\nTalk big! The common working Singaporeans didn\\'t see any increase in their salary instead we see increase in our utilities bills faster than our salary. When they say they got nothing to hide means they got everything to hide.\\n1\\nREPLY\\nMsTomatoGuru\\n8 months ago\\nAnd that is why we need Opposition in parliament - when the incumbents are just avoiding the questions/ totally not being transparent about something as basic as labour numbers.\\nREPLY\\nBeta 9\\n8 months ago\\nPAP vs WP\\nREPLY\\nAlbert Wang\\n8 months ago\\nCCS become CCB because he din directly tell Pritam the number. Talk CC sing S\\nREPLY\\nView reply\\npeh young\\n8 months ago\\nteam singapore? try getting PRs to serve NS,\\nREPLY\\nWen Wei Michael Yong\\n8 months ago\\ngot say like no say. wtf\\nREPLY\\nManish\\n8 months ago\\nWhy keep on comparing other countries ?  only conviniently when data suits\\nREPLY\\nSha Krish\\n8 months ago\\nThat pap minister isnt even tackling the qn...haiz...n his laguage isnt close to average...\\nREPLY\\nBlack Pink\\n8 months ago\\nChan Chun Sing, Pritam Singh spar in Parliament over data on distribution of new jobs among S\\'poreans and non-citizens\\nBy JANICE LIM\\nMediacorp\\nRead more\\nREPLY\\nView reply\\nYIP PAUL\\n8 months ago\\nI am interested in the answer to the question. No wonder WP wins another 4 more seats.....LOL\\nREPLY\\nNabi Isa\\n3 days ago\\n#lawyer\\nREPLY\\nCardin Puah\\n9 months ago\\nSo what’s the answer?\\n1\\nREPLY\\nPhoebe Wong\\n8 months ago\\nSO HOW MANY\\nREPLY\\nMJ\\n6 months ago\\nWhat a non-answer !\\nREPLY\\nPrabakaran Sechachalam\\n8 months ago\\nI think CCS is referring to Chinese speaking folks. Glance mycareer.sg and see the number of JD which requires Mandarin speaking. If mandarin speaking is the spinal connection for todays jobs market, what will minority non chinese speaking workforce do,?\\nREPLY\\nmanzskies\\n8 months ago\\nI dun understand why sg vote for him ccs. Nxt time no job dun complaint !\\n1\\nREPLY\\nAaron Zamorano\\n7 months ago\\nCcs is all selected minister,not chosen by the ppl,but I understand ministers can’t be chosen by ppl,only the elites chose them\\nREPLY\\nMohan Afiq\\n8 months ago\\nClearly CHS wants to cover and reluctant to share the data in fear of being asked some further questions which will drive him to a corner..but being a good talker he manage to avoid the onslaught.Good job.\\nREPLY\\nNicholas Tan\\n8 months ago\\nya la ask PR and work permit holders vote for you OK?? steady\\nREPLY\\nkt lim\\n8 months ago\\nCCS talk nonsense.U turn man.tks to 61%\\nREPLY\\nNabi Isa\\n3 days ago\\n#pap\\nREPLY\\nThomas T\\n6 months ago (edited)\\nWhile taking millions of salary, just twist and turn to face the problems, nothing new . Hope this will end someday .\\n1\\nREPLY\\nView reply\\nGurdeep Singh\\n8 months ago\\nThe person is asking you a simple 1 question-local pmet jobs which is 60,000 not your answer of local unemployment jobs \\nYou suppose to answer to Questions A but u reply to Questions C what kind of G ministers are you\\n1\\nREPLY\\nTET2005\\n8 months ago\\nFor real? People are getting good jobs?\\nREPLY\\ngunners2507\\n8 months ago (edited)\\nhttps://www.mom.gov.sg/newsroom/parliament-questions-and-replies/2020/0106-oral-answer-by-mr-zaqy-mohamad-mos-for-manpower-to-pq-on-itms\\nOriginal question by WP and answer by government.\\nRead more\\nREPLY\\nRoboroski hamster\\n7 months ago\\nJoke presented by Joker what is the point for CCS to stay in Paliament???\\nREPLY\\nJaya Seelan\\n8 months ago\\nwe should have PR\\'s & foreigners in Parliament to up the competition to serve the nation with the interest of Singaporeans at the core of any movement.\\nREPLY\\nView 2 replies\\nGaming Tao\\n7 months ago\\nUtterly disappointing msg by CCS. We are bench marking ourselves with around the world. The objective , if ever possible, should be aiming to achieve 0 unemployment rate for Singapore citizens. Of course, saying with the thought that we know it’s impossible, due to outliers that some individuals may genuinely not be employed (e.g.: due to medical reasons).\\nREPLY\\nBrandon Tan\\n8 months ago\\nKick this guy out of parliament\\n1\\nREPLY\\nzesheng goh\\n8 months ago\\nWages up? Hell no?\\nREPLY\\nOng Ernie\\n1 year ago\\nNUMBERS!\\n2\\nREPLY\\nJason Nah\\n8 months ago\\nI don\\'t have a good job & my pay wages have not increased... what is CCS smoking? You must seriously be kidding me if you are saying I am being done right as a Singaporean\\nREPLY\\nEffendi Mahmud\\n8 months ago\\nOmg. Don\\'t lie please. Tell the truth. With DATA! not putting up excuses on why the question is brought up.\\nREPLY\\njustin tan\\n8 months ago\\nWho is the lady MP in green behind CCS?\\nREPLY\\nView 2 replies\\nสุวารี สุวารี\\n8 months ago\\nHe is talking to nuts\\nREPLY\\nandy3949\\n8 months ago\\nSingapore government is not exactly the most democratic of governments around to be frank.\\nREPLY\\nNabi Isa\\n3 days ago\\n#russia\\nREPLY\\nNabi Isa\\n3 days ago\\n#doctor\\nREPLY\\nKai Rong Lim\\n8 months ago (edited)\\nWhy Jamus Lim Is not Chief of WP\\nREPLY\\nView reply\\nCai Alan\\n8 months ago\\nHe is hiding\\nREPLY\\nPJ Pororo\\n6 months ago\\nCCS, you are not truthful! I am a true blue SG, more than 50yrs old, to get a job in the industry I excel in is difficult, I have send many resumes but I didnt receive a single interview. So dont give me your BS la\\nREPLY\\nTaro Misaki\\n1 year ago\\nI do not understand what they say. Is there an Indonesian translation ?\\n1\\nREPLY\\nLawrence Seow\\n9 months ago (edited)\\nThis bloke can\\'t even give a straight answer. If nothing to hide and not about the data, just reveal already. Like COVID-19 the reports keep saying one Singapore citizen or PR. Stupid. Just say one PR. Today they changed it.\\n2\\nREPLY\\nASK YIP\\n8 months ago\\nSeeing the comments,It seems that singaporeans welcome the PM like trump type\\nREPLY\\nWong Ngee Yong\\n8 months ago\\nMr Chan , 10 WP marching in parliament , please debate properly in future\\n2\\nREPLY\\nView reply\\nSri Vaylan\\n8 months ago\\n\\'We will get you the numbers....\\'. Wow, lack of statistics given to make a stance.\\nREPLY\\nNabi Isa\\n3 days ago\\n#fbi\\nREPLY\\nNabi Isa\\n3 days ago\\n#mike tyson\\nREPLY\\nRandom Me\\n6 months ago\\nThe ultimate governance is not pitting the PAP and the opposition party, it is the team Singapore which comprises govt and opposition party.\\n\\nOk\\nREPLY\\nToby\\n8 months ago\\nSingapore is a goner, look at this dude, look at the East Coast Plan...\\nREPLY\\nQuok Beng Hua\\n1 year ago\\nU talk about horses..we asking about 4d...?????\\n1\\nREPLY\\nBrandon Tan\\n7 months ago\\nOmg can’t stand CCS , period\\nREPLY\\nVfopie jcod\\n8 months ago\\npap dogs\\nREPLY\\nFaizal Ridzwan\\n1 year ago\\nWhy cant we ask the data without any judgement from you Ccs?\\n3\\nREPLY\\nFury- XRnGX\\n6 months ago\\nMP stop twisting !!answer direct to the point,!!!\\nREPLY\\nSam Casual\\n8 months ago\\ntrying to act almighty, well...is all about the data...and the data is not looking good,\\n2\\nREPLY\\nNabi Isa\\n3 days ago\\n#ghost\\nREPLY\\nmuhd faiz\\n8 months ago\\nYES! SINGAPOREAN IS NOT GETTING BENEFIT!! PR AND FOREIGNER WORKERS ARE TAKING OUR JOB!!! LOOK AT HOW MANY PR/FOREIGNER WORKERS IS HOLDING A HIGH RANK POSITION AT WORK!!!\\nREPLY\\nKayalvili Jayaram\\n8 months ago\\nI support with Pritam why want to combine the Singaporeans and PRs under one category. And stupid Goverment where got Local born Singaporeans are getting good jobs and high wage. Nonsense crap.... Go for it Pritam.\\nREPLY\\nLouis Loh\\n8 months ago (edited)\\nYou saying you are doing right by singaporeans..then you go on to say need to be cautious about the divide between singaporeans vs PR..kns of course need to distinguish la..we singaporeans VOTE your government in, not the PRs. I dont see anything wrong with Pritam asking for the breakdown to see how many jobs actually went to the group who actually VOTED you in.\\nREPLY\\nmohd mohammed\\n8 months ago\\nWhat nonsense ccs?\\n1\\nREPLY\\nCai Alan\\n8 months ago\\nsingaporean are paid less than foreigners\\nREPLY\\nNabi Isa\\n3 days ago\\n#mol\\nREPLY\\nSiva Nadan\\n8 months ago\\nAre singaporeans getting the jobs... answer is no\\n\\nAre singaporeans getting wage increase..\\nRead more\\nREPLY\\nView reply\\nBai Dalcha\\n8 months ago\\nWhat talking you\\n1\\nREPLY\\nNabi Isa\\n3 days ago\\n#mom\\nREPLY\\nJustin Gomez\\n1 year ago\\nWillfully Evading the Question is \\nDeplorable and Disappointing.\\nDuring Parliamentery Debate\\nResponse to Questions must be forthright and Forthcoming to Dispel Doubts.\\nRead more\\n1\\nREPLY\\nView reply\\nHector Chua\\n8 months ago\\nNo wages increase.. I dont know for the high paid jobs but maybe these are the ones that up the stats verbally... Singaporean benefits? Nope.. not at all.. what is the point of comparing other countries where our own fellow singaporean vs PR are not sorted out.. Getting singaporean working along with our PR to boost up economy against other countries statistics are currently not a solution now as we singaporean are struggling with our daily needs.. middle and lower class jobs are the suffering ones.. The problem that should be address now is singapore vs singaporean.. a win win solution.. that our country benefits economically and easing our own singaporean struggling ways of life..\\nRead more\\nREPLY\\nTheHenry9797\\n8 months ago\\nUnfortunately, CCS was skirting the question. \\nI just dont understand what was the fear/reluctance to answer the question? Are they worried that Sporeans will get a shock of their life when they know the truth. Mathematically, the unemployment rate of PRs should be lower because if they have no job, they can choose to leave unlike Singaproeans.\\nRead more\\nREPLY\\nSunny\\n8 months ago\\nCCS is really useless. Vote him out\\n2\\nREPLY\\nNabi Isa\\n3 days ago\\n#syiahdajjalnorhailminbinmnizan\\nREPLY\\nTony Ang\\n8 months ago\\nWhy not ask the question and move on. A total waste of Tax payer money to play Taichi !\\n1\\nREPLY\\nอารยา แซ่อึ้ง\\n8 months ago\\nHum Ka Chan\\nREPLY\\n5cents Worth\\n6 months ago\\nCCS have nothing to hide yet does not want to answer  Pritam\\'s question. 8 months down the road, 10 seats went to WP and last three days in Parliament we see the Minister of Manpower cry and MIW stone-walling the  opposition, labelling the opposition as adversarial  and calling their voters free riders . Hello,  MIW dont hold the monopoly  of good governance  but wants to have the monopoly of withholding  information to prevent opposition to help and aid generating alternatives for consideration for public policy-making. Hello, everyone is in TeamSG including  MIW voters, Opposition voters and Opposition. Pritam is not Jeremy Corbin, Opposition is not Tawan-style disruptive pull-hair, smack-punch, throw-shoe debate. we all are in teh same boat, that\\'s why everyone in SG has to play our part to bring SG forward, not kneecap it by not providing info or worse, question the intent of the question or worse still, insinuate the person who asked as a mischief-causing agent. . Now, you know why  why MIW lose so many % and seats.. with yaya papaya smug attitude vs professional and measured approach by WP Pritam !\\nRead more\\nREPLY\\nR L\\n8 months ago\\nHonestly hope this arrogant fellow never get to the position of PM or even DPM.\\nREPLY\\nArun Vyshakh\\n8 months ago\\nI agree with CCS here. What is the point of the question? He said he will give the numbers which he obviously did not have or prepared to share at that point of time, but he said he would.\\nNow, the question how much this and how much that in a political setting is, at all times, to use that as a political weapon against the other party. I think Rep.Singh is trying to insinuate that for some reason foreign workers in Singapore are the main and only reason why there is unemployment in Singapore. However the actual reasons are far more complicated than that.\\nRead more\\n1\\nREPLY\\nAnthony Soh\\n2 months ago\\nTeam Singapore does not exist if you dilute your own population with high percentage of foreigners. Most foreigners come Singapore to benefit from strong SGD exchange rate. They will not be loyal to SG. Inflation, overcrowding and depressed wages all damages absorbed by local born Singaporeans. When has garment ever take care of us. They will continue to implement more policies to eat local born Singaporeans should they win more seats.\\nRead more\\nREPLY\\nJustin Gomez\\n10 months ago\\nBlatant Lies !\\nDidn\\'t Government impose Curbs of foreign PMET\\'s when there was an Outcry from Singaporean PMET\\'s ?\\n1\\nREPLY\\nJames Richard William\\n8 months ago\\nThe Chinese fella’s grammar sux\\n1\\nREPLY\\nCai pn\\n1 year ago\\nSimply, why foreigners aspired to be Sg citizenship, mainly spore is wealthy enough for them to enjoy some wealth. So, it is to the interests of PR or aspired PR to make Singapore wealthy continues. Now if spore is not forthcoming in wealth development in future, these PRs will pack and return back or to other more promising wealthy country. And is good for local also, because reduction in foreign populations means wealthier economy then and spore has gain full of knowledge economy to return back for good with majority locals then.\\nRead more\\n2\\nREPLY\\nView reply\\nNabi Isa\\n3 days ago\\n#usa\\nREPLY\\nAvenash M C\\n8 months ago\\nSmug and arrogant despite having nothing to substantiate it\\nREPLY\\nsea breeze\\n8 months ago (edited)\\nWhere can we sign a petition for CCS to step-down? If parliament meeting in the future is this CCS-style, then they won\\'t be getting 61% anymore. Just as silly as cotton comes from sheep.  Please find a replacement for CCS. Why is such smugness allowed? Pls don\\'t let us regret our votes. Where\\'s Tharman? Pls get capable man that we voted for to come and do the jobs and involve in such meaningful discussions. Don\\'t use their faces during elections only, which after the votes gotten, stuff us with CCS. Why  is Spore paying CCS? He never come across as he is up for the job, not even simple discussions like this.\\nRead more\\nREPLY\\nsmonyboy\\n8 months ago\\nWon 60% of the popular votes but controls 90% of parliament. How very democratic.\\nREPLY\\nView reply\\nK W\\n8 months ago\\nOMG They are just as bad and as confusing as each other. Can no one in Singapore Parliament speak simple basic English?? If not, why not carry out the Parliament in Singlish instead of acting prissy. It\\'s ridiculous!!\\nREPLY\\nHistory Maker International\\n8 months ago\\nThe point is that you are not doing the job. Chan chuan sin full of sin and lies.\\nREPLY\\nAniq aniq\\n8 months ago\\nDon’t be stupid it’s about the data we need to see the data to Ensure we are going to the right path\\nREPLY\\nDavid Liew\\n8 months ago\\nCcs, this is the reason why pap lost sengkang grc when u put PRs\\' agendas  ahead of Singaporeans\\' agendas... and why there\\'s no quota for foreign expats, where Singaporean graduates can fill the jobs, why give those positions to foreign expats\\nREPLY\\nView 3 replies\\nAzzon Fire\\n8 months ago\\nHe reciting which poetry? Crap\\n1\\nREPLY\\nJade Foo\\n8 months ago\\nAnswer the question and let us reach our own conclusion. If it is indeed clear as day, then that will be the conclusion drawn. Stop mansplaining. Just answer the question for crying out loud. Good grief, worse than plucking teeth!\\nREPLY\\nSportsTourer\\n8 months ago\\nCcs u are really a hopeless guy\\nREPLY\\nสุวารี สุวารี\\n8 months ago\\nso called educated barbarians in parliment\\n1\\nREPLY\\nCai Alan\\n8 months ago\\nOf course plenty of unemployment for local people. Foreigners earn more than Singaporean\\nREPLY\\nNick Ee\\n1 year ago\\nReally, we are now resorted to driving as private hire or taxis, so this is a good job? How many people are doing this for a living? As so driving the unemployment rate numbers down? Even so, even giving me a $20 rental rebate for the current situation the criteria is set on last year o t, Nov and Dec for 200 trips which is period of school examinations, school holidays and locals expats going away for holidays or leave clearance a good way to get us less ridership and not able to be qualified for the \\'help\\' a way of saying you\\'re on your own!\\nRead more\\n1\\nREPLY\\nView reply\\nLOS Farm\\n8 months ago (edited)\\nComments from viewers have been really brutal. Damn.\\n\\nReading the full story (description) more or less helped me understand better. Rather than giving an opinion about a video that\\'s cropped out (from actual full discussion) without understanding why this debate took place.\\nRead more\\nREPLY\\nK W\\n8 months ago\\nWhat is Chan Shun Ching \"hiking\"? Ridiculous. What a scam!\\nREPLY\\nあれBanana\\n8 months ago\\nall bull shit.. I lost my job, never had a good job, stagnant pay barely even breaking 2k. Meanwhile a FT earn way much more than me.\\nREPLY\\nNitz Rao\\n8 months ago\\nToo much arrogance and ignorance here. WP your time will come.\\nREPLY\\nCasanova Nova\\n7 months ago\\nWages goin up ur head la boy...go up by 20 30 40 dollars and u increase everything..siao..I think u and ur cabinet is the one getting pay increase..Singaporean earn peanuts.now foreigner pay higher then local..go and review every company payscale. Why foreigner don\\'t have paycut for cpf? Pay tax also once a year and u pocketted our Singaporean money every day without failed.\\nREPLY\\nIshta\\n8 months ago\\nNot fit to be a minister!\\nREPLY\\nbenpeh47\\n8 months ago (edited)\\nif Singaporeans are benefiting , why would people complain? And now our jobs taken remotely by India without even their physical presence here.\\n3\\nREPLY\\nFriesian Cat\\n8 months ago\\nThumbs down for Mr Kee Chiu.\\nREPLY\\nWisley Wol\\n8 months ago\\nIf Chan become PM, please migrate out of Singapore.  Come to parliament and not prepared to answer question, treating MP like soldiers waiting for his lecture. Hey, who knows what PR mean if is really an invitation to citizenry or a backdoor for foreign  workers. Let the people of Singapore decides on that. Don\\'t teach father how to love mother.  By not being open to providing answer of national important expeditiously.,  it looks like he got things to hide.\\nRead more\\nREPLY\\nHarbans Kaur\\n8 months ago\\nOmg !Blatant lies lies lies .All lies\\nREPLY\\nSyamri Othman\\n8 months ago\\nDon\\'t forget.. Some \"person\" said.. 1000 dollars is enough for your everyday Singaporean to survive monthly... Guess which party he belong to? Just make a wild guess..\\nREPLY\\nSummer Gal\\n8 months ago (edited)\\nIt’s obvious that ccs don’t want to answer... many Singaporeans education is world class but those employed are reporting to foreigners...\\nREPLY\\nRei Axl Ye\\n8 months ago (edited)\\nStill baffles me that CCS the snake was actually under consideration to be the next PM.\\nREPLY\\nView reply\\nChristopher Mark\\n8 months ago\\nBooo white out out out out out out out\\nREPLY\\nFeeza Abdul\\n8 months ago\\nOf course you don\\'t feel it, YOU ARE EARNING BUCKS! ITS US THE PEOPLE WHO ARE FEELING THE STRUGGLE. INCREASE WAGES? ARE YOU SERIOUS? SOME OF US HAD TO WORK EXTRA HOURS WITH NO PAY. SO SHUT YOUR TRAP.\\nREPLY\\nVEL MURUGAN\\n8 months ago\\nCCS is uttering rubbish\\nREPLY\\nHarbans Kaur\\n8 months ago\\nI Hate Chan Chun Sing , just hate your arrogance\\nREPLY\\nTamil Uyir\\n8 months ago\\nEwww ccr\\nREPLY\\nRoyston Tey\\n8 months ago\\nSingaporean are not getting the good jobs!\\nREPLY\\nView reply\\nJohn Wick\\n8 months ago\\nFor opposition and many locals, it is not enough that they have a good job, their salary increase, they receive subsidy; they also want that foreigner/PRs  to suffer more.\\n2\\nREPLY\\nSya Pentagon\\n8 months ago\\nSo this guy is trying to say that they will keep unemployment on a certain percentage so long as it is better than other countries ? \\n\\nThis people work abit want to be credited for alot. Lousy.\\nREPLY\\nStephanie New\\n8 months ago\\nThanks you CCS for your efforts in keeping unemployment Low, really appreciate your hard work. Let’s continue to be united and work for Singapore.\\n1\\nREPLY\\nkira84\\n8 months ago\\nwasted 3 mins and still no answer, i guess PAP deem themselves not answerable to anyone but themselves\\nREPLY\\nByuss\\n8 months ago (edited)\\nWhat’s the reason for the qns? Erm, because Singaporeans and PRs are different? And this is Singapore? During elections, you call out to Singaporeans and not PRs right. Asking the obvious and over-reacting to cover up. Anw, first time watching video of CCS and find him plain rude and condescending. Regardless the issue discussed, his attitude speaks volume of his personality. MPs like him is one reason why PAP is losing support from more and more Singaporeans. Why PAP is still the government is just because of what LKY built and LHL maintained, otherwise you wouldn’t even be in the parliament. Learn to respect others and answer all questions humbly. There’s a difference between working for Singapore and working for Singaporeans. If you’ve got it all mixed up, you need to either wake up or let someone more capable to do the job. Only when you focus on working for Singaporeans, then Singapore will naturally flourish. Figure it out.\\nRead more\\n1\\nREPLY\\nAbel Abyssal\\n7 months ago\\nI get you....the questions.....I mean get you the numbers. Followed by a long winded speech. Pathetic. and Unprofessional\\nREPLY\\nmaximus alexander\\n8 months ago\\nGovt has Increase jobs.... Need to ask... Wat kind of jobs... That\\'s has been created...\\nTO THINK Ppl complaining is it strange jobs not available for them?\\nREPLY\\nDesmond Seetoh\\n8 months ago\\nToo gross\\nREPLY\\nYeo Liliann\\n8 months ago\\nNothing to  hide is not what you said!! show it and shut up, you want to know what is behind find yourself. The smile show that you think you are clever! My foot cotton comes from sheep! The way your reaction and talk It is really ah beng styles!!! This is ruining the Singapore reputation!!\\nREPLY\\nGM ENGCON\\n8 months ago\\nTo answer Mr Xia Suay, we Singaporeans dont agree with your statement that we are a team along with FT \"PMET\". If you cannot or not willing to  do disclosure of this  data, by any chance during this disclosure of this data,  will you be making a false statement above ? VOTE WP in , we need disclosure of data.\\nREPLY\\nGM ENGCON\\n8 months ago\\nMr Xia Suay, what is your education background? DONT BRING your army ego into politics.\\n2\\nREPLY\\nMrSethypants\\n8 months ago\\nWhat is with this xenophobic thoughts and constantly competing singaporeans and PRs. Are PRs not contributors to Singapore?  \\nSure CCS don’t have the data on hand but he raises good points, why is there a need to even ask when our unemployment rate is so low\\nREPLY\\nView reply\\nCyberSekiro 2077\\n8 months ago\\nRUBBISH! IT\\'S ALWAYS ABOUT SINGAPOREANS VS THE FOREIGNERS. I WILL NOT VOTE FOR A PAP GOVERNMENT WHO ALLOW FOREIGNERS TO COME IN FREELY TO STEAL MY JOB JUST BECAUSE THEY ARE CHEAPER!\\nREPLY\\nSeline Ng\\n8 months ago\\nDisgusting\\nREPLY\\nShayne Tay\\n8 months ago\\nOMG this guy can’t even answer a simple question.\\nREPLY\\nJames Koh\\n8 months ago\\nNo data talk what ever he one. This is PAP talk and do is different. PR belong to 2 countries they don\\'t have Singapore passport. There is a difference MP you don\\'t know. Cannot reply a question and talk like a fool.\\nREPLY\\nView reply\\nHaifeng Tan\\n6 months ago\\nClearly Pritam is trying to divide the nation between SGR and PR which his approach to gain political benefits.\\nREPLY\\nSee Toh Chee Wai\\n10 months ago\\nthis is rather stupid. ccs n this entire team is hopeless. in the private sector such way of argument will fail completely. hopeless leaders\\n2\\nREPLY\\nAziz Omar\\n8 months ago\\nCan’t even answer a simple question 🤦🏻\\u200d♂️\\n2\\nREPLY\\nView reply\\ncrayon shin chan\\n8 months ago\\nJust don\\'t like the way this CCS behaves. All I know is that many Singaporeans are still struggling in life despite working hard. If a PR or even a work permit holder can earn about the same or even more than me here in my own country when we are all doing the same job, then what\\'s the point of me staying in Singapore or wanting to be patriotic when my government ministers earn millions and give this standard to citizens while we are here slogging day and night and earn just peanuts. Dont you think the wage disparity is too big?\\nRead more\\nREPLY\\nVictor Yeo\\n8 months ago (edited)\\nJust throwing random remarks but where is the data, where are the specifics? There isn\\'t a single number in his entire speech and his arguments are without merit. When he says wages are going up, what is his yardstick? How much \\'up\\' is it? Any particular industry/profession? Better than many countries, which countries exactly? By how much? This minister really lacking in depth. Only know cotton comes from sheep.\\n1\\nREPLY\\nEugene Cheang\\n8 months ago\\nUsing this point of argument, no need to reveal to reveal anything in life.... CEO salary, Temasek earnings/losses (everything is about good intent as alleged by PAP so no need to reveal the figures)......\\nREPLY\\nBronc\\n1 year ago\\nIntroduce more PR or arrogant Indian FT ya no problem. It isn’t you the MPs that squeeze everyday on the public transportation or experience overcrowding; experience first hand the arrogance of some FTs mainly the Indians. Just know how to come up with policies while comfortably cruising in your Mercedes and BMWs.\\n2\\nREPLY\\nView reply\\nJ L\\n8 months ago\\nWant jobs. Go out there and apply. Don’t sit around and expect people to serve the job at your doorstep.\\n2\\nREPLY\\nView reply\\nWilson\\n8 months ago (edited)\\nThe question is indeed trying to split citizen and PRs. It leads to a stupid paradox. If PR all have lower wage than citizen, then it means these PRs are inferior to citizen, then why we need these PRs? If we want elite ppl to join SG and help SG economy, then these elite definitely will have higher than average education and so are their wage. So Pritam, simple question, what do you want from PRs? I think you want to remove them all. How about just remove all the foreign workers. I cannot imagine ppl with this kind of mindset to rule a country.\\nRead more\\nREPLY\\nMaha D\\n8 months ago (edited)\\nMany PR\\'s are born here and still holding residency and on top many doing NS. Pritam question is really trying to win the support of butt heart people. Once the residency is given , country will take care of the residents too. Ofcourse Singaporeans get more benefits than PR\\'s. But jobs are taken on individual qualifications and intelligence. Government can\\'t help if one is being a stupid\\nREPLY\\nView 2 replies\\nRCT1234\\n1 year ago\\nI think PR is ok la, u go Australia , u go Canada , they all treat PR like local. Do not be that narrow minded.PR is contributing to the country too. Why so mean to them ? Really do not understand.\\n5\\nREPLY\\nView 6 replies\\nMinh Giang\\n8 months ago\\nWP is worthless with their so called \"checks\". You call this opposition?\\nREPLY\\nView 8 replies\\neugene sim\\n1 year ago\\nEvil intention of the WP. Good job, Mr Chan !\\n3\\nREPLY\\nView 9 replies\\nJ 21\\n8 months ago\\nAfter seeing these comments.... i realised that no matter how muvh SG govt has done for its people... Singaporeans will nvr be satisfied... just complain complain complain.  The country grow soo much, and all their govt gets from its people is complains... alot of things singapore is good and doing well in, yet I dont see Singaporeans praising their govt in. Security, racial harmony, first world country... foreigners envy and wants their country to be like ours, yet here most of us are complaining and being unsatisfied with everything. Think about it, and vote wisely, dont just vote our govt out, out of anger, think about its bad and the good. Have u really not benefit from this safe and secure, racial harmony and growing country?\\nRead more\\n1\\nREPLY\\nView 8 replies\\n26:16\\nPM Lee Hsien Loong, Pritam Singh\\'s exchange on \\'free rider\\' voters\\nCNA\\n330K views\\n6 months ago\\n5:40\\nMinister Shanmugam, MP Faisal Manap & MP Pritam Singh Debate the Separation of Religion and Politics\\ngovsg\\n250K views\\n1 year ago\\n6:47\\nMinister Lawrence Wong\\'s exchange with Worker\\'s Party\\'s Pritam Singh and Leon Perera\\ngovsg\\n89K views\\n2 years ago\\n14:30\\nBudget debate: DPM Heng, Pritam spar on need for independent parliamentary budget office\\nThe Straits Times\\n34K views\\n1 month ago\\n33:12\\nMP Sylvia Lim and Minister Shanmugam on the adjournment motion on reserved Presidential Election\\ngovsg\\n223K views\\n3 years ago\\n21:35\\nGovt will help S\\'poreans stay skilled and employable\\ngovsg\\n11K views\\n1 year ago\\n10:58\\nVivian Balakrishnan on Mahathir\\'s remarks that Malaysia-Singapore water deal is \"morally wrong\"\\nCNA\\n391K views\\n2 years ago\\n13:36\\nPM Lee\\'s exchange with Mr Low Thia Khiang\\nPrime Minister\\'s Office, Singapore\\n577K views\\n6 years ago\\n48:51\\nAn investigative interview: Singapore 50 years after independence - 45th St. Gallen Symposium\\nStGallenSymposium\\n1M views\\n5 years ago\\n52:45\\nLee Kuan Yew Hard Truths To Keep Singapore Going Interview - Hot-button Topics\\nOscar Lee\\n774K views\\n10 years ago\\n4:44\\nMinister K Shanmugam vs Facebook\\'s Simon Milner [Select Committee on Deliberate Online Falsehoods]\\nMothershipSG\\n189K views\\n3 years ago\\n15:54\\nExchange between DPM Teo Chee Hean, NCMP Leon Perera and MP Pritam Singh on ministerial salaries\\ngovsg\\n105K views\\n2 years ago\\n1:44:04\\nSingapore Perspectives 2020 \"Politics\" (Dialogue)\\nInstitute of Policy Studies (IPS), Singapore\\n6.6K views\\n1 year ago\\n5:57\\nJosephine Teo and Jamus Lim debate effectiveness of Singapore’s Employment, S Pass measures\\nCNA\\n593K views\\n6 months ago\\n30:21\\nMinister Chan Chun Sing addressed queries about cost of living\\ngovsg\\n24K views\\n2 years ago\\n21:49\\nExchange between Sylvia Lim, Grace Fu, Heng Swee Keat and Low Thia Khiang on GST test balloons\\ngovsg\\n394K views\\n3 years ago\\n34:13\\nKranji woodland clearance error: Chan Chun Sing, Desmond Lee respond to questions on land clearance\\nCNA\\n30K views\\n1 month ago\\n12:47\\nBest moments of the 13th Parliament of Singapore\\nMothershipSG\\n176K views\\n7 months ago\\n14:16\\nThe most 😲 bits of Vivian and Pritam\\'s exchange on TraceTogether in under 15 mins\\nMothershipSG\\n62K views\\n1 month ago\\n37:39\\nPM Lee Hsien Loong’s Closing Statement on 38 Oxley Road\\nPrime Minister\\'s Office, Singapore\\n167K views\\n3 years ago\\n18:12\\nLO Pritam Singh and Mayor Denise Phua debate on the role of CDCs and mayors\\nMothershipSG\\n27K views\\n1 month ago\\n1:13:11\\nFacebook\\'s statements and conduct on the Cambridge Analytica data breaches\\ngovsg\\n307K views\\n3 years ago\\n1:03:57\\nPritam Singh vs Vivian Balakrishnan on TraceTogether: In Full\\nMothershipSG\\n46K views\\n1 month ago\\n13:31\\nMP Low Thia Khiang\\'s Statement on 38 Oxley Road\\ngovsg\\n284K views\\n3 years ago\\n44:34\\n5 Questions with PM Lee, Pritam Singh, Tan Cheng Bock, Chee Soon Juan | The Straits Times [FULL]\\nThe Straits Times\\n182K views\\n8 months ago\\n10:54\\nNational Day Rally speeches: The most iconic moments from Singapore\\'s PMs\\nMothershipSG\\n134K views\\n6 months ago\\nLeong Mun Wai vs Gan Siow Huang & Ong Ye Kung on local-foreign worker mix\\nMothershipSG\\n33K views\\n1 month ago\\nIn Parliament: Sept 2, 2020 | PM Lee, Pritam Singh cross swords over \\'free rider\\' election tactics\\nThe Straits Times\\n113K views\\n6 months ago\\nFull Chan Chun Sing leaked audio SCCCI meeting\\nGreg\\n44K views\\n1 year ago\\nLow Thia Khiang and Png Eng Huat respond to comments made by ESM Goh Chok Tong\\ntheonlinecitizen toc\\n123K views\\n3 years ago\\nGE2020: New potential WP candidates include Nicole Seah, former NCMP Yee Jenn Jong\\nCNA\\n74K views\\n9 months ago\\n16:31\\nK Shanmugam, Vivian Balakrishnan address WP questions on use of TraceTogether data for police probes\\nCNA\\n93K views\\n2 months ago\\n4:49\\nChan Chun Sing: The $7k vs. $10k Job Dilemma in Singapore\\nMothershipSG\\n49K views\\n1 year ago\\n10:57\\nExchanges between Min Shanmugam, MP Sylvia Lim & Min Heng at 2018 Budget Debate\\ngovsg\\n195K views\\n3 years ago\\n10:32:31\\nLive: Committee of Supply debate on 5 March\\ntheonlinecitizen toc\\n6.2K views\\nStreamed 3 weeks ago\\n14:22\\nGE2020 LIVE: Workers\\' Party spoke to the media at Bedok on Jul.1, 2020\\nMothershipSG\\n63K views\\n8 months ago\\n16:11\\nDPM Heng vs LO Pritam Singh on budget accountability and outcomes | Budget 2021\\nMothershipSG\\n40K views\\n1 month ago\\n50:23\\nWalking With Singapore: Road to 2011\\nThe Workers\\' Party\\n54K views\\n3 years ago\\n14:43\\nExchange between PM Lee and LO Pritam Singh on voting and free-riders in Singapore\\nMothershipSG\\n50K views\\n6 months ago\\n7:37\\nK Shanmugam and Pritam Singh on the issue of LGBTQ and MRHA White Paper | COS Debate 2021\\nMothershipSG\\n25K views\\n3 weeks ago\\n37:50\\nExchange on Keppel Offshore & Marine Ltd corruption case\\ngovsg\\n17K views\\n3 years ago\\n2:08:59\\n[LIVE HD] PM Lee Hsien Loong speaks in Parliament on Singapore\\'s response to COVID-19 pandemic\\nCNA\\n353K views\\nStreamed 6 months ago\\n3:03\\nSingapore Politicians: Pritam Singh versus Chan Chun Sing\\nMothershipSG\\n122K views\\n1 year ago\\n1:28:48\\nDelving into Singapore’s history (Part 1 of 4)\\ngovsg\\n109K views\\n2 years ago\\n15:39\\nGE2020 political debate: Question and answer session\\nCNA\\n261K views\\n8 months ago\\nOnline Rally: Dr Chee Soon Juan | SDP | GE2020 (June 30)\\nThe Straits Times\\n70K views\\nStreamed 8 months ago\\nOnline Rally: Workers’ Party’s Hammer Show | WP | GE2020 (July 3)\\nThe Straits Times\\n97K views\\nStreamed 8 months ago\\nGE2020 LIVE: Workers\\' Party on a walkabout at Kovan on Jul. 2, 2020\\nMothershipSG\\n66K views\\n8 months ago\\nBe My Guest | The Lesser Known Side of Deputy Prime Minister Heng Swee Keat\\n8world\\n202K views\\n1 year ago\\nFull Interview: Singapore\\'s Deputy Prime Minister, Heng Swee Keat | CNBC International\\nCNBC International TV\\n40K views\\n11 months ago\\nGE2020: SDP\\'s Chee Soon Juan\\'s doorstop interview at Bukit Batok (Jun. 28, 2020)\\nMothershipSG\\n147K views\\n8 months ago\\nChan Chun Sing on jobs and workers in Singapore | Full CNA938 interview\\nCNA\\n7.5K views\\n1 year ago\\n3:01\\nAs S’pore society ages, who will care for the caregivers?\\nTODAYonline\\n2.8K views\\n3 weeks ago\\n4:41\\n07052019 Sun Xueling & Low Thia Khiang on POFMA\\nlarcenciel04\\n17K views\\n1 year ago\\n1:15:06\\nTOC GE2020 Livestream - Afternoon session 2 July 2020\\ntheonlinecitizen toc\\n40K views\\nStreamed 8 months ago\\n6:15\\n[EP Video 2] Presiden Melayu Pertama: Yusof Ishak\\nREACHSingapore\\n19K views\\n3 years ago\\n6:07\\nHow do the General Elections in Singapore work? | Mothership Tries To Explain...\\nMothershipSG\\n17K views\\n1 year ago\\n15:27\\nShouting match in Parliament after deputy minister accused of showing middle finger\\nThe Star\\n244K views\\n3 months ago\\n28:04\\nSingapore Parliament votes on Protection from Online Falsehoods and Manipulation (POFMA) Bill\\nCNA\\n28K views\\n1 year ago\\n3:53\\nSingaporeans at centre of economic growth opportunities, job creation: Chan Chun Sing\\nCNA\\n739 views\\n1 year ago\\n17:53\\nSingapore must #AbolishCECA\\nTean Lim\\n49K views\\n6 months ago\\n1:12:16\\nCOVID-19: Chan Chun Sing maps out “new path” for Singapore’s badly hit economy | In full\\nCNA\\n79K views\\n7 months ago\\n1:19\\nGovernment will help businesses navigate challenges amid global uncertainties: Chan Chun Sing\\nCNA\\n1.3K views\\n1 year ago\\n6:06\\nGE2020 Singapore: Everything you need to know about the GE in 6 mins\\nMothershipSG\\n20K views\\n9 months ago\\n4:24:28\\nLive: Singapore Parliament sitting on 25 Feb\\ntheonlinecitizen toc\\n4.7K views\\nStreamed 1 month ago\\n0:30\\nLarge tree falls at Toh Yi condo; no injuries but residents\\' homes and cars damaged\\nTODAYonline\\n3.3K views\\n3 weeks ago\\n19:30\\nGE2020: Singapore PM Lee Hsien Loong calls general election, Polling Day to be July 10\\nCNA\\n333K views\\nStreamed 9 months ago\\n16:53\\nIt\\'s Time For a Multi-Party System in Singapore GE2020\\nTean Lim\\n88K views\\n9 months ago\\n2:54\\nSingapore, Indonesia in discussion over recognising vaccination certificates\\nCNA\\n7.3K views\\n21 hours ago\\nNew\\n11:54\\nCOVID-19: Chan Chun Sing outlines Singapore’s plans to reopen economy after circuit-breaker exit\\nCNA\\n49K views\\n10 months ago\\n3:14:31\\nLive: Singapore Parliament sitting on 25 Feb\\ntheonlinecitizen toc\\n3K views\\nStreamed 1 month ago\\n2:32\\nAll land clearance projects to check processes after erroneous Kranji clearing: Chan Chun Sing\\nTODAYonline\\n1.5K views\\n1 month ago\\nGE2020: Party Political Broadcast | July 2, 8pm\\nThe Straits Times\\n24K views\\nStreamed 8 months ago\\nTOC GE2020 Livestream - Political Debates 1 July 2020\\ntheonlinecitizen toc\\n33K views\\nStreamed 8 months ago\\n42:52\\n[FULL] GE2020 results a ‘clear mandate’ though 61.2% vote share lower than hoped for: Lawrence Wong\\nThe Straits Times\\n32K views\\n8 months ago\\n5:58\\nSingapore GE2020: Observer on the opposition\\'s strategy during this election\\nCNA\\n37K views\\n9 months ago\\n59:46\\nCircuit breaker is working but public must persevere | Task force press conference (May 1)\\nThe Straits Times\\n75K views\\n10 months ago\\n2:51\\nGovernment to legislate new rules on lease agreements for retail spaces\\nCNA\\n1.7K views\\n22 hours ago\\nNew\\n5:23\\nSingapore Ready to Remove PAP Govt After 61 Years. GE2020\\nTean Lim\\n84K views\\n9 months ago\\n3:00\\nChina attacks foreign brands amid Xinjiang backlash\\nCNA\\n85K views\\n2 days ago\\nNew\\n3:56\\nSuez Canal blockage: Shipping rates nearly double as tankers ponder options\\nCNA\\n11K views\\n23 hours ago\\nNew\\n3:01:54\\nLANGSUNG : Persidangan Dewan Rakyat 15 Julai 2020 l Sesi Pagi\\nPARLIMEN MALAYSIA\\n38K views\\nStreamed 8 months ago\\n1:45:40\\nGE2020: Political Constituency Broadcast | July 3\\nThe Straits Times\\n24K views\\nStreamed 8 months ago\\n55:08\\nTask Force press conference (April 21): Circuit breaker extended to June 1 | THE BIG STORY\\nThe Straits Times\\n13K views\\n11 months ago\\n5:09\\n9 British individuals targeted in Chinese sanctions over Xinjiang\\nCNA\\n12K views\\n23 hours ago\\nNew\\n1:00\\nMyanmar junta leader condemns \\'violent acts\\' on Army Day\\nThe Straits Times\\n1.6K views\\n3 hours ago\\nNew\\n13:20\\nPAP East Coast team and WP hold e-rallies | GE2020 TODAY\\nThe Straits Times\\n21K views\\n8 months ago\\n3:23:26\\nNomination Day Live: Who’s standing where? | GE2020 | The Straits Times\\nThe Straits Times\\n76K views\\nStreamed 8 months ago\\n2:47\\nCOVID-19: Next phase of dorm vaccinations begins, involving 30,000 migrant workers\\nCNA\\n2K views\\n21 hours ago\\nNew\\n1:23\\nNo Covid-19 community transmissions reported for 13th straight day | THE BIG STORY\\nThe Straits Times\\n10K views\\n2 days ago\\nNew\\n3:05\\nSingapore 2020 polling day - Workers Party Hougang Ave 5\\nSs Tham\\n3K views\\n8 months ago\\n2:18\\nJoe Biden defends ‘nice guy’ image on immigration\\nThe Straits Times\\n427 views\\n1 day ago\\nNew',\n",
              " \"Singapore's oft-debated foreign worker policy sparked an exchange between Trade and Industry Minister Chan Chun Sing and Workers' Party chief Pritam Singh in Parliament on Monday (Jan 6). Mr Singh repeatedly asked for a breakdown of the number of new jobs that went to Singaporeans, permanent residents (PRs) and foreigners.\\nRead story here: \",\n",
              " 'It must take alot of courage to stand there and speak against a room of people which are against your existence in that room.',\n",
              " 'Husband : Wat do u want to eat?\\nWife : I got nothing to hide.\\nHusband : Wat do u want to eat laa?\\nWife : What is the point of the question? Let me remind you marriage is about teamwork.',\n",
              " 'I cannot tahan that cocky look. How did we end up having such lousy personalities in the parliament..',\n",
              " 'Pritam is like the gf that’s asking CCS “Can I see your phone?” \\n\\nCCS “ havent I been a good boyfriend? What’s the point of the question. I buy you dinner leh. Don’t you trust me?” ',\n",
              " 'I’m sorry I honestly can’t take someone seriously with that kind of arrogance and that degree of deflection 😧 it was so hard to watch',\n",
              " 'Kudos to Mr Pritam! Kudos to WP! We are fortunate to have WP/opposition in the Parliament! But we need more!',\n",
              " 'Balls to you Chan... Most Singaporeans are working for Grab',\n",
              " 'Just flaunting his authority. No debate. Terrible people.',\n",
              " 'This guy lost my respect. Used to think he was a good general during his time in the force. Now, feel really disappointed and embarrassed by him.',\n",
              " 'The government needs to make all data (& supporting data) freely available ahead of parliamentary debates. It does not matter \"what the point is behind every question other members raise\". You are missing the point. It is everyone\\'s right to raise questions and issues. On the other hand, it is every MP\\'s fiduciary duty to answer each question objectively and honestly. That is why sessions are held. If such arrogance continues to manifest in situations as such, it is no wonder that public distrust in the government continues to head north.',\n",
              " \"I'm surprised he was from SAF because the commanders always say 'ATFQ' - Answer The F*cking Question when people start to beat around the bush.\",\n",
              " 'Even a primary school kid can answer the question.\\n\\nWhy people vote in that class clown. It still beats me ?',\n",
              " 'Go Singh-Gapore!!!\\nChan believes in \"Dont admit no matter your wife caught you in the act cheating\"',\n",
              " 'He is very talented!!! At twisting n slithering out of simple questions. N that takes years of practise!',\n",
              " 'PAP doing best at what their best at, that is to twist and turn and wriggle their way out of answering a simple question.',\n",
              " 'The dodgy indirect way he gave his answer makes it seem like there is something to hide.\\n\\nSeriously, what is so hard to understand? People want to know Singaporeans vs PRs because PRs, if unhappy with SG, can always return to their home countries and with the good exchange rate retire comfortably but Singaporeans cannot because the home country is Singapore itself.',\n",
              " \"Singapore will be doomed with these kind of people in charge of the country...\\nEven answers to simple questions/requests the govt ministers can't provide and yet declare they've nothing to hide...\\nKick 'em out of Parliament this coming GE...\",\n",
              " 'I ever heard one of the PR said Singaporean who live in HDB is LOW CLASS. He is from Malaysia and he open an optical shop here at CCK mrt station. He forgotten that he is earning Singaporean $$$ so that he can have enough $$$ for his new CONDO.. Such is the kind of people we are welcoming.',\n",
              " 'He was asked a question and answered by giving an impassionate speech about teamwork....my god..',\n",
              " 'After Heng Swee Keat, Ong Ye Kung should take over. No CCS.',\n",
              " '2:13 CCS: \"It\\'s not the data, it is the point of the question.\"\\n\\nIn school, we were always taught to use data and facts when conducting research and analysis. Even primary school students know that one should use data to examine the efficacy of policies. Everyone knows where Pritam Singh is coming from, the only one missing the point here is CCS. Anyway, just seeing how CCS is not willing to produce the data, has already told us whether the PAP is really doing right by Singaporeans.',\n",
              " 'Just look at ccs expression, not likeable at all.  He is a paper general and also a paper minister without any ground experience and now minister for trade industry.',\n",
              " 'Huh? What is CCS saying? Of course its important to have the figures! What are the figures? He is bot answering!',\n",
              " 'Chan is like a fox, twisting his way out of the simple question.',\n",
              " 'The \"insinuation\"? I think that is the sense in the general public when you go to Changi Business Park and even Marina Bay Financial Centre.',\n",
              " 'I keep cursing and swearing when I hear CCS\\' reply. \\n\\n\"We have nothing to hide\"... then goes on to hide the numbers by giving a cock and bull response. My eyes are rolling so hard, I\\'m surprised they don\\'t drop out from their sockets.',\n",
              " '#yishun',\n",
              " 'Sun Xue Ling quite chio~',\n",
              " 'Im from malaysian , i see this for first time , i kind of impress with the calmness on his look , its like a lion talking in peacock manner',\n",
              " '2 words : Xia Suay.',\n",
              " 'our wages are not going up though, and no, alot of Singaporeans have lost their jobs, even from as early as Jan this year',\n",
              " 'CCS graduated from ivy league schools and was a Major General in SAF. No wonder he has such confidence in himself. I guess providing data is beneath him. That is a clerk duty 😳😔',\n",
              " 'At the beginning, I supposed he is being honest, upright and promoted to what he is now,  unfortunately lately just find him becoming more and more foxy and sneaky, period.',\n",
              " 'It reminds me of a movie which went like this, “You want the truth?  You can’t handle the Truth!!”',\n",
              " 'Im holding a second upper degree holder but im still struggling to find a job and i have to drive grab to survive.  Thanks to our government bringing in all the foreign talenet. Yes i agree every country must bring in foreign talent but there has to be a limit. After lhl open the floodgates now we have chennai business park already. We true Singaporeans are suffering. Please vote for change.',\n",
              " \"That's not good enough for a minimum 1million salary minister...\",\n",
              " 'Har? Li gong simi?',\n",
              " \"That's why my gifted son sent by the Lord Jesus Christ to my family is in Singapore. Be like Jesus. Be honest. Nobody will blame you. Amen\",\n",
              " \"Cotton Chan you talking this way and still never change next GE you don't hide at ah gong turf I can sure you will be next to out.\",\n",
              " \"can you reveal the underemployment figures because I'm sure that will be a more telling statistic\",\n",
              " 'CCS, he is good at giving non-answers. I guess he thinks Singaporeans cant handle the real data.',\n",
              " 'CCS DO NOT HAVE THE SAME  ENERGY LEVEL AND POLITICAL ABILITY OF THE 3 LEADER.',\n",
              " 'CCs, Xia suay!',\n",
              " 'Just say the number of how many Singaporeans and PRs are in the PMET🤦🏽\\u200d♂️ why is it so hard.',\n",
              " 'Then we prefer to get someone else who is more transparency.',\n",
              " 'Chan, you are diverting the question, typical politician playing politic',\n",
              " '0:41\\n0:44',\n",
              " '#pdrm',\n",
              " '#syah ibrahim',\n",
              " '#cnb',\n",
              " 'Give the data. Else if someone speculated 89% PR, 11% locals, don’t throw POFMA. And let’s not forget your comprises of  YOUR ‘new citizens’',\n",
              " 'loll',\n",
              " '#malaysia',\n",
              " 'PAP引进大量外劳，要本地人跟外劳竞争工作，',\n",
              " 'Sheep bah bah bah',\n",
              " 'Has local unemployment increase?\\nLocal have to resort to doing Grabfood delivery, Grab driver and Taxi to making a living... If you take a look at how many Grabfood delivery riders outside mall waiting for orders and Long queue of taxi at Taxi stand, you will know the answer to your question....',\n",
              " 'Pritam genuinely wants to introduce social democracy into Singapore in a humble manner while the elites of the dominant party sneer with arrogance.',\n",
              " 'Till now, any update from mr chan?',\n",
              " 'I wish there is more good speaker like mr. singh in opposition party . 👍👍🔥🔥',\n",
              " \"lol.... He didn't even answer the question let alone supported his statements with a data.... That is mere theatrics which Ah Beng also can can do or even better,\",\n",
              " 'I feel like the whole government should be made of PR. Then we reduce their wages.',\n",
              " 'If you have nothing to hide just publish the detailed data lah',\n",
              " 'hahahahaha',\n",
              " '#imh',\n",
              " \"There's an air of arrogance, superiority and authoritative despise when CCS speaks down to the Opposition.. I am not sure if this is the DNA of PAP or just him..\",\n",
              " 'The group doesn’t feel it ,he is a military man by training,he have no problems putting man in harm way because some one will have to die and Ah sing want to know how many will die',\n",
              " '#sultan brunei',\n",
              " 'His face already shows that hes scared',\n",
              " 'Curry egg plant..special menu in Paliament',\n",
              " 'I aspire to be the minister without portfolio in Singapore just sit  back to get pay millions a year just doing nothing , enjoy long sabatical and high year end bonuses by just to say YES to my emperor',\n",
              " \"If seng or whatever he is called was writing a thesis, he'd definitely fail. He didn't even answer or address the question. Just trying to beat around the bush.\",\n",
              " 'do not merely look out for your own personal interests, but also for the interests of others.',\n",
              " \"Come Chennai Business Park on Friday afternoon or everyday at Tampines during lunch time or go to Simei Melville Park, you will roughly know..... it's a lot.\\nSo what is the point of asking?\",\n",
              " 'Yes, unemploymt rate here is v low. BUT, a lot of foreigners got jobs tht Singaporeans can do. Older singaporeans face even bigger challenges whn looking for jobs.',\n",
              " 'Not all wages going up! My wage has not increase for the past 3 years. Not all companies willing to increase the wages. \\n\\nI am a sad singaporean. :(',\n",
              " 'Hey Chan, you are a minister, yet you cant answer to a simple direct question? Keep dodging, this is not the army....where you can abuse your power.',\n",
              " 'Sg Politics now slowly getting interesting !💪',\n",
              " 'Wages increasing faster than any other country. Cost of living also go up faster then any country. End of the day it comes back to square one.',\n",
              " 'Why are you hesitating to give the breakdown of the data requested. Appreciate if you are open with regard to Pritam’s question, as a Singaporean I too would love to know seriously. Thank you!',\n",
              " 'I know that a Filipino is getting 15k where his job can be easily be done by a local. He is here to play politic and making things difficult for local staff.',\n",
              " \"This ah beng don't understand. Put him in market to sell toilets rolls.\",\n",
              " \"This fellow is super arrogant! Can't even answer question properly, what a disgrace.\",\n",
              " 'Dont know how to answe a simple question. Why cant give data mr chan.',\n",
              " 'This ccs... terrible for Singaporeans. And the country.',\n",
              " \"Not good enough Chan, not good enough. Why can't u show the hard facts\",\n",
              " 'And at the end of the day, u guys still voted for “them”...',\n",
              " 'You call this a spar? In which other country is the opposition this polite?',\n",
              " 'Just give the number, why talk so much without sense',\n",
              " \"So intelligent but can't give a straightforward answer to a simple question\",\n",
              " 'Just give data la.. Why hiding it.. This is why la I dislike em...',\n",
              " 'CCS, you continue to talk like that, you will alienate more people to the opposition.',\n",
              " 'Liar!!!.. same like the Mask issue.. 🤣🤣🤣🤣',\n",
              " 'Cannot simply rely on wages and unemployment rates to determine success of a policy. You need holistic data... cringe.',\n",
              " '...... 😲..... WAH..! LIKE THIS ALSA CAN BECOME MINISTER MEH..? 🐸\\n... SIMPLE QUESTION CANNOT ANSWER.... TURN HERE TURN THERE THEN... BLAKANG PUSING\\nAHH..! 🐍... HAIYA..! JIAK KAT LE..! 🥵........',\n",
              " 'Mr xiasuay wants to xiasuay pritam, but he always xiasuay himself first',\n",
              " 'These people are paid by the taxpayer to act \"drama-mama\" in bad pidgin English? Pathetic!',\n",
              " \"Just answer Pritam's question lah. Why spin unnecessary ulterior motives behind the question? We local workers also want to know and Pritam is good to put it  forward to you.\",\n",
              " \"Man... What a load of crap. When you can't convince, just confuse\",\n",
              " \"Listening to CCS's rhetoric on foreign workers literally made me sick. Address the damn question!\",\n",
              " 'Believe it’s your duty to provide the data when asked especially in parliament sir',\n",
              " 'My workplace got lots of SG Diploma & Degree Holders. I scratched my Head. The job only need minimum of N Level. Like me.',\n",
              " 'This CCS really is a dog, if there’s nothing to hide then just answer the question. Say grandmother grandfather story for what??',\n",
              " 'I have the skill to become pap minister. Just learn to not answer the question directly and throw rhetorical statements there after. Any openings?',\n",
              " 'Before that Zaqy had given the figure but Pritam insisted on the breakdown. Thus CCS intervened. Click on the link in the description box or below for full story. Can find more details of the figure in MOM website.\\nhttps://www.todayonline.com/singapore/chan-chun-sing-and-pritam-singh-spar-parliament-over-data-distribution-new-jobs-among',\n",
              " 'Should have more of these type of parliament debates. I love watching british parliament on tv',\n",
              " 'such a simple question yet chan cannot answer, this shows his intelligent and what so secretive about the data???',\n",
              " 'Support Chan Chun Sing!',\n",
              " 'The way he talk, action, everything makes me vomit blood. Lose already still want to talk. I stop watching halfway. Cannot tahan. Obviously he know nuts about whats happening. Really hope they will be voted out in next election. TCB, CSJ votes in..we singaporean than can have hope.',\n",
              " 'Spar??? The fck..',\n",
              " 'From the body language of these two politicians pritam Singh n Chun sing, we can see that they work hard for singaporeans',\n",
              " \"I still remember when Singapore passport holds so much merit, so hard to get for the foreigners. Even to be a pr is so hard. But now, I talked to those who had become one, it's so easy. Guess Singapore passport holds not much value anymore.\",\n",
              " 'To get accuracy data, will help Singaporean get good jobs!',\n",
              " \"I thought his response was quite okay for the situation (clearly he doesn't have the number breakdown for sg and pr) but I don't see any positive comments about him. What will you say if you're in his position? ( without the breakdown, of course)\",\n",
              " 'Some people you cannot stand their look,  just want to get them 2 tight slaps. I am not saying any one in particular.',\n",
              " 'Cotton sheep in cotton clothing is an international joker.',\n",
              " 'And yet they say WP did not speak out.',\n",
              " 'CCS is cunning.\\nHe is not fit to be in politics. \\nSo many military personnel be coming ministers. All groomed to serve the true masters.',\n",
              " 'He didnt answer the question lei.... why make up a long story when all u need is to simply provide a straightforward figure? Cannot convince then confuse isit? 🙊🙊',\n",
              " 'It is the way they classified \"unemployment\".  example 6 months and above could be classified as \"retired\" or other reasons. Conversely, What is the motive of CCC diversion from simple question on \"distribution\" to \"unemployment\" and disrespectfully question the honorable member\\'s intention. If I am Pritam Singh, I will rise up with a loud voice of objection on the digression and insinuation.',\n",
              " 'Wages are going up yes, how about our daily expense aka the MP’s pay :). Vote wisely we need more opposition',\n",
              " 'Wow.. All lies.. What Pritam shared is the real truth. We need an independent research agent to do an extensive survey on locals not securing good jobs due to discrimination on employment.',\n",
              " 'Thank you Mr Chan',\n",
              " 'mp',\n",
              " 'Muthu Singapore not Science background diam lar balik sekolah',\n",
              " \"If the issue is not about hiding data, what is also the insinuation that by asking for breakdown between PR and Singaporean, is something sinister? \\nI'm curious if the question was ever answered.\",\n",
              " 'Ask the pr to vote for you loh cb',\n",
              " 'Sure or not..especially during coved 19 now???',\n",
              " \"I'm a former army regular, now a technician in a Japanese company & has been discriminated against by my Malaysian (now PR) superiors because of my numerous reservist call-ups, & after I ROD, because of my race & religion. I don't blame the racist/ nationalist Malaysians, it's my own government that betrayed me. I don't know how to explain to my kids when they look for jobs that they have to work under foreigners that may despise them for their nationality in their own country\",\n",
              " 'According to CCS - Team Singapore no longer Singaporean only, now comprising Singaporean and PRs and foreign workers.  Very sad sad day for Singaporean.   😢😢😢😞',\n",
              " 'This question hour, seems like a meditation class. So calm',\n",
              " 'Define \"local\"? Local to me means Singaporean\\'s employment numbers (i.e. those with PINK ICs). If it is a \"resounding NO\", SHOW me the data and the numbers. Don\\'t hide behind the definition of \"local\".',\n",
              " 'Haha reaction. of the lady with green dress',\n",
              " \"Some ppl here enjoyed whining the 'same thing', like cheering or jeering tgt in a soccer match, anyway is free. But these same kind of ppl reserved praises when benefited from others. So these ppl likely always in denial when being criticised in life.\",\n",
              " 'Did CCS ever provide the data requested by PS and for which CCS agreed to provide?',\n",
              " 'The foreigner earning the $10k job will get PR status and rise up to manager post and then using his position to recruit more of his hometown relatives \\n(unqualified) to fill up the $7 & $10k job while he takes up the $15k job. This process repeats until the PMET jobs are dominated by these foreigner-turned-PR-citizens while the native trueborn Singaporeans are displaced and forgotten.',\n",
              " 'Lol ultimately we r working for our own benefit not for Singapore. Then u want our own Singapore citizen to suffer while the country is doing well? U say that because u r not the one doing it. It is us',\n",
              " 'do u serve Singaporeans or PR?',\n",
              " 'You have not given the numbers! What is wrong?',\n",
              " \"that's why ,.lost sengkang in 2020. if the CHAN:-D🐯 continue do like this.. will lost more.\",\n",
              " 'Lol employments rate increased doesnt mean that there are no more homeless and jobless people dying on the streets of SG... average wages increasing can also mean that the highly paid workers are getting paid more at the expense of our average workers... PAP government u need to get more specific stats',\n",
              " \"He's at the wrong place..\\nShould instead be sent to the battlefield to wave a white flag to surrender the country to the enemy...\",\n",
              " 'Next time anyone ask me a question which i can\\'t give an answer, I will just reply and ask back: \"What is the point behind the questions?\"  Just like how cotton comes from sheep',\n",
              " \"I don't even understand .. why he wants to see a bunch of excel files where the data from multiple hospital and covid centre will upload to NUS where an automated python script will present the data to live stream  .. Wp is trying to find things to blame on PAP but i guess there is nothing to blame on it .. remember the data is given by hospital and university , it is not pm lee who typing those data in his PC i guess , there is separate division for it i guess ... maybe he can personally visit NUS for the RAW excel sheet .....\",\n",
              " 'Pritam is a tough man,a good brave man',\n",
              " 'I am eagerly waiting for jamus lim to enter the parliament and speak up against the MPs.',\n",
              " '\"I don\\'t think we have anything to hide.\"\\n\\nErr Pritam Singh never said anything about lying. Is it you hiding smth that\\'s why so defensive?',\n",
              " '0:46 these kind of cocky look is asking for a punch in the face, follow by showing him the middle finger.',\n",
              " 'Hello Mr Chan...go and visit those shipping companies and tell me why in each co they are allowed to employed 90% foreign indians. Its shocking for me to see so many of these companies are hiring more foreign Indians. This is ridiculous when some many locals who are capable to do their jobs being replaced by these foreigners.  And the government are asking us local to upgrade, learn new skills. I can accept it if they take our jobs which we are not capable of doing but no, they are not n yet the government has been trying to drum into our ears that we need to train n upgrade our skills for the new whatever.... dont try to smoke us citizens',\n",
              " 'He is just deflecting the question. Just get the numbers as requested. Period.',\n",
              " 'So from that day until today, has the numbers been given?',\n",
              " '4G is really poor debater, is this the type of quality people the SG has? cannot debate, cannot produce statistics, cannot articulate points in a strategic manner.',\n",
              " 'Seriously. Sad la. Where is this going?',\n",
              " 'Talking in lalaland....Transparency . Thanks',\n",
              " '\"Unemployment at a level other countries think is fRiction\"',\n",
              " 'So... Where is the data? 😅 Jk',\n",
              " 'Singaporean should see Malaysian parliament spar',\n",
              " 'So difficult to answer simple question. Alamak',\n",
              " 'Then why covid19 numbers need to breakdown into dorm workers vs locals? Shouldn’t we just show total numbers everyday and cumulative with no breakdown whatsoever? \\nShowing breakdown only when it serves your purpose, and vice versa 🙄🙄',\n",
              " 'I think Singapore is so dirty nowadays also because of the foreign workers .\\nMinister of environment pls take a look at the woodland check point, so many motorists throw the rubbish along the road .\\nSingapore is full of rubbish  especially on Sunday.',\n",
              " 'The fall of LKY , the fall of singapore :)  LKY pass to the wrong person, major mistake :)',\n",
              " \"Cannot provide the breakdown cause they have many things to hide. That's a fact. Stop your grandmother story.\",\n",
              " 'I thjnk CCS needs to improve his emotional  communication/ influence . I understand his point but the delivery was very badly done .',\n",
              " 'This one master level taichi already.',\n",
              " 'Still no definition of honesty and transparency',\n",
              " \"Simple question need just a simple answer, don't  beat around the bush with beautiful words.\",\n",
              " '(During primaryschool math class)\\nMe: Teacher what is 21 x 21?\\nMath Teacher: Are you stupid or what?\\nMe: I don’t know, that’s why i keep asking',\n",
              " \"There's no point of the nation thriving if the tradeoff is our personal survival. It matters, a lot.\",\n",
              " \"Asked such a simple question, he didn't need to beat around the bush\",\n",
              " 'Just answer the goddamn question. As bryan cranston\\'s character said in Argo \"DO YOUR F\\'ING JOB!\"',\n",
              " 'Please forgive him as his parents are selling roti prata and satay respectively',\n",
              " \"3rd, 4th, 5th generation Singaporeans are being chased away by competitive PRs, it's difficult to compete against the best talents around the world. In the future Singaporeans would consists of mostly PR descendents that arrived during the 2000s. This is expected, because our nation survives on being competitive, the country has no choice but to stay competitive by finding foreign talent. Singapore citizenship will no doubt have a high turnover rate, our country is runned like a business. It's not the government's Fault, this is meritocracy on steroids to achieve perpetual economic progress and prosperity.\",\n",
              " 'Chan 😂😂😂😂😂',\n",
              " 'Go to little India when u are free on weekend and see for yourslf',\n",
              " \"Local PMET share going up from 54 per cent to 57 per cent between 2015 and 2018... so the FT became PRs dragging up the % that's why cannot share data is it?\",\n",
              " 'Aiyo dont know say dont know la why go merry go round tbe mulberry bush  my head spinning you know',\n",
              " \"Bloody CCC should answer straight to the question without diverting to irrelevance as own judge and own jury dictation. What is the purpose of Parliament if member behaves like CCC. It's a total disgrace, if you will to ask me.  CCC should be reported to the Parliament Committees and be barred from Parliament.\",\n",
              " '#hafeez glamour',\n",
              " 'My dream is to become a Singaporean..',\n",
              " 'Yes, Our people (action party)are getting good job, but not Singapore born Singaporean!',\n",
              " 'Chan Chun seng betrayed true blue Singaporeans , he should be out this nonsense',\n",
              " 'A minister speaks broken English? Cannot even pronounce QUESTION properly, how to become leader like this. Aiyoh!!!',\n",
              " 'There are many reasons why Chan Chun Sink is not currently in the running to be next PM. this video clip is one of them.',\n",
              " \"TBH - it's really the singaporeans vs the EP foreign workforce.\",\n",
              " 'The real question is which genios hired him',\n",
              " 'All the hammerrrrrr',\n",
              " 'Thank you very much minister chan for that absolutely useless dissection. i literally watched this and learnt nothing about the information and the statistics and whats the point of interpreting the data on the peoples behalf to compliment yourself and saying you have nothing to hide',\n",
              " \"I'm still waiting for the numbers.\",\n",
              " 'Hi, what are the numbers ? \\n\\nOnce upon a time , in the forest lives a ............................',\n",
              " \"Some highlights of our 'PM candidate'\",\n",
              " \"Huh??? What's the end result?\",\n",
              " \"In short singapore is for the strong individuals who seek progression and performance based. If you can't compete go somewhere else then.\",\n",
              " 'Just answer his damn question la🤣 why this ccs like to turn here and there',\n",
              " 'Did the minister share the data at the end? Just curious ;)',\n",
              " \"Don't compare us with other countries.singaporean for Singapore.\",\n",
              " 'In PAP all ministers are lowly paid to say yes to the emperor as 1 million salary is far relatively low compared with dish keeper at hawker c at about 800 to a thousand per month',\n",
              " \"I don't know how such dumb ministers are brought into Parliament? WP is asking about Singaporeans and PRs. Simple question. This scholar MP do not understand and above it he is arrogant\",\n",
              " 'How many PR is collecting cardboard?\\n\\nHow many PR is cleaner?',\n",
              " \"That face is pure arrogance. Can't he just give a straight answer.\",\n",
              " 'Lol farking jiak liao bee!\\nFeed you this type waste my money la Mr cotton',\n",
              " 'If he cant and dont wanna answer then say i cannot answer and dun wanna answer. Not beat around the bush.',\n",
              " 'Pritam got 60% voter support.\\n\\nChan Chun Sing got 63% voter support.',\n",
              " 'The increase in phv n taxi drivers reflects the job availabilities in the market. If given a choice, would local pmets choose a ferrying trade as oppose to a career in their own line of expertise?',\n",
              " 'They call this spar? In Canada we call this a friendly debate',\n",
              " '#covid19',\n",
              " 'a simple yes or no would suffice.',\n",
              " 'You can’t answer a simple question and yet you  are smirking.. 👉🏼😏',\n",
              " \"...u don't get foreigner to displace a Singaporean...just present the data & Singaporean can see for themselves!!\",\n",
              " 'Share le what’s the figure?',\n",
              " 'Singaporeans as in born here or Singaporeans as in gotten their pink ic as new citizens?',\n",
              " 'Cotton Chan looks like some evil Disney villain based on his smile',\n",
              " 'We support you WP!!!',\n",
              " \"Now, that is the root of the problem. CCS didn't know who is doing the voting. Citizen or PR?\",\n",
              " 'Like to twist words maybe he will be Charles Chong n HSk become sick due to too evil',\n",
              " 'Ok nice speech now answer the qns',\n",
              " 'OMG Damn chialat not worthy at all!',\n",
              " 'Why can’t he just go straight to the point lmao?',\n",
              " 'Ok u wait for Jamus i want to see how u gonna twist n turn..',\n",
              " 'He never answer Pritam question 😂',\n",
              " 'Together we build Singapore..... how much you accept the Together !!',\n",
              " 'Soo sad that a minister do not know that he have to answer a question but instead beats around the ..',\n",
              " 'He cant give the data to Mr Pritam\\nsingh because he does not have any data',\n",
              " 'Really? Are Singaporeans wages going up very fast ? faster than other countries ?  Not living in Singapore, would like to know the work situation back home.',\n",
              " 'Going round and round in circle',\n",
              " 'I just realised CCS looks like William Hung , she bangs she bangs...',\n",
              " 'this kind of response from csc is the reason why pap lost overall % votes in this GE2020. it is this type of arrogance that singaoreans have not much confidence in the 4Gs. thete is a marked diffetence in leadership quality between the 4Gs and the previous gen.',\n",
              " 'So what is the number?',\n",
              " \"Really? A simple question needs a SIMPLE answer. Don't beat around the bush!\",\n",
              " 'Grab panda and coming soon roo. All aimed by across. Soon we dont even have a job.',\n",
              " 'Not all Singaporean has wages increased. Some foreigners which less experience joined with higher paid especially in IT department.',\n",
              " 'Why NTUC things so expensive. More expensive than sheng siong? Why?',\n",
              " 'Just answer the questions. Then accountability.',\n",
              " '#singapore police force',\n",
              " 'chan is like dee kosh. Pritam is like the public. hahahahah',\n",
              " 'I love all the comments below... love you all xoxo',\n",
              " 'Singaporean and PR not same hor. So simple.',\n",
              " \"Why can't he just provide the figures. Not answering at all. Definitely is hiding. If u have nothing to hide, just be transparent and show us the figures.\",\n",
              " 'He has a lot of things to hide',\n",
              " 'Sick',\n",
              " 'Parliament is such theatrics',\n",
              " 'Is it smoky or do I just feel it’s just loads of smoke from CCS -.-',\n",
              " 'i just realised pritams voice cracked a bit lmao.',\n",
              " \"Majority win..he can just as pritam to stfu and no one will fault him in that 'house'\",\n",
              " 'ccs is trying to evade the question.',\n",
              " 'What is the Best in ur policy',\n",
              " 'Prata lah u',\n",
              " \"can't imagine him could be Singapore future PM.\",\n",
              " 'Just give the number they want exact n. correct numbers there are no numbers that what they asking show the numbers more accurate do not talk n talk',\n",
              " \"Don't know how to answer then talk grandmother story....\",\n",
              " 'Is sad that psp is not in parliament',\n",
              " \"It's clear as day that Mr. Chan is avoiding Mr Pritam Singh's request. Instead of acceding to the request which he could, he went on and gave a speech that no one asked for.\",\n",
              " 'No point going for STEM degrees if foreigners are going to take all the jobs',\n",
              " 'CCS sounds like the modern day Confucious to me. \\n\\nOnly issue is....',\n",
              " 'Wages increase.? Me engineer in 2005=$3200, manager 2010=$3,800... something wrong',\n",
              " 'If he is cunning we are gullible',\n",
              " 'argh i don\\'t understand this \"debate\", maybe i need to retake english again argh lol',\n",
              " \"👍👍👍Let Chan be HK's next Chief Executive so he can stop the divisiveness, hatred and racism spreading in HK... Singaporeans are lucky to have such a stable well functioning society and political system.\",\n",
              " \"CCS, please don't evade the question by being ambiguous.\",\n",
              " \"CCS TCSS. Pritam just asking a simple qn. CCS so evasive. Don't forget KARMA. You are taking Singaporean  taxpayers money, so u shld serve Singaporeans interests first! There can be no meaningful debates if government is unwilling to be transparent with the data!\",\n",
              " \"In all these snippets of debates, I realised that the ministers look at the big picture while the opposition members look at protecting the interest of true blue Singaporeans.\\n\\nI'm not sure if looking at the big picture to help Singapore prosper as a whole is enough. The overall statistics of unemployment and wage growth look healthy etc but is looking at the overall figures enough?\",\n",
              " 'Liar.',\n",
              " 'just answer the question lah',\n",
              " 'It is nice to see an ex non-elite student daring to debate with the arrogant ex RI boy.',\n",
              " 'Why cannot provide the breakdown if there is nothing to hide in first place? There is nothing wrong in this question...',\n",
              " 'Booo...',\n",
              " 'Jesus nabi isa here need help in Singapore imh',\n",
              " 'Are our wages going up? NO!',\n",
              " \"Can't believe this is a potential PM.\",\n",
              " 'Oppo in Parliament is NOT for PAP MPs to talk down to!',\n",
              " \"Even if local employment has increased and getting better wages (I wonder how that study was made and based on what sort of sample), as analytics go, the number of PMET that has gone to foreigners could indicate a different scenario, so why can't he show that data that he obviously has or he only shows data that supports his stance?\",\n",
              " 'The point is you get paid as minister n answerable to us not answerable to rich PR or their relatives.The point is Mr Chan is a Singaporean born under normal or poor  family background should understand us more.',\n",
              " 'IF you want to become Singaporean you have two alternative 1 prepare 3 million sgd or 2   I will sell u my cirizenship for 20 tbousand if law permits',\n",
              " '反对党的支持者和粉丝，局心不良一面倒在损PAP，当反对党是完美无瑕的圣人，反对党做什么讲什么都是对的，台湾的网军，香港的黄丝，新加坡的什么??????',\n",
              " 'At what cost is the govt willing to build up Team Singapore to compete internationally. Using the unemployment rate is an indirect way of skirting the true underlying concern of Singaporeans getting underemployed.',\n",
              " 'General has a lot to hide lah...',\n",
              " 'pap like to do the thinking for the people. like we have no brain like that. just give detail data la. divide or not we can decide.',\n",
              " 'The only Chan I like is Jackie Chan.',\n",
              " 'singaporeans work so hard also no use.if foreign ppl work hard than, people will realise how good they are',\n",
              " \"Nothing to hide, but don't want to show data.\",\n",
              " 'Are our wages going up, the answer is yes. WOW! 👏 👏👏',\n",
              " 'His body language gave him up why swallowing saliva',\n",
              " 'school boy needs to go back to school and stay there.',\n",
              " \"This WHITE SHIRTS give less to spores n take back 10×MORE... it's time to change enough is enough...\",\n",
              " 'I think end of the day, just answer what was asked and not tell some other stories. We can make lots of policies, but if the data do not support the policies, then it simply means the policies are ineffective. Not to say the policies are bad. Because you need to have a reference now. And when policies are implemented, then reviewing the data to see if they were effective in helping those that was meant to help. But if one side does not have a reference point and later you say it helped alot of locals, what can they based on for that statement? None. Only solely relying on his report and no base reference.',\n",
              " \"Lol.. HE DIDN'T ANSWER THE QUESTION. HE EVADE THE WHOLE QUESTION. IT'S A SIMPLE DAMN QUESTION MAN! LOLLLLLLLL. OMG such incompetence!\\n\\nIt's like saying...\",\n",
              " \"i don't think we have anything to haig! As locer unemployment increase wif all dis efforts, the answer is a rezounding no.\",\n",
              " 'Talented people wont join the army as regular soldiers as the pasture is greener outside',\n",
              " 'I will get u d numbers.... Lololol',\n",
              " \"0:50 who's that woman? Anyone can tell her name?\",\n",
              " '#ministry of law',\n",
              " 'Minister Chan rekted this dude',\n",
              " 'It’s called siam tactic 😂 army taught him well & there’ll be more of such evasive answers to justify their needs for PR & abortion which had been legalised since 1969. We wouldn’t have so many issues which COVID 19 had exposed if govt in the 1st place had carefully deliberated over the pros & cons b4 implementing any policy. If anyone scrutinise past policies closely, they’ll surely know many were implemented without wisdom nor foresight.',\n",
              " 'Foreign workers are always  the first group of people get the beating from Singaporean MP.  Sad!',\n",
              " 'The lady in green is gorgeous!',\n",
              " 'The way the question was answered did not give full confidence that he is taking care of Singaporeans. PR are not Singaporeans unless you already have plans in place to convert them. Then what happens to those who are displaced? Drive grab or do foodpanda? Well those are also jobs.',\n",
              " 'CCS, is outrages bad ........ Once the opostion win ,see if u can talk and talk or not.',\n",
              " 'Ccs is hiding, really seah suay',\n",
              " \"Ccs still didn't answer the question... What's the point behind the answer?\",\n",
              " 'It is quality of job is made available to Singaporean is the crux of the question.',\n",
              " 'His body language is belittling. Anyway he did not address the question and what are the figures?',\n",
              " '#heart attack',\n",
              " 'then just split them how many are for PR and how many are for singaporean just give data',\n",
              " \"Ccs very adversarial...saw his other interviews, loads of evasive rhetorics & tactics,doesn't answer straight to the point and there's a self impt air...thats the problem with most of these who went through army for too long, they all have this air of superiority in them..he shd be speaker of parliament or retire, should earn enough by now as a minister while tcj takes his position as dpm next time..\",\n",
              " 'Where is the data?',\n",
              " 'CCS so proud of himself......so rude and pay no respect to normal human being........',\n",
              " 'Its not about overall unemployment rate .its about out future which  jobs are given to locals and foreigners. Its for the present and future',\n",
              " 'Institute menthal hospital',\n",
              " '#mayweather',\n",
              " 'Singapore is a good country.',\n",
              " 'Answer to the question please',\n",
              " 'Cocky without answering.',\n",
              " 'How can we continue to support ppl like CCS? And paying hlm hpw much?',\n",
              " \"Is this a 'sparring ' debate btwen  Mr sighn & Mr Chan, i dnt thnk so.\",\n",
              " 'Honesty I dont even have o level if the law permits I would like to purchase your 2 class upper honour in order to stand for GE if successful I will take any golden opportunities to bombard those so called educated barbarians in parliament',\n",
              " 'Just give the figures. Simple.',\n",
              " 'Just show the figures la.....we ourselves also can evaluate. Yes, unemployment among singaporeans are down but most are working in the line like \"grab\"....they cannot get the field that they want because companies are hiring foreigners...',\n",
              " 'Ask for  question 1, you give answer for question 10 lmao',\n",
              " \"Where's the data?\",\n",
              " 'is friction...',\n",
              " 'Not answering a simple question',\n",
              " \"Pritam Singh asked a simple question and he couldn't even give a straight answer. Smiling in a sarcastic fashion and acting like a clown, this fool doesn't know what he's doing.\",\n",
              " '#worldwide',\n",
              " 'Cotton Chan',\n",
              " 'Just andwer what good job are u sure',\n",
              " '#singapore',\n",
              " \"Okay, I'm not saying I disagree with your point CCS, so... where are the figures? Why does this video end here?\",\n",
              " 'we want data e want data',\n",
              " 'Baa baa black sheep have you any wool? Yes sir yes sir three bags fools. I got to make mask for Singaporean....',\n",
              " 'What’s the point of electing you? Singaporeans are always very cautious, about this constant divide: PAP vs Opposition, and would like to remind that the ultimate completeness, comes from Team Singapore, comprising of PAP and the oppositions, each getting their portion of “sufficient” seats.',\n",
              " 'So what is the data? So nothing was answered correct?',\n",
              " 'all that talk but still never give the numbers',\n",
              " '#president',\n",
              " 'You question you answer.',\n",
              " 'You dont have anything to hide because you have already hidden everything',\n",
              " 'that is why CCS is so disliked by many people...... so unprofessional',\n",
              " 'Just answer the freaking question!',\n",
              " 'Govt is mitigating and regulating on foreign passes. It is NOT a zero sum game. \\neventually some of these foreign workers take roots here, just like our predecessors. We need population to become a first world economy. A vibrant and open economy.',\n",
              " 'Stooopid!!your salary increase ah!!others still not benefitting !!',\n",
              " 'He should go for America got talent if he is deemed talented and win a million dollar US dollar for himself as minister salary are too low for survival',\n",
              " \"......that's why lost Sengkang...not Singapore first!!\",\n",
              " 'I think primary student can understand what does it meant by data....is it so difficult to tell the amount of population between Singaporean and RP? Do Singaporean have the right to know? I think there is nothing behind the question. Maybe the opposition party has more innovative ideas to help the Country. Relex',\n",
              " 'look at Ccs, he is so arrogant...  now even MAS is giving this info.',\n",
              " 'who is that green shirt girl sitting behind?',\n",
              " 'quantity of jobs for singaporeans isnt quality of jobs going to singaporeans Mr Chan',\n",
              " 'ccs is like this because hes from pap and  pritam is from workers party.',\n",
              " \"Who's the lady mp in green behind?\",\n",
              " \"Talk big! The common working Singaporeans didn't see any increase in their salary instead we see increase in our utilities bills faster than our salary. When they say they got nothing to hide means they got everything to hide.\",\n",
              " 'And that is why we need Opposition in parliament - when the incumbents are just avoiding the questions/ totally not being transparent about something as basic as labour numbers.',\n",
              " 'PAP vs WP',\n",
              " 'CCS become CCB because he din directly tell Pritam the number. Talk CC sing S',\n",
              " 'team singapore? try getting PRs to serve NS,',\n",
              " 'got say like no say. wtf',\n",
              " 'Why keep on comparing other countries ?  only conviniently when data suits',\n",
              " 'That pap minister isnt even tackling the qn...haiz...n his laguage isnt close to average...',\n",
              " \"Chan Chun Sing, Pritam Singh spar in Parliament over data on distribution of new jobs among S'poreans and non-citizens\\nBy JANICE LIM\\nMediacorp\",\n",
              " 'I am interested in the answer to the question. No wonder WP wins another 4 more seats.....LOL',\n",
              " '#lawyer',\n",
              " 'So what’s the answer?',\n",
              " 'SO HOW MANY',\n",
              " 'What a non-answer !',\n",
              " 'I think CCS is referring to Chinese speaking folks. Glance mycareer.sg and see the number of JD which requires Mandarin speaking. If mandarin speaking is the spinal connection for todays jobs market, what will minority non chinese speaking workforce do,?',\n",
              " 'I dun understand why sg vote for him ccs. Nxt time no job dun complaint !',\n",
              " 'Ccs is all selected minister,not chosen by the ppl,but I understand ministers can’t be chosen by ppl,only the elites chose them',\n",
              " 'Clearly CHS wants to cover and reluctant to share the data in fear of being asked some further questions which will drive him to a corner..but being a good talker he manage to avoid the onslaught.Good job.',\n",
              " 'ya la ask PR and work permit holders vote for you OK?? steady',\n",
              " 'CCS talk nonsense.U turn man.tks to 61%',\n",
              " '#pap',\n",
              " 'While taking millions of salary, just twist and turn to face the problems, nothing new . Hope this will end someday .',\n",
              " 'The person is asking you a simple 1 question-local pmet jobs which is 60,000 not your answer of local unemployment jobs \\nYou suppose to answer to Questions A but u reply to Questions C what kind of G ministers are you',\n",
              " 'For real? People are getting good jobs?',\n",
              " 'https://www.mom.gov.sg/newsroom/parliament-questions-and-replies/2020/0106-oral-answer-by-mr-zaqy-mohamad-mos-for-manpower-to-pq-on-itms\\nOriginal question by WP and answer by government.',\n",
              " 'Joke presented by Joker what is the point for CCS to stay in Paliament???',\n",
              " \"we should have PR's & foreigners in Parliament to up the competition to serve the nation with the interest of Singaporeans at the core of any movement.\",\n",
              " 'Utterly disappointing msg by CCS. We are bench marking ourselves with around the world. The objective , if ever possible, should be aiming to achieve 0 unemployment rate for Singapore citizens. Of course, saying with the thought that we know it’s impossible, due to outliers that some individuals may genuinely not be employed (e.g.: due to medical reasons).',\n",
              " 'Kick this guy out of parliament',\n",
              " 'Wages up? Hell no?',\n",
              " 'NUMBERS!',\n",
              " \"I don't have a good job & my pay wages have not increased... what is CCS smoking? You must seriously be kidding me if you are saying I am being done right as a Singaporean\",\n",
              " \"Omg. Don't lie please. Tell the truth. With DATA! not putting up excuses on why the question is brought up.\",\n",
              " 'Who is the lady MP in green behind CCS?',\n",
              " 'He is talking to nuts',\n",
              " 'Singapore government is not exactly the most democratic of governments around to be frank.',\n",
              " '#russia',\n",
              " '#doctor',\n",
              " 'Why Jamus Lim Is not Chief of WP',\n",
              " 'He is hiding',\n",
              " 'CCS, you are not truthful! I am a true blue SG, more than 50yrs old, to get a job in the industry I excel in is difficult, I have send many resumes but I didnt receive a single interview. So dont give me your BS la',\n",
              " 'I do not understand what they say. Is there an Indonesian translation ?',\n",
              " \"This bloke can't even give a straight answer. If nothing to hide and not about the data, just reveal already. Like COVID-19 the reports keep saying one Singapore citizen or PR. Stupid. Just say one PR. Today they changed it.\",\n",
              " 'Seeing the comments,It seems that singaporeans welcome the PM like trump type',\n",
              " 'Mr Chan , 10 WP marching in parliament , please debate properly in future',\n",
              " \"'We will get you the numbers....'. Wow, lack of statistics given to make a stance.\",\n",
              " '#fbi',\n",
              " '#mike tyson',\n",
              " 'The ultimate governance is not pitting the PAP and the opposition party, it is the team Singapore which comprises govt and opposition party.\\n\\nOk',\n",
              " 'Singapore is a goner, look at this dude, look at the East Coast Plan...',\n",
              " 'U talk about horses..we asking about 4d...?????',\n",
              " 'Omg can’t stand CCS , period',\n",
              " 'pap dogs',\n",
              " 'Why cant we ask the data without any judgement from you Ccs?',\n",
              " 'MP stop twisting !!answer direct to the point,!!!',\n",
              " 'trying to act almighty, well...is all about the data...and the data is not looking good,',\n",
              " '#ghost',\n",
              " 'YES! SINGAPOREAN IS NOT GETTING BENEFIT!! PR AND FOREIGNER WORKERS ARE TAKING OUR JOB!!! LOOK AT HOW MANY PR/FOREIGNER WORKERS IS HOLDING A HIGH RANK POSITION AT WORK!!!',\n",
              " 'I support with Pritam why want to combine the Singaporeans and PRs under one category. And stupid Goverment where got Local born Singaporeans are getting good jobs and high wage. Nonsense crap.... Go for it Pritam.',\n",
              " 'You saying you are doing right by singaporeans..then you go on to say need to be cautious about the divide between singaporeans vs PR..kns of course need to distinguish la..we singaporeans VOTE your government in, not the PRs. I dont see anything wrong with Pritam asking for the breakdown to see how many jobs actually went to the group who actually VOTED you in.',\n",
              " 'What nonsense ccs?',\n",
              " 'singaporean are paid less than foreigners',\n",
              " '#mol',\n",
              " 'Are singaporeans getting the jobs... answer is no\\n\\nAre singaporeans getting wage increase..',\n",
              " 'What talking you',\n",
              " '#mom',\n",
              " 'Willfully Evading the Question is \\nDeplorable and Disappointing.\\nDuring Parliamentery Debate\\nResponse to Questions must be forthright and Forthcoming to Dispel Doubts.',\n",
              " 'No wages increase.. I dont know for the high paid jobs but maybe these are the ones that up the stats verbally... Singaporean benefits? Nope.. not at all.. what is the point of comparing other countries where our own fellow singaporean vs PR are not sorted out.. Getting singaporean working along with our PR to boost up economy against other countries statistics are currently not a solution now as we singaporean are struggling with our daily needs.. middle and lower class jobs are the suffering ones.. The problem that should be address now is singapore vs singaporean.. a win win solution.. that our country benefits economically and easing our own singaporean struggling ways of life..',\n",
              " 'Unfortunately, CCS was skirting the question. \\nI just dont understand what was the fear/reluctance to answer the question? Are they worried that Sporeans will get a shock of their life when they know the truth. Mathematically, the unemployment rate of PRs should be lower because if they have no job, they can choose to leave unlike Singaproeans.',\n",
              " 'CCS is really useless. Vote him out',\n",
              " '#syiahdajjalnorhailminbinmnizan',\n",
              " 'Why not ask the question and move on. A total waste of Tax payer money to play Taichi !',\n",
              " 'Hum Ka Chan',\n",
              " \"CCS have nothing to hide yet does not want to answer  Pritam's question. 8 months down the road, 10 seats went to WP and last three days in Parliament we see the Minister of Manpower cry and MIW stone-walling the  opposition, labelling the opposition as adversarial  and calling their voters free riders . Hello,  MIW dont hold the monopoly  of good governance  but wants to have the monopoly of withholding  information to prevent opposition to help and aid generating alternatives for consideration for public policy-making. Hello, everyone is in TeamSG including  MIW voters, Opposition voters and Opposition. Pritam is not Jeremy Corbin, Opposition is not Tawan-style disruptive pull-hair, smack-punch, throw-shoe debate. we all are in teh same boat, that's why everyone in SG has to play our part to bring SG forward, not kneecap it by not providing info or worse, question the intent of the question or worse still, insinuate the person who asked as a mischief-causing agent. . Now, you know why  why MIW lose so many % and seats.. with yaya papaya smug attitude vs professional and measured approach by WP Pritam !\",\n",
              " 'Honestly hope this arrogant fellow never get to the position of PM or even DPM.',\n",
              " 'I agree with CCS here. What is the point of the question? He said he will give the numbers which he obviously did not have or prepared to share at that point of time, but he said he would.\\nNow, the question how much this and how much that in a political setting is, at all times, to use that as a political weapon against the other party. I think Rep.Singh is trying to insinuate that for some reason foreign workers in Singapore are the main and only reason why there is unemployment in Singapore. However the actual reasons are far more complicated than that.',\n",
              " 'Team Singapore does not exist if you dilute your own population with high percentage of foreigners. Most foreigners come Singapore to benefit from strong SGD exchange rate. They will not be loyal to SG. Inflation, overcrowding and depressed wages all damages absorbed by local born Singaporeans. When has garment ever take care of us. They will continue to implement more policies to eat local born Singaporeans should they win more seats.',\n",
              " \"Blatant Lies !\\nDidn't Government impose Curbs of foreign PMET's when there was an Outcry from Singaporean PMET's ?\",\n",
              " 'The Chinese fella’s grammar sux',\n",
              " 'Simply, why foreigners aspired to be Sg citizenship, mainly spore is wealthy enough for them to enjoy some wealth. So, it is to the interests of PR or aspired PR to make Singapore wealthy continues. Now if spore is not forthcoming in wealth development in future, these PRs will pack and return back or to other more promising wealthy country. And is good for local also, because reduction in foreign populations means wealthier economy then and spore has gain full of knowledge economy to return back for good with majority locals then.',\n",
              " '#usa',\n",
              " 'Smug and arrogant despite having nothing to substantiate it',\n",
              " \"Where can we sign a petition for CCS to step-down? If parliament meeting in the future is this CCS-style, then they won't be getting 61% anymore. Just as silly as cotton comes from sheep.  Please find a replacement for CCS. Why is such smugness allowed? Pls don't let us regret our votes. Where's Tharman? Pls get capable man that we voted for to come and do the jobs and involve in such meaningful discussions. Don't use their faces during elections only, which after the votes gotten, stuff us with CCS. Why  is Spore paying CCS? He never come across as he is up for the job, not even simple discussions like this.\",\n",
              " 'Won 60% of the popular votes but controls 90% of parliament. How very democratic.',\n",
              " \"OMG They are just as bad and as confusing as each other. Can no one in Singapore Parliament speak simple basic English?? If not, why not carry out the Parliament in Singlish instead of acting prissy. It's ridiculous!!\",\n",
              " 'The point is that you are not doing the job. Chan chuan sin full of sin and lies.',\n",
              " 'Don’t be stupid it’s about the data we need to see the data to Ensure we are going to the right path',\n",
              " \"Ccs, this is the reason why pap lost sengkang grc when u put PRs' agendas  ahead of Singaporeans' agendas... and why there's no quota for foreign expats, where Singaporean graduates can fill the jobs, why give those positions to foreign expats\",\n",
              " 'He reciting which poetry? Crap',\n",
              " 'Answer the question and let us reach our own conclusion. If it is indeed clear as day, then that will be the conclusion drawn. Stop mansplaining. Just answer the question for crying out loud. Good grief, worse than plucking teeth!',\n",
              " 'Ccs u are really a hopeless guy',\n",
              " 'so called educated barbarians in parliment',\n",
              " 'Of course plenty of unemployment for local people. Foreigners earn more than Singaporean',\n",
              " \"Really, we are now resorted to driving as private hire or taxis, so this is a good job? How many people are doing this for a living? As so driving the unemployment rate numbers down? Even so, even giving me a $20 rental rebate for the current situation the criteria is set on last year o t, Nov and Dec for 200 trips which is period of school examinations, school holidays and locals expats going away for holidays or leave clearance a good way to get us less ridership and not able to be qualified for the 'help' a way of saying you're on your own!\",\n",
              " \"Comments from viewers have been really brutal. Damn.\\n\\nReading the full story (description) more or less helped me understand better. Rather than giving an opinion about a video that's cropped out (from actual full discussion) without understanding why this debate took place.\",\n",
              " 'What is Chan Shun Ching \"hiking\"? Ridiculous. What a scam!',\n",
              " 'all bull shit.. I lost my job, never had a good job, stagnant pay barely even breaking 2k. Meanwhile a FT earn way much more than me.',\n",
              " 'Too much arrogance and ignorance here. WP your time will come.',\n",
              " \"Wages goin up ur head la boy...go up by 20 30 40 dollars and u increase everything..siao..I think u and ur cabinet is the one getting pay increase..Singaporean earn peanuts.now foreigner pay higher then local..go and review every company payscale. Why foreigner don't have paycut for cpf? Pay tax also once a year and u pocketted our Singaporean money every day without failed.\",\n",
              " 'Not fit to be a minister!',\n",
              " 'if Singaporeans are benefiting , why would people complain? And now our jobs taken remotely by India without even their physical presence here.',\n",
              " 'Thumbs down for Mr Kee Chiu.',\n",
              " \"If Chan become PM, please migrate out of Singapore.  Come to parliament and not prepared to answer question, treating MP like soldiers waiting for his lecture. Hey, who knows what PR mean if is really an invitation to citizenry or a backdoor for foreign  workers. Let the people of Singapore decides on that. Don't teach father how to love mother.  By not being open to providing answer of national important expeditiously.,  it looks like he got things to hide.\",\n",
              " 'Omg !Blatant lies lies lies .All lies',\n",
              " 'Don\\'t forget.. Some \"person\" said.. 1000 dollars is enough for your everyday Singaporean to survive monthly... Guess which party he belong to? Just make a wild guess..',\n",
              " 'It’s obvious that ccs don’t want to answer... many Singaporeans education is world class but those employed are reporting to foreigners...',\n",
              " 'Still baffles me that CCS the snake was actually under consideration to be the next PM.',\n",
              " 'Booo white out out out out out out out',\n",
              " \"Of course you don't feel it, YOU ARE EARNING BUCKS! ITS US THE PEOPLE WHO ARE FEELING THE STRUGGLE. INCREASE WAGES? ARE YOU SERIOUS? SOME OF US HAD TO WORK EXTRA HOURS WITH NO PAY. SO SHUT YOUR TRAP.\",\n",
              " 'CCS is uttering rubbish',\n",
              " 'I Hate Chan Chun Sing , just hate your arrogance',\n",
              " 'Ewww ccr',\n",
              " 'Singaporean are not getting the good jobs!',\n",
              " 'For opposition and many locals, it is not enough that they have a good job, their salary increase, they receive subsidy; they also want that foreigner/PRs  to suffer more.',\n",
              " 'So this guy is trying to say that they will keep unemployment on a certain percentage so long as it is better than other countries ? \\n\\nThis people work abit want to be credited for alot. Lousy.',\n",
              " 'Thanks you CCS for your efforts in keeping unemployment Low, really appreciate your hard work. Let’s continue to be united and work for Singapore.',\n",
              " 'wasted 3 mins and still no answer, i guess PAP deem themselves not answerable to anyone but themselves',\n",
              " 'What’s the reason for the qns? Erm, because Singaporeans and PRs are different? And this is Singapore? During elections, you call out to Singaporeans and not PRs right. Asking the obvious and over-reacting to cover up. Anw, first time watching video of CCS and find him plain rude and condescending. Regardless the issue discussed, his attitude speaks volume of his personality. MPs like him is one reason why PAP is losing support from more and more Singaporeans. Why PAP is still the government is just because of what LKY built and LHL maintained, otherwise you wouldn’t even be in the parliament. Learn to respect others and answer all questions humbly. There’s a difference between working for Singapore and working for Singaporeans. If you’ve got it all mixed up, you need to either wake up or let someone more capable to do the job. Only when you focus on working for Singaporeans, then Singapore will naturally flourish. Figure it out.',\n",
              " 'I get you....the questions.....I mean get you the numbers. Followed by a long winded speech. Pathetic. and Unprofessional',\n",
              " \"Govt has Increase jobs.... Need to ask... Wat kind of jobs... That's has been created...\\nTO THINK Ppl complaining is it strange jobs not available for them?\",\n",
              " 'Too gross',\n",
              " 'Nothing to  hide is not what you said!! show it and shut up, you want to know what is behind find yourself. The smile show that you think you are clever! My foot cotton comes from sheep! The way your reaction and talk It is really ah beng styles!!! This is ruining the Singapore reputation!!',\n",
              " 'To answer Mr Xia Suay, we Singaporeans dont agree with your statement that we are a team along with FT \"PMET\". If you cannot or not willing to  do disclosure of this  data, by any chance during this disclosure of this data,  will you be making a false statement above ? VOTE WP in , we need disclosure of data.',\n",
              " 'Mr Xia Suay, what is your education background? DONT BRING your army ego into politics.',\n",
              " 'What is with this xenophobic thoughts and constantly competing singaporeans and PRs. Are PRs not contributors to Singapore?  \\nSure CCS don’t have the data on hand but he raises good points, why is there a need to even ask when our unemployment rate is so low',\n",
              " \"RUBBISH! IT'S ALWAYS ABOUT SINGAPOREANS VS THE FOREIGNERS. I WILL NOT VOTE FOR A PAP GOVERNMENT WHO ALLOW FOREIGNERS TO COME IN FREELY TO STEAL MY JOB JUST BECAUSE THEY ARE CHEAPER!\",\n",
              " 'Disgusting',\n",
              " 'OMG this guy can’t even answer a simple question.',\n",
              " \"No data talk what ever he one. This is PAP talk and do is different. PR belong to 2 countries they don't have Singapore passport. There is a difference MP you don't know. Cannot reply a question and talk like a fool.\",\n",
              " 'Clearly Pritam is trying to divide the nation between SGR and PR which his approach to gain political benefits.',\n",
              " 'this is rather stupid. ccs n this entire team is hopeless. in the private sector such way of argument will fail completely. hopeless leaders',\n",
              " 'Can’t even answer a simple question 🤦🏻\\u200d♂️',\n",
              " \"Just don't like the way this CCS behaves. All I know is that many Singaporeans are still struggling in life despite working hard. If a PR or even a work permit holder can earn about the same or even more than me here in my own country when we are all doing the same job, then what's the point of me staying in Singapore or wanting to be patriotic when my government ministers earn millions and give this standard to citizens while we are here slogging day and night and earn just peanuts. Dont you think the wage disparity is too big?\",\n",
              " \"Just throwing random remarks but where is the data, where are the specifics? There isn't a single number in his entire speech and his arguments are without merit. When he says wages are going up, what is his yardstick? How much 'up' is it? Any particular industry/profession? Better than many countries, which countries exactly? By how much? This minister really lacking in depth. Only know cotton comes from sheep.\",\n",
              " 'Using this point of argument, no need to reveal to reveal anything in life.... CEO salary, Temasek earnings/losses (everything is about good intent as alleged by PAP so no need to reveal the figures)......',\n",
              " 'Introduce more PR or arrogant Indian FT ya no problem. It isn’t you the MPs that squeeze everyday on the public transportation or experience overcrowding; experience first hand the arrogance of some FTs mainly the Indians. Just know how to come up with policies while comfortably cruising in your Mercedes and BMWs.',\n",
              " 'Want jobs. Go out there and apply. Don’t sit around and expect people to serve the job at your doorstep.',\n",
              " 'The question is indeed trying to split citizen and PRs. It leads to a stupid paradox. If PR all have lower wage than citizen, then it means these PRs are inferior to citizen, then why we need these PRs? If we want elite ppl to join SG and help SG economy, then these elite definitely will have higher than average education and so are their wage. So Pritam, simple question, what do you want from PRs? I think you want to remove them all. How about just remove all the foreign workers. I cannot imagine ppl with this kind of mindset to rule a country.',\n",
              " \"Many PR's are born here and still holding residency and on top many doing NS. Pritam question is really trying to win the support of butt heart people. Once the residency is given , country will take care of the residents too. Ofcourse Singaporeans get more benefits than PR's. But jobs are taken on individual qualifications and intelligence. Government can't help if one is being a stupid\",\n",
              " 'I think PR is ok la, u go Australia , u go Canada , they all treat PR like local. Do not be that narrow minded.PR is contributing to the country too. Why so mean to them ? Really do not understand.',\n",
              " 'WP is worthless with their so called \"checks\". You call this opposition?',\n",
              " 'Evil intention of the WP. Good job, Mr Chan !',\n",
              " 'After seeing these comments.... i realised that no matter how muvh SG govt has done for its people... Singaporeans will nvr be satisfied... just complain complain complain.  The country grow soo much, and all their govt gets from its people is complains... alot of things singapore is good and doing well in, yet I dont see Singaporeans praising their govt in. Security, racial harmony, first world country... foreigners envy and wants their country to be like ours, yet here most of us are complaining and being unsatisfied with everything. Think about it, and vote wisely, dont just vote our govt out, out of anger, think about its bad and the good. Have u really not benefit from this safe and secure, racial harmony and growing country?',\n",
              " '']"
            ]
          },
          "metadata": {
            "tags": []
          },
          "execution_count": 7
        }
      ]
    },
    {
      "cell_type": "code",
      "metadata": {
        "id": "3ZIEQaJoGB7D",
        "outputId": "e5564379-74db-4530-a67c-61c1567e6757"
      },
      "source": [
        "import pandas as pd\n",
        "df = pd.DataFrame(data,columns=['comment'])\n",
        "df[2:-1]"
      ],
      "execution_count": null,
      "outputs": [
        {
          "output_type": "execute_result",
          "data": {
            "text/html": [
              "<div>\n",
              "<style scoped>\n",
              "    .dataframe tbody tr th:only-of-type {\n",
              "        vertical-align: middle;\n",
              "    }\n",
              "\n",
              "    .dataframe tbody tr th {\n",
              "        vertical-align: top;\n",
              "    }\n",
              "\n",
              "    .dataframe thead th {\n",
              "        text-align: right;\n",
              "    }\n",
              "</style>\n",
              "<table border=\"1\" class=\"dataframe\">\n",
              "  <thead>\n",
              "    <tr style=\"text-align: right;\">\n",
              "      <th></th>\n",
              "      <th>comment</th>\n",
              "    </tr>\n",
              "  </thead>\n",
              "  <tbody>\n",
              "    <tr>\n",
              "      <th>2</th>\n",
              "      <td>It must take alot of courage to stand there an...</td>\n",
              "    </tr>\n",
              "    <tr>\n",
              "      <th>3</th>\n",
              "      <td>Husband : Wat do u want to eat?\\nWife : I got ...</td>\n",
              "    </tr>\n",
              "    <tr>\n",
              "      <th>4</th>\n",
              "      <td>I cannot tahan that cocky look. How did we end...</td>\n",
              "    </tr>\n",
              "    <tr>\n",
              "      <th>5</th>\n",
              "      <td>Pritam is like the gf that’s asking CCS “Can I...</td>\n",
              "    </tr>\n",
              "    <tr>\n",
              "      <th>6</th>\n",
              "      <td>I’m sorry I honestly can’t take someone seriou...</td>\n",
              "    </tr>\n",
              "    <tr>\n",
              "      <th>...</th>\n",
              "      <td>...</td>\n",
              "    </tr>\n",
              "    <tr>\n",
              "      <th>485</th>\n",
              "      <td>Many PR's are born here and still holding resi...</td>\n",
              "    </tr>\n",
              "    <tr>\n",
              "      <th>486</th>\n",
              "      <td>I think PR is ok la, u go Australia , u go Can...</td>\n",
              "    </tr>\n",
              "    <tr>\n",
              "      <th>487</th>\n",
              "      <td>WP is worthless with their so called \"checks\"....</td>\n",
              "    </tr>\n",
              "    <tr>\n",
              "      <th>488</th>\n",
              "      <td>Evil intention of the WP. Good job, Mr Chan !</td>\n",
              "    </tr>\n",
              "    <tr>\n",
              "      <th>489</th>\n",
              "      <td>After seeing these comments.... i realised tha...</td>\n",
              "    </tr>\n",
              "  </tbody>\n",
              "</table>\n",
              "<p>488 rows × 1 columns</p>\n",
              "</div>"
            ],
            "text/plain": [
              "                                               comment\n",
              "2    It must take alot of courage to stand there an...\n",
              "3    Husband : Wat do u want to eat?\\nWife : I got ...\n",
              "4    I cannot tahan that cocky look. How did we end...\n",
              "5    Pritam is like the gf that’s asking CCS “Can I...\n",
              "6    I’m sorry I honestly can’t take someone seriou...\n",
              "..                                                 ...\n",
              "485  Many PR's are born here and still holding resi...\n",
              "486  I think PR is ok la, u go Australia , u go Can...\n",
              "487  WP is worthless with their so called \"checks\"....\n",
              "488      Evil intention of the WP. Good job, Mr Chan !\n",
              "489  After seeing these comments.... i realised tha...\n",
              "\n",
              "[488 rows x 1 columns]"
            ]
          },
          "metadata": {
            "tags": []
          },
          "execution_count": 8
        }
      ]
    },
    {
      "cell_type": "code",
      "metadata": {
        "id": "pVMvC_fzGB7E"
      },
      "source": [
        "df[2:-1].to_csv(\"ytcomments.csv\")\n",
        "files.download(\"ytcomments.csv\")"
      ],
      "execution_count": null,
      "outputs": []
    }
  ]
}